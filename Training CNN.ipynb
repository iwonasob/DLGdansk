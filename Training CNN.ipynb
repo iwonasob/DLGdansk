{
 "cells": [
  {
   "cell_type": "markdown",
   "metadata": {
    "slideshow": {
     "slide_type": "slide"
    }
   },
   "source": [
    "## Stacked Convolutional and Recurrent Neural Networks for Audio Classification"
   ]
  },
  {
   "cell_type": "markdown",
   "metadata": {
    "slideshow": {
     "slide_type": "slide"
    }
   },
   "source": [
    "<img style=\"float:center\" width=200 src=\"figures/CRNN_tampere.png\">"
   ]
  },
  {
   "cell_type": "markdown",
   "metadata": {
    "slideshow": {
     "slide_type": "slide"
    }
   },
   "source": [
    "## Convolutional Neural Networks"
   ]
  },
  {
   "cell_type": "code",
   "execution_count": 1,
   "metadata": {
    "slideshow": {
     "slide_type": "slide"
    }
   },
   "outputs": [],
   "source": [
    "# FIX ALL THE RANDOM VALUES TO GET REPRODUCIBLE RESULTS\n",
    "import os\n",
    "os.environ[\"PYTHONHASHSEED\"] = \"0\"\n",
    "\n",
    "import random as rn\n",
    "rn.seed(1254)\n",
    "\n",
    "import numpy as np\n",
    "np.random.seed(1515)\n",
    "\n",
    "# SET NICE PLOTTING\n",
    "%matplotlib inline\n",
    "import seaborn as sns\n",
    "import matplotlib.pyplot as plt\n",
    "\n",
    "import librosa, librosa.display, IPython.display as ipd\n",
    "from tqdm import tqdm\n",
    "import glob\n",
    "import pandas as pd\n",
    "import h5py\n",
    "from sklearn import preprocessing\n",
    "import pickle"
   ]
  },
  {
   "cell_type": "code",
   "execution_count": 2,
   "metadata": {
    "slideshow": {
     "slide_type": "-"
    }
   },
   "outputs": [],
   "source": [
    "plt.rcParams['figure.figsize'] = (14, 6)"
   ]
  },
  {
   "cell_type": "code",
   "execution_count": 3,
   "metadata": {
    "slideshow": {
     "slide_type": "subslide"
    }
   },
   "outputs": [
    {
     "name": "stderr",
     "output_type": "stream",
     "text": [
      "Using TensorFlow backend.\n"
     ]
    }
   ],
   "source": [
    "os.environ[\"CUDA_DEVICE_ORDER\"] = \"PCI_BUS_ID\"   \n",
    "os.environ[\"CUDA_VISIBLE_DEVICES\"] = \"4\"\n",
    "\n",
    "import tensorflow as tf\n",
    "tf.set_random_seed(2)\n",
    "\n",
    "config = tf.ConfigProto(\n",
    "    intra_op_parallelism_threads=1,\n",
    "    inter_op_parallelism_threads=1 \n",
    ")\n",
    "\n",
    "config.gpu_options.allow_growth = True  # dynamically grow the memory used on the GPU\n",
    "sess = tf.Session(graph= tf.get_default_graph(), config=config) \n",
    "    \n",
    "import keras \n",
    "from keras import backend as K\n",
    "K.set_session(sess)  # set this TensorFlow session as the default session for Keras\n",
    "\n",
    "from keras.layers import Input, Conv2D, MaxPooling2D\n",
    "from keras.layers import Dense, Flatten\n",
    "from keras.layers.core import Dropout\n",
    "from keras.models import Model\n",
    "from keras.layers.normalization import BatchNormalization\n",
    "from keras.regularizers import l2\n",
    "from keras.callbacks import EarlyStopping, ModelCheckpoint"
   ]
  },
  {
   "cell_type": "code",
   "execution_count": 4,
   "metadata": {
    "slideshow": {
     "slide_type": "subslide"
    }
   },
   "outputs": [],
   "source": [
    "#SET PATHS\n",
    "workspace = '/vol/vssp/AcousticEventsDetection/DLGdansk/UrbanSound/'\n",
    "\n",
    "hdf5_path = os.path.join(workspace,'dataset.hdf5') \n",
    "modelfolder = os.path.join(workspace,'models')\n",
    "scalerpath = os.path.join(workspace,'scaler.pkl')"
   ]
  },
  {
   "cell_type": "code",
   "execution_count": 5,
   "metadata": {
    "slideshow": {
     "slide_type": "slide"
    }
   },
   "outputs": [],
   "source": [
    "# LOAD DATA\n",
    "hf = h5py.File(hdf5_path, 'r')\n",
    "X_train = np.array(hf.get('X_train') )\n",
    "y_train = np.array(hf.get('y_train'))\n",
    "X_val =  np.array(hf.get('X_val'))\n",
    "y_val= np.array(hf.get('y_val'))\n",
    "X_test = np.array(hf.get('X_test'))\n",
    "y_test = np.array(hf.get('y_test'))\n",
    "\n",
    "n_features= hf.get('n_features').value\n",
    "n_frames=hf.get('max_length_samp').value\n",
    "label_list= hf.get('label_list').value"
   ]
  },
  {
   "cell_type": "code",
   "execution_count": 6,
   "metadata": {
    "slideshow": {
     "slide_type": "subslide"
    }
   },
   "outputs": [],
   "source": [
    "# SCALE THE DATA\n",
    "scaler=pickle.load(open(scalerpath, 'rb'))\n",
    "\n",
    "X_train_scaled = [scaler.transform(x.T) for x in X_train]\n",
    "X_val_scaled = [scaler.transform(x.T) for x in X_val]\n",
    "X_test_scaled = [scaler.transform(x.T) for x in X_test]\n",
    "\n",
    "# CHANGE DIMENSION TO FIT KERAS\n",
    "X_train = np.expand_dims(X_train_scaled, 3)\n",
    "X_val = np.expand_dims(X_val_scaled, 3)\n",
    "X_test = np.expand_dims(X_test_scaled, 3)"
   ]
  },
  {
   "cell_type": "code",
   "execution_count": 7,
   "metadata": {
    "slideshow": {
     "slide_type": "slide"
    }
   },
   "outputs": [],
   "source": [
    "def build_cnn(n_frames=n_frames, n_features=n_features,  n_filters_cnn=48,\n",
    "                     filter_size_cnn=(3, 3), pool_size=(2,2),\n",
    "                     n_classes=10):\n",
    "\n",
    "    # INPUT\n",
    "    x = Input(shape=(n_frames, n_features,  1), dtype='float32')\n",
    "\n",
    "    # CONV 1\n",
    "    y = Conv2D(n_filters_cnn, filter_size_cnn, padding='valid', \n",
    "               kernel_regularizer=l2(0.01), activation='relu')(x)\n",
    "    y = MaxPooling2D(pool_size=pool_size, strides=None, padding='valid')(y)\n",
    "    y = BatchNormalization()(y)\n",
    "\n",
    "    # CONV 2\n",
    "    y = Conv2D(n_filters_cnn, filter_size_cnn, padding='valid',\n",
    "               kernel_regularizer=l2(0.01), activation='relu')(y)\n",
    "    y = MaxPooling2D(pool_size=pool_size, strides=None, padding='valid')(y)\n",
    "    y = BatchNormalization()(y)\n",
    "\n",
    "    # CONV 3\n",
    "    y = Conv2D(n_filters_cnn, filter_size_cnn, padding='valid',\n",
    "               kernel_regularizer=l2(0.01), activation='relu')(y)\n",
    "    y = MaxPooling2D(pool_size=pool_size, strides=None, padding='valid')(y)\n",
    "    y = BatchNormalization()(y)\n",
    "\n",
    "    # Flatten for dense layers\n",
    "    y = Flatten()(y)\n",
    "\n",
    "    y = Dropout(0.5)(y)\n",
    "    y = Dense(n_classes, activation='sigmoid')(y)\n",
    "\n",
    "    m = Model(inputs=x, outputs=y)\n",
    "    return m"
   ]
  },
  {
   "cell_type": "code",
   "execution_count": 8,
   "metadata": {
    "slideshow": {
     "slide_type": "slide"
    }
   },
   "outputs": [
    {
     "name": "stdout",
     "output_type": "stream",
     "text": [
      "_________________________________________________________________\n",
      "Layer (type)                 Output Shape              Param #   \n",
      "=================================================================\n",
      "input_1 (InputLayer)         (None, 173, 40, 1)        0         \n",
      "_________________________________________________________________\n",
      "conv2d_1 (Conv2D)            (None, 171, 38, 48)       480       \n",
      "_________________________________________________________________\n",
      "max_pooling2d_1 (MaxPooling2 (None, 85, 19, 48)        0         \n",
      "_________________________________________________________________\n",
      "batch_normalization_1 (Batch (None, 85, 19, 48)        192       \n",
      "_________________________________________________________________\n",
      "conv2d_2 (Conv2D)            (None, 83, 17, 48)        20784     \n",
      "_________________________________________________________________\n",
      "max_pooling2d_2 (MaxPooling2 (None, 41, 8, 48)         0         \n",
      "_________________________________________________________________\n",
      "batch_normalization_2 (Batch (None, 41, 8, 48)         192       \n",
      "_________________________________________________________________\n",
      "conv2d_3 (Conv2D)            (None, 39, 6, 48)         20784     \n",
      "_________________________________________________________________\n",
      "max_pooling2d_3 (MaxPooling2 (None, 19, 3, 48)         0         \n",
      "_________________________________________________________________\n",
      "batch_normalization_3 (Batch (None, 19, 3, 48)         192       \n",
      "_________________________________________________________________\n",
      "flatten_1 (Flatten)          (None, 2736)              0         \n",
      "_________________________________________________________________\n",
      "dropout_1 (Dropout)          (None, 2736)              0         \n",
      "_________________________________________________________________\n",
      "dense_1 (Dense)              (None, 10)                27370     \n",
      "=================================================================\n",
      "Total params: 69,994\n",
      "Trainable params: 69,706\n",
      "Non-trainable params: 288\n",
      "_________________________________________________________________\n"
     ]
    }
   ],
   "source": [
    "m = build_cnn(n_features=40,)\n",
    "m.summary()"
   ]
  },
  {
   "cell_type": "code",
   "execution_count": 9,
   "metadata": {
    "slideshow": {
     "slide_type": "subslide"
    }
   },
   "outputs": [],
   "source": [
    "from keras.utils import plot_model\n",
    "plot_model(m, to_file='figures/cnn_model_shape.png', show_shapes=True)"
   ]
  },
  {
   "cell_type": "markdown",
   "metadata": {
    "slideshow": {
     "slide_type": "subslide"
    }
   },
   "source": [
    "<img width = 300 src='figures/cnn_model_shape.png'>"
   ]
  },
  {
   "cell_type": "code",
   "execution_count": 10,
   "metadata": {
    "slideshow": {
     "slide_type": "slide"
    }
   },
   "outputs": [],
   "source": [
    "m.compile(loss='categorical_crossentropy', optimizer='adam', metrics=['accuracy'])"
   ]
  },
  {
   "cell_type": "code",
   "execution_count": null,
   "metadata": {
    "slideshow": {
     "slide_type": "subslide"
    }
   },
   "outputs": [],
   "source": [
    "model_checkpoint = ModelCheckpoint(\n",
    "                 os.path.join(modelfolder, \n",
    "                        'cnn_epoch_{epoch:03d}_val_loss_{val_loss:.4f}.hdf5'),\n",
    "                 monitor='val_loss', \n",
    "                 save_best_only=True)\n",
    "\n",
    "early_stopping = EarlyStopping(monitor='val_loss', patience=50, verbose=1)\n",
    "callbacks = [early_stopping, model_checkpoint]"
   ]
  },
  {
   "cell_type": "code",
   "execution_count": 11,
   "metadata": {
    "slideshow": {
     "slide_type": "subslide"
    }
   },
   "outputs": [
    {
     "name": "stdout",
     "output_type": "stream",
     "text": [
      "Train on 7079 samples, validate on 7079 samples\n",
      "Epoch 1/200\n",
      "7079/7079 [==============================] - 6s 877us/step - loss: 2.6058 - acc: 0.3619 - val_loss: 2.9741 - val_acc: 0.1913\n",
      "Epoch 2/200\n",
      "7079/7079 [==============================] - 4s 568us/step - loss: 1.9554 - acc: 0.5405 - val_loss: 3.3440 - val_acc: 0.1182\n",
      "Epoch 3/200\n",
      "7079/7079 [==============================] - 4s 559us/step - loss: 1.5459 - acc: 0.6611 - val_loss: 3.2514 - val_acc: 0.1247\n",
      "Epoch 4/200\n",
      "7079/7079 [==============================] - 4s 543us/step - loss: 1.2856 - acc: 0.7337 - val_loss: 3.3344 - val_acc: 0.1315\n",
      "Epoch 5/200\n",
      "7079/7079 [==============================] - 4s 579us/step - loss: 1.0743 - acc: 0.7930 - val_loss: 3.2732 - val_acc: 0.1867\n",
      "Epoch 6/200\n",
      "7079/7079 [==============================] - 4s 579us/step - loss: 0.9248 - acc: 0.8233 - val_loss: 3.4218 - val_acc: 0.2140\n",
      "Epoch 7/200\n",
      "7079/7079 [==============================] - 4s 585us/step - loss: 0.8087 - acc: 0.8524 - val_loss: 2.7948 - val_acc: 0.3618\n",
      "Epoch 8/200\n",
      "7079/7079 [==============================] - 4s 570us/step - loss: 0.6954 - acc: 0.8761 - val_loss: 3.3214 - val_acc: 0.2909\n",
      "Epoch 9/200\n",
      "7079/7079 [==============================] - 4s 594us/step - loss: 0.6612 - acc: 0.8785 - val_loss: 1.9538 - val_acc: 0.4809\n",
      "Epoch 10/200\n",
      "7079/7079 [==============================] - 4s 591us/step - loss: 0.6200 - acc: 0.8813 - val_loss: 1.0821 - val_acc: 0.7690\n",
      "Epoch 11/200\n",
      "7079/7079 [==============================] - 4s 595us/step - loss: 0.5669 - acc: 0.8981 - val_loss: 0.7021 - val_acc: 0.8538\n",
      "Epoch 12/200\n",
      "7079/7079 [==============================] - 4s 586us/step - loss: 0.5135 - acc: 0.9119 - val_loss: 0.6428 - val_acc: 0.8607\n",
      "Epoch 13/200\n",
      "7079/7079 [==============================] - 4s 600us/step - loss: 0.4848 - acc: 0.9151 - val_loss: 0.4280 - val_acc: 0.9400\n",
      "Epoch 14/200\n",
      "7079/7079 [==============================] - 4s 589us/step - loss: 0.4459 - acc: 0.9264 - val_loss: 0.3950 - val_acc: 0.9404\n",
      "Epoch 15/200\n",
      "7079/7079 [==============================] - 4s 595us/step - loss: 0.4409 - acc: 0.9236 - val_loss: 0.4413 - val_acc: 0.9191\n",
      "Epoch 16/200\n",
      "7079/7079 [==============================] - 4s 572us/step - loss: 0.4422 - acc: 0.9191 - val_loss: 0.3527 - val_acc: 0.9538\n",
      "Epoch 17/200\n",
      "7079/7079 [==============================] - 4s 594us/step - loss: 0.4161 - acc: 0.9253 - val_loss: 0.3403 - val_acc: 0.9554\n",
      "Epoch 18/200\n",
      "7079/7079 [==============================] - 4s 574us/step - loss: 0.3615 - acc: 0.9419 - val_loss: 0.3118 - val_acc: 0.9600\n",
      "Epoch 19/200\n",
      "7079/7079 [==============================] - 4s 578us/step - loss: 0.3472 - acc: 0.9432 - val_loss: 0.3046 - val_acc: 0.9602\n",
      "Epoch 20/200\n",
      "7079/7079 [==============================] - 4s 568us/step - loss: 0.3496 - acc: 0.9441 - val_loss: 0.3475 - val_acc: 0.9414\n",
      "Epoch 21/200\n",
      "7079/7079 [==============================] - 4s 555us/step - loss: 0.3531 - acc: 0.9387 - val_loss: 0.2781 - val_acc: 0.9643\n",
      "Epoch 22/200\n",
      "7079/7079 [==============================] - 4s 578us/step - loss: 0.3293 - acc: 0.9452 - val_loss: 0.2564 - val_acc: 0.9753\n",
      "Epoch 23/200\n",
      "7079/7079 [==============================] - 4s 576us/step - loss: 0.3129 - acc: 0.9499 - val_loss: 0.2519 - val_acc: 0.9741\n",
      "Epoch 24/200\n",
      "7079/7079 [==============================] - 4s 560us/step - loss: 0.3261 - acc: 0.9445 - val_loss: 0.2872 - val_acc: 0.9604\n",
      "Epoch 25/200\n",
      "7079/7079 [==============================] - 4s 582us/step - loss: 0.3280 - acc: 0.9439 - val_loss: 0.2409 - val_acc: 0.9753\n",
      "Epoch 26/200\n",
      "7079/7079 [==============================] - 4s 576us/step - loss: 0.3234 - acc: 0.9493 - val_loss: 0.2515 - val_acc: 0.9727\n",
      "Epoch 27/200\n",
      "7079/7079 [==============================] - 4s 563us/step - loss: 0.2997 - acc: 0.9548 - val_loss: 0.2273 - val_acc: 0.9809\n",
      "Epoch 28/200\n",
      "7079/7079 [==============================] - 4s 575us/step - loss: 0.2880 - acc: 0.9572 - val_loss: 0.2402 - val_acc: 0.9741\n",
      "Epoch 29/200\n",
      "7079/7079 [==============================] - 4s 563us/step - loss: 0.2780 - acc: 0.9602 - val_loss: 0.2982 - val_acc: 0.9612\n",
      "Epoch 30/200\n",
      "7079/7079 [==============================] - 4s 571us/step - loss: 0.3116 - acc: 0.9504 - val_loss: 0.2670 - val_acc: 0.9643\n",
      "Epoch 31/200\n",
      "7079/7079 [==============================] - 4s 577us/step - loss: 0.2861 - acc: 0.9565 - val_loss: 0.2508 - val_acc: 0.9733\n",
      "Epoch 32/200\n",
      "7079/7079 [==============================] - 4s 575us/step - loss: 0.2779 - acc: 0.9614 - val_loss: 0.2225 - val_acc: 0.9801\n",
      "Epoch 33/200\n",
      "7079/7079 [==============================] - 4s 548us/step - loss: 0.2799 - acc: 0.9582 - val_loss: 0.2304 - val_acc: 0.9782\n",
      "Epoch 34/200\n",
      "7079/7079 [==============================] - 4s 561us/step - loss: 0.2710 - acc: 0.9593 - val_loss: 0.2401 - val_acc: 0.9712\n",
      "Epoch 35/200\n",
      "7079/7079 [==============================] - 4s 551us/step - loss: 0.2912 - acc: 0.9544 - val_loss: 0.2234 - val_acc: 0.9830\n",
      "Epoch 36/200\n",
      "7079/7079 [==============================] - 4s 546us/step - loss: 0.3031 - acc: 0.9539 - val_loss: 0.2606 - val_acc: 0.9662\n",
      "Epoch 37/200\n",
      "7079/7079 [==============================] - 4s 564us/step - loss: 0.2646 - acc: 0.9636 - val_loss: 0.2055 - val_acc: 0.9849\n",
      "Epoch 38/200\n",
      "7079/7079 [==============================] - 4s 561us/step - loss: 0.2732 - acc: 0.9602 - val_loss: 0.2362 - val_acc: 0.9778\n",
      "Epoch 39/200\n",
      "7079/7079 [==============================] - 4s 540us/step - loss: 0.2777 - acc: 0.9607 - val_loss: 0.2628 - val_acc: 0.9645\n",
      "Epoch 40/200\n",
      "7079/7079 [==============================] - 4s 559us/step - loss: 0.2777 - acc: 0.9590 - val_loss: 0.2387 - val_acc: 0.9773\n",
      "Epoch 41/200\n",
      "7079/7079 [==============================] - 4s 575us/step - loss: 0.3035 - acc: 0.9566 - val_loss: 0.2864 - val_acc: 0.9583\n",
      "Epoch 42/200\n",
      "7079/7079 [==============================] - 4s 590us/step - loss: 0.3100 - acc: 0.9527 - val_loss: 0.2108 - val_acc: 0.9881\n",
      "Epoch 43/200\n",
      "7079/7079 [==============================] - 4s 583us/step - loss: 0.2658 - acc: 0.9662 - val_loss: 0.2134 - val_acc: 0.9857\n",
      "Epoch 44/200\n",
      "7079/7079 [==============================] - 4s 598us/step - loss: 0.2465 - acc: 0.9705 - val_loss: 0.1986 - val_acc: 0.9873\n",
      "Epoch 45/200\n",
      "7079/7079 [==============================] - 4s 582us/step - loss: 0.2502 - acc: 0.9668 - val_loss: 0.1963 - val_acc: 0.9847\n",
      "Epoch 46/200\n",
      "7079/7079 [==============================] - 4s 586us/step - loss: 0.2682 - acc: 0.9621 - val_loss: 0.1991 - val_acc: 0.9859\n",
      "Epoch 47/200\n",
      "7079/7079 [==============================] - 4s 567us/step - loss: 0.2774 - acc: 0.9576 - val_loss: 0.1982 - val_acc: 0.9870\n",
      "Epoch 48/200\n",
      "7079/7079 [==============================] - 4s 574us/step - loss: 0.2622 - acc: 0.9647 - val_loss: 0.2287 - val_acc: 0.9756\n",
      "Epoch 49/200\n",
      "7079/7079 [==============================] - 4s 565us/step - loss: 0.2566 - acc: 0.9669 - val_loss: 0.2332 - val_acc: 0.9770\n",
      "Epoch 50/200\n",
      "7079/7079 [==============================] - 4s 570us/step - loss: 0.2709 - acc: 0.9620 - val_loss: 0.2208 - val_acc: 0.9811\n",
      "Epoch 51/200\n",
      "7079/7079 [==============================] - 4s 582us/step - loss: 0.2603 - acc: 0.9657 - val_loss: 0.2110 - val_acc: 0.9835\n",
      "Epoch 52/200\n",
      "7079/7079 [==============================] - 4s 582us/step - loss: 0.2633 - acc: 0.9654 - val_loss: 0.2358 - val_acc: 0.9740\n",
      "Epoch 53/200\n",
      "7079/7079 [==============================] - 4s 560us/step - loss: 0.2500 - acc: 0.9699 - val_loss: 0.2420 - val_acc: 0.9688\n",
      "Epoch 54/200\n",
      "7079/7079 [==============================] - 4s 548us/step - loss: 0.2501 - acc: 0.9665 - val_loss: 0.1998 - val_acc: 0.9869\n",
      "Epoch 55/200\n",
      "7079/7079 [==============================] - 4s 571us/step - loss: 0.2586 - acc: 0.9651 - val_loss: 0.2305 - val_acc: 0.9747\n",
      "Epoch 56/200\n",
      "7079/7079 [==============================] - 4s 586us/step - loss: 0.2779 - acc: 0.9590 - val_loss: 0.2112 - val_acc: 0.9842\n",
      "Epoch 57/200\n",
      "7079/7079 [==============================] - 4s 578us/step - loss: 0.2591 - acc: 0.9664 - val_loss: 0.2004 - val_acc: 0.9888\n",
      "Epoch 58/200\n",
      "7079/7079 [==============================] - 4s 585us/step - loss: 0.2582 - acc: 0.9684 - val_loss: 0.2069 - val_acc: 0.9822\n",
      "Epoch 59/200\n",
      "7079/7079 [==============================] - 4s 551us/step - loss: 0.2567 - acc: 0.9672 - val_loss: 0.1923 - val_acc: 0.9887\n",
      "Epoch 60/200\n"
     ]
    },
    {
     "name": "stdout",
     "output_type": "stream",
     "text": [
      "7079/7079 [==============================] - 4s 572us/step - loss: 0.2507 - acc: 0.9689 - val_loss: 0.2742 - val_acc: 0.9595\n",
      "Epoch 61/200\n",
      "7079/7079 [==============================] - 4s 575us/step - loss: 0.2728 - acc: 0.9602 - val_loss: 0.2618 - val_acc: 0.9651\n",
      "Epoch 62/200\n",
      "7079/7079 [==============================] - 4s 549us/step - loss: 0.2844 - acc: 0.9593 - val_loss: 0.2376 - val_acc: 0.9787\n",
      "Epoch 63/200\n",
      "7079/7079 [==============================] - 4s 578us/step - loss: 0.2731 - acc: 0.9650 - val_loss: 0.2162 - val_acc: 0.9819\n",
      "Epoch 64/200\n",
      "7079/7079 [==============================] - 4s 531us/step - loss: 0.2427 - acc: 0.9730 - val_loss: 0.2243 - val_acc: 0.9770\n",
      "Epoch 65/200\n",
      "7079/7079 [==============================] - 4s 574us/step - loss: 0.2305 - acc: 0.9744 - val_loss: 0.1836 - val_acc: 0.9914\n",
      "Epoch 66/200\n",
      "7079/7079 [==============================] - 4s 574us/step - loss: 0.2476 - acc: 0.9681 - val_loss: 0.2388 - val_acc: 0.9703\n",
      "Epoch 67/200\n",
      "7079/7079 [==============================] - 4s 570us/step - loss: 0.2463 - acc: 0.9681 - val_loss: 0.1968 - val_acc: 0.9864\n",
      "Epoch 68/200\n",
      "7079/7079 [==============================] - 4s 573us/step - loss: 0.2480 - acc: 0.9678 - val_loss: 0.1966 - val_acc: 0.9877\n",
      "Epoch 69/200\n",
      "7079/7079 [==============================] - 4s 539us/step - loss: 0.2768 - acc: 0.9597 - val_loss: 0.2161 - val_acc: 0.9812\n",
      "Epoch 70/200\n",
      "7079/7079 [==============================] - 4s 563us/step - loss: 0.2777 - acc: 0.9609 - val_loss: 0.2545 - val_acc: 0.9695\n",
      "Epoch 71/200\n",
      "7079/7079 [==============================] - 4s 574us/step - loss: 0.2822 - acc: 0.9641 - val_loss: 0.2576 - val_acc: 0.9678\n",
      "Epoch 72/200\n",
      "7079/7079 [==============================] - 4s 546us/step - loss: 0.2735 - acc: 0.9668 - val_loss: 0.2450 - val_acc: 0.9734\n",
      "Epoch 73/200\n",
      "7079/7079 [==============================] - 4s 557us/step - loss: 0.2690 - acc: 0.9652 - val_loss: 0.2154 - val_acc: 0.9835\n",
      "Epoch 74/200\n",
      "7079/7079 [==============================] - 4s 564us/step - loss: 0.2612 - acc: 0.9693 - val_loss: 0.2246 - val_acc: 0.9809\n",
      "Epoch 75/200\n",
      "7079/7079 [==============================] - 4s 570us/step - loss: 0.2567 - acc: 0.9702 - val_loss: 0.2369 - val_acc: 0.9767\n",
      "Epoch 76/200\n",
      "7079/7079 [==============================] - 4s 532us/step - loss: 0.2555 - acc: 0.9677 - val_loss: 0.2030 - val_acc: 0.9862\n",
      "Epoch 77/200\n",
      "7079/7079 [==============================] - 4s 567us/step - loss: 0.2605 - acc: 0.9671 - val_loss: 0.2979 - val_acc: 0.9548\n",
      "Epoch 78/200\n",
      "7079/7079 [==============================] - 4s 571us/step - loss: 0.2652 - acc: 0.9660 - val_loss: 0.1903 - val_acc: 0.9912\n",
      "Epoch 79/200\n",
      "7079/7079 [==============================] - 4s 576us/step - loss: 0.2487 - acc: 0.9719 - val_loss: 0.1821 - val_acc: 0.9925\n",
      "Epoch 80/200\n",
      "7079/7079 [==============================] - 4s 540us/step - loss: 0.2335 - acc: 0.9754 - val_loss: 0.1958 - val_acc: 0.9867\n",
      "Epoch 81/200\n",
      "7079/7079 [==============================] - 4s 581us/step - loss: 0.2307 - acc: 0.9761 - val_loss: 0.2634 - val_acc: 0.9655\n",
      "Epoch 82/200\n",
      "7079/7079 [==============================] - 4s 563us/step - loss: 0.2778 - acc: 0.9593 - val_loss: 0.2828 - val_acc: 0.9693\n",
      "Epoch 83/200\n",
      "7079/7079 [==============================] - 4s 576us/step - loss: 0.2526 - acc: 0.9692 - val_loss: 0.1988 - val_acc: 0.9887\n",
      "Epoch 84/200\n",
      "7079/7079 [==============================] - 4s 586us/step - loss: 0.2424 - acc: 0.9720 - val_loss: 0.1945 - val_acc: 0.9890\n",
      "Epoch 85/200\n",
      "7079/7079 [==============================] - 4s 583us/step - loss: 0.2569 - acc: 0.9675 - val_loss: 0.2037 - val_acc: 0.9863\n",
      "Epoch 86/200\n",
      "7079/7079 [==============================] - 4s 570us/step - loss: 0.2349 - acc: 0.9734 - val_loss: 0.1963 - val_acc: 0.9884\n",
      "Epoch 87/200\n",
      "7079/7079 [==============================] - 4s 568us/step - loss: 0.2608 - acc: 0.9634 - val_loss: 0.2164 - val_acc: 0.9811\n",
      "Epoch 88/200\n",
      "7079/7079 [==============================] - 4s 537us/step - loss: 0.2592 - acc: 0.9689 - val_loss: 0.1960 - val_acc: 0.9880\n",
      "Epoch 89/200\n",
      "7079/7079 [==============================] - 4s 570us/step - loss: 0.2495 - acc: 0.9726 - val_loss: 0.1948 - val_acc: 0.9908\n",
      "Epoch 90/200\n",
      "7079/7079 [==============================] - 4s 582us/step - loss: 0.2284 - acc: 0.9761 - val_loss: 0.1767 - val_acc: 0.9932\n",
      "Epoch 91/200\n",
      "7079/7079 [==============================] - 4s 571us/step - loss: 0.2171 - acc: 0.9799 - val_loss: 0.1860 - val_acc: 0.9877\n",
      "Epoch 92/200\n",
      "7079/7079 [==============================] - 4s 530us/step - loss: 0.2467 - acc: 0.9681 - val_loss: 0.2491 - val_acc: 0.9665\n",
      "Epoch 93/200\n",
      "7079/7079 [==============================] - 4s 542us/step - loss: 0.2660 - acc: 0.9620 - val_loss: 0.2372 - val_acc: 0.9790\n",
      "Epoch 94/200\n",
      "7079/7079 [==============================] - 4s 585us/step - loss: 0.2582 - acc: 0.9678 - val_loss: 0.1948 - val_acc: 0.9873\n",
      "Epoch 95/200\n",
      "7079/7079 [==============================] - 4s 528us/step - loss: 0.2604 - acc: 0.9647 - val_loss: 0.2000 - val_acc: 0.9867\n",
      "Epoch 96/200\n",
      "7079/7079 [==============================] - 4s 569us/step - loss: 0.2289 - acc: 0.9761 - val_loss: 0.2080 - val_acc: 0.9846\n",
      "Epoch 97/200\n",
      "7079/7079 [==============================] - 4s 579us/step - loss: 0.2224 - acc: 0.9764 - val_loss: 0.1729 - val_acc: 0.9929\n",
      "Epoch 98/200\n",
      "7079/7079 [==============================] - 4s 584us/step - loss: 0.2299 - acc: 0.9723 - val_loss: 0.1795 - val_acc: 0.9905\n",
      "Epoch 99/200\n",
      "7079/7079 [==============================] - 4s 570us/step - loss: 0.2561 - acc: 0.9675 - val_loss: 0.2454 - val_acc: 0.9720\n",
      "Epoch 100/200\n",
      "7079/7079 [==============================] - 4s 602us/step - loss: 0.2417 - acc: 0.9710 - val_loss: 0.2001 - val_acc: 0.9846\n",
      "Epoch 101/200\n",
      "7079/7079 [==============================] - 4s 569us/step - loss: 0.2408 - acc: 0.9716 - val_loss: 0.1899 - val_acc: 0.9877\n",
      "Epoch 102/200\n",
      "7079/7079 [==============================] - 4s 573us/step - loss: 0.2361 - acc: 0.9715 - val_loss: 0.1864 - val_acc: 0.9919\n",
      "Epoch 103/200\n",
      "7079/7079 [==============================] - 4s 576us/step - loss: 0.2388 - acc: 0.9719 - val_loss: 0.2037 - val_acc: 0.9832\n",
      "Epoch 104/200\n",
      "7079/7079 [==============================] - 4s 541us/step - loss: 0.2379 - acc: 0.9713 - val_loss: 0.1990 - val_acc: 0.9833\n",
      "Epoch 105/200\n",
      "7079/7079 [==============================] - 4s 578us/step - loss: 0.2612 - acc: 0.9651 - val_loss: 0.2217 - val_acc: 0.9778\n",
      "Epoch 106/200\n",
      "7079/7079 [==============================] - 4s 518us/step - loss: 0.2462 - acc: 0.9692 - val_loss: 0.1943 - val_acc: 0.9895\n",
      "Epoch 107/200\n",
      "7079/7079 [==============================] - 4s 568us/step - loss: 0.2335 - acc: 0.9763 - val_loss: 0.1951 - val_acc: 0.9870\n",
      "Epoch 108/200\n",
      "7079/7079 [==============================] - 4s 535us/step - loss: 0.2115 - acc: 0.9797 - val_loss: 0.1770 - val_acc: 0.9917\n",
      "Epoch 109/200\n",
      "7079/7079 [==============================] - 4s 526us/step - loss: 0.2410 - acc: 0.9726 - val_loss: 0.1795 - val_acc: 0.9911\n",
      "Epoch 110/200\n",
      "7079/7079 [==============================] - 4s 532us/step - loss: 0.2494 - acc: 0.9682 - val_loss: 0.2279 - val_acc: 0.9756\n",
      "Epoch 111/200\n",
      "7079/7079 [==============================] - 4s 556us/step - loss: 0.2586 - acc: 0.9684 - val_loss: 0.2164 - val_acc: 0.9804\n",
      "Epoch 112/200\n",
      "7079/7079 [==============================] - 4s 535us/step - loss: 0.2364 - acc: 0.9758 - val_loss: 0.1842 - val_acc: 0.9895\n",
      "Epoch 113/200\n",
      "7079/7079 [==============================] - 4s 534us/step - loss: 0.2298 - acc: 0.9763 - val_loss: 0.1846 - val_acc: 0.9890\n",
      "Epoch 114/200\n",
      "7079/7079 [==============================] - 4s 531us/step - loss: 0.2209 - acc: 0.9767 - val_loss: 0.1799 - val_acc: 0.9904\n",
      "Epoch 115/200\n",
      "7079/7079 [==============================] - 4s 538us/step - loss: 0.2539 - acc: 0.9664 - val_loss: 0.2273 - val_acc: 0.9814\n",
      "Epoch 116/200\n",
      "7079/7079 [==============================] - 4s 557us/step - loss: 0.2420 - acc: 0.9733 - val_loss: 0.1858 - val_acc: 0.9918\n",
      "Epoch 117/200\n",
      "7079/7079 [==============================] - 4s 542us/step - loss: 0.2514 - acc: 0.9709 - val_loss: 0.2036 - val_acc: 0.9846\n",
      "Epoch 118/200\n",
      "7079/7079 [==============================] - 4s 569us/step - loss: 0.2291 - acc: 0.9747 - val_loss: 0.1786 - val_acc: 0.9928\n",
      "Epoch 119/200\n",
      "7079/7079 [==============================] - 4s 551us/step - loss: 0.2381 - acc: 0.9736 - val_loss: 0.1907 - val_acc: 0.9891\n",
      "Epoch 120/200\n",
      "7079/7079 [==============================] - 4s 579us/step - loss: 0.2250 - acc: 0.9743 - val_loss: 0.1740 - val_acc: 0.9943\n",
      "Epoch 121/200\n",
      "7079/7079 [==============================] - 4s 567us/step - loss: 0.2228 - acc: 0.9744 - val_loss: 0.1969 - val_acc: 0.9852\n",
      "Epoch 122/200\n",
      "7079/7079 [==============================] - 4s 544us/step - loss: 0.2366 - acc: 0.9696 - val_loss: 0.1786 - val_acc: 0.9928\n",
      "Epoch 123/200\n",
      "7079/7079 [==============================] - 4s 564us/step - loss: 0.2153 - acc: 0.9775 - val_loss: 0.2005 - val_acc: 0.9843\n",
      "Epoch 124/200\n",
      "7079/7079 [==============================] - 4s 560us/step - loss: 0.2270 - acc: 0.9717 - val_loss: 0.1842 - val_acc: 0.9883\n",
      "Epoch 125/200\n",
      "7079/7079 [==============================] - 4s 537us/step - loss: 0.2369 - acc: 0.9713 - val_loss: 0.1815 - val_acc: 0.9907\n",
      "Epoch 126/200\n",
      "7079/7079 [==============================] - 4s 572us/step - loss: 0.2522 - acc: 0.9669 - val_loss: 0.2273 - val_acc: 0.9763\n",
      "Epoch 127/200\n",
      "7079/7079 [==============================] - 4s 537us/step - loss: 0.2464 - acc: 0.9722 - val_loss: 0.2113 - val_acc: 0.9811\n",
      "Epoch 128/200\n",
      "7079/7079 [==============================] - 4s 549us/step - loss: 0.2385 - acc: 0.9720 - val_loss: 0.1880 - val_acc: 0.9884\n",
      "Epoch 129/200\n",
      "7079/7079 [==============================] - 4s 582us/step - loss: 0.2335 - acc: 0.9741 - val_loss: 0.1977 - val_acc: 0.9880\n",
      "Epoch 130/200\n",
      "7079/7079 [==============================] - 4s 569us/step - loss: 0.2320 - acc: 0.9730 - val_loss: 0.2793 - val_acc: 0.9583\n",
      "Epoch 131/200\n",
      "7079/7079 [==============================] - 4s 536us/step - loss: 0.2524 - acc: 0.9699 - val_loss: 0.2276 - val_acc: 0.9811\n",
      "Epoch 132/200\n",
      "7079/7079 [==============================] - 4s 563us/step - loss: 0.2610 - acc: 0.9681 - val_loss: 0.1979 - val_acc: 0.9845\n",
      "Epoch 133/200\n",
      "7079/7079 [==============================] - 4s 549us/step - loss: 0.2350 - acc: 0.9760 - val_loss: 0.1717 - val_acc: 0.9939\n",
      "Epoch 134/200\n",
      "7079/7079 [==============================] - 4s 530us/step - loss: 0.2187 - acc: 0.9778 - val_loss: 0.1736 - val_acc: 0.9929\n",
      "Epoch 135/200\n",
      "7079/7079 [==============================] - 4s 555us/step - loss: 0.2069 - acc: 0.9792 - val_loss: 0.1671 - val_acc: 0.9939\n",
      "Epoch 136/200\n",
      "7079/7079 [==============================] - 4s 519us/step - loss: 0.2004 - acc: 0.9794 - val_loss: 0.1947 - val_acc: 0.9829\n",
      "Epoch 137/200\n",
      "7079/7079 [==============================] - 4s 553us/step - loss: 0.2237 - acc: 0.9734 - val_loss: 0.1876 - val_acc: 0.9814\n",
      "Epoch 138/200\n",
      "7079/7079 [==============================] - 4s 542us/step - loss: 0.2447 - acc: 0.9696 - val_loss: 0.1841 - val_acc: 0.9904\n",
      "Epoch 139/200\n",
      "7079/7079 [==============================] - 4s 534us/step - loss: 0.2327 - acc: 0.9741 - val_loss: 0.1867 - val_acc: 0.9870\n",
      "Epoch 140/200\n",
      "7079/7079 [==============================] - 4s 562us/step - loss: 0.2197 - acc: 0.9760 - val_loss: 0.1746 - val_acc: 0.9911\n",
      "Epoch 141/200\n",
      "7079/7079 [==============================] - 4s 528us/step - loss: 0.2181 - acc: 0.9758 - val_loss: 0.2055 - val_acc: 0.9811\n",
      "Epoch 142/200\n",
      "7079/7079 [==============================] - 4s 534us/step - loss: 0.2319 - acc: 0.9733 - val_loss: 0.1859 - val_acc: 0.9886\n",
      "Epoch 143/200\n",
      "7079/7079 [==============================] - 4s 561us/step - loss: 0.2382 - acc: 0.9717 - val_loss: 0.1819 - val_acc: 0.9895\n",
      "Epoch 144/200\n",
      "7079/7079 [==============================] - 4s 536us/step - loss: 0.2313 - acc: 0.9730 - val_loss: 0.2010 - val_acc: 0.9852\n",
      "Epoch 145/200\n",
      "7079/7079 [==============================] - 4s 520us/step - loss: 0.2417 - acc: 0.9730 - val_loss: 0.1837 - val_acc: 0.9897\n",
      "Epoch 146/200\n",
      "7079/7079 [==============================] - 4s 514us/step - loss: 0.2127 - acc: 0.9816 - val_loss: 0.1713 - val_acc: 0.9925\n",
      "Epoch 147/200\n",
      "7079/7079 [==============================] - 4s 542us/step - loss: 0.2298 - acc: 0.9722 - val_loss: 0.1707 - val_acc: 0.9938\n",
      "Epoch 148/200\n",
      "7079/7079 [==============================] - 4s 564us/step - loss: 0.2050 - acc: 0.9799 - val_loss: 0.1777 - val_acc: 0.9897\n",
      "Epoch 149/200\n",
      "7079/7079 [==============================] - 4s 532us/step - loss: 0.2024 - acc: 0.9805 - val_loss: 0.1663 - val_acc: 0.9918\n",
      "Epoch 150/200\n",
      "7079/7079 [==============================] - 4s 528us/step - loss: 0.2115 - acc: 0.9750 - val_loss: 0.1992 - val_acc: 0.9819\n",
      "Epoch 151/200\n",
      "7079/7079 [==============================] - 4s 570us/step - loss: 0.2061 - acc: 0.9775 - val_loss: 0.1790 - val_acc: 0.9859\n",
      "Epoch 152/200\n",
      "7079/7079 [==============================] - 4s 545us/step - loss: 0.2321 - acc: 0.9722 - val_loss: 0.1893 - val_acc: 0.9845\n",
      "Epoch 153/200\n",
      "7079/7079 [==============================] - 4s 572us/step - loss: 0.2733 - acc: 0.9660 - val_loss: 0.1983 - val_acc: 0.9884\n",
      "Epoch 154/200\n",
      "7079/7079 [==============================] - 4s 525us/step - loss: 0.2413 - acc: 0.9750 - val_loss: 0.1834 - val_acc: 0.9908\n",
      "Epoch 155/200\n",
      "7079/7079 [==============================] - 4s 560us/step - loss: 0.2228 - acc: 0.9787 - val_loss: 0.1765 - val_acc: 0.9934\n",
      "Epoch 156/200\n",
      "7079/7079 [==============================] - 4s 516us/step - loss: 0.2213 - acc: 0.9754 - val_loss: 0.1968 - val_acc: 0.9843\n",
      "Epoch 157/200\n",
      "7079/7079 [==============================] - 4s 550us/step - loss: 0.2179 - acc: 0.9767 - val_loss: 0.1747 - val_acc: 0.9922\n",
      "Epoch 158/200\n",
      "7079/7079 [==============================] - 4s 556us/step - loss: 0.2090 - acc: 0.9780 - val_loss: 0.1660 - val_acc: 0.9941\n",
      "Epoch 159/200\n",
      "7079/7079 [==============================] - 4s 533us/step - loss: 0.2075 - acc: 0.9784 - val_loss: 0.1790 - val_acc: 0.9877\n",
      "Epoch 160/200\n",
      "7079/7079 [==============================] - 4s 560us/step - loss: 0.2038 - acc: 0.9792 - val_loss: 0.1650 - val_acc: 0.9922\n",
      "Epoch 161/200\n",
      "7079/7079 [==============================] - 4s 533us/step - loss: 0.2035 - acc: 0.9795 - val_loss: 0.1767 - val_acc: 0.9870\n",
      "Epoch 162/200\n",
      "7079/7079 [==============================] - 4s 554us/step - loss: 0.2229 - acc: 0.9717 - val_loss: 0.1761 - val_acc: 0.9893\n",
      "Epoch 163/200\n",
      "7079/7079 [==============================] - 4s 542us/step - loss: 0.2416 - acc: 0.9660 - val_loss: 0.1882 - val_acc: 0.9866\n",
      "Epoch 164/200\n",
      "7079/7079 [==============================] - 4s 542us/step - loss: 0.2264 - acc: 0.9746 - val_loss: 0.1952 - val_acc: 0.9835\n",
      "Epoch 165/200\n",
      "7079/7079 [==============================] - 4s 567us/step - loss: 0.2296 - acc: 0.9716 - val_loss: 0.1626 - val_acc: 0.9955\n",
      "Epoch 166/200\n",
      "7079/7079 [==============================] - 4s 549us/step - loss: 0.2445 - acc: 0.9709 - val_loss: 0.1899 - val_acc: 0.9852\n",
      "Epoch 167/200\n",
      "7079/7079 [==============================] - 4s 562us/step - loss: 0.2240 - acc: 0.9770 - val_loss: 0.1821 - val_acc: 0.9877\n",
      "Epoch 168/200\n",
      "7079/7079 [==============================] - 4s 537us/step - loss: 0.2379 - acc: 0.9749 - val_loss: 0.2246 - val_acc: 0.9741\n",
      "Epoch 169/200\n",
      "7079/7079 [==============================] - 4s 561us/step - loss: 0.2175 - acc: 0.9782 - val_loss: 0.1824 - val_acc: 0.9897\n",
      "Epoch 170/200\n",
      "7079/7079 [==============================] - 4s 534us/step - loss: 0.2015 - acc: 0.9816 - val_loss: 0.1968 - val_acc: 0.9833\n",
      "Epoch 171/200\n",
      "7079/7079 [==============================] - 4s 549us/step - loss: 0.1939 - acc: 0.9815 - val_loss: 0.1630 - val_acc: 0.9924\n",
      "Epoch 172/200\n",
      "7079/7079 [==============================] - 4s 521us/step - loss: 0.2025 - acc: 0.9771 - val_loss: 0.1697 - val_acc: 0.9887\n",
      "Epoch 173/200\n",
      "7079/7079 [==============================] - 4s 536us/step - loss: 0.1993 - acc: 0.9799 - val_loss: 0.1636 - val_acc: 0.9900\n",
      "Epoch 174/200\n",
      "7079/7079 [==============================] - 4s 578us/step - loss: 0.2036 - acc: 0.9780 - val_loss: 0.2250 - val_acc: 0.9741\n",
      "Epoch 175/200\n",
      "7079/7079 [==============================] - 4s 530us/step - loss: 0.2251 - acc: 0.9709 - val_loss: 0.1951 - val_acc: 0.9826\n",
      "Epoch 176/200\n",
      "7079/7079 [==============================] - 4s 572us/step - loss: 0.2355 - acc: 0.9701 - val_loss: 0.1818 - val_acc: 0.9880\n",
      "Epoch 177/200\n",
      "7079/7079 [==============================] - 4s 523us/step - loss: 0.2267 - acc: 0.9727 - val_loss: 0.2139 - val_acc: 0.9737\n",
      "Epoch 178/200\n"
     ]
    },
    {
     "name": "stdout",
     "output_type": "stream",
     "text": [
      "7079/7079 [==============================] - 4s 576us/step - loss: 0.2235 - acc: 0.9747 - val_loss: 0.1959 - val_acc: 0.9816\n",
      "Epoch 179/200\n",
      "7079/7079 [==============================] - 4s 536us/step - loss: 0.1937 - acc: 0.9843 - val_loss: 0.1529 - val_acc: 0.9959\n",
      "Epoch 180/200\n",
      "7079/7079 [==============================] - 4s 557us/step - loss: 0.1916 - acc: 0.9825 - val_loss: 0.1813 - val_acc: 0.9849\n",
      "Epoch 181/200\n",
      "7079/7079 [==============================] - 4s 524us/step - loss: 0.1923 - acc: 0.9819 - val_loss: 0.1848 - val_acc: 0.9830\n",
      "Epoch 182/200\n",
      "7079/7079 [==============================] - 4s 551us/step - loss: 0.2216 - acc: 0.9723 - val_loss: 0.1832 - val_acc: 0.9870\n",
      "Epoch 183/200\n",
      "7079/7079 [==============================] - 4s 550us/step - loss: 0.2228 - acc: 0.9725 - val_loss: 0.1743 - val_acc: 0.9894\n",
      "Epoch 184/200\n",
      "7079/7079 [==============================] - 4s 560us/step - loss: 0.2188 - acc: 0.9746 - val_loss: 0.1629 - val_acc: 0.9945\n",
      "Epoch 185/200\n",
      "7079/7079 [==============================] - 4s 539us/step - loss: 0.2171 - acc: 0.9760 - val_loss: 0.1654 - val_acc: 0.9927\n",
      "Epoch 186/200\n",
      "7079/7079 [==============================] - 4s 526us/step - loss: 0.2050 - acc: 0.9771 - val_loss: 0.1588 - val_acc: 0.9943\n",
      "Epoch 187/200\n",
      "7079/7079 [==============================] - 4s 543us/step - loss: 0.2177 - acc: 0.9746 - val_loss: 0.1828 - val_acc: 0.9879\n",
      "Epoch 188/200\n",
      "7079/7079 [==============================] - 4s 536us/step - loss: 0.2080 - acc: 0.9773 - val_loss: 0.1864 - val_acc: 0.9850\n",
      "Epoch 189/200\n",
      "7079/7079 [==============================] - 4s 521us/step - loss: 0.2178 - acc: 0.9760 - val_loss: 0.1588 - val_acc: 0.9931\n",
      "Epoch 190/200\n",
      "7079/7079 [==============================] - 4s 523us/step - loss: 0.2016 - acc: 0.9792 - val_loss: 0.1784 - val_acc: 0.9859\n",
      "Epoch 191/200\n",
      "7079/7079 [==============================] - 4s 563us/step - loss: 0.2150 - acc: 0.9734 - val_loss: 0.1800 - val_acc: 0.9870\n",
      "Epoch 192/200\n",
      "7079/7079 [==============================] - 4s 510us/step - loss: 0.2167 - acc: 0.9780 - val_loss: 0.1821 - val_acc: 0.9870\n",
      "Epoch 193/200\n",
      "7079/7079 [==============================] - 4s 512us/step - loss: 0.2003 - acc: 0.9806 - val_loss: 0.1567 - val_acc: 0.9938\n",
      "Epoch 194/200\n",
      "7079/7079 [==============================] - 4s 575us/step - loss: 0.1964 - acc: 0.9785 - val_loss: 0.1542 - val_acc: 0.9942\n",
      "Epoch 195/200\n",
      "7079/7079 [==============================] - 4s 524us/step - loss: 0.1993 - acc: 0.9770 - val_loss: 0.1603 - val_acc: 0.9928\n",
      "Epoch 196/200\n",
      "7079/7079 [==============================] - 4s 520us/step - loss: 0.2087 - acc: 0.9761 - val_loss: 0.1530 - val_acc: 0.9941\n",
      "Epoch 197/200\n",
      "7079/7079 [==============================] - 4s 553us/step - loss: 0.2037 - acc: 0.9795 - val_loss: 0.1527 - val_acc: 0.9943\n",
      "Epoch 198/200\n",
      "7079/7079 [==============================] - 4s 577us/step - loss: 0.1922 - acc: 0.9790 - val_loss: 0.2051 - val_acc: 0.9754\n",
      "Epoch 199/200\n",
      "7079/7079 [==============================] - 4s 535us/step - loss: 0.2058 - acc: 0.9771 - val_loss: 0.1673 - val_acc: 0.9908\n",
      "Epoch 200/200\n",
      "7079/7079 [==============================] - 4s 561us/step - loss: 0.2162 - acc: 0.9761 - val_loss: 0.1719 - val_acc: 0.9887\n"
     ]
    }
   ],
   "source": [
    "history = m.fit(x=X_train, y=y_train, batch_size=130,\n",
    "                    epochs=200, verbose=True,\n",
    "                    validation_split=0.0,                \n",
    "                    callbacks=callbacks,\n",
    "                    validation_data=(X_val, y_val), shuffle=True)"
   ]
  },
  {
   "cell_type": "code",
   "execution_count": 33,
   "metadata": {
    "slideshow": {
     "slide_type": "subslide"
    }
   },
   "outputs": [
    {
     "data": {
      "text/plain": [
       "Text(0,0.5,u'Loss')"
      ]
     },
     "execution_count": 33,
     "metadata": {},
     "output_type": "execute_result"
    },
    {
     "data": {
      "image/png": "[encoded data removed]",
      "text/plain": [
       "<matplotlib.figure.Figure at 0x7f878005d890>"
      ]
     },
     "metadata": {},
     "output_type": "display_data"
    }
   ],
   "source": [
    "plt.subplot(1,2,1)\n",
    "plt.plot(history.history['acc'], label='Accuracy')\n",
    "plt.plot(history.history['val_acc'], label='Validation accuracy')\n",
    "plt.legend()\n",
    "plt.xlabel('Epochs')\n",
    "plt.ylabel('Accuracy')\n",
    "\n",
    "plt.subplot(1,2,2)\n",
    "plt.plot(history.history['loss'], label='Loss')\n",
    "plt.plot(history.history['val_loss'], label='Validation loss')\n",
    "plt.legend()\n",
    "plt.xlabel('Epochs')\n",
    "plt.ylabel('Loss')"
   ]
  },
  {
   "cell_type": "code",
   "execution_count": 12,
   "metadata": {
    "slideshow": {
     "slide_type": "slide"
    }
   },
   "outputs": [
    {
     "name": "stdout",
     "output_type": "stream",
     "text": [
      "837/837 [==============================] - 0s 359us/step\n"
     ]
    }
   ],
   "source": [
    "prediction = m.predict(X_test, batch_size=130, verbose=1)\n",
    "y_predict=np.array([ np.argmax(p) for p in prediction])\n",
    "y_test_label = np.array([np.argmax(y) for y in y_test])"
   ]
  },
  {
   "cell_type": "code",
   "execution_count": 35,
   "metadata": {
    "slideshow": {
     "slide_type": "subslide"
    }
   },
   "outputs": [
    {
     "name": "stdout",
     "output_type": "stream",
     "text": [
      "Accuracy: 0.73\n"
     ]
    },
    {
     "data": {
      "text/plain": [
       "Text(0.5,32.0938,u'Predicted label')"
      ]
     },
     "execution_count": 35,
     "metadata": {},
     "output_type": "execute_result"
    },
    {
     "data": {
      "image/png": "[encoded data removed]",
      "text/plain": [
       "<matplotlib.figure.Figure at 0x7f87b78de310>"
      ]
     },
     "metadata": {},
     "output_type": "display_data"
    }
   ],
   "source": [
    "from sklearn.metrics import confusion_matrix\n",
    "acc = np.sum(y_test_label==y_predict) / float(len(y_test_label))\n",
    "print('Accuracy: {:.2f}'.format(acc))\n",
    "\n",
    "cm = confusion_matrix(y_test_label, y_predict )\n",
    "sns.heatmap(cm, annot=True, annot_kws={\"size\": 14}, fmt='g', linewidths=.5, \n",
    "            yticklabels=label_list,xticklabels=label_list)\n",
    "plt.ylabel('True label')\n",
    "plt.xlabel('Predicted label')"
   ]
  }
 ],
 "metadata": {
  "celltoolbar": "Slideshow",
  "kernelspec": {
   "display_name": "Python 2",
   "language": "python",
   "name": "python2"
  },
  "language_info": {
   "codemirror_mode": {
    "name": "ipython",
    "version": 2
   },
   "file_extension": ".py",
   "mimetype": "text/x-python",
   "name": "python",
   "nbconvert_exporter": "python",
   "pygments_lexer": "ipython2",
   "version": "2.7.12"
  }
 },
 "nbformat": 4,
 "nbformat_minor": 2
}
