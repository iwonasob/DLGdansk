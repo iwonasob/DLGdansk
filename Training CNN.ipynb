{
 "cells": [
  {
   "cell_type": "code",
   "execution_count": 1,
   "metadata": {},
   "outputs": [],
   "source": [
    "%matplotlib inline\n",
    "import seaborn as sns\n",
    "import matplotlib.pyplot as plt\n",
    "plt.rcParams['figure.figsize'] = (14, 6)\n",
    "import numpy as np\n",
    "import librosa, librosa.display, IPython.display as ipd\n",
    "from tqdm import tqdm\n",
    "import glob\n",
    "import pandas as pd\n",
    "import h5py\n",
    "from sklearn import preprocessing\n",
    "import pickle\n",
    "np.random.seed(1515)"
   ]
  },
  {
   "cell_type": "code",
   "execution_count": 2,
   "metadata": {},
   "outputs": [
    {
     "name": "stderr",
     "output_type": "stream",
     "text": [
      "Using TensorFlow backend.\n"
     ]
    }
   ],
   "source": [
    "import os\n",
    "os.environ[\"CUDA_DEVICE_ORDER\"] = \"PCI_BUS_ID\"   # see issue #152\n",
    "os.environ[\"CUDA_VISIBLE_DEVICES\"] = \"2\"\n",
    "\n",
    "import tensorflow as tf\n",
    "\n",
    "config = tf.ConfigProto()\n",
    "config.gpu_options.allow_growth = True  # dynamically grow the memory used on the GPU\n",
    "sess = tf.Session(config=config) \n",
    "    \n",
    "import keras \n",
    "from keras.backend.tensorflow_backend import set_session\n",
    "set_session(sess)  # set this TensorFlow session as the default session for Keras\n",
    "\n",
    "from keras.layers import Input, Conv2D, MaxPooling2D, LSTM\n",
    "from keras.layers import Dense, Flatten\n",
    "from keras.layers.core import Dropout\n",
    "from keras.models import Model\n",
    "from keras.layers.normalization import BatchNormalization\n",
    "from keras.regularizers import l2\n",
    "from keras.callbacks import EarlyStopping, ModelCheckpoint"
   ]
  },
  {
   "cell_type": "code",
   "execution_count": 3,
   "metadata": {},
   "outputs": [],
   "source": [
    "#SET PATHS\n",
    "dataspace = '/vol/vssp/datasets/audio01/UrbanSound8K/audio/'\n",
    "projectspace = '/vol/vssp/AcousticEventsDetection/DLGdansk/UrbanSound/'\n",
    "\n",
    "metadatafile = '/vol/vssp/datasets/audio01/UrbanSound8K/metadata/UrbanSound8K.csv'\n",
    "metadata = pd.read_csv(metadatafile)\n",
    "\n",
    "hdf5_path = os.path.join(projectspace,'dataset.hdf5') \n",
    "modelfolder = os.path.join(projectspace,'models')\n",
    "scalerpath = os.path.join(projectspace,'scaler.pkl')"
   ]
  },
  {
   "cell_type": "code",
   "execution_count": 4,
   "metadata": {},
   "outputs": [],
   "source": [
    "# LOAD DATA\n",
    "hf = h5py.File(hdf5_path, 'r')\n",
    "X_train = np.array(hf.get('X_train') )\n",
    "y_train = np.array(hf.get('y_train'))\n",
    "X_val =  np.array(hf.get('X_val'))\n",
    "y_val= np.array(hf.get('y_val'))\n",
    "X_test = np.array(hf.get('X_test'))\n",
    "y_test = np.array(hf.get('y_test'))\n",
    "\n",
    "n_features= hf.get('n_features').value\n",
    "n_frames=hf.get('max_length_samp').value\n",
    "label_list= hf.get('label_list').value"
   ]
  },
  {
   "cell_type": "code",
   "execution_count": 5,
   "metadata": {},
   "outputs": [],
   "source": [
    "# SCALE THE DATA\n",
    "scaler=pickle.load(open(scalerpath, 'rb'))\n",
    "\n",
    "X_train_scaled = [scaler.transform(x.T) for x in X_train]\n",
    "X_val_scaled = [scaler.transform(x.T) for x in X_val]\n",
    "X_test_scaled = [scaler.transform(x.T) for x in X_test]\n",
    "\n",
    "# CHANGE DIMENSION TO FIT KERAS\n",
    "X_train = np.expand_dims(X_train_scaled, 3)\n",
    "X_val = np.expand_dims(X_val_scaled, 3)\n",
    "X_test = np.expand_dims(X_test_scaled, 3)"
   ]
  },
  {
   "cell_type": "code",
   "execution_count": 6,
   "metadata": {},
   "outputs": [],
   "source": [
    "n_features = 40\n",
    "n_frames=173"
   ]
  },
  {
   "cell_type": "code",
   "execution_count": 7,
   "metadata": {},
   "outputs": [],
   "source": [
    "def build_cnn(n_frames=n_frames, n_features=n_features,  n_filters_cnn=48,\n",
    "                     filter_size_cnn=(3, 3), pool_size_cnn=(2,2),\n",
    "                     n_classes=10):\n",
    "\n",
    "    # INPUT\n",
    "    x = Input(shape=(n_frames, n_features,  1), dtype='float32')\n",
    "\n",
    "    # CONV 1\n",
    "    y = Conv2D(n_filters_cnn, filter_size_cnn, padding='valid', kernel_regularizer=l2(0.01),\n",
    "               activation='relu')(x)\n",
    "    y = MaxPooling2D(pool_size=pool_size_cnn, strides=None, padding='valid')(y)\n",
    "    y = BatchNormalization()(y)\n",
    "\n",
    "    # CONV 2\n",
    "    y = Conv2D(n_filters_cnn, filter_size_cnn, padding='valid',kernel_regularizer=l2(0.01),\n",
    "               activation='relu')(y)\n",
    "    y = MaxPooling2D(pool_size=pool_size_cnn, strides=None, padding='valid')(y)\n",
    "    y = BatchNormalization()(y)\n",
    "\n",
    "    # CONV 3\n",
    "    y = Conv2D(n_filters_cnn, filter_size_cnn, padding='valid',kernel_regularizer=l2(0.01),\n",
    "               activation='relu')(y)\n",
    "    y = MaxPooling2D(pool_size=pool_size_cnn, strides=None, padding='valid')(y)\n",
    "    y = BatchNormalization()(y)\n",
    "\n",
    "    # Flatten for dense layers\n",
    "    y = Flatten()(y)\n",
    "    #y = Dropout(0.5)(y)\n",
    "    #y = Dense(n_dense_cnn, activation='relu')(y)\n",
    "\n",
    "    y = Dropout(0.5)(y)\n",
    "    y = Dense(n_classes, activation='sigmoid')(y)\n",
    "\n",
    "    m = Model(inputs=x, outputs=y)\n",
    "    return m"
   ]
  },
  {
   "cell_type": "code",
   "execution_count": 8,
   "metadata": {},
   "outputs": [
    {
     "name": "stdout",
     "output_type": "stream",
     "text": [
      "_________________________________________________________________\n",
      "Layer (type)                 Output Shape              Param #   \n",
      "=================================================================\n",
      "input_1 (InputLayer)         (None, 173, 40, 1)        0         \n",
      "_________________________________________________________________\n",
      "conv2d_1 (Conv2D)            (None, 171, 38, 48)       480       \n",
      "_________________________________________________________________\n",
      "max_pooling2d_1 (MaxPooling2 (None, 85, 19, 48)        0         \n",
      "_________________________________________________________________\n",
      "batch_normalization_1 (Batch (None, 85, 19, 48)        192       \n",
      "_________________________________________________________________\n",
      "conv2d_2 (Conv2D)            (None, 83, 17, 48)        20784     \n",
      "_________________________________________________________________\n",
      "max_pooling2d_2 (MaxPooling2 (None, 41, 8, 48)         0         \n",
      "_________________________________________________________________\n",
      "batch_normalization_2 (Batch (None, 41, 8, 48)         192       \n",
      "_________________________________________________________________\n",
      "conv2d_3 (Conv2D)            (None, 39, 6, 48)         20784     \n",
      "_________________________________________________________________\n",
      "max_pooling2d_3 (MaxPooling2 (None, 19, 3, 48)         0         \n",
      "_________________________________________________________________\n",
      "batch_normalization_3 (Batch (None, 19, 3, 48)         192       \n",
      "_________________________________________________________________\n",
      "flatten_1 (Flatten)          (None, 2736)              0         \n",
      "_________________________________________________________________\n",
      "dropout_1 (Dropout)          (None, 2736)              0         \n",
      "_________________________________________________________________\n",
      "dense_1 (Dense)              (None, 10)                27370     \n",
      "=================================================================\n",
      "Total params: 69,994\n",
      "Trainable params: 69,706\n",
      "Non-trainable params: 288\n",
      "_________________________________________________________________\n"
     ]
    }
   ],
   "source": [
    "m = build_cnn(n_features=40,)\n",
    "m.summary()"
   ]
  },
  {
   "cell_type": "code",
   "execution_count": 9,
   "metadata": {},
   "outputs": [],
   "source": [
    "m.compile(loss='categorical_crossentropy', optimizer='adam', metrics=['accuracy'])"
   ]
  },
  {
   "cell_type": "code",
   "execution_count": 10,
   "metadata": {},
   "outputs": [
    {
     "name": "stdout",
     "output_type": "stream",
     "text": [
      "Train on 7079 samples, validate on 816 samples\n",
      "Epoch 1/200\n",
      "7079/7079 [==============================] - 8s 1ms/step - loss: 2.6604 - acc: 0.3813 - val_loss: 2.9737 - val_acc: 0.2034\n",
      "Epoch 2/200\n",
      "7079/7079 [==============================] - 5s 751us/step - loss: 2.0052 - acc: 0.5319 - val_loss: 3.1785 - val_acc: 0.1495\n",
      "Epoch 3/200\n",
      "7079/7079 [==============================] - 5s 737us/step - loss: 1.5943 - acc: 0.6589 - val_loss: 3.0685 - val_acc: 0.1409\n",
      "Epoch 4/200\n",
      "7079/7079 [==============================] - 5s 702us/step - loss: 1.3068 - acc: 0.7397 - val_loss: 3.4495 - val_acc: 0.1287\n",
      "Epoch 5/200\n",
      "7079/7079 [==============================] - 5s 771us/step - loss: 1.0839 - acc: 0.7911 - val_loss: 3.2370 - val_acc: 0.2733\n",
      "Epoch 6/200\n",
      "7079/7079 [==============================] - 5s 742us/step - loss: 0.9327 - acc: 0.8209 - val_loss: 3.6155 - val_acc: 0.3076\n",
      "Epoch 7/200\n",
      "7079/7079 [==============================] - 6s 791us/step - loss: 0.7828 - acc: 0.8592 - val_loss: 2.9468 - val_acc: 0.2855\n",
      "Epoch 8/200\n",
      "7079/7079 [==============================] - 5s 767us/step - loss: 0.7138 - acc: 0.8689 - val_loss: 2.5745 - val_acc: 0.4020\n",
      "Epoch 9/200\n",
      "7079/7079 [==============================] - 5s 760us/step - loss: 0.6607 - acc: 0.8791 - val_loss: 2.0040 - val_acc: 0.5074\n",
      "Epoch 10/200\n",
      "7079/7079 [==============================] - 5s 733us/step - loss: 0.5780 - acc: 0.8987 - val_loss: 1.8493 - val_acc: 0.5980\n",
      "Epoch 11/200\n",
      "7079/7079 [==============================] - 5s 755us/step - loss: 0.5168 - acc: 0.9090 - val_loss: 1.4849 - val_acc: 0.6752\n",
      "Epoch 12/200\n",
      "7079/7079 [==============================] - 5s 744us/step - loss: 0.4989 - acc: 0.9068 - val_loss: 1.5473 - val_acc: 0.7194\n",
      "Epoch 13/200\n",
      "7079/7079 [==============================] - 5s 758us/step - loss: 0.4577 - acc: 0.9168 - val_loss: 1.4124 - val_acc: 0.7132\n",
      "Epoch 14/200\n",
      "7079/7079 [==============================] - 5s 743us/step - loss: 0.4243 - acc: 0.9226 - val_loss: 1.6018 - val_acc: 0.7230\n",
      "Epoch 15/200\n",
      "7079/7079 [==============================] - 5s 769us/step - loss: 0.4384 - acc: 0.9182 - val_loss: 1.3404 - val_acc: 0.7255\n",
      "Epoch 16/200\n",
      "7079/7079 [==============================] - 5s 754us/step - loss: 0.4395 - acc: 0.9193 - val_loss: 1.8536 - val_acc: 0.7083\n",
      "Epoch 17/200\n",
      "7079/7079 [==============================] - 5s 717us/step - loss: 0.3883 - acc: 0.9318 - val_loss: 1.6686 - val_acc: 0.7267\n",
      "Epoch 18/200\n",
      "7079/7079 [==============================] - 5s 758us/step - loss: 0.3741 - acc: 0.9325 - val_loss: 1.6828 - val_acc: 0.7488\n",
      "Epoch 19/200\n",
      "7079/7079 [==============================] - 5s 764us/step - loss: 0.3569 - acc: 0.9412 - val_loss: 1.7107 - val_acc: 0.7279\n",
      "Epoch 20/200\n",
      "7079/7079 [==============================] - 5s 729us/step - loss: 0.3317 - acc: 0.9466 - val_loss: 1.5503 - val_acc: 0.7623\n",
      "Epoch 21/200\n",
      "7079/7079 [==============================] - 5s 735us/step - loss: 0.3341 - acc: 0.9432 - val_loss: 1.3627 - val_acc: 0.7341\n",
      "Epoch 22/200\n",
      "7079/7079 [==============================] - 6s 791us/step - loss: 0.3147 - acc: 0.9476 - val_loss: 1.4943 - val_acc: 0.7267\n",
      "Epoch 23/200\n",
      "7079/7079 [==============================] - 5s 739us/step - loss: 0.2822 - acc: 0.9569 - val_loss: 1.5935 - val_acc: 0.7267\n",
      "Epoch 24/200\n",
      "7079/7079 [==============================] - 5s 764us/step - loss: 0.2859 - acc: 0.9545 - val_loss: 1.6834 - val_acc: 0.7120\n",
      "Epoch 25/200\n",
      "7079/7079 [==============================] - 5s 733us/step - loss: 0.3295 - acc: 0.9408 - val_loss: 1.5954 - val_acc: 0.7439\n",
      "Epoch 26/200\n",
      "7079/7079 [==============================] - 5s 765us/step - loss: 0.2934 - acc: 0.9537 - val_loss: 1.6372 - val_acc: 0.7488\n",
      "Epoch 27/200\n",
      "7079/7079 [==============================] - 5s 763us/step - loss: 0.2951 - acc: 0.9544 - val_loss: 1.4073 - val_acc: 0.7574\n",
      "Epoch 28/200\n",
      "7079/7079 [==============================] - 5s 746us/step - loss: 0.2706 - acc: 0.9580 - val_loss: 1.4980 - val_acc: 0.7316\n",
      "Epoch 29/200\n",
      "7079/7079 [==============================] - 5s 760us/step - loss: 0.2823 - acc: 0.9541 - val_loss: 1.7836 - val_acc: 0.7181\n",
      "Epoch 30/200\n",
      "7079/7079 [==============================] - 5s 768us/step - loss: 0.2934 - acc: 0.9524 - val_loss: 1.8718 - val_acc: 0.7010\n",
      "Epoch 31/200\n",
      "7079/7079 [==============================] - 5s 735us/step - loss: 0.3013 - acc: 0.9524 - val_loss: 1.7328 - val_acc: 0.7390\n",
      "Epoch 32/200\n",
      "7079/7079 [==============================] - 5s 759us/step - loss: 0.2829 - acc: 0.9576 - val_loss: 1.6831 - val_acc: 0.7463\n",
      "Epoch 33/200\n",
      "7079/7079 [==============================] - 5s 747us/step - loss: 0.2664 - acc: 0.9619 - val_loss: 1.8513 - val_acc: 0.6985\n",
      "Epoch 34/200\n",
      "7079/7079 [==============================] - 5s 753us/step - loss: 0.2713 - acc: 0.9585 - val_loss: 1.9806 - val_acc: 0.7292\n",
      "Epoch 35/200\n",
      "7079/7079 [==============================] - 5s 751us/step - loss: 0.2695 - acc: 0.9573 - val_loss: 1.9214 - val_acc: 0.6850\n",
      "Epoch 36/200\n",
      "7079/7079 [==============================] - 5s 742us/step - loss: 0.2727 - acc: 0.9541 - val_loss: 1.7783 - val_acc: 0.7537\n",
      "Epoch 37/200\n",
      "7079/7079 [==============================] - 5s 754us/step - loss: 0.2546 - acc: 0.9660 - val_loss: 1.8098 - val_acc: 0.7255\n",
      "Epoch 38/200\n",
      "7079/7079 [==============================] - 5s 716us/step - loss: 0.2569 - acc: 0.9640 - val_loss: 1.5866 - val_acc: 0.7684\n",
      "Epoch 39/200\n",
      "7079/7079 [==============================] - 5s 756us/step - loss: 0.2639 - acc: 0.9626 - val_loss: 1.8450 - val_acc: 0.6949\n",
      "Epoch 40/200\n",
      "7079/7079 [==============================] - 5s 764us/step - loss: 0.2704 - acc: 0.9604 - val_loss: 1.8155 - val_acc: 0.7377\n",
      "Epoch 41/200\n",
      "7079/7079 [==============================] - 5s 766us/step - loss: 0.2534 - acc: 0.9633 - val_loss: 1.7838 - val_acc: 0.7059\n",
      "Epoch 42/200\n",
      "7079/7079 [==============================] - 6s 778us/step - loss: 0.2938 - acc: 0.9523 - val_loss: 1.7708 - val_acc: 0.7635\n",
      "Epoch 43/200\n",
      "7079/7079 [==============================] - 5s 758us/step - loss: 0.2723 - acc: 0.9607 - val_loss: 1.7052 - val_acc: 0.7512\n",
      "Epoch 44/200\n",
      "7079/7079 [==============================] - 5s 735us/step - loss: 0.2428 - acc: 0.9682 - val_loss: 1.9460 - val_acc: 0.7500\n",
      "Epoch 45/200\n",
      "7079/7079 [==============================] - 5s 759us/step - loss: 0.2621 - acc: 0.9620 - val_loss: 1.7360 - val_acc: 0.7525\n",
      "Epoch 46/200\n",
      "7079/7079 [==============================] - 5s 761us/step - loss: 0.2668 - acc: 0.9628 - val_loss: 1.9985 - val_acc: 0.7243\n",
      "Epoch 47/200\n",
      "7079/7079 [==============================] - 5s 760us/step - loss: 0.2578 - acc: 0.9637 - val_loss: 2.1052 - val_acc: 0.7120\n",
      "Epoch 48/200\n",
      "7079/7079 [==============================] - 6s 782us/step - loss: 0.2596 - acc: 0.9616 - val_loss: 2.0787 - val_acc: 0.6949\n",
      "Epoch 49/200\n",
      "7079/7079 [==============================] - 5s 764us/step - loss: 0.2677 - acc: 0.9592 - val_loss: 2.1009 - val_acc: 0.7132\n",
      "Epoch 50/200\n",
      "7079/7079 [==============================] - 5s 758us/step - loss: 0.2641 - acc: 0.9648 - val_loss: 1.8150 - val_acc: 0.7328\n",
      "Epoch 51/200\n",
      "7079/7079 [==============================] - 5s 754us/step - loss: 0.2479 - acc: 0.9693 - val_loss: 1.6465 - val_acc: 0.7770\n",
      "Epoch 52/200\n",
      "7079/7079 [==============================] - 5s 758us/step - loss: 0.2640 - acc: 0.9599 - val_loss: 1.9649 - val_acc: 0.7267\n",
      "Epoch 53/200\n",
      "7079/7079 [==============================] - 5s 762us/step - loss: 0.2729 - acc: 0.9604 - val_loss: 1.8635 - val_acc: 0.7414\n",
      "Epoch 54/200\n",
      "7079/7079 [==============================] - 5s 765us/step - loss: 0.2509 - acc: 0.9701 - val_loss: 1.9693 - val_acc: 0.7279\n",
      "Epoch 55/200\n",
      "7079/7079 [==============================] - 5s 741us/step - loss: 0.2403 - acc: 0.9654 - val_loss: 2.3658 - val_acc: 0.7108\n",
      "Epoch 56/200\n",
      "7079/7079 [==============================] - 5s 747us/step - loss: 0.2610 - acc: 0.9613 - val_loss: 1.9144 - val_acc: 0.7132\n",
      "Epoch 57/200\n",
      "7079/7079 [==============================] - 5s 742us/step - loss: 0.2515 - acc: 0.9651 - val_loss: 1.7491 - val_acc: 0.7230\n",
      "Epoch 58/200\n",
      "7079/7079 [==============================] - 5s 746us/step - loss: 0.2596 - acc: 0.9626 - val_loss: 1.7893 - val_acc: 0.7390\n",
      "Epoch 59/200\n",
      "7079/7079 [==============================] - 5s 764us/step - loss: 0.2611 - acc: 0.9637 - val_loss: 2.2117 - val_acc: 0.7292\n",
      "Epoch 60/200\n"
     ]
    },
    {
     "name": "stdout",
     "output_type": "stream",
     "text": [
      "7079/7079 [==============================] - 5s 723us/step - loss: 0.2436 - acc: 0.9710 - val_loss: 2.2131 - val_acc: 0.7316\n",
      "Epoch 61/200\n",
      "7079/7079 [==============================] - 5s 747us/step - loss: 0.2356 - acc: 0.9702 - val_loss: 2.1806 - val_acc: 0.7010\n",
      "Epoch 62/200\n",
      "7079/7079 [==============================] - 5s 730us/step - loss: 0.2768 - acc: 0.9597 - val_loss: 1.7115 - val_acc: 0.7353\n",
      "Epoch 63/200\n",
      "7079/7079 [==============================] - 5s 760us/step - loss: 0.2673 - acc: 0.9621 - val_loss: 2.1841 - val_acc: 0.7304\n",
      "Epoch 64/200\n",
      "7079/7079 [==============================] - 5s 729us/step - loss: 0.2586 - acc: 0.9643 - val_loss: 2.3173 - val_acc: 0.7047\n",
      "Epoch 65/200\n",
      "7079/7079 [==============================] - 5s 731us/step - loss: 0.2499 - acc: 0.9692 - val_loss: 2.0894 - val_acc: 0.7194\n",
      "Epoch 00065: early stopping\n"
     ]
    }
   ],
   "source": [
    "model_checkpoint = ModelCheckpoint(\n",
    "    os.path.join(modelfolder, 'cnn_epoch_{epoch:03d}_val_loss_{val_loss:.4f}.hdf5'),\n",
    "    monitor='val_loss', save_best_only=True)\n",
    "early_stopping = EarlyStopping(monitor='val_loss', patience=50, verbose=1)\n",
    "callbacks = [early_stopping, model_checkpoint]\n",
    "\n",
    "history = m.fit(x=X_train, y=y_train, batch_size=130,\n",
    "                    epochs=200, verbose=True,\n",
    "                    validation_split=0.0,                \n",
    "                    callbacks=callbacks,\n",
    "                    validation_data=(X_val, y_val), shuffle=True)"
   ]
  },
  {
   "cell_type": "code",
   "execution_count": 11,
   "metadata": {},
   "outputs": [
    {
     "name": "stdout",
     "output_type": "stream",
     "text": [
      "837/837 [==============================] - 1s 688us/step\n"
     ]
    }
   ],
   "source": [
    "prediction = m.predict(X_test, batch_size=130, verbose=1)\n",
    "y_predict=np.array([ np.argmax(p) for p in prediction])\n",
    "y_test_label = np.array([np.argmax(y) for y in y_test])"
   ]
  },
  {
   "cell_type": "code",
   "execution_count": 12,
   "metadata": {},
   "outputs": [
    {
     "name": "stdout",
     "output_type": "stream",
     "text": [
      "Accuracy: 0.76\n"
     ]
    },
    {
     "data": {
      "text/plain": [
       "<matplotlib.axes._subplots.AxesSubplot at 0x7f0c3af60b90>"
      ]
     },
     "execution_count": 12,
     "metadata": {},
     "output_type": "execute_result"
    },
    {
     "data": {
      "image/png": "[encoded data removed]",
      "text/plain": [
       "<matplotlib.figure.Figure at 0x7f0cb0065390>"
      ]
     },
     "metadata": {},
     "output_type": "display_data"
    }
   ],
   "source": [
    "from sklearn.metrics import confusion_matrix\n",
    "acc = np.sum(y_test_label==y_predict) / float(len(y_test_label))\n",
    "print('Accuracy: {:.2f}'.format(acc))\n",
    "\n",
    "cm = confusion_matrix(y_test_label, y_predict )\n",
    "sns.heatmap(cm, annot=True, annot_kws={\"size\": 14}, fmt='g', linewidths=.5, yticklabels=label_list,xticklabels=label_list)"
   ]
  }
 ],
 "metadata": {
  "kernelspec": {
   "display_name": "Python 2",
   "language": "python",
   "name": "python2"
  },
  "language_info": {
   "codemirror_mode": {
    "name": "ipython",
    "version": 2
   },
   "file_extension": ".py",
   "mimetype": "text/x-python",
   "name": "python",
   "nbconvert_exporter": "python",
   "pygments_lexer": "ipython2",
   "version": "2.7.12"
  }
 },
 "nbformat": 4,
 "nbformat_minor": 2
}
