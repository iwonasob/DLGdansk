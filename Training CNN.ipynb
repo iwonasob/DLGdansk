{
 "cells": [
  {
   "cell_type": "markdown",
   "metadata": {
    "slideshow": {
     "slide_type": "slide"
    }
   },
   "source": [
    "## Convolutional Neural Networks"
   ]
  },
  {
   "cell_type": "code",
   "execution_count": 1,
   "metadata": {
    "slideshow": {
     "slide_type": "slide"
    }
   },
   "outputs": [],
   "source": [
    "# FIX ALL THE RANDOM VALUES TO GET REPRODUCIBLE RESULTS\n",
    "import os\n",
    "os.environ[\"PYTHONHASHSEED\"] = \"0\"\n",
    "\n",
    "import random as rn\n",
    "rn.seed(1254)\n",
    "\n",
    "import numpy as np\n",
    "np.random.seed(1515)\n",
    "\n",
    "# SET NICE PLOTTING\n",
    "%matplotlib inline\n",
    "import seaborn as sns\n",
    "import matplotlib.pyplot as plt\n",
    "\n",
    "import librosa, librosa.display, IPython.display as ipd\n",
    "from tqdm import tqdm\n",
    "import glob\n",
    "import pandas as pd\n",
    "import h5py\n",
    "from sklearn import preprocessing\n",
    "import pickle"
   ]
  },
  {
   "cell_type": "code",
   "execution_count": 2,
   "metadata": {
    "slideshow": {
     "slide_type": "-"
    }
   },
   "outputs": [],
   "source": [
    "plt.rcParams['figure.figsize'] = (14, 6)"
   ]
  },
  {
   "cell_type": "code",
   "execution_count": 3,
   "metadata": {
    "slideshow": {
     "slide_type": "subslide"
    }
   },
   "outputs": [
    {
     "name": "stderr",
     "output_type": "stream",
     "text": [
      "Using TensorFlow backend.\n"
     ]
    }
   ],
   "source": [
    "os.environ[\"CUDA_DEVICE_ORDER\"] = \"PCI_BUS_ID\"   \n",
    "os.environ[\"CUDA_VISIBLE_DEVICES\"] = \"2\"\n",
    "\n",
    "import tensorflow as tf\n",
    "tf.set_random_seed(2)\n",
    "\n",
    "config = tf.ConfigProto(\n",
    "    intra_op_parallelism_threads=1,\n",
    "    inter_op_parallelism_threads=1 \n",
    ")\n",
    "\n",
    "config.gpu_options.allow_growth = True  # dynamically grow the memory used on the GPU\n",
    "sess = tf.Session(graph= tf.get_default_graph(), config=config) \n",
    "    \n",
    "import keras \n",
    "from keras import backend as K\n",
    "K.set_session(sess)  # set this TensorFlow session as the default session for Keras\n",
    "\n",
    "from keras.layers import Input, Conv2D, MaxPooling2D, LSTM\n",
    "from keras.layers import Dense, Flatten\n",
    "from keras.layers.core import Dropout\n",
    "from keras.models import Model\n",
    "from keras.layers.normalization import BatchNormalization\n",
    "from keras.regularizers import l2\n",
    "from keras.callbacks import EarlyStopping, ModelCheckpoint"
   ]
  },
  {
   "cell_type": "code",
   "execution_count": 4,
   "metadata": {
    "slideshow": {
     "slide_type": "subslide"
    }
   },
   "outputs": [],
   "source": [
    "#SET PATHS\n",
    "dataspace = '/vol/vssp/datasets/audio01/UrbanSound8K/audio/'\n",
    "projectspace = '/vol/vssp/AcousticEventsDetection/DLGdansk/UrbanSound/'\n",
    "\n",
    "metadatafile = '/vol/vssp/datasets/audio01/UrbanSound8K/metadata/UrbanSound8K.csv'\n",
    "metadata = pd.read_csv(metadatafile)\n",
    "\n",
    "hdf5_path = os.path.join(projectspace,'dataset.hdf5') \n",
    "modelfolder = os.path.join(projectspace,'models')\n",
    "scalerpath = os.path.join(projectspace,'scaler.pkl')"
   ]
  },
  {
   "cell_type": "code",
   "execution_count": 5,
   "metadata": {
    "slideshow": {
     "slide_type": "slide"
    }
   },
   "outputs": [],
   "source": [
    "# LOAD DATA\n",
    "hf = h5py.File(hdf5_path, 'r')\n",
    "X_train = np.array(hf.get('X_train') )\n",
    "y_train = np.array(hf.get('y_train'))\n",
    "X_val =  np.array(hf.get('X_val'))\n",
    "y_val= np.array(hf.get('y_val'))\n",
    "X_test = np.array(hf.get('X_test'))\n",
    "y_test = np.array(hf.get('y_test'))\n",
    "\n",
    "n_features= hf.get('n_features').value\n",
    "n_frames=hf.get('max_length_samp').value\n",
    "label_list= hf.get('label_list').value"
   ]
  },
  {
   "cell_type": "code",
   "execution_count": 6,
   "metadata": {
    "slideshow": {
     "slide_type": "subslide"
    }
   },
   "outputs": [],
   "source": [
    "# SCALE THE DATA\n",
    "scaler=pickle.load(open(scalerpath, 'rb'))\n",
    "\n",
    "X_train_scaled = [scaler.transform(x.T) for x in X_train]\n",
    "X_val_scaled = [scaler.transform(x.T) for x in X_val]\n",
    "X_test_scaled = [scaler.transform(x.T) for x in X_test]\n",
    "\n",
    "# CHANGE DIMENSION TO FIT KERAS\n",
    "X_train = np.expand_dims(X_train_scaled, 3)\n",
    "X_val = np.expand_dims(X_val_scaled, 3)\n",
    "X_test = np.expand_dims(X_test_scaled, 3)"
   ]
  },
  {
   "cell_type": "code",
   "execution_count": 7,
   "metadata": {
    "slideshow": {
     "slide_type": "slide"
    }
   },
   "outputs": [],
   "source": [
    "def build_cnn(n_frames=n_frames, n_features=n_features,  n_filters_cnn=48,\n",
    "                     filter_size_cnn=(3, 3), pool_size_cnn=(2,2),\n",
    "                     n_classes=10):\n",
    "\n",
    "    # INPUT\n",
    "    x = Input(shape=(n_frames, n_features,  1), dtype='float32')\n",
    "\n",
    "    # CONV 1\n",
    "    y = Conv2D(n_filters_cnn, filter_size_cnn, padding='valid', kernel_regularizer=l2(0.01),\n",
    "               activation='relu')(x)\n",
    "    y = MaxPooling2D(pool_size=pool_size_cnn, strides=None, padding='valid')(y)\n",
    "    y = BatchNormalization()(y)\n",
    "\n",
    "    # CONV 2\n",
    "    y = Conv2D(n_filters_cnn, filter_size_cnn, padding='valid',kernel_regularizer=l2(0.01),\n",
    "               activation='relu')(y)\n",
    "    y = MaxPooling2D(pool_size=pool_size_cnn, strides=None, padding='valid')(y)\n",
    "    y = BatchNormalization()(y)\n",
    "\n",
    "    # CONV 3\n",
    "    y = Conv2D(n_filters_cnn, filter_size_cnn, padding='valid',kernel_regularizer=l2(0.01),\n",
    "               activation='relu')(y)\n",
    "    y = MaxPooling2D(pool_size=pool_size_cnn, strides=None, padding='valid')(y)\n",
    "    y = BatchNormalization()(y)\n",
    "\n",
    "    # Flatten for dense layers\n",
    "    y = Flatten()(y)\n",
    "\n",
    "    y = Dropout(0.5)(y)\n",
    "    y = Dense(n_classes, activation='sigmoid')(y)\n",
    "\n",
    "    m = Model(inputs=x, outputs=y)\n",
    "    return m"
   ]
  },
  {
   "cell_type": "code",
   "execution_count": 8,
   "metadata": {
    "slideshow": {
     "slide_type": "slide"
    }
   },
   "outputs": [
    {
     "name": "stdout",
     "output_type": "stream",
     "text": [
      "_________________________________________________________________\n",
      "Layer (type)                 Output Shape              Param #   \n",
      "=================================================================\n",
      "input_1 (InputLayer)         (None, 173, 40, 1)        0         \n",
      "_________________________________________________________________\n",
      "conv2d_1 (Conv2D)            (None, 171, 38, 48)       480       \n",
      "_________________________________________________________________\n",
      "max_pooling2d_1 (MaxPooling2 (None, 85, 19, 48)        0         \n",
      "_________________________________________________________________\n",
      "batch_normalization_1 (Batch (None, 85, 19, 48)        192       \n",
      "_________________________________________________________________\n",
      "conv2d_2 (Conv2D)            (None, 83, 17, 48)        20784     \n",
      "_________________________________________________________________\n",
      "max_pooling2d_2 (MaxPooling2 (None, 41, 8, 48)         0         \n",
      "_________________________________________________________________\n",
      "batch_normalization_2 (Batch (None, 41, 8, 48)         192       \n",
      "_________________________________________________________________\n",
      "conv2d_3 (Conv2D)            (None, 39, 6, 48)         20784     \n",
      "_________________________________________________________________\n",
      "max_pooling2d_3 (MaxPooling2 (None, 19, 3, 48)         0         \n",
      "_________________________________________________________________\n",
      "batch_normalization_3 (Batch (None, 19, 3, 48)         192       \n",
      "_________________________________________________________________\n",
      "flatten_1 (Flatten)          (None, 2736)              0         \n",
      "_________________________________________________________________\n",
      "dropout_1 (Dropout)          (None, 2736)              0         \n",
      "_________________________________________________________________\n",
      "dense_1 (Dense)              (None, 10)                27370     \n",
      "=================================================================\n",
      "Total params: 69,994\n",
      "Trainable params: 69,706\n",
      "Non-trainable params: 288\n",
      "_________________________________________________________________\n"
     ]
    }
   ],
   "source": [
    "m = build_cnn(n_features=40,)\n",
    "m.summary()"
   ]
  },
  {
   "cell_type": "code",
   "execution_count": 9,
   "metadata": {
    "slideshow": {
     "slide_type": "subslide"
    }
   },
   "outputs": [],
   "source": [
    "m.compile(loss='categorical_crossentropy', optimizer='adam', metrics=['accuracy'])"
   ]
  },
  {
   "cell_type": "code",
   "execution_count": 10,
   "metadata": {
    "slideshow": {
     "slide_type": "slide"
    }
   },
   "outputs": [
    {
     "name": "stdout",
     "output_type": "stream",
     "text": [
      "Train on 7079 samples, validate on 816 samples\n",
      "Epoch 1/200\n",
      "7079/7079 [==============================] - 6s 857us/step - loss: 2.6079 - acc: 0.3657 - val_loss: 2.9409 - val_acc: 0.2390\n",
      "Epoch 2/200\n",
      "7079/7079 [==============================] - 4s 537us/step - loss: 1.9632 - acc: 0.5413 - val_loss: 3.3493 - val_acc: 0.1029\n",
      "Epoch 3/200\n",
      "7079/7079 [==============================] - 4s 516us/step - loss: 1.5519 - acc: 0.6632 - val_loss: 3.3488 - val_acc: 0.1127\n",
      "Epoch 4/200\n",
      "7079/7079 [==============================] - 3s 453us/step - loss: 1.2787 - acc: 0.7336 - val_loss: 3.5090 - val_acc: 0.1213\n",
      "Epoch 5/200\n",
      "7079/7079 [==============================] - 3s 481us/step - loss: 1.0707 - acc: 0.7870 - val_loss: 3.2522 - val_acc: 0.2831\n",
      "Epoch 6/200\n",
      "7079/7079 [==============================] - 3s 479us/step - loss: 0.9178 - acc: 0.8176 - val_loss: 3.4371 - val_acc: 0.2966\n",
      "Epoch 7/200\n",
      "7079/7079 [==============================] - 3s 468us/step - loss: 0.8170 - acc: 0.8494 - val_loss: 3.0452 - val_acc: 0.3162\n",
      "Epoch 8/200\n",
      "7079/7079 [==============================] - 3s 459us/step - loss: 0.7218 - acc: 0.8651 - val_loss: 3.2257 - val_acc: 0.3750\n",
      "Epoch 9/200\n",
      "7079/7079 [==============================] - 4s 502us/step - loss: 0.6702 - acc: 0.8788 - val_loss: 2.2785 - val_acc: 0.5086\n",
      "Epoch 10/200\n",
      "7079/7079 [==============================] - 4s 495us/step - loss: 0.6724 - acc: 0.8610 - val_loss: 1.9838 - val_acc: 0.6017\n",
      "Epoch 11/200\n",
      "7079/7079 [==============================] - 3s 458us/step - loss: 0.5773 - acc: 0.8956 - val_loss: 1.7474 - val_acc: 0.6605\n",
      "Epoch 12/200\n",
      "7079/7079 [==============================] - 3s 491us/step - loss: 0.5273 - acc: 0.9079 - val_loss: 1.6439 - val_acc: 0.7108\n",
      "Epoch 13/200\n",
      "7079/7079 [==============================] - 3s 491us/step - loss: 0.4848 - acc: 0.9110 - val_loss: 1.4625 - val_acc: 0.7377\n",
      "Epoch 14/200\n",
      "7079/7079 [==============================] - 4s 495us/step - loss: 0.4363 - acc: 0.9251 - val_loss: 1.6339 - val_acc: 0.7292\n",
      "Epoch 15/200\n",
      "7079/7079 [==============================] - 3s 449us/step - loss: 0.4546 - acc: 0.9203 - val_loss: 1.9088 - val_acc: 0.7279\n",
      "Epoch 16/200\n",
      "7079/7079 [==============================] - 3s 490us/step - loss: 0.4492 - acc: 0.9167 - val_loss: 1.7599 - val_acc: 0.7353\n",
      "Epoch 17/200\n",
      "7079/7079 [==============================] - 3s 459us/step - loss: 0.4050 - acc: 0.9288 - val_loss: 1.6576 - val_acc: 0.7353\n",
      "Epoch 18/200\n",
      "7079/7079 [==============================] - 3s 469us/step - loss: 0.3652 - acc: 0.9426 - val_loss: 1.4049 - val_acc: 0.7610\n",
      "Epoch 19/200\n",
      "7079/7079 [==============================] - 3s 463us/step - loss: 0.3508 - acc: 0.9418 - val_loss: 1.5390 - val_acc: 0.7586\n",
      "Epoch 20/200\n",
      "7079/7079 [==============================] - 3s 488us/step - loss: 0.3724 - acc: 0.9350 - val_loss: 1.5300 - val_acc: 0.7696\n",
      "Epoch 21/200\n",
      "7079/7079 [==============================] - 3s 493us/step - loss: 0.3634 - acc: 0.9380 - val_loss: 1.5860 - val_acc: 0.7525\n",
      "Epoch 22/200\n",
      "7079/7079 [==============================] - 3s 439us/step - loss: 0.3460 - acc: 0.9428 - val_loss: 1.5726 - val_acc: 0.7623\n",
      "Epoch 23/200\n",
      "7079/7079 [==============================] - 3s 481us/step - loss: 0.3264 - acc: 0.9466 - val_loss: 1.8183 - val_acc: 0.7169\n",
      "Epoch 24/200\n",
      "7079/7079 [==============================] - 3s 482us/step - loss: 0.3323 - acc: 0.9458 - val_loss: 1.8644 - val_acc: 0.7525\n",
      "Epoch 25/200\n",
      "7079/7079 [==============================] - 3s 480us/step - loss: 0.3316 - acc: 0.9410 - val_loss: 1.8687 - val_acc: 0.7402\n",
      "Epoch 26/200\n",
      "7079/7079 [==============================] - 3s 448us/step - loss: 0.3123 - acc: 0.9496 - val_loss: 1.7046 - val_acc: 0.7525\n",
      "Epoch 27/200\n",
      "7079/7079 [==============================] - 3s 488us/step - loss: 0.3061 - acc: 0.9490 - val_loss: 1.7688 - val_acc: 0.7794\n",
      "Epoch 28/200\n",
      "7079/7079 [==============================] - 3s 470us/step - loss: 0.3109 - acc: 0.9472 - val_loss: 1.8864 - val_acc: 0.7586\n",
      "Epoch 29/200\n",
      "7079/7079 [==============================] - 3s 473us/step - loss: 0.2798 - acc: 0.9590 - val_loss: 1.7424 - val_acc: 0.7218\n",
      "Epoch 30/200\n",
      "7079/7079 [==============================] - 3s 464us/step - loss: 0.2925 - acc: 0.9528 - val_loss: 2.0194 - val_acc: 0.7696\n",
      "Epoch 31/200\n",
      "7079/7079 [==============================] - 3s 479us/step - loss: 0.3144 - acc: 0.9491 - val_loss: 1.6601 - val_acc: 0.7488\n",
      "Epoch 32/200\n",
      "7079/7079 [==============================] - 3s 475us/step - loss: 0.2930 - acc: 0.9568 - val_loss: 1.8740 - val_acc: 0.7525\n",
      "Epoch 33/200\n",
      "7079/7079 [==============================] - 3s 453us/step - loss: 0.2930 - acc: 0.9572 - val_loss: 1.8025 - val_acc: 0.7561\n",
      "Epoch 34/200\n",
      "7079/7079 [==============================] - 3s 471us/step - loss: 0.2857 - acc: 0.9575 - val_loss: 2.1011 - val_acc: 0.7561\n",
      "Epoch 35/200\n",
      "7079/7079 [==============================] - 3s 477us/step - loss: 0.2782 - acc: 0.9586 - val_loss: 1.9844 - val_acc: 0.7488\n",
      "Epoch 36/200\n",
      "7079/7079 [==============================] - 3s 474us/step - loss: 0.2809 - acc: 0.9558 - val_loss: 1.8682 - val_acc: 0.7500\n",
      "Epoch 37/200\n",
      "7079/7079 [==============================] - 3s 438us/step - loss: 0.2734 - acc: 0.9612 - val_loss: 2.1070 - val_acc: 0.7451\n",
      "Epoch 38/200\n",
      "7079/7079 [==============================] - 3s 481us/step - loss: 0.2725 - acc: 0.9613 - val_loss: 1.9422 - val_acc: 0.7623\n",
      "Epoch 39/200\n",
      "7079/7079 [==============================] - 3s 477us/step - loss: 0.2952 - acc: 0.9525 - val_loss: 1.9972 - val_acc: 0.7390\n",
      "Epoch 40/200\n",
      "7079/7079 [==============================] - 3s 476us/step - loss: 0.2660 - acc: 0.9627 - val_loss: 1.8850 - val_acc: 0.7439\n",
      "Epoch 41/200\n",
      "7079/7079 [==============================] - 3s 456us/step - loss: 0.2511 - acc: 0.9643 - val_loss: 1.9772 - val_acc: 0.7537\n",
      "Epoch 42/200\n",
      "7079/7079 [==============================] - 3s 492us/step - loss: 0.2853 - acc: 0.9573 - val_loss: 1.8309 - val_acc: 0.7525\n",
      "Epoch 43/200\n",
      "7079/7079 [==============================] - 3s 484us/step - loss: 0.2775 - acc: 0.9597 - val_loss: 1.8685 - val_acc: 0.7255\n",
      "Epoch 44/200\n",
      "7079/7079 [==============================] - 3s 457us/step - loss: 0.2830 - acc: 0.9551 - val_loss: 1.9366 - val_acc: 0.7537\n",
      "Epoch 45/200\n",
      "7079/7079 [==============================] - 3s 467us/step - loss: 0.2659 - acc: 0.9640 - val_loss: 2.1286 - val_acc: 0.7353\n",
      "Epoch 46/200\n",
      "7079/7079 [==============================] - 3s 486us/step - loss: 0.2658 - acc: 0.9626 - val_loss: 1.8324 - val_acc: 0.7561\n",
      "Epoch 47/200\n",
      "7079/7079 [==============================] - 3s 466us/step - loss: 0.2711 - acc: 0.9595 - val_loss: 1.8877 - val_acc: 0.7181\n",
      "Epoch 48/200\n",
      "7079/7079 [==============================] - 3s 452us/step - loss: 0.2703 - acc: 0.9600 - val_loss: 2.0407 - val_acc: 0.7537\n",
      "Epoch 49/200\n",
      "7079/7079 [==============================] - 3s 486us/step - loss: 0.2645 - acc: 0.9634 - val_loss: 2.1019 - val_acc: 0.7500\n",
      "Epoch 50/200\n",
      "7079/7079 [==============================] - 3s 477us/step - loss: 0.2635 - acc: 0.9644 - val_loss: 2.4375 - val_acc: 0.7243\n",
      "Epoch 51/200\n",
      "7079/7079 [==============================] - 3s 480us/step - loss: 0.2719 - acc: 0.9621 - val_loss: 1.7986 - val_acc: 0.7696\n",
      "Epoch 52/200\n",
      "7079/7079 [==============================] - 3s 450us/step - loss: 0.2651 - acc: 0.9633 - val_loss: 2.1294 - val_acc: 0.7623\n",
      "Epoch 53/200\n",
      "7079/7079 [==============================] - 3s 490us/step - loss: 0.2475 - acc: 0.9688 - val_loss: 2.2411 - val_acc: 0.7353\n",
      "Epoch 54/200\n",
      "7079/7079 [==============================] - 3s 469us/step - loss: 0.2513 - acc: 0.9677 - val_loss: 2.2060 - val_acc: 0.7304\n",
      "Epoch 55/200\n",
      "7079/7079 [==============================] - 3s 456us/step - loss: 0.2605 - acc: 0.9614 - val_loss: 2.0349 - val_acc: 0.7206\n",
      "Epoch 56/200\n",
      "7079/7079 [==============================] - 3s 446us/step - loss: 0.2790 - acc: 0.9614 - val_loss: 2.4046 - val_acc: 0.7047\n",
      "Epoch 57/200\n",
      "7079/7079 [==============================] - 3s 476us/step - loss: 0.2847 - acc: 0.9576 - val_loss: 2.0470 - val_acc: 0.7267\n",
      "Epoch 58/200\n",
      "7079/7079 [==============================] - 3s 492us/step - loss: 0.2595 - acc: 0.9664 - val_loss: 2.4096 - val_acc: 0.7059\n",
      "Epoch 59/200\n",
      "7079/7079 [==============================] - 3s 443us/step - loss: 0.2692 - acc: 0.9631 - val_loss: 1.9616 - val_acc: 0.7500\n",
      "Epoch 60/200\n"
     ]
    },
    {
     "name": "stdout",
     "output_type": "stream",
     "text": [
      "7079/7079 [==============================] - 3s 477us/step - loss: 0.2753 - acc: 0.9627 - val_loss: 2.2982 - val_acc: 0.7022\n",
      "Epoch 61/200\n",
      "7079/7079 [==============================] - 3s 475us/step - loss: 0.2862 - acc: 0.9585 - val_loss: 2.2459 - val_acc: 0.7316\n",
      "Epoch 62/200\n",
      "7079/7079 [==============================] - 3s 494us/step - loss: 0.2570 - acc: 0.9672 - val_loss: 2.0420 - val_acc: 0.7623\n",
      "Epoch 63/200\n",
      "7079/7079 [==============================] - 3s 442us/step - loss: 0.2397 - acc: 0.9719 - val_loss: 2.1890 - val_acc: 0.7439\n",
      "Epoch 64/200\n",
      "7079/7079 [==============================] - 3s 486us/step - loss: 0.2327 - acc: 0.9730 - val_loss: 1.9408 - val_acc: 0.7574\n",
      "Epoch 65/200\n",
      "7079/7079 [==============================] - 3s 469us/step - loss: 0.2404 - acc: 0.9702 - val_loss: 2.1287 - val_acc: 0.7390\n",
      "Epoch 66/200\n",
      "7079/7079 [==============================] - 3s 479us/step - loss: 0.2447 - acc: 0.9677 - val_loss: 2.5567 - val_acc: 0.6998\n",
      "Epoch 67/200\n",
      "7079/7079 [==============================] - 3s 450us/step - loss: 0.2604 - acc: 0.9624 - val_loss: 2.3386 - val_acc: 0.7353\n",
      "Epoch 68/200\n",
      "7079/7079 [==============================] - 3s 483us/step - loss: 0.2519 - acc: 0.9677 - val_loss: 2.2254 - val_acc: 0.7414\n",
      "Epoch 00068: early stopping\n"
     ]
    }
   ],
   "source": [
    "model_checkpoint = ModelCheckpoint(\n",
    "    os.path.join(modelfolder, 'cnn_epoch_{epoch:03d}_val_loss_{val_loss:.4f}.hdf5'),\n",
    "    monitor='val_loss', save_best_only=True)\n",
    "early_stopping = EarlyStopping(monitor='val_loss', patience=50, verbose=1)\n",
    "callbacks = [early_stopping, model_checkpoint]\n",
    "\n",
    "history = m.fit(x=X_train, y=y_train, batch_size=130,\n",
    "                    epochs=200, verbose=True,\n",
    "                    validation_split=0.0,                \n",
    "                    callbacks=callbacks,\n",
    "                    validation_data=(X_val, y_val), shuffle=True)"
   ]
  },
  {
   "cell_type": "code",
   "execution_count": 11,
   "metadata": {
    "slideshow": {
     "slide_type": "slide"
    }
   },
   "outputs": [
    {
     "name": "stdout",
     "output_type": "stream",
     "text": [
      "837/837 [==============================] - 0s 457us/step\n"
     ]
    }
   ],
   "source": [
    "prediction = m.predict(X_test, batch_size=130, verbose=1)\n",
    "y_predict=np.array([ np.argmax(p) for p in prediction])\n",
    "y_test_label = np.array([np.argmax(y) for y in y_test])"
   ]
  },
  {
   "cell_type": "code",
   "execution_count": 12,
   "metadata": {
    "slideshow": {
     "slide_type": "subslide"
    }
   },
   "outputs": [
    {
     "name": "stdout",
     "output_type": "stream",
     "text": [
      "Accuracy: 0.68\n"
     ]
    },
    {
     "data": {
      "text/plain": [
       "<matplotlib.axes._subplots.AxesSubplot at 0x7fab401e1cd0>"
      ]
     },
     "execution_count": 12,
     "metadata": {},
     "output_type": "execute_result"
    },
    {
     "data": {
      "image/png": "[encoded data removed]",
      "text/plain": [
       "<matplotlib.figure.Figure at 0x7fabda210850>"
      ]
     },
     "metadata": {},
     "output_type": "display_data"
    }
   ],
   "source": [
    "from sklearn.metrics import confusion_matrix\n",
    "acc = np.sum(y_test_label==y_predict) / float(len(y_test_label))\n",
    "print('Accuracy: {:.2f}'.format(acc))\n",
    "\n",
    "cm = confusion_matrix(y_test_label, y_predict )\n",
    "sns.heatmap(cm, annot=True, annot_kws={\"size\": 14}, fmt='g', linewidths=.5, yticklabels=label_list,xticklabels=label_list)"
   ]
  },
  {
   "cell_type": "code",
   "execution_count": 13,
   "metadata": {
    "slideshow": {
     "slide_type": "skip"
    }
   },
   "outputs": [],
   "source": [
    "K.clear_session()"
   ]
  }
 ],
 "metadata": {
  "celltoolbar": "Slideshow",
  "kernelspec": {
   "display_name": "Python 2",
   "language": "python",
   "name": "python2"
  },
  "language_info": {
   "codemirror_mode": {
    "name": "ipython",
    "version": 2
   },
   "file_extension": ".py",
   "mimetype": "text/x-python",
   "name": "python",
   "nbconvert_exporter": "python",
   "pygments_lexer": "ipython2",
   "version": "2.7.12"
  }
 },
 "nbformat": 4,
 "nbformat_minor": 2
}
