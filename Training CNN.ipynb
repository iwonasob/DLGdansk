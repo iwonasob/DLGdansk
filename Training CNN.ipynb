{
 "cells": [
  {
   "cell_type": "markdown",
   "metadata": {
    "slideshow": {
     "slide_type": "slide"
    }
   },
   "source": [
    "## Stacked Convolutional and Recurrent Neural Networks for Audio Classification"
   ]
  },
  {
   "cell_type": "markdown",
   "metadata": {
    "slideshow": {
     "slide_type": "slide"
    }
   },
   "source": [
    "<img style=\"float:center\" width=200 src=\"figures/CRNN_tampere.png\">"
   ]
  },
  {
   "cell_type": "markdown",
   "metadata": {
    "slideshow": {
     "slide_type": "slide"
    }
   },
   "source": [
    "## Convolutional Neural Networks"
   ]
  },
  {
   "cell_type": "code",
   "execution_count": 1,
   "metadata": {
    "slideshow": {
     "slide_type": "slide"
    }
   },
   "outputs": [],
   "source": [
    "# FIX ALL THE RANDOM VALUES TO GET REPRODUCIBLE RESULTS\n",
    "import os\n",
    "os.environ[\"PYTHONHASHSEED\"] = \"0\"\n",
    "\n",
    "import random as rn\n",
    "rn.seed(1254)\n",
    "\n",
    "import numpy as np\n",
    "np.random.seed(1515)\n",
    "\n",
    "# SET NICE PLOTTING\n",
    "%matplotlib inline\n",
    "import seaborn as sns\n",
    "import matplotlib.pyplot as plt\n",
    "\n",
    "import h5py\n",
    "import pickle"
   ]
  },
  {
   "cell_type": "code",
   "execution_count": 2,
   "metadata": {
    "slideshow": {
     "slide_type": "-"
    }
   },
   "outputs": [],
   "source": [
    "plt.rcParams['figure.figsize'] = (14, 6)"
   ]
  },
  {
   "cell_type": "code",
   "execution_count": 3,
   "metadata": {
    "slideshow": {
     "slide_type": "subslide"
    }
   },
   "outputs": [
    {
     "name": "stderr",
     "output_type": "stream",
     "text": [
      "Using TensorFlow backend.\n"
     ]
    }
   ],
   "source": [
    "os.environ[\"CUDA_DEVICE_ORDER\"] = \"PCI_BUS_ID\"   \n",
    "os.environ[\"CUDA_VISIBLE_DEVICES\"] = \"4\"\n",
    "\n",
    "import tensorflow as tf\n",
    "tf.set_random_seed(2)\n",
    "\n",
    "config = tf.ConfigProto(\n",
    "    intra_op_parallelism_threads=1,\n",
    "    inter_op_parallelism_threads=1 \n",
    ")\n",
    "\n",
    "config.gpu_options.allow_growth = True  # dynamically grow the memory used on the GPU\n",
    "sess = tf.Session(graph= tf.get_default_graph(), config=config) \n",
    "    \n",
    "import keras \n",
    "from keras import backend as K\n",
    "K.set_session(sess)  # set this TensorFlow session as the default session for Keras\n",
    "\n",
    "from keras.layers import Input, Conv2D, MaxPooling2D\n",
    "from keras.layers import Dense, Flatten\n",
    "from keras.layers.core import Dropout\n",
    "from keras.models import Model\n",
    "from keras.layers.normalization import BatchNormalization\n",
    "from keras.regularizers import l2\n",
    "from keras.callbacks import EarlyStopping, ModelCheckpoint"
   ]
  },
  {
   "cell_type": "code",
   "execution_count": 4,
   "metadata": {
    "slideshow": {
     "slide_type": "subslide"
    }
   },
   "outputs": [],
   "source": [
    "#SET PATHS\n",
    "workspace = '/home/speakers/isobieraj/workspace'\n",
    "\n",
    "hdf5_path = os.path.join(workspace,'dataset.hdf5') \n",
    "scalerpath = os.path.join(workspace,'scaler.pkl')\n",
    "\n",
    "modelfolder = os.path.join(workspace,'models')\n",
    "if not os.path.isdir(modelfolder):\n",
    "    os.makedirs(modelfolder)"
   ]
  },
  {
   "cell_type": "code",
   "execution_count": 5,
   "metadata": {
    "slideshow": {
     "slide_type": "slide"
    }
   },
   "outputs": [],
   "source": [
    "# LOAD DATA\n",
    "hf = h5py.File(hdf5_path, 'r')\n",
    "X_train = np.array(hf.get('X_train') )\n",
    "y_train = np.array(hf.get('y_train'))\n",
    "X_val =  np.array(hf.get('X_val'))\n",
    "y_val= np.array(hf.get('y_val'))\n",
    "X_test = np.array(hf.get('X_test'))\n",
    "y_test = np.array(hf.get('y_test'))\n",
    "\n",
    "n_features= hf.get('n_features').value\n",
    "n_frames=hf.get('max_length_samp').value\n",
    "label_list= hf.get('label_list').value"
   ]
  },
  {
   "cell_type": "code",
   "execution_count": 6,
   "metadata": {
    "slideshow": {
     "slide_type": "subslide"
    }
   },
   "outputs": [],
   "source": [
    "# SCALE THE DATA\n",
    "with open(scalerpath, 'rb') as f:\n",
    "    scaler = pickle.load(f, encoding='latin1') \n",
    "\n",
    "#scaler=pickle.load(open(scalerpath, 'rb'))\n",
    "\n",
    "X_train_scaled = [scaler.transform(x.T) for x in X_train]\n",
    "X_val_scaled = [scaler.transform(x.T) for x in X_val]\n",
    "X_test_scaled = [scaler.transform(x.T) for x in X_test]\n",
    "\n",
    "# CHANGE DIMENSION TO FIT KERAS\n",
    "X_train = np.expand_dims(X_train_scaled, 3)\n",
    "X_val = np.expand_dims(X_val_scaled, 3)\n",
    "X_test = np.expand_dims(X_test_scaled, 3)"
   ]
  },
  {
   "cell_type": "code",
   "execution_count": 7,
   "metadata": {
    "slideshow": {
     "slide_type": "slide"
    }
   },
   "outputs": [],
   "source": [
    "def build_cnn(n_frames=n_frames, n_features=n_features,  n_filters_cnn=48,\n",
    "                     filter_size_cnn=(3, 3), pool_size=(2,2),\n",
    "                     n_classes=10):\n",
    "\n",
    "    # INPUT\n",
    "    x = Input(shape=(n_frames, n_features,  1), dtype='float32')\n",
    "\n",
    "    # CONV 1\n",
    "    y = Conv2D(n_filters_cnn, filter_size_cnn, padding='valid', \n",
    "               kernel_regularizer=l2(0.01), activation='relu')(x)\n",
    "    y = MaxPooling2D(pool_size=pool_size, strides=None, padding='valid')(y)\n",
    "    y = BatchNormalization()(y)\n",
    "    \n",
    "    y = Dropout(0.5)(y)\n",
    "    # CONV 2\n",
    "    y = Conv2D(n_filters_cnn, filter_size_cnn, padding='valid',\n",
    "               kernel_regularizer=l2(0.01), activation='relu')(y)\n",
    "    y = MaxPooling2D(pool_size=pool_size, strides=None, padding='valid')(y)\n",
    "    y = BatchNormalization()(y)\n",
    "    \n",
    "    y = Dropout(0.5)(y)\n",
    "    # CONV 3\n",
    "    y = Conv2D(n_filters_cnn, filter_size_cnn, padding='valid',\n",
    "               kernel_regularizer=l2(0.01), activation='relu')(y)\n",
    "    y = MaxPooling2D(pool_size=pool_size, strides=None, padding='valid')(y)\n",
    "    y = BatchNormalization()(y)\n",
    "\n",
    "    # Flatten for dense layers\n",
    "    y = Flatten()(y)\n",
    "\n",
    "    y = Dropout(0.5)(y)\n",
    "    y = Dense(n_classes, activation='softmax')(y)\n",
    "\n",
    "    m = Model(inputs=x, outputs=y)\n",
    "    return m"
   ]
  },
  {
   "cell_type": "code",
   "execution_count": 8,
   "metadata": {
    "slideshow": {
     "slide_type": "slide"
    }
   },
   "outputs": [
    {
     "name": "stdout",
     "output_type": "stream",
     "text": [
      "_________________________________________________________________\n",
      "Layer (type)                 Output Shape              Param #   \n",
      "=================================================================\n",
      "input_1 (InputLayer)         (None, 173, 40, 1)        0         \n",
      "_________________________________________________________________\n",
      "conv2d_1 (Conv2D)            (None, 171, 38, 48)       480       \n",
      "_________________________________________________________________\n",
      "max_pooling2d_1 (MaxPooling2 (None, 85, 19, 48)        0         \n",
      "_________________________________________________________________\n",
      "batch_normalization_1 (Batch (None, 85, 19, 48)        192       \n",
      "_________________________________________________________________\n",
      "dropout_1 (Dropout)          (None, 85, 19, 48)        0         \n",
      "_________________________________________________________________\n",
      "conv2d_2 (Conv2D)            (None, 83, 17, 48)        20784     \n",
      "_________________________________________________________________\n",
      "max_pooling2d_2 (MaxPooling2 (None, 41, 8, 48)         0         \n",
      "_________________________________________________________________\n",
      "batch_normalization_2 (Batch (None, 41, 8, 48)         192       \n",
      "_________________________________________________________________\n",
      "dropout_2 (Dropout)          (None, 41, 8, 48)         0         \n",
      "_________________________________________________________________\n",
      "conv2d_3 (Conv2D)            (None, 39, 6, 48)         20784     \n",
      "_________________________________________________________________\n",
      "max_pooling2d_3 (MaxPooling2 (None, 19, 3, 48)         0         \n",
      "_________________________________________________________________\n",
      "batch_normalization_3 (Batch (None, 19, 3, 48)         192       \n",
      "_________________________________________________________________\n",
      "flatten_1 (Flatten)          (None, 2736)              0         \n",
      "_________________________________________________________________\n",
      "dropout_3 (Dropout)          (None, 2736)              0         \n",
      "_________________________________________________________________\n",
      "dense_1 (Dense)              (None, 10)                27370     \n",
      "=================================================================\n",
      "Total params: 69,994\n",
      "Trainable params: 69,706\n",
      "Non-trainable params: 288\n",
      "_________________________________________________________________\n"
     ]
    }
   ],
   "source": [
    "m = build_cnn(n_features=40,)\n",
    "m.summary()"
   ]
  },
  {
   "cell_type": "code",
   "execution_count": 9,
   "metadata": {
    "slideshow": {
     "slide_type": "skip"
    }
   },
   "outputs": [],
   "source": [
    "from keras.utils import plot_model\n",
    "plot_model(m, to_file='figures/cnn_model_shape.png', show_shapes=True)"
   ]
  },
  {
   "cell_type": "markdown",
   "metadata": {
    "slideshow": {
     "slide_type": "subslide"
    }
   },
   "source": [
    "<img width = 300 src='figures/cnn_model_shape.png'>"
   ]
  },
  {
   "cell_type": "code",
   "execution_count": 10,
   "metadata": {
    "slideshow": {
     "slide_type": "slide"
    }
   },
   "outputs": [],
   "source": [
    "adam= keras.optimizers.Adam(lr=0.001, decay=1e-5)\n",
    "m.compile(loss='categorical_crossentropy', optimizer=adam, metrics=['accuracy'])"
   ]
  },
  {
   "cell_type": "code",
   "execution_count": null,
   "metadata": {
    "slideshow": {
     "slide_type": "subslide"
    }
   },
   "outputs": [],
   "source": [
    "model_checkpoint = ModelCheckpoint(\n",
    "                 os.path.join(modelfolder, \n",
    "                        'cnn_epoch_{epoch:03d}_val_loss_{val_loss:.4f}.hdf5'),\n",
    "                 monitor='val_loss', \n",
    "                 save_best_only=True)\n",
    "\n",
    "early_stopping = EarlyStopping(monitor='val_loss', patience=50, verbose=1)\n",
    "callbacks = [early_stopping, model_checkpoint]"
   ]
  },
  {
   "cell_type": "code",
   "execution_count": null,
   "metadata": {
    "slideshow": {
     "slide_type": "subslide"
    }
   },
   "outputs": [
    {
     "name": "stdout",
     "output_type": "stream",
     "text": [
      "Train on 7079 samples, validate on 816 samples\n",
      "Epoch 1/200\n",
      "7079/7079 [==============================] - 151s 21ms/step - loss: 3.1886 - acc: 0.3296 - val_loss: 3.7149 - val_acc: 0.3002\n",
      "Epoch 2/200\n",
      "7079/7079 [==============================] - 155s 22ms/step - loss: 2.4271 - acc: 0.4909 - val_loss: 2.9615 - val_acc: 0.4081\n",
      "Epoch 3/200\n",
      "7079/7079 [==============================] - 161s 23ms/step - loss: 2.0977 - acc: 0.5728 - val_loss: 2.3600 - val_acc: 0.5502\n",
      "Epoch 4/200\n",
      "7079/7079 [==============================] - 162s 23ms/step - loss: 1.8078 - acc: 0.6436 - val_loss: 2.0328 - val_acc: 0.5797\n",
      "Epoch 5/200\n",
      "7079/7079 [==============================] - 160s 23ms/step - loss: 1.6279 - acc: 0.6723 - val_loss: 2.0007 - val_acc: 0.6152\n",
      "Epoch 6/200\n",
      "7079/7079 [==============================] - 160s 23ms/step - loss: 1.4413 - acc: 0.7210 - val_loss: 1.9643 - val_acc: 0.6005\n",
      "Epoch 7/200\n",
      "7079/7079 [==============================] - 160s 23ms/step - loss: 1.2983 - acc: 0.7453 - val_loss: 1.9196 - val_acc: 0.5833\n",
      "Epoch 8/200\n",
      "7079/7079 [==============================] - 160s 23ms/step - loss: 1.1754 - acc: 0.7668 - val_loss: 2.0437 - val_acc: 0.5441\n",
      "Epoch 9/200\n",
      "7079/7079 [==============================] - 235s 33ms/step - loss: 1.0459 - acc: 0.7885 - val_loss: 1.8276 - val_acc: 0.6250\n",
      "Epoch 10/200\n",
      "7079/7079 [==============================] - 193s 27ms/step - loss: 0.9698 - acc: 0.8044 - val_loss: 1.6904 - val_acc: 0.6434\n",
      "Epoch 11/200\n",
      "7079/7079 [==============================] - 238s 34ms/step - loss: 0.9138 - acc: 0.8113 - val_loss: 2.0346 - val_acc: 0.5625\n",
      "Epoch 12/200\n",
      "7079/7079 [==============================] - 267s 38ms/step - loss: 0.8441 - acc: 0.8271 - val_loss: 2.1266 - val_acc: 0.5674\n",
      "Epoch 13/200\n",
      "7079/7079 [==============================] - 163s 23ms/step - loss: 0.7878 - acc: 0.8238 - val_loss: 1.7881 - val_acc: 0.6348\n",
      "Epoch 14/200\n",
      "7079/7079 [==============================] - 164s 23ms/step - loss: 0.7242 - acc: 0.8455 - val_loss: 2.3901 - val_acc: 0.5208\n",
      "Epoch 15/200\n",
      "7079/7079 [==============================] - 163s 23ms/step - loss: 0.6971 - acc: 0.8545 - val_loss: 1.9919 - val_acc: 0.6005\n",
      "Epoch 16/200\n",
      "7079/7079 [==============================] - 164s 23ms/step - loss: 0.6335 - acc: 0.8620 - val_loss: 2.3174 - val_acc: 0.5392\n",
      "Epoch 17/200\n",
      "7079/7079 [==============================] - 270s 38ms/step - loss: 0.6062 - acc: 0.8651 - val_loss: 1.7865 - val_acc: 0.6507\n",
      "Epoch 18/200\n",
      "7079/7079 [==============================] - 159s 22ms/step - loss: 0.5689 - acc: 0.8782 - val_loss: 1.8176 - val_acc: 0.6581\n",
      "Epoch 19/200\n",
      "7079/7079 [==============================] - 160s 23ms/step - loss: 0.5394 - acc: 0.8877 - val_loss: 1.6334 - val_acc: 0.6740\n",
      "Epoch 20/200\n",
      "7079/7079 [==============================] - 159s 23ms/step - loss: 0.5382 - acc: 0.8816 - val_loss: 1.5360 - val_acc: 0.6740\n",
      "Epoch 21/200\n",
      "7079/7079 [==============================] - 160s 23ms/step - loss: 0.5404 - acc: 0.8818 - val_loss: 1.6522 - val_acc: 0.6507\n",
      "Epoch 22/200\n",
      "7020/7079 [============================>.] - ETA: 1s - loss: 0.5253 - acc: 0.8833"
     ]
    }
   ],
   "source": [
    "history = m.fit(x=X_train, y=y_train, batch_size=130,\n",
    "                    epochs=200, verbose=True,\n",
    "                    validation_split=0.0,                \n",
    "                    callbacks=callbacks,\n",
    "                    validation_data=(X_val, y_val), shuffle=True)"
   ]
  },
  {
   "cell_type": "code",
   "execution_count": null,
   "metadata": {
    "slideshow": {
     "slide_type": "subslide"
    }
   },
   "outputs": [],
   "source": [
    "plt.subplot(1,2,1)\n",
    "plt.plot(history.history['acc'], label='Accuracy')\n",
    "plt.plot(history.history['val_acc'], label='Validation accuracy')\n",
    "plt.legend()\n",
    "plt.xlabel('Epochs')\n",
    "plt.ylabel('Accuracy')\n",
    "\n",
    "plt.subplot(1,2,2)\n",
    "plt.plot(history.history['loss'], label='Loss')\n",
    "plt.plot(history.history['val_loss'], label='Validation loss')\n",
    "plt.legend()\n",
    "plt.xlabel('Epochs')\n",
    "plt.ylabel('Loss')"
   ]
  },
  {
   "cell_type": "code",
   "execution_count": null,
   "metadata": {
    "slideshow": {
     "slide_type": "slide"
    }
   },
   "outputs": [],
   "source": [
    "prediction = m.predict(X_test, batch_size=130, verbose=1)\n",
    "y_predict=np.array([ np.argmax(p) for p in prediction])\n",
    "y_test_label = np.array([np.argmax(y) for y in y_test])"
   ]
  },
  {
   "cell_type": "code",
   "execution_count": null,
   "metadata": {
    "slideshow": {
     "slide_type": "subslide"
    }
   },
   "outputs": [],
   "source": [
    "from sklearn.metrics import confusion_matrix\n",
    "acc = np.sum(y_test_label==y_predict) / float(len(y_test_label))\n",
    "print('Accuracy: {:.2f}'.format(acc))\n",
    "\n",
    "cm = confusion_matrix(y_test_label, y_predict )\n",
    "sns.heatmap(cm, annot=True, annot_kws={\"size\": 14}, fmt='g', linewidths=.5, \n",
    "            yticklabels=label_list,xticklabels=label_list)\n",
    "plt.ylabel('True label')\n",
    "plt.xlabel('Predicted label')"
   ]
  }
 ],
 "metadata": {
  "celltoolbar": "Slideshow",
  "kernelspec": {
   "display_name": "Python 3",
   "language": "python",
   "name": "python3"
  },
  "language_info": {
   "codemirror_mode": {
    "name": "ipython",
    "version": 3
   },
   "file_extension": ".py",
   "mimetype": "text/x-python",
   "name": "python",
   "nbconvert_exporter": "python",
   "pygments_lexer": "ipython3",
   "version": "3.6.3"
  }
 },
 "nbformat": 4,
 "nbformat_minor": 2
}
