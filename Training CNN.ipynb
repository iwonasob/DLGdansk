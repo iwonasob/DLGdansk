{
 "cells": [
  {
   "cell_type": "code",
   "execution_count": 1,
   "metadata": {},
   "outputs": [],
   "source": [
    "import os\n",
    "os.environ[\"PYTHONHASHSEED\"] = \"0\"\n",
    "\n",
    "import random as rn\n",
    "rn.seed(1254)\n",
    "\n",
    "import numpy as np\n",
    "np.random.seed(1515)\n",
    "\n",
    "%matplotlib inline\n",
    "import seaborn as sns\n",
    "import matplotlib.pyplot as plt\n",
    "plt.rcParams['figure.figsize'] = (14, 6)\n",
    "\n",
    "import librosa, librosa.display, IPython.display as ipd\n",
    "from tqdm import tqdm\n",
    "import glob\n",
    "import pandas as pd\n",
    "import h5py\n",
    "from sklearn import preprocessing\n",
    "import pickle"
   ]
  },
  {
   "cell_type": "code",
   "execution_count": 2,
   "metadata": {},
   "outputs": [
    {
     "name": "stderr",
     "output_type": "stream",
     "text": [
      "Using TensorFlow backend.\n"
     ]
    }
   ],
   "source": [
    "os.environ[\"CUDA_DEVICE_ORDER\"] = \"PCI_BUS_ID\"   \n",
    "os.environ[\"CUDA_VISIBLE_DEVICES\"] = \"2\"\n",
    "\n",
    "import tensorflow as tf\n",
    "tf.set_random_seed(2)\n",
    "\n",
    "config = tf.ConfigProto(\n",
    "    intra_op_parallelism_threads=1,\n",
    "    inter_op_parallelism_threads=1 \n",
    ")\n",
    "\n",
    "config.gpu_options.allow_growth = True  # dynamically grow the memory used on the GPU\n",
    "sess = tf.Session(graph= tf.get_default_graph(), config=config) \n",
    "    \n",
    "import keras \n",
    "from keras import backend as K\n",
    "K.set_session(sess)  # set this TensorFlow session as the default session for Keras\n",
    "\n",
    "from keras.layers import Input, Conv2D, MaxPooling2D, LSTM\n",
    "from keras.layers import Dense, Flatten\n",
    "from keras.layers.core import Dropout\n",
    "from keras.models import Model\n",
    "from keras.layers.normalization import BatchNormalization\n",
    "from keras.regularizers import l2\n",
    "from keras.callbacks import EarlyStopping, ModelCheckpoint"
   ]
  },
  {
   "cell_type": "code",
   "execution_count": 3,
   "metadata": {},
   "outputs": [],
   "source": [
    "#SET PATHS\n",
    "dataspace = '/vol/vssp/datasets/audio01/UrbanSound8K/audio/'\n",
    "projectspace = '/vol/vssp/AcousticEventsDetection/DLGdansk/UrbanSound/'\n",
    "\n",
    "metadatafile = '/vol/vssp/datasets/audio01/UrbanSound8K/metadata/UrbanSound8K.csv'\n",
    "metadata = pd.read_csv(metadatafile)\n",
    "\n",
    "hdf5_path = os.path.join(projectspace,'dataset.hdf5') \n",
    "modelfolder = os.path.join(projectspace,'models')\n",
    "scalerpath = os.path.join(projectspace,'scaler.pkl')"
   ]
  },
  {
   "cell_type": "code",
   "execution_count": 4,
   "metadata": {},
   "outputs": [],
   "source": [
    "# LOAD DATA\n",
    "hf = h5py.File(hdf5_path, 'r')\n",
    "X_train = np.array(hf.get('X_train') )\n",
    "y_train = np.array(hf.get('y_train'))\n",
    "X_val =  np.array(hf.get('X_val'))\n",
    "y_val= np.array(hf.get('y_val'))\n",
    "X_test = np.array(hf.get('X_test'))\n",
    "y_test = np.array(hf.get('y_test'))\n",
    "\n",
    "n_features= hf.get('n_features').value\n",
    "n_frames=hf.get('max_length_samp').value\n",
    "label_list= hf.get('label_list').value"
   ]
  },
  {
   "cell_type": "code",
   "execution_count": 5,
   "metadata": {},
   "outputs": [],
   "source": [
    "# SCALE THE DATA\n",
    "scaler=pickle.load(open(scalerpath, 'rb'))\n",
    "\n",
    "X_train_scaled = [scaler.transform(x.T) for x in X_train]\n",
    "X_val_scaled = [scaler.transform(x.T) for x in X_val]\n",
    "X_test_scaled = [scaler.transform(x.T) for x in X_test]\n",
    "\n",
    "# CHANGE DIMENSION TO FIT KERAS\n",
    "X_train = np.expand_dims(X_train_scaled, 3)\n",
    "X_val = np.expand_dims(X_val_scaled, 3)\n",
    "X_test = np.expand_dims(X_test_scaled, 3)"
   ]
  },
  {
   "cell_type": "code",
   "execution_count": 6,
   "metadata": {},
   "outputs": [],
   "source": [
    "def build_cnn(n_frames=n_frames, n_features=n_features,  n_filters_cnn=48,\n",
    "                     filter_size_cnn=(3, 3), pool_size_cnn=(2,2),\n",
    "                     n_classes=10):\n",
    "\n",
    "    # INPUT\n",
    "    x = Input(shape=(n_frames, n_features,  1), dtype='float32')\n",
    "\n",
    "    # CONV 1\n",
    "    y = Conv2D(n_filters_cnn, filter_size_cnn, padding='valid', kernel_regularizer=l2(0.01),\n",
    "               activation='relu')(x)\n",
    "    y = MaxPooling2D(pool_size=pool_size_cnn, strides=None, padding='valid')(y)\n",
    "    y = BatchNormalization()(y)\n",
    "\n",
    "    # CONV 2\n",
    "    y = Conv2D(n_filters_cnn, filter_size_cnn, padding='valid',kernel_regularizer=l2(0.01),\n",
    "               activation='relu')(y)\n",
    "    y = MaxPooling2D(pool_size=pool_size_cnn, strides=None, padding='valid')(y)\n",
    "    y = BatchNormalization()(y)\n",
    "\n",
    "    # CONV 3\n",
    "    y = Conv2D(n_filters_cnn, filter_size_cnn, padding='valid',kernel_regularizer=l2(0.01),\n",
    "               activation='relu')(y)\n",
    "    y = MaxPooling2D(pool_size=pool_size_cnn, strides=None, padding='valid')(y)\n",
    "    y = BatchNormalization()(y)\n",
    "\n",
    "    # Flatten for dense layers\n",
    "    y = Flatten()(y)\n",
    "    #y = Dropout(0.5)(y)\n",
    "    #y = Dense(n_dense_cnn, activation='relu')(y)\n",
    "\n",
    "    y = Dropout(0.5)(y)\n",
    "    y = Dense(n_classes, activation='sigmoid')(y)\n",
    "\n",
    "    m = Model(inputs=x, outputs=y)\n",
    "    return m"
   ]
  },
  {
   "cell_type": "code",
   "execution_count": 7,
   "metadata": {},
   "outputs": [
    {
     "name": "stdout",
     "output_type": "stream",
     "text": [
      "_________________________________________________________________\n",
      "Layer (type)                 Output Shape              Param #   \n",
      "=================================================================\n",
      "input_1 (InputLayer)         (None, 173, 40, 1)        0         \n",
      "_________________________________________________________________\n",
      "conv2d_1 (Conv2D)            (None, 171, 38, 48)       480       \n",
      "_________________________________________________________________\n",
      "max_pooling2d_1 (MaxPooling2 (None, 85, 19, 48)        0         \n",
      "_________________________________________________________________\n",
      "batch_normalization_1 (Batch (None, 85, 19, 48)        192       \n",
      "_________________________________________________________________\n",
      "conv2d_2 (Conv2D)            (None, 83, 17, 48)        20784     \n",
      "_________________________________________________________________\n",
      "max_pooling2d_2 (MaxPooling2 (None, 41, 8, 48)         0         \n",
      "_________________________________________________________________\n",
      "batch_normalization_2 (Batch (None, 41, 8, 48)         192       \n",
      "_________________________________________________________________\n",
      "conv2d_3 (Conv2D)            (None, 39, 6, 48)         20784     \n",
      "_________________________________________________________________\n",
      "max_pooling2d_3 (MaxPooling2 (None, 19, 3, 48)         0         \n",
      "_________________________________________________________________\n",
      "batch_normalization_3 (Batch (None, 19, 3, 48)         192       \n",
      "_________________________________________________________________\n",
      "flatten_1 (Flatten)          (None, 2736)              0         \n",
      "_________________________________________________________________\n",
      "dropout_1 (Dropout)          (None, 2736)              0         \n",
      "_________________________________________________________________\n",
      "dense_1 (Dense)              (None, 10)                27370     \n",
      "=================================================================\n",
      "Total params: 69,994\n",
      "Trainable params: 69,706\n",
      "Non-trainable params: 288\n",
      "_________________________________________________________________\n"
     ]
    }
   ],
   "source": [
    "m = build_cnn(n_features=40,)\n",
    "m.summary()"
   ]
  },
  {
   "cell_type": "code",
   "execution_count": 8,
   "metadata": {},
   "outputs": [],
   "source": [
    "m.compile(loss='categorical_crossentropy', optimizer='adam', metrics=['accuracy'])"
   ]
  },
  {
   "cell_type": "code",
   "execution_count": 9,
   "metadata": {},
   "outputs": [
    {
     "name": "stdout",
     "output_type": "stream",
     "text": [
      "Train on 7079 samples, validate on 816 samples\n",
      "Epoch 1/200\n",
      "7079/7079 [==============================] - 6s 912us/step - loss: 2.6080 - acc: 0.3636 - val_loss: 2.9488 - val_acc: 0.1740\n",
      "Epoch 2/200\n",
      "7079/7079 [==============================] - 4s 497us/step - loss: 1.9723 - acc: 0.5256 - val_loss: 3.1287 - val_acc: 0.1017\n",
      "Epoch 3/200\n",
      "7079/7079 [==============================] - 3s 432us/step - loss: 1.5615 - acc: 0.6579 - val_loss: 2.9963 - val_acc: 0.1949\n",
      "Epoch 4/200\n",
      "7079/7079 [==============================] - 4s 501us/step - loss: 1.2755 - acc: 0.7336 - val_loss: 3.3992 - val_acc: 0.1042\n",
      "Epoch 5/200\n",
      "7079/7079 [==============================] - 4s 500us/step - loss: 1.0716 - acc: 0.7914 - val_loss: 3.0726 - val_acc: 0.2610\n",
      "Epoch 6/200\n",
      "7079/7079 [==============================] - 3s 461us/step - loss: 0.9437 - acc: 0.8161 - val_loss: 3.1279 - val_acc: 0.3174\n",
      "Epoch 7/200\n",
      "7079/7079 [==============================] - 3s 465us/step - loss: 0.8134 - acc: 0.8476 - val_loss: 2.4940 - val_acc: 0.3664\n",
      "Epoch 8/200\n",
      "7079/7079 [==============================] - 3s 470us/step - loss: 0.7211 - acc: 0.8675 - val_loss: 2.6995 - val_acc: 0.4142\n",
      "Epoch 9/200\n",
      "7079/7079 [==============================] - 4s 496us/step - loss: 0.6748 - acc: 0.8774 - val_loss: 2.1870 - val_acc: 0.5135\n",
      "Epoch 10/200\n",
      "7079/7079 [==============================] - 3s 452us/step - loss: 0.5942 - acc: 0.8956 - val_loss: 1.9917 - val_acc: 0.5637\n",
      "Epoch 11/200\n",
      "7079/7079 [==============================] - 3s 490us/step - loss: 0.5901 - acc: 0.8863 - val_loss: 1.7419 - val_acc: 0.6446\n",
      "Epoch 12/200\n",
      "7079/7079 [==============================] - 3s 482us/step - loss: 0.5166 - acc: 0.9104 - val_loss: 1.5569 - val_acc: 0.7010\n",
      "Epoch 13/200\n",
      "7079/7079 [==============================] - 3s 469us/step - loss: 0.4785 - acc: 0.9123 - val_loss: 1.6522 - val_acc: 0.7071\n",
      "Epoch 14/200\n",
      "7079/7079 [==============================] - 3s 428us/step - loss: 0.4495 - acc: 0.9198 - val_loss: 1.7768 - val_acc: 0.7304\n",
      "Epoch 15/200\n",
      "7079/7079 [==============================] - 3s 472us/step - loss: 0.4496 - acc: 0.9195 - val_loss: 1.6490 - val_acc: 0.7463\n",
      "Epoch 16/200\n",
      "7079/7079 [==============================] - 3s 476us/step - loss: 0.4191 - acc: 0.9217 - val_loss: 1.5989 - val_acc: 0.7377\n",
      "Epoch 17/200\n",
      "7079/7079 [==============================] - 3s 437us/step - loss: 0.4218 - acc: 0.9199 - val_loss: 1.8633 - val_acc: 0.7341\n",
      "Epoch 18/200\n",
      "7079/7079 [==============================] - 3s 452us/step - loss: 0.3798 - acc: 0.9329 - val_loss: 1.6298 - val_acc: 0.7659\n",
      "Epoch 19/200\n",
      "7079/7079 [==============================] - 3s 461us/step - loss: 0.3696 - acc: 0.9347 - val_loss: 1.7196 - val_acc: 0.7451\n",
      "Epoch 20/200\n",
      "7079/7079 [==============================] - 3s 473us/step - loss: 0.3663 - acc: 0.9354 - val_loss: 1.7237 - val_acc: 0.7623\n",
      "Epoch 21/200\n",
      "7079/7079 [==============================] - 3s 420us/step - loss: 0.3496 - acc: 0.9404 - val_loss: 1.6830 - val_acc: 0.7157\n",
      "Epoch 22/200\n",
      "7079/7079 [==============================] - 3s 441us/step - loss: 0.3371 - acc: 0.9439 - val_loss: 1.6922 - val_acc: 0.7610\n",
      "Epoch 23/200\n",
      "7079/7079 [==============================] - 3s 484us/step - loss: 0.3061 - acc: 0.9521 - val_loss: 1.6282 - val_acc: 0.7512\n",
      "Epoch 24/200\n",
      "7079/7079 [==============================] - 3s 474us/step - loss: 0.2992 - acc: 0.9544 - val_loss: 2.0278 - val_acc: 0.7414\n",
      "Epoch 25/200\n",
      "7079/7079 [==============================] - 3s 429us/step - loss: 0.3027 - acc: 0.9500 - val_loss: 2.1188 - val_acc: 0.7439\n",
      "Epoch 26/200\n",
      "7079/7079 [==============================] - 3s 460us/step - loss: 0.3016 - acc: 0.9514 - val_loss: 1.9118 - val_acc: 0.7243\n",
      "Epoch 27/200\n",
      "7079/7079 [==============================] - 3s 472us/step - loss: 0.3174 - acc: 0.9459 - val_loss: 1.7749 - val_acc: 0.7586\n",
      "Epoch 28/200\n",
      "7079/7079 [==============================] - 3s 475us/step - loss: 0.3188 - acc: 0.9435 - val_loss: 1.5525 - val_acc: 0.7623\n",
      "Epoch 29/200\n",
      "7079/7079 [==============================] - 3s 444us/step - loss: 0.3035 - acc: 0.9537 - val_loss: 1.9508 - val_acc: 0.6801\n",
      "Epoch 30/200\n",
      "7079/7079 [==============================] - 3s 493us/step - loss: 0.3110 - acc: 0.9491 - val_loss: 1.9215 - val_acc: 0.7243\n",
      "Epoch 31/200\n",
      "7079/7079 [==============================] - 4s 497us/step - loss: 0.2904 - acc: 0.9588 - val_loss: 1.9099 - val_acc: 0.7488\n",
      "Epoch 32/200\n",
      "7079/7079 [==============================] - 3s 445us/step - loss: 0.2694 - acc: 0.9597 - val_loss: 1.8023 - val_acc: 0.7243\n",
      "Epoch 33/200\n",
      "7079/7079 [==============================] - 3s 471us/step - loss: 0.2708 - acc: 0.9596 - val_loss: 1.7826 - val_acc: 0.7218\n",
      "Epoch 34/200\n",
      "7079/7079 [==============================] - 3s 480us/step - loss: 0.2919 - acc: 0.9559 - val_loss: 2.0203 - val_acc: 0.6973\n",
      "Epoch 35/200\n",
      "7079/7079 [==============================] - 3s 469us/step - loss: 0.2804 - acc: 0.9588 - val_loss: 1.8794 - val_acc: 0.7328\n",
      "Epoch 36/200\n",
      "7079/7079 [==============================] - 3s 426us/step - loss: 0.2900 - acc: 0.9576 - val_loss: 2.0408 - val_acc: 0.7181\n",
      "Epoch 37/200\n",
      "7079/7079 [==============================] - 3s 489us/step - loss: 0.2676 - acc: 0.9620 - val_loss: 1.9803 - val_acc: 0.7328\n",
      "Epoch 38/200\n",
      "7079/7079 [==============================] - 3s 467us/step - loss: 0.2561 - acc: 0.9648 - val_loss: 1.9810 - val_acc: 0.7377\n",
      "Epoch 39/200\n",
      "7079/7079 [==============================] - 3s 479us/step - loss: 0.2704 - acc: 0.9630 - val_loss: 2.0115 - val_acc: 0.7145\n",
      "Epoch 40/200\n",
      "7079/7079 [==============================] - 3s 430us/step - loss: 0.2816 - acc: 0.9561 - val_loss: 2.0474 - val_acc: 0.7377\n",
      "Epoch 41/200\n",
      "7079/7079 [==============================] - 3s 491us/step - loss: 0.2730 - acc: 0.9582 - val_loss: 1.8796 - val_acc: 0.7475\n",
      "Epoch 42/200\n",
      "7079/7079 [==============================] - 4s 499us/step - loss: 0.2881 - acc: 0.9563 - val_loss: 1.9274 - val_acc: 0.7194\n",
      "Epoch 43/200\n",
      "7079/7079 [==============================] - 3s 460us/step - loss: 0.2598 - acc: 0.9648 - val_loss: 1.8922 - val_acc: 0.7218\n",
      "Epoch 44/200\n",
      "7079/7079 [==============================] - 3s 440us/step - loss: 0.2519 - acc: 0.9654 - val_loss: 2.0115 - val_acc: 0.7169\n",
      "Epoch 45/200\n",
      "7079/7079 [==============================] - 3s 493us/step - loss: 0.2543 - acc: 0.9643 - val_loss: 1.9459 - val_acc: 0.7096\n",
      "Epoch 46/200\n",
      "7079/7079 [==============================] - 3s 480us/step - loss: 0.2771 - acc: 0.9597 - val_loss: 2.1081 - val_acc: 0.7586\n",
      "Epoch 47/200\n",
      "7079/7079 [==============================] - 3s 455us/step - loss: 0.3101 - acc: 0.9511 - val_loss: 2.0829 - val_acc: 0.6985\n",
      "Epoch 48/200\n",
      "7079/7079 [==============================] - 3s 465us/step - loss: 0.2876 - acc: 0.9562 - val_loss: 2.3426 - val_acc: 0.7157\n",
      "Epoch 49/200\n",
      "7079/7079 [==============================] - 4s 496us/step - loss: 0.2903 - acc: 0.9578 - val_loss: 1.9983 - val_acc: 0.7304\n",
      "Epoch 50/200\n",
      "7079/7079 [==============================] - 3s 483us/step - loss: 0.2583 - acc: 0.9679 - val_loss: 1.9855 - val_acc: 0.7243\n",
      "Epoch 51/200\n",
      "7079/7079 [==============================] - 3s 448us/step - loss: 0.2430 - acc: 0.9720 - val_loss: 2.2211 - val_acc: 0.7157\n",
      "Epoch 52/200\n",
      "7079/7079 [==============================] - 3s 483us/step - loss: 0.2440 - acc: 0.9699 - val_loss: 2.0585 - val_acc: 0.7255\n",
      "Epoch 53/200\n",
      "7079/7079 [==============================] - 3s 484us/step - loss: 0.2454 - acc: 0.9645 - val_loss: 1.9090 - val_acc: 0.7439\n",
      "Epoch 54/200\n",
      "7079/7079 [==============================] - 3s 479us/step - loss: 0.2731 - acc: 0.9619 - val_loss: 2.3068 - val_acc: 0.7377\n",
      "Epoch 55/200\n",
      "7079/7079 [==============================] - 3s 446us/step - loss: 0.2467 - acc: 0.9654 - val_loss: 2.0938 - val_acc: 0.7230\n",
      "Epoch 56/200\n",
      "7079/7079 [==============================] - 3s 467us/step - loss: 0.2446 - acc: 0.9691 - val_loss: 2.2257 - val_acc: 0.7451\n",
      "Epoch 57/200\n",
      "7079/7079 [==============================] - 3s 469us/step - loss: 0.2645 - acc: 0.9613 - val_loss: 1.8354 - val_acc: 0.7243\n",
      "Epoch 58/200\n",
      "7079/7079 [==============================] - 3s 449us/step - loss: 0.2601 - acc: 0.9638 - val_loss: 2.1935 - val_acc: 0.7414\n",
      "Epoch 59/200\n",
      "7079/7079 [==============================] - 3s 471us/step - loss: 0.2573 - acc: 0.9660 - val_loss: 1.8247 - val_acc: 0.7659\n",
      "Epoch 60/200\n"
     ]
    },
    {
     "name": "stdout",
     "output_type": "stream",
     "text": [
      "7079/7079 [==============================] - 3s 494us/step - loss: 0.2522 - acc: 0.9661 - val_loss: 1.9070 - val_acc: 0.7684\n",
      "Epoch 61/200\n",
      "7079/7079 [==============================] - 3s 477us/step - loss: 0.2546 - acc: 0.9682 - val_loss: 2.0699 - val_acc: 0.7451\n",
      "Epoch 62/200\n",
      "7079/7079 [==============================] - 3s 427us/step - loss: 0.2463 - acc: 0.9674 - val_loss: 2.6728 - val_acc: 0.6961\n",
      "Epoch 63/200\n",
      "7079/7079 [==============================] - 3s 487us/step - loss: 0.2699 - acc: 0.9595 - val_loss: 1.9828 - val_acc: 0.7279\n",
      "Epoch 64/200\n",
      "7079/7079 [==============================] - 3s 461us/step - loss: 0.2579 - acc: 0.9655 - val_loss: 2.3828 - val_acc: 0.7267\n",
      "Epoch 65/200\n",
      "7079/7079 [==============================] - 3s 450us/step - loss: 0.2528 - acc: 0.9654 - val_loss: 1.9224 - val_acc: 0.7402\n",
      "Epoch 66/200\n",
      "7079/7079 [==============================] - 3s 430us/step - loss: 0.2577 - acc: 0.9644 - val_loss: 2.1874 - val_acc: 0.7304\n",
      "Epoch 67/200\n",
      "7079/7079 [==============================] - 3s 477us/step - loss: 0.2340 - acc: 0.9732 - val_loss: 2.3326 - val_acc: 0.7206\n",
      "Epoch 68/200\n",
      "7079/7079 [==============================] - 3s 474us/step - loss: 0.2406 - acc: 0.9705 - val_loss: 2.2813 - val_acc: 0.7279\n",
      "Epoch 69/200\n",
      "7079/7079 [==============================] - 3s 470us/step - loss: 0.2542 - acc: 0.9651 - val_loss: 1.9321 - val_acc: 0.7537\n",
      "Epoch 70/200\n",
      "7079/7079 [==============================] - 3s 423us/step - loss: 0.2604 - acc: 0.9654 - val_loss: 2.4397 - val_acc: 0.7316\n",
      "Epoch 71/200\n",
      "7079/7079 [==============================] - 3s 481us/step - loss: 0.2658 - acc: 0.9607 - val_loss: 2.4829 - val_acc: 0.6912\n",
      "Epoch 72/200\n",
      "7079/7079 [==============================] - 3s 477us/step - loss: 0.2406 - acc: 0.9719 - val_loss: 2.1362 - val_acc: 0.7157\n",
      "Epoch 73/200\n",
      "7079/7079 [==============================] - 3s 436us/step - loss: 0.2339 - acc: 0.9730 - val_loss: 2.2701 - val_acc: 0.7022\n",
      "Epoch 74/200\n",
      "7079/7079 [==============================] - 3s 454us/step - loss: 0.2362 - acc: 0.9709 - val_loss: 1.9456 - val_acc: 0.7610\n",
      "Epoch 75/200\n",
      "7079/7079 [==============================] - 3s 493us/step - loss: 0.2585 - acc: 0.9651 - val_loss: 2.1658 - val_acc: 0.7267\n",
      "Epoch 76/200\n",
      "7079/7079 [==============================] - 3s 471us/step - loss: 0.2513 - acc: 0.9644 - val_loss: 2.2726 - val_acc: 0.7377\n",
      "Epoch 77/200\n",
      "7079/7079 [==============================] - 3s 443us/step - loss: 0.2535 - acc: 0.9677 - val_loss: 2.0273 - val_acc: 0.7561\n",
      "Epoch 78/200\n",
      "7079/7079 [==============================] - 3s 474us/step - loss: 0.2312 - acc: 0.9739 - val_loss: 2.3985 - val_acc: 0.6936\n",
      "Epoch 00078: early stopping\n"
     ]
    }
   ],
   "source": [
    "model_checkpoint = ModelCheckpoint(\n",
    "    os.path.join(modelfolder, 'cnn_epoch_{epoch:03d}_val_loss_{val_loss:.4f}.hdf5'),\n",
    "    monitor='val_loss', save_best_only=True)\n",
    "early_stopping = EarlyStopping(monitor='val_loss', patience=50, verbose=1)\n",
    "callbacks = [early_stopping, model_checkpoint]\n",
    "\n",
    "history = m.fit(x=X_train, y=y_train, batch_size=130,\n",
    "                    epochs=200, verbose=True,\n",
    "                    validation_split=0.0,                \n",
    "                    callbacks=callbacks,\n",
    "                    validation_data=(X_val, y_val), shuffle=True)"
   ]
  },
  {
   "cell_type": "code",
   "execution_count": 10,
   "metadata": {},
   "outputs": [
    {
     "name": "stdout",
     "output_type": "stream",
     "text": [
      "837/837 [==============================] - 0s 486us/step\n"
     ]
    }
   ],
   "source": [
    "prediction = m.predict(X_test, batch_size=130, verbose=1)\n",
    "y_predict=np.array([ np.argmax(p) for p in prediction])\n",
    "y_test_label = np.array([np.argmax(y) for y in y_test])"
   ]
  },
  {
   "cell_type": "code",
   "execution_count": 11,
   "metadata": {},
   "outputs": [
    {
     "name": "stdout",
     "output_type": "stream",
     "text": [
      "Accuracy: 0.74\n"
     ]
    },
    {
     "data": {
      "text/plain": [
       "<matplotlib.axes._subplots.AxesSubplot at 0x7f8433c5ecd0>"
      ]
     },
     "execution_count": 11,
     "metadata": {},
     "output_type": "execute_result"
    },
    {
     "data": {
      "image/png": "[encoded data removed]",
      "text/plain": [
       "<matplotlib.figure.Figure at 0x7f8434e949d0>"
      ]
     },
     "metadata": {},
     "output_type": "display_data"
    }
   ],
   "source": [
    "from sklearn.metrics import confusion_matrix\n",
    "acc = np.sum(y_test_label==y_predict) / float(len(y_test_label))\n",
    "print('Accuracy: {:.2f}'.format(acc))\n",
    "\n",
    "cm = confusion_matrix(y_test_label, y_predict )\n",
    "sns.heatmap(cm, annot=True, annot_kws={\"size\": 14}, fmt='g', linewidths=.5, yticklabels=label_list,xticklabels=label_list)"
   ]
  },
  {
   "cell_type": "code",
   "execution_count": 12,
   "metadata": {},
   "outputs": [],
   "source": [
    "K.clear_session()"
   ]
  }
 ],
 "metadata": {
  "kernelspec": {
   "display_name": "Python 2",
   "language": "python",
   "name": "python2"
  },
  "language_info": {
   "codemirror_mode": {
    "name": "ipython",
    "version": 2
   },
   "file_extension": ".py",
   "mimetype": "text/x-python",
   "name": "python",
   "nbconvert_exporter": "python",
   "pygments_lexer": "ipython2",
   "version": "2.7.12"
  }
 },
 "nbformat": 4,
 "nbformat_minor": 2
}
