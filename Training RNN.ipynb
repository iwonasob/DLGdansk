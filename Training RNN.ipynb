{
 "cells": [
  {
   "cell_type": "markdown",
   "metadata": {
    "slideshow": {
     "slide_type": "slide"
    }
   },
   "source": [
    "## Recurrent Neural Networks"
   ]
  },
  {
   "cell_type": "code",
   "execution_count": 1,
   "metadata": {
    "slideshow": {
     "slide_type": "slide"
    }
   },
   "outputs": [],
   "source": [
    "import os\n",
    "os.environ[\"PYTHONHASHSEED\"] = \"0\"\n",
    "\n",
    "import random as rn\n",
    "rn.seed(1254)\n",
    "\n",
    "import numpy as np\n",
    "np.random.seed(1515)\n",
    "\n",
    "%matplotlib inline\n",
    "import seaborn as sns\n",
    "import matplotlib.pyplot as plt\n",
    "\n",
    "import librosa, librosa.display, IPython.display as ipd\n",
    "from tqdm import tqdm\n",
    "import glob\n",
    "import pandas as pd\n",
    "import h5py\n",
    "from sklearn import preprocessing\n",
    "import pickle"
   ]
  },
  {
   "cell_type": "code",
   "execution_count": 2,
   "metadata": {
    "slideshow": {
     "slide_type": "-"
    }
   },
   "outputs": [],
   "source": [
    "plt.rcParams['figure.figsize'] = (14, 6)"
   ]
  },
  {
   "cell_type": "code",
   "execution_count": 3,
   "metadata": {
    "slideshow": {
     "slide_type": "subslide"
    }
   },
   "outputs": [
    {
     "name": "stderr",
     "output_type": "stream",
     "text": [
      "Using TensorFlow backend.\n"
     ]
    }
   ],
   "source": [
    "os.environ[\"CUDA_DEVICE_ORDER\"] = \"PCI_BUS_ID\"   \n",
    "os.environ[\"CUDA_VISIBLE_DEVICES\"] = \"2\"\n",
    "\n",
    "import tensorflow as tf\n",
    "tf.set_random_seed(2)\n",
    "\n",
    "config = tf.ConfigProto(\n",
    "    intra_op_parallelism_threads=1,\n",
    "    inter_op_parallelism_threads=1 \n",
    ")\n",
    "\n",
    "config.gpu_options.allow_growth = True  # dynamically grow the memory used on the GPU\n",
    "sess = tf.Session(graph= tf.get_default_graph(), config=config) \n",
    "    \n",
    "import keras \n",
    "from keras import backend as K\n",
    "K.set_session(sess)  # set this TensorFlow session as the default session for Keras\n",
    "\n",
    "from keras.layers import Input, Conv2D, MaxPooling2D, LSTM, GRU, Bidirectional\n",
    "from keras.layers import Dense, Flatten\n",
    "from keras.layers.core import Dropout\n",
    "from keras.models import Model\n",
    "from keras.layers.normalization import BatchNormalization\n",
    "from keras.callbacks import EarlyStopping, ModelCheckpoint"
   ]
  },
  {
   "cell_type": "code",
   "execution_count": 4,
   "metadata": {
    "slideshow": {
     "slide_type": "subslide"
    }
   },
   "outputs": [],
   "source": [
    "#SET PATHS\n",
    "workspace = '/vol/vssp/AcousticEventsDetection/DLGdansk/UrbanSound/'\n",
    "\n",
    "hdf5_path = os.path.join(workspace,'dataset.hdf5') \n",
    "modelfolder = os.path.join(workspace,'models')\n",
    "scalerpath = os.path.join(workspace,'scaler.pkl')"
   ]
  },
  {
   "cell_type": "code",
   "execution_count": 5,
   "metadata": {
    "slideshow": {
     "slide_type": "slide"
    }
   },
   "outputs": [],
   "source": [
    "# LOAD DATA\n",
    "hf = h5py.File(hdf5_path, 'r')\n",
    "X_train = np.array(hf.get('X_train') )\n",
    "y_train = np.array(hf.get('y_train'))\n",
    "X_val =  np.array(hf.get('X_val'))\n",
    "y_val= np.array(hf.get('y_val'))\n",
    "X_test = np.array(hf.get('X_test'))\n",
    "y_test = np.array(hf.get('y_test'))\n",
    "\n",
    "n_features= hf.get('n_features').value\n",
    "n_frames=hf.get('max_length_samp').value\n",
    "label_list= hf.get('label_list').value"
   ]
  },
  {
   "cell_type": "code",
   "execution_count": 6,
   "metadata": {
    "slideshow": {
     "slide_type": "subslide"
    }
   },
   "outputs": [],
   "source": [
    "# SCALE THE DATA\n",
    "scaler=pickle.load(open(scalerpath, 'rb'))\n",
    "\n",
    "X_train_scaled = [scaler.transform(x.T) for x in X_train]\n",
    "X_val_scaled = [scaler.transform(x.T) for x in X_val]\n",
    "X_test_scaled = [scaler.transform(x.T) for x in X_test]\n"
   ]
  },
  {
   "cell_type": "code",
   "execution_count": 7,
   "metadata": {
    "slideshow": {
     "slide_type": "slide"
    }
   },
   "outputs": [],
   "source": [
    "def build_rnn(n_frames=n_frames, n_features=n_features,\n",
    "                     n_classes=10):\n",
    "\n",
    "    # INPUT\n",
    "    x = Input(shape=(n_frames, n_features), dtype='float32')\n",
    "  \n",
    "    y= LSTM(120, return_sequences = True)(x)\n",
    "    y= Dropout(0.2)(y)  \n",
    "    \n",
    "    y= LSTM(120)(y)\n",
    "    y= Dropout(0.2)(y) \n",
    "\n",
    "    y = Dense(n_classes, activation='sigmoid')(y)\n",
    "\n",
    "    m = Model(inputs=x, outputs=y)\n",
    "    return m"
   ]
  },
  {
   "cell_type": "code",
   "execution_count": 8,
   "metadata": {
    "slideshow": {
     "slide_type": "slide"
    }
   },
   "outputs": [
    {
     "name": "stdout",
     "output_type": "stream",
     "text": [
      "_________________________________________________________________\n",
      "Layer (type)                 Output Shape              Param #   \n",
      "=================================================================\n",
      "input_1 (InputLayer)         (None, 173, 40)           0         \n",
      "_________________________________________________________________\n",
      "lstm_1 (LSTM)                (None, 173, 120)          77280     \n",
      "_________________________________________________________________\n",
      "dropout_1 (Dropout)          (None, 173, 120)          0         \n",
      "_________________________________________________________________\n",
      "lstm_2 (LSTM)                (None, 120)               115680    \n",
      "_________________________________________________________________\n",
      "dropout_2 (Dropout)          (None, 120)               0         \n",
      "_________________________________________________________________\n",
      "dense_1 (Dense)              (None, 10)                1210      \n",
      "=================================================================\n",
      "Total params: 194,170\n",
      "Trainable params: 194,170\n",
      "Non-trainable params: 0\n",
      "_________________________________________________________________\n"
     ]
    }
   ],
   "source": [
    "m = build_rnn(n_features=40,)\n",
    "m.summary()"
   ]
  },
  {
   "cell_type": "code",
   "execution_count": 14,
   "metadata": {},
   "outputs": [],
   "source": [
    "from keras.utils import plot_model\n",
    "plot_model(m, to_file='figures/rnn_model_shape.png', show_shapes=True)"
   ]
  },
  {
   "cell_type": "markdown",
   "metadata": {},
   "source": [
    "<img src='figures/rnn_model_shape.png'> "
   ]
  },
  {
   "cell_type": "code",
   "execution_count": 9,
   "metadata": {
    "slideshow": {
     "slide_type": "slide"
    }
   },
   "outputs": [],
   "source": [
    "m.compile(loss='categorical_crossentropy', optimizer='adam', metrics=['accuracy'])"
   ]
  },
  {
   "cell_type": "code",
   "execution_count": 10,
   "metadata": {
    "slideshow": {
     "slide_type": "subslide"
    }
   },
   "outputs": [
    {
     "name": "stdout",
     "output_type": "stream",
     "text": [
      "Train on 7079 samples, validate on 7079 samples\n",
      "Epoch 1/200\n",
      "7079/7079 [==============================] - 59s 8ms/step - loss: 1.8778 - acc: 0.3137 - val_loss: 1.6618 - val_acc: 0.4174\n",
      "Epoch 2/200\n",
      "7079/7079 [==============================] - 58s 8ms/step - loss: 1.5831 - acc: 0.4136 - val_loss: 1.5303 - val_acc: 0.4508\n",
      "Epoch 3/200\n",
      "7079/7079 [==============================] - 58s 8ms/step - loss: 1.5553 - acc: 0.4273 - val_loss: 1.4507 - val_acc: 0.4639\n",
      "Epoch 4/200\n",
      "7079/7079 [==============================] - 58s 8ms/step - loss: 1.4259 - acc: 0.4708 - val_loss: 1.3460 - val_acc: 0.4865\n",
      "Epoch 5/200\n",
      "7079/7079 [==============================] - 58s 8ms/step - loss: 1.3894 - acc: 0.4746 - val_loss: 1.4250 - val_acc: 0.4663\n",
      "Epoch 6/200\n",
      "7079/7079 [==============================] - 58s 8ms/step - loss: 1.4150 - acc: 0.4722 - val_loss: 1.2765 - val_acc: 0.5269\n",
      "Epoch 7/200\n",
      "7079/7079 [==============================] - 57s 8ms/step - loss: 1.3271 - acc: 0.5050 - val_loss: 1.3258 - val_acc: 0.5088\n",
      "Epoch 8/200\n",
      "7079/7079 [==============================] - 58s 8ms/step - loss: 1.2799 - acc: 0.5230 - val_loss: 1.1775 - val_acc: 0.5449\n",
      "Epoch 9/200\n",
      "7079/7079 [==============================] - 57s 8ms/step - loss: 1.2356 - acc: 0.5391 - val_loss: 1.5096 - val_acc: 0.4833\n",
      "Epoch 10/200\n",
      "7079/7079 [==============================] - 58s 8ms/step - loss: 1.3573 - acc: 0.5059 - val_loss: 1.1786 - val_acc: 0.5618\n",
      "Epoch 11/200\n",
      "7079/7079 [==============================] - 57s 8ms/step - loss: 1.2548 - acc: 0.5347 - val_loss: 1.2721 - val_acc: 0.5489\n",
      "Epoch 12/200\n",
      "7079/7079 [==============================] - 57s 8ms/step - loss: 1.2354 - acc: 0.5586 - val_loss: 1.1015 - val_acc: 0.6100\n",
      "Epoch 13/200\n",
      "7079/7079 [==============================] - 58s 8ms/step - loss: 1.1701 - acc: 0.5803 - val_loss: 1.1688 - val_acc: 0.5838\n",
      "Epoch 14/200\n",
      "7079/7079 [==============================] - 58s 8ms/step - loss: 1.2511 - acc: 0.5456 - val_loss: 1.1827 - val_acc: 0.5769\n",
      "Epoch 15/200\n",
      "7079/7079 [==============================] - 57s 8ms/step - loss: 1.2106 - acc: 0.5643 - val_loss: 1.1291 - val_acc: 0.6036\n",
      "Epoch 16/200\n",
      "7079/7079 [==============================] - 53s 7ms/step - loss: 1.1985 - acc: 0.5786 - val_loss: 1.1199 - val_acc: 0.6169\n",
      "Epoch 17/200\n",
      "7079/7079 [==============================] - 56s 8ms/step - loss: 1.1614 - acc: 0.5853 - val_loss: 1.0675 - val_acc: 0.6312\n",
      "Epoch 18/200\n",
      "7079/7079 [==============================] - 56s 8ms/step - loss: 1.1806 - acc: 0.5803 - val_loss: 1.0315 - val_acc: 0.6344\n",
      "Epoch 19/200\n",
      "7079/7079 [==============================] - 56s 8ms/step - loss: 1.1451 - acc: 0.5943 - val_loss: 1.0465 - val_acc: 0.6319\n",
      "Epoch 20/200\n",
      "7079/7079 [==============================] - 57s 8ms/step - loss: 1.0842 - acc: 0.6204 - val_loss: 0.9582 - val_acc: 0.6672\n",
      "Epoch 21/200\n",
      "7079/7079 [==============================] - 56s 8ms/step - loss: 1.0269 - acc: 0.6516 - val_loss: 1.0001 - val_acc: 0.6594\n",
      "Epoch 22/200\n",
      "7079/7079 [==============================] - 57s 8ms/step - loss: 1.0339 - acc: 0.6507 - val_loss: 0.8995 - val_acc: 0.6926\n",
      "Epoch 23/200\n",
      "7079/7079 [==============================] - 56s 8ms/step - loss: 0.9555 - acc: 0.6778 - val_loss: 0.8746 - val_acc: 0.7106\n",
      "Epoch 24/200\n",
      "7079/7079 [==============================] - 56s 8ms/step - loss: 0.9581 - acc: 0.6817 - val_loss: 0.8944 - val_acc: 0.7084\n",
      "Epoch 25/200\n",
      "7079/7079 [==============================] - 57s 8ms/step - loss: 0.9360 - acc: 0.6884 - val_loss: 0.8439 - val_acc: 0.7231\n",
      "Epoch 26/200\n",
      "7079/7079 [==============================] - 58s 8ms/step - loss: 0.8959 - acc: 0.7093 - val_loss: 0.8462 - val_acc: 0.7211\n",
      "Epoch 27/200\n",
      "7079/7079 [==============================] - 56s 8ms/step - loss: 0.9135 - acc: 0.6970 - val_loss: 0.8093 - val_acc: 0.7340\n",
      "Epoch 28/200\n",
      "7079/7079 [==============================] - 57s 8ms/step - loss: 0.9205 - acc: 0.6959 - val_loss: 0.8139 - val_acc: 0.7228\n",
      "Epoch 29/200\n",
      "7079/7079 [==============================] - 57s 8ms/step - loss: 0.9286 - acc: 0.6892 - val_loss: 0.8221 - val_acc: 0.7196\n",
      "Epoch 30/200\n",
      "7079/7079 [==============================] - 56s 8ms/step - loss: 0.8524 - acc: 0.7233 - val_loss: 0.7544 - val_acc: 0.7470\n",
      "Epoch 31/200\n",
      "7079/7079 [==============================] - 56s 8ms/step - loss: 0.8236 - acc: 0.7309 - val_loss: 0.6671 - val_acc: 0.7856\n",
      "Epoch 32/200\n",
      "7079/7079 [==============================] - 57s 8ms/step - loss: 0.7371 - acc: 0.7599 - val_loss: 0.6400 - val_acc: 0.7938\n",
      "Epoch 33/200\n",
      "7079/7079 [==============================] - 58s 8ms/step - loss: 0.6831 - acc: 0.7779 - val_loss: 0.6280 - val_acc: 0.7973\n",
      "Epoch 34/200\n",
      "7079/7079 [==============================] - 56s 8ms/step - loss: 0.6716 - acc: 0.7825 - val_loss: 0.6360 - val_acc: 0.7979\n",
      "Epoch 35/200\n",
      "7079/7079 [==============================] - 57s 8ms/step - loss: 0.6936 - acc: 0.7748 - val_loss: 0.6228 - val_acc: 0.7959\n",
      "Epoch 36/200\n",
      "7079/7079 [==============================] - 57s 8ms/step - loss: 0.6643 - acc: 0.7878 - val_loss: 0.5650 - val_acc: 0.8182\n",
      "Epoch 37/200\n",
      "7079/7079 [==============================] - 56s 8ms/step - loss: 0.6250 - acc: 0.7964 - val_loss: 0.5705 - val_acc: 0.8087\n",
      "Epoch 38/200\n",
      "7079/7079 [==============================] - 56s 8ms/step - loss: 0.6266 - acc: 0.8011 - val_loss: 0.5887 - val_acc: 0.8110\n",
      "Epoch 39/200\n",
      "7079/7079 [==============================] - 57s 8ms/step - loss: 0.6123 - acc: 0.7998 - val_loss: 0.5585 - val_acc: 0.8162\n",
      "Epoch 40/200\n",
      "7079/7079 [==============================] - 57s 8ms/step - loss: 0.5656 - acc: 0.8182 - val_loss: 0.4608 - val_acc: 0.8476\n",
      "Epoch 41/200\n",
      "7079/7079 [==============================] - 56s 8ms/step - loss: 0.5753 - acc: 0.8145 - val_loss: 0.5423 - val_acc: 0.8192\n",
      "Epoch 42/200\n",
      "7079/7079 [==============================] - 57s 8ms/step - loss: 0.5545 - acc: 0.8157 - val_loss: 0.4909 - val_acc: 0.8388\n",
      "Epoch 43/200\n",
      "7079/7079 [==============================] - 57s 8ms/step - loss: 0.5446 - acc: 0.8230 - val_loss: 0.4615 - val_acc: 0.8561\n",
      "Epoch 44/200\n",
      "7079/7079 [==============================] - 57s 8ms/step - loss: 0.5215 - acc: 0.8330 - val_loss: 0.4273 - val_acc: 0.8621\n",
      "Epoch 45/200\n",
      "7079/7079 [==============================] - 55s 8ms/step - loss: 0.5735 - acc: 0.8135 - val_loss: 0.4392 - val_acc: 0.8535\n",
      "Epoch 46/200\n",
      "7079/7079 [==============================] - 58s 8ms/step - loss: 0.5253 - acc: 0.8332 - val_loss: 0.5267 - val_acc: 0.8236\n",
      "Epoch 47/200\n",
      "7079/7079 [==============================] - 57s 8ms/step - loss: 0.5270 - acc: 0.8292 - val_loss: 0.4590 - val_acc: 0.8503\n",
      "Epoch 48/200\n",
      "7079/7079 [==============================] - 56s 8ms/step - loss: 0.4757 - acc: 0.8473 - val_loss: 0.4386 - val_acc: 0.8541\n",
      "Epoch 49/200\n",
      "7079/7079 [==============================] - 56s 8ms/step - loss: 0.5009 - acc: 0.8377 - val_loss: 0.4121 - val_acc: 0.8641\n",
      "Epoch 50/200\n",
      "7079/7079 [==============================] - 57s 8ms/step - loss: 0.5982 - acc: 0.8127 - val_loss: 0.4730 - val_acc: 0.8501\n",
      "Epoch 51/200\n",
      "7079/7079 [==============================] - 57s 8ms/step - loss: 0.7524 - acc: 0.7567 - val_loss: 0.8096 - val_acc: 0.7220\n",
      "Epoch 52/200\n",
      "7079/7079 [==============================] - 57s 8ms/step - loss: 0.7644 - acc: 0.7397 - val_loss: 0.6772 - val_acc: 0.7726\n",
      "Epoch 53/200\n",
      "7079/7079 [==============================] - 57s 8ms/step - loss: 0.7166 - acc: 0.7668 - val_loss: 0.7193 - val_acc: 0.7642\n",
      "Epoch 54/200\n",
      "7079/7079 [==============================] - 56s 8ms/step - loss: 0.7964 - acc: 0.7463 - val_loss: 0.7563 - val_acc: 0.7542\n",
      "Epoch 55/200\n",
      "7079/7079 [==============================] - 57s 8ms/step - loss: 0.7387 - acc: 0.7572 - val_loss: 0.6153 - val_acc: 0.7993\n",
      "Epoch 56/200\n",
      "7079/7079 [==============================] - 56s 8ms/step - loss: 0.6210 - acc: 0.8004 - val_loss: 0.5031 - val_acc: 0.8359\n",
      "Epoch 57/200\n",
      "7079/7079 [==============================] - 57s 8ms/step - loss: 0.5288 - acc: 0.8306 - val_loss: 0.4548 - val_acc: 0.8583\n",
      "Epoch 58/200\n",
      "7079/7079 [==============================] - 57s 8ms/step - loss: 0.5015 - acc: 0.8429 - val_loss: 0.4473 - val_acc: 0.8538\n",
      "Epoch 59/200\n",
      "7079/7079 [==============================] - 56s 8ms/step - loss: 0.4814 - acc: 0.8462 - val_loss: 0.4371 - val_acc: 0.8606\n",
      "Epoch 60/200\n"
     ]
    },
    {
     "name": "stdout",
     "output_type": "stream",
     "text": [
      "7079/7079 [==============================] - 57s 8ms/step - loss: 0.5060 - acc: 0.8360 - val_loss: 0.4010 - val_acc: 0.8741\n",
      "Epoch 61/200\n",
      "7079/7079 [==============================] - 56s 8ms/step - loss: 0.4517 - acc: 0.8566 - val_loss: 0.4053 - val_acc: 0.8730\n",
      "Epoch 62/200\n",
      "7079/7079 [==============================] - 57s 8ms/step - loss: 0.4266 - acc: 0.8626 - val_loss: 0.3433 - val_acc: 0.8911\n",
      "Epoch 63/200\n",
      "7079/7079 [==============================] - 56s 8ms/step - loss: 0.4175 - acc: 0.8644 - val_loss: 0.3460 - val_acc: 0.8892\n",
      "Epoch 64/200\n",
      "7079/7079 [==============================] - 57s 8ms/step - loss: 0.3901 - acc: 0.8740 - val_loss: 0.3684 - val_acc: 0.8791\n",
      "Epoch 65/200\n",
      "7079/7079 [==============================] - 57s 8ms/step - loss: 0.3997 - acc: 0.8746 - val_loss: 0.3214 - val_acc: 0.8938\n",
      "Epoch 66/200\n",
      "7079/7079 [==============================] - 56s 8ms/step - loss: 0.3623 - acc: 0.8854 - val_loss: 0.3076 - val_acc: 0.9010\n",
      "Epoch 67/200\n",
      "7079/7079 [==============================] - 56s 8ms/step - loss: 0.3617 - acc: 0.8868 - val_loss: 0.3202 - val_acc: 0.8941\n",
      "Epoch 68/200\n",
      "7079/7079 [==============================] - 56s 8ms/step - loss: 0.3531 - acc: 0.8842 - val_loss: 0.2702 - val_acc: 0.9123\n",
      "Epoch 69/200\n",
      "7079/7079 [==============================] - 56s 8ms/step - loss: 0.3106 - acc: 0.9013 - val_loss: 0.2852 - val_acc: 0.9100\n",
      "Epoch 70/200\n",
      "7079/7079 [==============================] - 56s 8ms/step - loss: 0.3086 - acc: 0.9006 - val_loss: 0.2590 - val_acc: 0.9145\n",
      "Epoch 71/200\n",
      "7079/7079 [==============================] - 56s 8ms/step - loss: 0.3178 - acc: 0.8986 - val_loss: 0.3493 - val_acc: 0.8878\n",
      "Epoch 72/200\n",
      "7079/7079 [==============================] - 56s 8ms/step - loss: 0.3521 - acc: 0.8829 - val_loss: 0.2738 - val_acc: 0.9104\n",
      "Epoch 73/200\n",
      "7079/7079 [==============================] - 57s 8ms/step - loss: 0.2863 - acc: 0.9114 - val_loss: 0.2303 - val_acc: 0.9268\n",
      "Epoch 74/200\n",
      "7079/7079 [==============================] - 56s 8ms/step - loss: 0.2538 - acc: 0.9230 - val_loss: 0.2172 - val_acc: 0.9275\n",
      "Epoch 75/200\n",
      "7079/7079 [==============================] - 56s 8ms/step - loss: 0.2652 - acc: 0.9158 - val_loss: 0.2132 - val_acc: 0.9333\n",
      "Epoch 76/200\n",
      "7079/7079 [==============================] - 56s 8ms/step - loss: 0.2531 - acc: 0.9205 - val_loss: 0.1921 - val_acc: 0.9397\n",
      "Epoch 77/200\n",
      "7079/7079 [==============================] - 56s 8ms/step - loss: 0.2167 - acc: 0.9337 - val_loss: 0.2001 - val_acc: 0.9380\n",
      "Epoch 78/200\n",
      "7079/7079 [==============================] - 56s 8ms/step - loss: 0.2306 - acc: 0.9270 - val_loss: 0.1783 - val_acc: 0.9425\n",
      "Epoch 79/200\n",
      "7079/7079 [==============================] - 56s 8ms/step - loss: 0.2522 - acc: 0.9213 - val_loss: 0.2195 - val_acc: 0.9312\n",
      "Epoch 80/200\n",
      "7079/7079 [==============================] - 57s 8ms/step - loss: 0.4202 - acc: 0.8720 - val_loss: 0.3350 - val_acc: 0.8876\n",
      "Epoch 81/200\n",
      "7079/7079 [==============================] - 56s 8ms/step - loss: 0.3323 - acc: 0.8926 - val_loss: 0.2977 - val_acc: 0.9049\n",
      "Epoch 82/200\n",
      "7079/7079 [==============================] - 56s 8ms/step - loss: 0.3533 - acc: 0.8881 - val_loss: 0.2304 - val_acc: 0.9251\n",
      "Epoch 83/200\n",
      "7079/7079 [==============================] - 57s 8ms/step - loss: 0.2438 - acc: 0.9230 - val_loss: 0.1853 - val_acc: 0.9386\n",
      "Epoch 84/200\n",
      "7079/7079 [==============================] - 56s 8ms/step - loss: 0.2240 - acc: 0.9298 - val_loss: 0.2625 - val_acc: 0.9198\n",
      "Epoch 85/200\n",
      "7079/7079 [==============================] - 56s 8ms/step - loss: 0.2976 - acc: 0.9048 - val_loss: 0.2863 - val_acc: 0.9145\n",
      "Epoch 86/200\n",
      "7079/7079 [==============================] - 56s 8ms/step - loss: 0.2662 - acc: 0.9154 - val_loss: 0.2058 - val_acc: 0.9332\n",
      "Epoch 87/200\n",
      "7079/7079 [==============================] - 57s 8ms/step - loss: 0.2086 - acc: 0.9346 - val_loss: 0.1799 - val_acc: 0.9398\n",
      "Epoch 88/200\n",
      "7079/7079 [==============================] - 56s 8ms/step - loss: 0.1984 - acc: 0.9405 - val_loss: 0.1865 - val_acc: 0.9390\n",
      "Epoch 89/200\n",
      "7079/7079 [==============================] - 56s 8ms/step - loss: 0.3462 - acc: 0.8932 - val_loss: 0.4703 - val_acc: 0.8579\n",
      "Epoch 90/200\n",
      "7079/7079 [==============================] - 56s 8ms/step - loss: 0.3604 - acc: 0.8852 - val_loss: 0.2659 - val_acc: 0.9147\n",
      "Epoch 91/200\n",
      "7079/7079 [==============================] - 57s 8ms/step - loss: 0.2871 - acc: 0.9097 - val_loss: 0.2157 - val_acc: 0.9313\n",
      "Epoch 92/200\n",
      "7079/7079 [==============================] - 56s 8ms/step - loss: 0.2525 - acc: 0.9193 - val_loss: 0.1770 - val_acc: 0.9434\n",
      "Epoch 93/200\n",
      "7079/7079 [==============================] - 56s 8ms/step - loss: 0.1907 - acc: 0.9398 - val_loss: 0.1511 - val_acc: 0.9520\n",
      "Epoch 94/200\n",
      "7079/7079 [==============================] - 57s 8ms/step - loss: 0.1872 - acc: 0.9418 - val_loss: 0.1426 - val_acc: 0.9558\n",
      "Epoch 95/200\n",
      "7079/7079 [==============================] - 56s 8ms/step - loss: 0.1795 - acc: 0.9441 - val_loss: 0.1398 - val_acc: 0.9578\n",
      "Epoch 96/200\n",
      "7079/7079 [==============================] - 56s 8ms/step - loss: 0.1695 - acc: 0.9472 - val_loss: 0.1217 - val_acc: 0.9610\n",
      "Epoch 97/200\n",
      "7079/7079 [==============================] - 56s 8ms/step - loss: 0.1596 - acc: 0.9491 - val_loss: 0.1147 - val_acc: 0.9645\n",
      "Epoch 98/200\n",
      "7079/7079 [==============================] - 56s 8ms/step - loss: 0.1550 - acc: 0.9520 - val_loss: 0.1183 - val_acc: 0.9623\n",
      "Epoch 99/200\n",
      "7079/7079 [==============================] - 56s 8ms/step - loss: 0.1672 - acc: 0.9480 - val_loss: 0.1300 - val_acc: 0.9575\n",
      "Epoch 100/200\n",
      "7079/7079 [==============================] - 56s 8ms/step - loss: 0.2034 - acc: 0.9308 - val_loss: 0.2843 - val_acc: 0.9192\n",
      "Epoch 101/200\n",
      "7079/7079 [==============================] - 57s 8ms/step - loss: 0.2963 - acc: 0.9119 - val_loss: 0.2028 - val_acc: 0.9308\n",
      "Epoch 102/200\n",
      "7079/7079 [==============================] - 56s 8ms/step - loss: 0.2147 - acc: 0.9312 - val_loss: 0.1484 - val_acc: 0.9544\n",
      "Epoch 103/200\n",
      "7079/7079 [==============================] - 57s 8ms/step - loss: 0.2061 - acc: 0.9360 - val_loss: 0.1348 - val_acc: 0.9571\n",
      "Epoch 104/200\n",
      "7079/7079 [==============================] - 58s 8ms/step - loss: 0.1551 - acc: 0.9497 - val_loss: 0.1227 - val_acc: 0.9614\n",
      "Epoch 105/200\n",
      "7079/7079 [==============================] - 58s 8ms/step - loss: 0.1634 - acc: 0.9494 - val_loss: 0.1377 - val_acc: 0.9549\n",
      "Epoch 106/200\n",
      "7079/7079 [==============================] - 57s 8ms/step - loss: 0.1384 - acc: 0.9552 - val_loss: 0.1000 - val_acc: 0.9682\n",
      "Epoch 107/200\n",
      "7079/7079 [==============================] - 57s 8ms/step - loss: 0.1221 - acc: 0.9621 - val_loss: 0.0836 - val_acc: 0.9736\n",
      "Epoch 108/200\n",
      "7079/7079 [==============================] - 57s 8ms/step - loss: 0.1072 - acc: 0.9682 - val_loss: 0.0875 - val_acc: 0.9720\n",
      "Epoch 109/200\n",
      "7079/7079 [==============================] - 57s 8ms/step - loss: 0.1502 - acc: 0.9513 - val_loss: 0.1418 - val_acc: 0.9555\n",
      "Epoch 110/200\n",
      "7079/7079 [==============================] - 55s 8ms/step - loss: 0.2223 - acc: 0.9287 - val_loss: 0.1497 - val_acc: 0.9501\n",
      "Epoch 111/200\n",
      "7079/7079 [==============================] - 56s 8ms/step - loss: 0.1479 - acc: 0.9511 - val_loss: 0.1079 - val_acc: 0.9658\n",
      "Epoch 112/200\n",
      "7079/7079 [==============================] - 56s 8ms/step - loss: 0.1287 - acc: 0.9619 - val_loss: 0.0905 - val_acc: 0.9695\n",
      "Epoch 113/200\n",
      "7079/7079 [==============================] - 57s 8ms/step - loss: 0.1133 - acc: 0.9644 - val_loss: 0.0790 - val_acc: 0.9768\n",
      "Epoch 114/200\n",
      "7079/7079 [==============================] - 56s 8ms/step - loss: 0.1258 - acc: 0.9616 - val_loss: 0.1376 - val_acc: 0.9572\n",
      "Epoch 115/200\n",
      "7079/7079 [==============================] - 57s 8ms/step - loss: 0.1543 - acc: 0.9547 - val_loss: 0.0938 - val_acc: 0.9695\n",
      "Epoch 116/200\n",
      "7079/7079 [==============================] - 57s 8ms/step - loss: 0.1439 - acc: 0.9563 - val_loss: 0.1114 - val_acc: 0.9640\n",
      "Epoch 117/200\n",
      "7079/7079 [==============================] - 56s 8ms/step - loss: 0.1639 - acc: 0.9479 - val_loss: 0.1028 - val_acc: 0.9675\n",
      "Epoch 118/200\n",
      "7079/7079 [==============================] - 56s 8ms/step - loss: 0.1297 - acc: 0.9614 - val_loss: 0.0894 - val_acc: 0.9729\n",
      "Epoch 119/200\n",
      "7079/7079 [==============================] - 56s 8ms/step - loss: 0.1223 - acc: 0.9617 - val_loss: 0.0807 - val_acc: 0.9754\n"
     ]
    },
    {
     "name": "stdout",
     "output_type": "stream",
     "text": [
      "Epoch 120/200\n",
      "7079/7079 [==============================] - 57s 8ms/step - loss: 0.1042 - acc: 0.9692 - val_loss: 0.0746 - val_acc: 0.9781\n",
      "Epoch 121/200\n",
      "7079/7079 [==============================] - 57s 8ms/step - loss: 0.2039 - acc: 0.9429 - val_loss: 0.1720 - val_acc: 0.9463\n",
      "Epoch 122/200\n",
      "7079/7079 [==============================] - 58s 8ms/step - loss: 0.1785 - acc: 0.9418 - val_loss: 0.1438 - val_acc: 0.9554\n",
      "Epoch 123/200\n",
      "7079/7079 [==============================] - 57s 8ms/step - loss: 0.1461 - acc: 0.9561 - val_loss: 0.1034 - val_acc: 0.9665\n",
      "Epoch 124/200\n",
      "7079/7079 [==============================] - 56s 8ms/step - loss: 0.1052 - acc: 0.9668 - val_loss: 0.1483 - val_acc: 0.9554\n",
      "Epoch 125/200\n",
      "7079/7079 [==============================] - 57s 8ms/step - loss: 0.1468 - acc: 0.9549 - val_loss: 0.0922 - val_acc: 0.9706\n",
      "Epoch 126/200\n",
      "7079/7079 [==============================] - 57s 8ms/step - loss: 0.1104 - acc: 0.9652 - val_loss: 0.1520 - val_acc: 0.9542\n",
      "Epoch 127/200\n",
      "7079/7079 [==============================] - 56s 8ms/step - loss: 0.1373 - acc: 0.9578 - val_loss: 0.0922 - val_acc: 0.9703\n",
      "Epoch 128/200\n",
      "7079/7079 [==============================] - 54s 8ms/step - loss: 0.1158 - acc: 0.9640 - val_loss: 0.1049 - val_acc: 0.9668\n",
      "Epoch 129/200\n",
      "7079/7079 [==============================] - 56s 8ms/step - loss: 0.0932 - acc: 0.9730 - val_loss: 0.0532 - val_acc: 0.9849\n",
      "Epoch 130/200\n",
      "7079/7079 [==============================] - 56s 8ms/step - loss: 0.0889 - acc: 0.9744 - val_loss: 0.0714 - val_acc: 0.9778\n",
      "Epoch 131/200\n",
      "7079/7079 [==============================] - 55s 8ms/step - loss: 0.0848 - acc: 0.9734 - val_loss: 0.0497 - val_acc: 0.9853\n",
      "Epoch 132/200\n",
      "7079/7079 [==============================] - 55s 8ms/step - loss: 0.0696 - acc: 0.9787 - val_loss: 0.0461 - val_acc: 0.9854\n",
      "Epoch 133/200\n",
      "7079/7079 [==============================] - 57s 8ms/step - loss: 0.1157 - acc: 0.9650 - val_loss: 0.1036 - val_acc: 0.9722\n",
      "Epoch 134/200\n",
      "7079/7079 [==============================] - 58s 8ms/step - loss: 0.1672 - acc: 0.9486 - val_loss: 0.1571 - val_acc: 0.9497\n",
      "Epoch 135/200\n",
      "7079/7079 [==============================] - 57s 8ms/step - loss: 0.1491 - acc: 0.9535 - val_loss: 0.1354 - val_acc: 0.9603\n",
      "Epoch 136/200\n",
      "7079/7079 [==============================] - 57s 8ms/step - loss: 0.1290 - acc: 0.9592 - val_loss: 0.0966 - val_acc: 0.9719\n",
      "Epoch 137/200\n",
      "7079/7079 [==============================] - 57s 8ms/step - loss: 0.1176 - acc: 0.9665 - val_loss: 0.0837 - val_acc: 0.9747\n",
      "Epoch 138/200\n",
      "7079/7079 [==============================] - 58s 8ms/step - loss: 0.1412 - acc: 0.9575 - val_loss: 0.1070 - val_acc: 0.9674\n",
      "Epoch 139/200\n",
      "7079/7079 [==============================] - 57s 8ms/step - loss: 0.0915 - acc: 0.9712 - val_loss: 0.0566 - val_acc: 0.9829\n",
      "Epoch 140/200\n",
      "7079/7079 [==============================] - 58s 8ms/step - loss: 0.3932 - acc: 0.9082 - val_loss: 0.4752 - val_acc: 0.8671\n",
      "Epoch 141/200\n",
      "7079/7079 [==============================] - 57s 8ms/step - loss: 0.3872 - acc: 0.8805 - val_loss: 0.3185 - val_acc: 0.8991\n",
      "Epoch 142/200\n",
      "7079/7079 [==============================] - 56s 8ms/step - loss: 0.3570 - acc: 0.8946 - val_loss: 0.2250 - val_acc: 0.9250\n",
      "Epoch 143/200\n",
      "7079/7079 [==============================] - 55s 8ms/step - loss: 0.2024 - acc: 0.9371 - val_loss: 0.1272 - val_acc: 0.9623\n",
      "Epoch 144/200\n",
      "7079/7079 [==============================] - 56s 8ms/step - loss: 0.1464 - acc: 0.9566 - val_loss: 0.1041 - val_acc: 0.9712\n",
      "Epoch 145/200\n",
      "7079/7079 [==============================] - 55s 8ms/step - loss: 0.1862 - acc: 0.9424 - val_loss: 0.1185 - val_acc: 0.9651\n",
      "Epoch 146/200\n",
      "7079/7079 [==============================] - 53s 8ms/step - loss: 0.1265 - acc: 0.9627 - val_loss: 0.0866 - val_acc: 0.9741\n",
      "Epoch 147/200\n",
      "7079/7079 [==============================] - 54s 8ms/step - loss: 0.1182 - acc: 0.9655 - val_loss: 0.0866 - val_acc: 0.9761\n",
      "Epoch 148/200\n",
      "7079/7079 [==============================] - 56s 8ms/step - loss: 0.0959 - acc: 0.9717 - val_loss: 0.0572 - val_acc: 0.9842\n",
      "Epoch 149/200\n",
      "7079/7079 [==============================] - 56s 8ms/step - loss: 0.0741 - acc: 0.9780 - val_loss: 0.0552 - val_acc: 0.9838\n",
      "Epoch 150/200\n",
      "7079/7079 [==============================] - 55s 8ms/step - loss: 0.0755 - acc: 0.9768 - val_loss: 0.0556 - val_acc: 0.9843\n",
      "Epoch 151/200\n",
      "7079/7079 [==============================] - 55s 8ms/step - loss: 0.0878 - acc: 0.9757 - val_loss: 0.0586 - val_acc: 0.9822\n",
      "Epoch 152/200\n",
      "7079/7079 [==============================] - 55s 8ms/step - loss: 0.0619 - acc: 0.9818 - val_loss: 0.0606 - val_acc: 0.9809\n",
      "Epoch 153/200\n",
      "7079/7079 [==============================] - 55s 8ms/step - loss: 0.1202 - acc: 0.9654 - val_loss: 0.1315 - val_acc: 0.9617\n",
      "Epoch 154/200\n",
      "7079/7079 [==============================] - 54s 8ms/step - loss: 0.1248 - acc: 0.9620 - val_loss: 0.0894 - val_acc: 0.9737\n",
      "Epoch 155/200\n",
      "7079/7079 [==============================] - 55s 8ms/step - loss: 0.1103 - acc: 0.9641 - val_loss: 0.0603 - val_acc: 0.9819\n",
      "Epoch 156/200\n",
      "7079/7079 [==============================] - 55s 8ms/step - loss: 0.1123 - acc: 0.9674 - val_loss: 0.0864 - val_acc: 0.9764\n",
      "Epoch 157/200\n",
      "7079/7079 [==============================] - 55s 8ms/step - loss: 0.6038 - acc: 0.8159 - val_loss: 0.8127 - val_acc: 0.6976\n",
      "Epoch 158/200\n",
      "7079/7079 [==============================] - 54s 8ms/step - loss: 0.6922 - acc: 0.7462 - val_loss: 0.5637 - val_acc: 0.8018\n",
      "Epoch 159/200\n",
      "7079/7079 [==============================] - 55s 8ms/step - loss: 0.5160 - acc: 0.8224 - val_loss: 0.3700 - val_acc: 0.8750\n",
      "Epoch 160/200\n",
      "7079/7079 [==============================] - 55s 8ms/step - loss: 0.3391 - acc: 0.8909 - val_loss: 0.2339 - val_acc: 0.9230\n",
      "Epoch 161/200\n",
      "7079/7079 [==============================] - 56s 8ms/step - loss: 0.3391 - acc: 0.8932 - val_loss: 0.2214 - val_acc: 0.9282\n",
      "Epoch 162/200\n",
      "7079/7079 [==============================] - 55s 8ms/step - loss: 0.2231 - acc: 0.9316 - val_loss: 0.1597 - val_acc: 0.9521\n",
      "Epoch 163/200\n",
      "7079/7079 [==============================] - 56s 8ms/step - loss: 0.1774 - acc: 0.9466 - val_loss: 0.1344 - val_acc: 0.9606\n",
      "Epoch 164/200\n",
      "7079/7079 [==============================] - 55s 8ms/step - loss: 0.1422 - acc: 0.9588 - val_loss: 0.0990 - val_acc: 0.9706\n",
      "Epoch 165/200\n",
      "7079/7079 [==============================] - 54s 8ms/step - loss: 0.1296 - acc: 0.9619 - val_loss: 0.0915 - val_acc: 0.9732\n",
      "Epoch 166/200\n",
      "7079/7079 [==============================] - 54s 8ms/step - loss: 0.1088 - acc: 0.9684 - val_loss: 0.0697 - val_acc: 0.9792\n",
      "Epoch 167/200\n",
      "7079/7079 [==============================] - 55s 8ms/step - loss: 0.0839 - acc: 0.9763 - val_loss: 0.0766 - val_acc: 0.9766\n",
      "Epoch 168/200\n",
      "7079/7079 [==============================] - 55s 8ms/step - loss: 0.0805 - acc: 0.9750 - val_loss: 0.0529 - val_acc: 0.9846\n",
      "Epoch 169/200\n",
      "7079/7079 [==============================] - 54s 8ms/step - loss: 0.1534 - acc: 0.9561 - val_loss: 0.1665 - val_acc: 0.9548\n",
      "Epoch 170/200\n",
      "7079/7079 [==============================] - 55s 8ms/step - loss: 0.1217 - acc: 0.9654 - val_loss: 0.0782 - val_acc: 0.9781\n",
      "Epoch 171/200\n",
      "7079/7079 [==============================] - 55s 8ms/step - loss: 0.0923 - acc: 0.9732 - val_loss: 0.0561 - val_acc: 0.9842\n",
      "Epoch 172/200\n",
      "7079/7079 [==============================] - 55s 8ms/step - loss: 0.0817 - acc: 0.9757 - val_loss: 0.0777 - val_acc: 0.9781\n",
      "Epoch 173/200\n",
      "7079/7079 [==============================] - 54s 8ms/step - loss: 0.1125 - acc: 0.9677 - val_loss: 0.0907 - val_acc: 0.9746\n",
      "Epoch 174/200\n",
      "7079/7079 [==============================] - 56s 8ms/step - loss: 0.1364 - acc: 0.9596 - val_loss: 0.0954 - val_acc: 0.9703\n",
      "Epoch 175/200\n",
      "7079/7079 [==============================] - 56s 8ms/step - loss: 0.1474 - acc: 0.9558 - val_loss: 0.1294 - val_acc: 0.9599\n",
      "Epoch 176/200\n",
      "7079/7079 [==============================] - 56s 8ms/step - loss: 0.1166 - acc: 0.9672 - val_loss: 0.0581 - val_acc: 0.9838\n",
      "Epoch 177/200\n",
      "7079/7079 [==============================] - 54s 8ms/step - loss: 0.0833 - acc: 0.9747 - val_loss: 0.0486 - val_acc: 0.9852\n",
      "Epoch 178/200\n",
      "7079/7079 [==============================] - 55s 8ms/step - loss: 0.1413 - acc: 0.9619 - val_loss: 0.0984 - val_acc: 0.9716\n",
      "Epoch 179/200\n"
     ]
    },
    {
     "name": "stdout",
     "output_type": "stream",
     "text": [
      "7079/7079 [==============================] - 55s 8ms/step - loss: 0.1073 - acc: 0.9664 - val_loss: 0.0798 - val_acc: 0.9743\n",
      "Epoch 180/200\n",
      "7079/7079 [==============================] - 55s 8ms/step - loss: 0.0777 - acc: 0.9761 - val_loss: 0.0441 - val_acc: 0.9877\n",
      "Epoch 181/200\n",
      "7079/7079 [==============================] - 54s 8ms/step - loss: 0.0623 - acc: 0.9801 - val_loss: 0.0358 - val_acc: 0.9894\n",
      "Epoch 182/200\n",
      "7079/7079 [==============================] - 55s 8ms/step - loss: 0.0554 - acc: 0.9832 - val_loss: 0.0306 - val_acc: 0.9917\n",
      "Epoch 183/200\n",
      "7079/7079 [==============================] - 55s 8ms/step - loss: 0.0383 - acc: 0.9897 - val_loss: 0.0311 - val_acc: 0.9921\n",
      "Epoch 184/200\n",
      "7079/7079 [==============================] - 55s 8ms/step - loss: 0.0422 - acc: 0.9873 - val_loss: 0.0287 - val_acc: 0.9932\n",
      "Epoch 185/200\n",
      "7079/7079 [==============================] - 54s 8ms/step - loss: 0.0580 - acc: 0.9838 - val_loss: 0.0285 - val_acc: 0.9918\n",
      "Epoch 186/200\n",
      "7079/7079 [==============================] - 56s 8ms/step - loss: 0.0374 - acc: 0.9897 - val_loss: 0.0308 - val_acc: 0.9910\n",
      "Epoch 187/200\n",
      "7079/7079 [==============================] - 55s 8ms/step - loss: 0.0469 - acc: 0.9853 - val_loss: 0.0288 - val_acc: 0.9912\n",
      "Epoch 188/200\n",
      "7079/7079 [==============================] - 55s 8ms/step - loss: 0.0662 - acc: 0.9806 - val_loss: 0.0431 - val_acc: 0.9879\n",
      "Epoch 189/200\n",
      "7079/7079 [==============================] - 56s 8ms/step - loss: 0.0678 - acc: 0.9794 - val_loss: 0.0483 - val_acc: 0.9856\n",
      "Epoch 190/200\n",
      "7079/7079 [==============================] - 55s 8ms/step - loss: 0.0674 - acc: 0.9825 - val_loss: 0.0284 - val_acc: 0.9918\n",
      "Epoch 191/200\n",
      "7079/7079 [==============================] - 56s 8ms/step - loss: 0.0667 - acc: 0.9790 - val_loss: 0.0654 - val_acc: 0.9840\n",
      "Epoch 192/200\n",
      "7079/7079 [==============================] - 54s 8ms/step - loss: 0.0650 - acc: 0.9806 - val_loss: 0.0504 - val_acc: 0.9853\n",
      "Epoch 193/200\n",
      "7079/7079 [==============================] - 55s 8ms/step - loss: 0.0585 - acc: 0.9835 - val_loss: 0.0479 - val_acc: 0.9864\n",
      "Epoch 194/200\n",
      "7079/7079 [==============================] - 55s 8ms/step - loss: 0.0791 - acc: 0.9777 - val_loss: 0.0535 - val_acc: 0.9852\n",
      "Epoch 195/200\n",
      "7079/7079 [==============================] - 56s 8ms/step - loss: 0.0478 - acc: 0.9866 - val_loss: 0.0239 - val_acc: 0.9949\n",
      "Epoch 196/200\n",
      "7079/7079 [==============================] - 54s 8ms/step - loss: 0.0334 - acc: 0.9903 - val_loss: 0.0183 - val_acc: 0.9959\n",
      "Epoch 197/200\n",
      "7079/7079 [==============================] - 55s 8ms/step - loss: 0.0264 - acc: 0.9934 - val_loss: 0.0384 - val_acc: 0.9897\n",
      "Epoch 198/200\n",
      "7079/7079 [==============================] - 56s 8ms/step - loss: 0.0255 - acc: 0.9939 - val_loss: 0.0150 - val_acc: 0.9958\n",
      "Epoch 199/200\n",
      "7079/7079 [==============================] - 55s 8ms/step - loss: 0.0186 - acc: 0.9955 - val_loss: 0.0106 - val_acc: 0.9972\n",
      "Epoch 200/200\n",
      "7079/7079 [==============================] - 53s 8ms/step - loss: 0.0194 - acc: 0.9946 - val_loss: 0.0118 - val_acc: 0.9976\n"
     ]
    }
   ],
   "source": [
    "model_checkpoint = ModelCheckpoint(\n",
    "            os.path.join(modelfolder, \n",
    "                    'rnn_epoch_{epoch:03d}_val_loss_{val_loss:.4f}.hdf5'),\n",
    "            monitor='val_loss', \n",
    "            save_best_only=True)\n",
    "\n",
    "early_stopping = EarlyStopping(monitor='val_loss', patience=50, verbose=1)\n",
    "callbacks = [early_stopping, model_checkpoint]\n",
    "\n",
    "history = m.fit(x=np.array(X_train_scaled), y=y_train, batch_size=130,\n",
    "                    epochs=200, verbose=True,\n",
    "                    validation_data=(np.array(X_val_scaled), y_val), shuffle=True)"
   ]
  },
  {
   "cell_type": "code",
   "execution_count": 11,
   "metadata": {
    "slideshow": {
     "slide_type": "subslide"
    }
   },
   "outputs": [
    {
     "data": {
      "text/plain": [
       "Text(0,0.5,u'Loss')"
      ]
     },
     "execution_count": 11,
     "metadata": {},
     "output_type": "execute_result"
    },
    {
     "data": {
      "image/png": "[encoded data removed]",
      "text/plain": [
       "<matplotlib.figure.Figure at 0x7f4d48a030d0>"
      ]
     },
     "metadata": {},
     "output_type": "display_data"
    }
   ],
   "source": [
    "plt.subplot(1,2,1)\n",
    "plt.plot(history.history['acc'], label='Accuracy')\n",
    "plt.plot(history.history['val_acc'], label='Validation accuracy')\n",
    "plt.legend()\n",
    "plt.xlabel('Epochs')\n",
    "plt.ylabel('Accuracy')\n",
    "\n",
    "plt.subplot(1,2,2)\n",
    "plt.plot(history.history['loss'], label='Loss')\n",
    "plt.plot(history.history['val_loss'], label='Validation loss')\n",
    "plt.legend()\n",
    "plt.xlabel('Epochs')\n",
    "plt.ylabel('Loss')"
   ]
  },
  {
   "cell_type": "code",
   "execution_count": 12,
   "metadata": {
    "slideshow": {
     "slide_type": "slide"
    }
   },
   "outputs": [
    {
     "name": "stdout",
     "output_type": "stream",
     "text": [
      "837/837 [==============================] - 1s 882us/step\n"
     ]
    }
   ],
   "source": [
    "prediction = m.predict(np.array(X_test_scaled), batch_size=130, verbose=1)\n",
    "y_predict=np.array([ np.argmax(p) for p in prediction])\n",
    "y_test_label = np.array([np.argmax(y) for y in y_test])"
   ]
  },
  {
   "cell_type": "code",
   "execution_count": 13,
   "metadata": {
    "slideshow": {
     "slide_type": "subslide"
    }
   },
   "outputs": [
    {
     "name": "stdout",
     "output_type": "stream",
     "text": [
      "Accuracy: 0.55\n"
     ]
    },
    {
     "data": {
      "text/plain": [
       "Text(0.5,32.0938,u'Predicted label')"
      ]
     },
     "execution_count": 13,
     "metadata": {},
     "output_type": "execute_result"
    },
    {
     "data": {
      "image/png": "[encoded data removed]",
      "text/plain": [
       "<matplotlib.figure.Figure at 0x7f4e6d16a8d0>"
      ]
     },
     "metadata": {},
     "output_type": "display_data"
    }
   ],
   "source": [
    "from sklearn.metrics import confusion_matrix\n",
    "\n",
    "acc = np.sum(y_test_label==y_predict) / float(len(y_test_label))\n",
    "print('Accuracy: {:.2f}'.format(acc))\n",
    "\n",
    "cm = confusion_matrix(y_test_label, y_predict )\n",
    "sns.heatmap(cm, annot=True, annot_kws={\"size\": 14}, fmt='g', linewidths=.5, \n",
    "            yticklabels=label_list,xticklabels=label_list)\n",
    "plt.ylabel('True label')\n",
    "plt.xlabel('Predicted label')"
   ]
  }
 ],
 "metadata": {
  "celltoolbar": "Slideshow",
  "kernelspec": {
   "display_name": "Python 2",
   "language": "python",
   "name": "python2"
  },
  "language_info": {
   "codemirror_mode": {
    "name": "ipython",
    "version": 2
   },
   "file_extension": ".py",
   "mimetype": "text/x-python",
   "name": "python",
   "nbconvert_exporter": "python",
   "pygments_lexer": "ipython2",
   "version": "2.7.12"
  }
 },
 "nbformat": 4,
 "nbformat_minor": 2
}
