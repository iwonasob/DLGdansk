{
 "cells": [
  {
   "cell_type": "markdown",
   "metadata": {
    "slideshow": {
     "slide_type": "slide"
    }
   },
   "source": [
    "## Recurrent Neural Networks"
   ]
  },
  {
   "cell_type": "code",
   "execution_count": 1,
   "metadata": {
    "slideshow": {
     "slide_type": "slide"
    }
   },
   "outputs": [],
   "source": [
    "import os\n",
    "os.environ[\"PYTHONHASHSEED\"] = \"0\"\n",
    "\n",
    "import random as rn\n",
    "rn.seed(1254)\n",
    "\n",
    "import numpy as np\n",
    "np.random.seed(1515)\n",
    "\n",
    "%matplotlib inline\n",
    "import seaborn as sns\n",
    "import matplotlib.pyplot as plt\n",
    "\n",
    "import librosa, librosa.display, IPython.display as ipd\n",
    "from tqdm import tqdm\n",
    "import glob\n",
    "import pandas as pd\n",
    "import h5py\n",
    "from sklearn import preprocessing\n",
    "import pickle"
   ]
  },
  {
   "cell_type": "code",
   "execution_count": null,
   "metadata": {
    "slideshow": {
     "slide_type": "-"
    }
   },
   "outputs": [],
   "source": [
    "plt.rcParams['figure.figsize'] = (14, 6)"
   ]
  },
  {
   "cell_type": "code",
   "execution_count": 2,
   "metadata": {
    "slideshow": {
     "slide_type": "subslide"
    }
   },
   "outputs": [
    {
     "name": "stderr",
     "output_type": "stream",
     "text": [
      "Using TensorFlow backend.\n"
     ]
    }
   ],
   "source": [
    "os.environ[\"CUDA_DEVICE_ORDER\"] = \"PCI_BUS_ID\"   \n",
    "os.environ[\"CUDA_VISIBLE_DEVICES\"] = \"2\"\n",
    "\n",
    "import tensorflow as tf\n",
    "tf.set_random_seed(2)\n",
    "\n",
    "config = tf.ConfigProto(\n",
    "    intra_op_parallelism_threads=1,\n",
    "    inter_op_parallelism_threads=1 \n",
    ")\n",
    "\n",
    "config.gpu_options.allow_growth = True  # dynamically grow the memory used on the GPU\n",
    "sess = tf.Session(graph= tf.get_default_graph(), config=config) \n",
    "    \n",
    "import keras \n",
    "from keras import backend as K\n",
    "K.set_session(sess)  # set this TensorFlow session as the default session for Keras\n",
    "\n",
    "from keras.layers import Input, Conv2D, MaxPooling2D, LSTM, GRU, Bidirectional\n",
    "from keras.layers import Dense, Flatten\n",
    "from keras.layers.core import Dropout\n",
    "from keras.models import Model\n",
    "from keras.layers.normalization import BatchNormalization\n",
    "from keras.callbacks import EarlyStopping, ModelCheckpoint"
   ]
  },
  {
   "cell_type": "code",
   "execution_count": 3,
   "metadata": {
    "slideshow": {
     "slide_type": "subslide"
    }
   },
   "outputs": [],
   "source": [
    "#SET PATHS\n",
    "dataspace = '/vol/vssp/datasets/audio01/UrbanSound8K/audio/'\n",
    "projectspace = '/vol/vssp/AcousticEventsDetection/DLGdansk/UrbanSound/'\n",
    "\n",
    "metadatafile = '/vol/vssp/datasets/audio01/UrbanSound8K/metadata/UrbanSound8K.csv'\n",
    "metadata = pd.read_csv(metadatafile)\n",
    "\n",
    "hdf5_path = os.path.join(projectspace,'dataset.hdf5') \n",
    "modelfolder = os.path.join(projectspace,'models')\n",
    "scalerpath = os.path.join(projectspace,'scaler.pkl')"
   ]
  },
  {
   "cell_type": "code",
   "execution_count": 4,
   "metadata": {
    "slideshow": {
     "slide_type": "slide"
    }
   },
   "outputs": [],
   "source": [
    "# LOAD DATA\n",
    "hf = h5py.File(hdf5_path, 'r')\n",
    "X_train = np.array(hf.get('X_train') )\n",
    "y_train = np.array(hf.get('y_train'))\n",
    "X_val =  np.array(hf.get('X_val'))\n",
    "y_val= np.array(hf.get('y_val'))\n",
    "X_test = np.array(hf.get('X_test'))\n",
    "y_test = np.array(hf.get('y_test'))\n",
    "\n",
    "n_features= hf.get('n_features').value\n",
    "n_frames=hf.get('max_length_samp').value\n",
    "label_list= hf.get('label_list').value"
   ]
  },
  {
   "cell_type": "code",
   "execution_count": 5,
   "metadata": {
    "slideshow": {
     "slide_type": "subslide"
    }
   },
   "outputs": [],
   "source": [
    "# SCALE THE DATA\n",
    "scaler=pickle.load(open(scalerpath, 'rb'))\n",
    "\n",
    "X_train_scaled = [scaler.transform(x.T) for x in X_train]\n",
    "X_val_scaled = [scaler.transform(x.T) for x in X_val]\n",
    "X_test_scaled = [scaler.transform(x.T) for x in X_test]\n"
   ]
  },
  {
   "cell_type": "code",
   "execution_count": 7,
   "metadata": {
    "slideshow": {
     "slide_type": "slide"
    }
   },
   "outputs": [],
   "source": [
    "def build_rnn(n_frames=n_frames, n_features=n_features,\n",
    "                     n_classes=10):\n",
    "\n",
    "    # INPUT\n",
    "    x = Input(shape=(n_frames, n_features), dtype='float32')\n",
    "  \n",
    "    y= LSTM(120, return_sequences = True)(x)\n",
    "    y= Dropout(0.2)(y)  \n",
    "    \n",
    "    y= LSTM(120)(y)\n",
    "    y= Dropout(0.2)(y) \n",
    "\n",
    "    y = Dense(n_classes, activation='sigmoid')(y)\n",
    "\n",
    "    m = Model(inputs=x, outputs=y)\n",
    "    return m"
   ]
  },
  {
   "cell_type": "code",
   "execution_count": 8,
   "metadata": {
    "slideshow": {
     "slide_type": "slide"
    }
   },
   "outputs": [
    {
     "name": "stdout",
     "output_type": "stream",
     "text": [
      "_________________________________________________________________\n",
      "Layer (type)                 Output Shape              Param #   \n",
      "=================================================================\n",
      "input_1 (InputLayer)         (None, 173, 40)           0         \n",
      "_________________________________________________________________\n",
      "lstm_1 (LSTM)                (None, 173, 120)          77280     \n",
      "_________________________________________________________________\n",
      "dropout_1 (Dropout)          (None, 173, 120)          0         \n",
      "_________________________________________________________________\n",
      "lstm_2 (LSTM)                (None, 120)               115680    \n",
      "_________________________________________________________________\n",
      "dropout_2 (Dropout)          (None, 120)               0         \n",
      "_________________________________________________________________\n",
      "dense_1 (Dense)              (None, 10)                1210      \n",
      "=================================================================\n",
      "Total params: 194,170\n",
      "Trainable params: 194,170\n",
      "Non-trainable params: 0\n",
      "_________________________________________________________________\n"
     ]
    }
   ],
   "source": [
    "m = build_rnn(n_features=40,)\n",
    "m.summary()"
   ]
  },
  {
   "cell_type": "code",
   "execution_count": 9,
   "metadata": {
    "slideshow": {
     "slide_type": "slide"
    }
   },
   "outputs": [],
   "source": [
    "m.compile(loss='categorical_crossentropy', optimizer='adam', metrics=['accuracy'])"
   ]
  },
  {
   "cell_type": "code",
   "execution_count": 10,
   "metadata": {
    "slideshow": {
     "slide_type": "fragment"
    }
   },
   "outputs": [
    {
     "name": "stdout",
     "output_type": "stream",
     "text": [
      "Train on 7079 samples, validate on 816 samples\n",
      "Epoch 1/200\n",
      "7079/7079 [==============================] - 41s 6ms/step - loss: 1.8744 - acc: 0.3145 - val_loss: 1.7283 - val_acc: 0.3039\n",
      "Epoch 2/200\n",
      "7079/7079 [==============================] - 40s 6ms/step - loss: 1.5935 - acc: 0.4015 - val_loss: 1.6581 - val_acc: 0.3431\n",
      "Epoch 3/200\n",
      "7079/7079 [==============================] - 41s 6ms/step - loss: 1.4989 - acc: 0.4310 - val_loss: 1.6393 - val_acc: 0.3395\n",
      "Epoch 4/200\n",
      "7079/7079 [==============================] - 39s 6ms/step - loss: 1.4520 - acc: 0.4670 - val_loss: 1.6569 - val_acc: 0.3517\n",
      "Epoch 5/200\n",
      "7079/7079 [==============================] - 39s 6ms/step - loss: 1.4328 - acc: 0.4618 - val_loss: 1.6606 - val_acc: 0.3382\n",
      "Epoch 6/200\n",
      "7079/7079 [==============================] - 41s 6ms/step - loss: 1.4758 - acc: 0.4492 - val_loss: 1.5822 - val_acc: 0.3578\n",
      "Epoch 7/200\n",
      "7079/7079 [==============================] - 41s 6ms/step - loss: 1.3887 - acc: 0.4707 - val_loss: 1.5697 - val_acc: 0.3554\n",
      "Epoch 8/200\n",
      "7079/7079 [==============================] - 41s 6ms/step - loss: 1.4659 - acc: 0.4701 - val_loss: 2.0469 - val_acc: 0.1998\n",
      "Epoch 9/200\n",
      "7079/7079 [==============================] - 41s 6ms/step - loss: 1.6204 - acc: 0.3684 - val_loss: 1.8804 - val_acc: 0.2561\n",
      "Epoch 10/200\n",
      "7079/7079 [==============================] - 40s 6ms/step - loss: 1.5082 - acc: 0.4280 - val_loss: 1.8627 - val_acc: 0.2745\n",
      "Epoch 11/200\n",
      "7079/7079 [==============================] - 40s 6ms/step - loss: 1.3951 - acc: 0.4587 - val_loss: 1.6862 - val_acc: 0.3811\n",
      "Epoch 12/200\n",
      "7079/7079 [==============================] - 41s 6ms/step - loss: 1.3620 - acc: 0.4982 - val_loss: 1.7303 - val_acc: 0.3934\n",
      "Epoch 13/200\n",
      "7079/7079 [==============================] - 43s 6ms/step - loss: 1.3378 - acc: 0.5221 - val_loss: 1.6225 - val_acc: 0.4081\n",
      "Epoch 14/200\n",
      "7079/7079 [==============================] - 41s 6ms/step - loss: 1.2888 - acc: 0.5309 - val_loss: 1.5524 - val_acc: 0.4853\n",
      "Epoch 15/200\n",
      "7079/7079 [==============================] - 41s 6ms/step - loss: 1.2644 - acc: 0.5477 - val_loss: 1.5532 - val_acc: 0.4130\n",
      "Epoch 16/200\n",
      "7079/7079 [==============================] - 39s 6ms/step - loss: 1.1928 - acc: 0.5641 - val_loss: 1.6130 - val_acc: 0.4485\n",
      "Epoch 17/200\n",
      "7079/7079 [==============================] - 41s 6ms/step - loss: 1.2106 - acc: 0.5660 - val_loss: 1.4957 - val_acc: 0.5061\n",
      "Epoch 18/200\n",
      "7079/7079 [==============================] - 41s 6ms/step - loss: 1.2026 - acc: 0.5711 - val_loss: 1.6147 - val_acc: 0.4387\n",
      "Epoch 19/200\n",
      "7079/7079 [==============================] - 38s 5ms/step - loss: 1.1257 - acc: 0.6069 - val_loss: 1.5628 - val_acc: 0.4792\n",
      "Epoch 20/200\n",
      "7079/7079 [==============================] - 41s 6ms/step - loss: 1.0503 - acc: 0.6394 - val_loss: 1.6398 - val_acc: 0.4363\n",
      "Epoch 21/200\n",
      "7079/7079 [==============================] - 39s 6ms/step - loss: 1.1244 - acc: 0.6052 - val_loss: 1.5957 - val_acc: 0.4804\n",
      "Epoch 22/200\n",
      "7079/7079 [==============================] - 39s 6ms/step - loss: 1.0728 - acc: 0.6323 - val_loss: 1.5171 - val_acc: 0.4951\n",
      "Epoch 23/200\n",
      "7079/7079 [==============================] - 40s 6ms/step - loss: 0.9813 - acc: 0.6680 - val_loss: 1.6093 - val_acc: 0.4816\n",
      "Epoch 24/200\n",
      "7079/7079 [==============================] - 40s 6ms/step - loss: 0.9472 - acc: 0.6813 - val_loss: 1.5646 - val_acc: 0.4963\n",
      "Epoch 25/200\n",
      "7079/7079 [==============================] - 39s 5ms/step - loss: 1.0359 - acc: 0.6548 - val_loss: 1.5348 - val_acc: 0.4767\n",
      "Epoch 26/200\n",
      "7079/7079 [==============================] - 38s 5ms/step - loss: 0.9868 - acc: 0.6680 - val_loss: 1.5389 - val_acc: 0.4841\n",
      "Epoch 27/200\n",
      "7079/7079 [==============================] - 42s 6ms/step - loss: 1.0419 - acc: 0.6379 - val_loss: 1.6891 - val_acc: 0.5098\n",
      "Epoch 28/200\n",
      "7079/7079 [==============================] - 40s 6ms/step - loss: 0.9997 - acc: 0.6590 - val_loss: 1.4410 - val_acc: 0.5551\n",
      "Epoch 29/200\n",
      "7079/7079 [==============================] - 40s 6ms/step - loss: 1.0753 - acc: 0.6365 - val_loss: 1.5610 - val_acc: 0.5196\n",
      "Epoch 30/200\n",
      "7079/7079 [==============================] - 38s 5ms/step - loss: 0.9229 - acc: 0.6891 - val_loss: 1.5170 - val_acc: 0.5417\n",
      "Epoch 31/200\n",
      "7079/7079 [==============================] - 39s 5ms/step - loss: 0.8430 - acc: 0.7231 - val_loss: 1.6210 - val_acc: 0.4804\n",
      "Epoch 32/200\n",
      "7079/7079 [==============================] - 42s 6ms/step - loss: 0.9418 - acc: 0.6888 - val_loss: 1.4613 - val_acc: 0.5331\n",
      "Epoch 33/200\n",
      "7079/7079 [==============================] - 40s 6ms/step - loss: 0.8739 - acc: 0.7118 - val_loss: 1.3932 - val_acc: 0.5613\n",
      "Epoch 34/200\n",
      "7079/7079 [==============================] - 39s 5ms/step - loss: 0.7865 - acc: 0.7445 - val_loss: 1.5170 - val_acc: 0.5319\n",
      "Epoch 35/200\n",
      "7079/7079 [==============================] - 40s 6ms/step - loss: 0.7472 - acc: 0.7522 - val_loss: 1.4097 - val_acc: 0.5699\n",
      "Epoch 36/200\n",
      "7079/7079 [==============================] - 38s 5ms/step - loss: 0.7991 - acc: 0.7373 - val_loss: 1.6121 - val_acc: 0.5502\n",
      "Epoch 37/200\n",
      "7079/7079 [==============================] - 40s 6ms/step - loss: 0.7501 - acc: 0.7536 - val_loss: 1.5295 - val_acc: 0.5711\n",
      "Epoch 38/200\n",
      "7079/7079 [==============================] - 39s 6ms/step - loss: 0.7625 - acc: 0.7591 - val_loss: 1.5463 - val_acc: 0.5588\n",
      "Epoch 39/200\n",
      "7079/7079 [==============================] - 40s 6ms/step - loss: 0.6680 - acc: 0.7908 - val_loss: 1.5391 - val_acc: 0.5637\n",
      "Epoch 40/200\n",
      "7079/7079 [==============================] - 42s 6ms/step - loss: 0.6291 - acc: 0.8039 - val_loss: 1.4311 - val_acc: 0.5821\n",
      "Epoch 41/200\n",
      "7079/7079 [==============================] - 38s 5ms/step - loss: 0.7178 - acc: 0.7727 - val_loss: 1.5908 - val_acc: 0.5650\n",
      "Epoch 42/200\n",
      "7079/7079 [==============================] - 40s 6ms/step - loss: 0.6680 - acc: 0.7923 - val_loss: 1.3519 - val_acc: 0.6029\n",
      "Epoch 43/200\n",
      "7079/7079 [==============================] - 40s 6ms/step - loss: 0.6637 - acc: 0.7871 - val_loss: 1.4081 - val_acc: 0.5711\n",
      "Epoch 44/200\n",
      "7079/7079 [==============================] - 38s 5ms/step - loss: 0.6236 - acc: 0.8014 - val_loss: 1.4900 - val_acc: 0.5821\n",
      "Epoch 45/200\n",
      "7079/7079 [==============================] - 41s 6ms/step - loss: 0.6477 - acc: 0.7929 - val_loss: 1.5114 - val_acc: 0.5833\n",
      "Epoch 46/200\n",
      "7079/7079 [==============================] - 41s 6ms/step - loss: 0.5853 - acc: 0.8121 - val_loss: 1.6527 - val_acc: 0.5294\n",
      "Epoch 47/200\n",
      "7079/7079 [==============================] - 39s 6ms/step - loss: 0.6860 - acc: 0.7816 - val_loss: 1.5850 - val_acc: 0.5270\n",
      "Epoch 48/200\n",
      "7079/7079 [==============================] - 39s 6ms/step - loss: 0.6196 - acc: 0.8051 - val_loss: 1.5235 - val_acc: 0.5735\n",
      "Epoch 49/200\n",
      "7079/7079 [==============================] - 39s 5ms/step - loss: 0.6616 - acc: 0.7914 - val_loss: 1.4845 - val_acc: 0.5846\n",
      "Epoch 50/200\n",
      "7079/7079 [==============================] - 39s 6ms/step - loss: 0.5532 - acc: 0.8294 - val_loss: 1.5884 - val_acc: 0.5466\n",
      "Epoch 51/200\n",
      "7079/7079 [==============================] - 37s 5ms/step - loss: 0.4928 - acc: 0.8462 - val_loss: 1.7176 - val_acc: 0.5723\n",
      "Epoch 52/200\n",
      "7079/7079 [==============================] - 41s 6ms/step - loss: 0.6786 - acc: 0.7825 - val_loss: 1.4479 - val_acc: 0.5711\n",
      "Epoch 53/200\n",
      "7079/7079 [==============================] - 42s 6ms/step - loss: 0.5778 - acc: 0.8141 - val_loss: 1.4197 - val_acc: 0.6164\n",
      "Epoch 54/200\n",
      "7079/7079 [==============================] - 41s 6ms/step - loss: 0.5528 - acc: 0.8222 - val_loss: 1.3735 - val_acc: 0.6373\n",
      "Epoch 55/200\n",
      "7079/7079 [==============================] - 40s 6ms/step - loss: 0.5066 - acc: 0.8363 - val_loss: 1.5844 - val_acc: 0.6054\n",
      "Epoch 56/200\n",
      "7079/7079 [==============================] - 41s 6ms/step - loss: 0.4944 - acc: 0.8381 - val_loss: 1.4499 - val_acc: 0.6164\n",
      "Epoch 57/200\n",
      "7079/7079 [==============================] - 38s 5ms/step - loss: 0.4818 - acc: 0.8459 - val_loss: 1.4944 - val_acc: 0.6140\n",
      "Epoch 58/200\n",
      "7079/7079 [==============================] - 41s 6ms/step - loss: 0.4475 - acc: 0.8573 - val_loss: 1.5399 - val_acc: 0.6103\n",
      "Epoch 59/200\n",
      "7079/7079 [==============================] - 40s 6ms/step - loss: 0.4488 - acc: 0.8587 - val_loss: 1.6043 - val_acc: 0.6127\n",
      "Epoch 60/200\n"
     ]
    },
    {
     "name": "stdout",
     "output_type": "stream",
     "text": [
      "7079/7079 [==============================] - 39s 6ms/step - loss: 0.5044 - acc: 0.8387 - val_loss: 1.6533 - val_acc: 0.5625\n",
      "Epoch 61/200\n",
      "7079/7079 [==============================] - 40s 6ms/step - loss: 0.5707 - acc: 0.8131 - val_loss: 1.6516 - val_acc: 0.5686\n",
      "Epoch 62/200\n",
      "7079/7079 [==============================] - 38s 5ms/step - loss: 0.4843 - acc: 0.8464 - val_loss: 1.5707 - val_acc: 0.5944\n",
      "Epoch 63/200\n",
      "7079/7079 [==============================] - 40s 6ms/step - loss: 0.4254 - acc: 0.8650 - val_loss: 1.6513 - val_acc: 0.5846\n",
      "Epoch 64/200\n",
      "7079/7079 [==============================] - 39s 5ms/step - loss: 0.4138 - acc: 0.8715 - val_loss: 1.8254 - val_acc: 0.5576\n",
      "Epoch 65/200\n",
      "7079/7079 [==============================] - 40s 6ms/step - loss: 0.4273 - acc: 0.8631 - val_loss: 1.6597 - val_acc: 0.6042\n",
      "Epoch 66/200\n",
      "7079/7079 [==============================] - 38s 5ms/step - loss: 0.3985 - acc: 0.8741 - val_loss: 1.6560 - val_acc: 0.5956\n",
      "Epoch 67/200\n",
      "7079/7079 [==============================] - 41s 6ms/step - loss: 0.4309 - acc: 0.8658 - val_loss: 1.5951 - val_acc: 0.6042\n",
      "Epoch 68/200\n",
      "7079/7079 [==============================] - 40s 6ms/step - loss: 0.4440 - acc: 0.8582 - val_loss: 1.6127 - val_acc: 0.5882\n",
      "Epoch 69/200\n",
      "7079/7079 [==============================] - 40s 6ms/step - loss: 0.4111 - acc: 0.8688 - val_loss: 1.6581 - val_acc: 0.5980\n",
      "Epoch 70/200\n",
      "7079/7079 [==============================] - 39s 6ms/step - loss: 0.3594 - acc: 0.8859 - val_loss: 1.6963 - val_acc: 0.6152\n",
      "Epoch 71/200\n",
      "7079/7079 [==============================] - 42s 6ms/step - loss: 0.3583 - acc: 0.8830 - val_loss: 1.5470 - val_acc: 0.6348\n",
      "Epoch 72/200\n",
      "7079/7079 [==============================] - 41s 6ms/step - loss: 0.6534 - acc: 0.8046 - val_loss: 1.7273 - val_acc: 0.5735\n",
      "Epoch 73/200\n",
      "7079/7079 [==============================] - 41s 6ms/step - loss: 0.6997 - acc: 0.7765 - val_loss: 1.5451 - val_acc: 0.5846\n",
      "Epoch 74/200\n",
      "7079/7079 [==============================] - 40s 6ms/step - loss: 0.4844 - acc: 0.8479 - val_loss: 1.6441 - val_acc: 0.5637\n",
      "Epoch 75/200\n",
      "7079/7079 [==============================] - 40s 6ms/step - loss: 0.4558 - acc: 0.8501 - val_loss: 1.6591 - val_acc: 0.5821\n",
      "Epoch 76/200\n",
      "7079/7079 [==============================] - 40s 6ms/step - loss: 0.4582 - acc: 0.8570 - val_loss: 1.6402 - val_acc: 0.5944\n",
      "Epoch 77/200\n",
      "7079/7079 [==============================] - 39s 6ms/step - loss: 0.3802 - acc: 0.8792 - val_loss: 1.6917 - val_acc: 0.5944\n",
      "Epoch 78/200\n",
      "7079/7079 [==============================] - 41s 6ms/step - loss: 0.3480 - acc: 0.8878 - val_loss: 1.7730 - val_acc: 0.5907\n",
      "Epoch 79/200\n",
      "7079/7079 [==============================] - 40s 6ms/step - loss: 0.3220 - acc: 0.8983 - val_loss: 1.7858 - val_acc: 0.5809\n",
      "Epoch 80/200\n",
      "7079/7079 [==============================] - 41s 6ms/step - loss: 0.3423 - acc: 0.8933 - val_loss: 1.8082 - val_acc: 0.5993\n",
      "Epoch 81/200\n",
      "7079/7079 [==============================] - 41s 6ms/step - loss: 0.3117 - acc: 0.9007 - val_loss: 1.8104 - val_acc: 0.5882\n",
      "Epoch 82/200\n",
      "7079/7079 [==============================] - 42s 6ms/step - loss: 0.3333 - acc: 0.8932 - val_loss: 1.9401 - val_acc: 0.5748\n",
      "Epoch 83/200\n",
      "7079/7079 [==============================] - 41s 6ms/step - loss: 0.6273 - acc: 0.8148 - val_loss: 1.8033 - val_acc: 0.5650\n",
      "Epoch 84/200\n",
      "7079/7079 [==============================] - 43s 6ms/step - loss: 0.4584 - acc: 0.8568 - val_loss: 1.8399 - val_acc: 0.5662\n",
      "Epoch 85/200\n",
      "7079/7079 [==============================] - 41s 6ms/step - loss: 0.4023 - acc: 0.8753 - val_loss: 1.8713 - val_acc: 0.5748\n",
      "Epoch 86/200\n",
      "7079/7079 [==============================] - 39s 6ms/step - loss: 0.3550 - acc: 0.8925 - val_loss: 1.8233 - val_acc: 0.6164\n",
      "Epoch 87/200\n",
      "7079/7079 [==============================] - 40s 6ms/step - loss: 0.4609 - acc: 0.8563 - val_loss: 1.7189 - val_acc: 0.5797\n",
      "Epoch 88/200\n",
      "7079/7079 [==============================] - 41s 6ms/step - loss: 0.3568 - acc: 0.8901 - val_loss: 1.7220 - val_acc: 0.5993\n",
      "Epoch 89/200\n",
      "7079/7079 [==============================] - 41s 6ms/step - loss: 0.3415 - acc: 0.8917 - val_loss: 1.7699 - val_acc: 0.5870\n",
      "Epoch 90/200\n",
      "7079/7079 [==============================] - 40s 6ms/step - loss: 0.3469 - acc: 0.8891 - val_loss: 1.8232 - val_acc: 0.5711\n",
      "Epoch 91/200\n",
      "7079/7079 [==============================] - 41s 6ms/step - loss: 0.3654 - acc: 0.8878 - val_loss: 2.0308 - val_acc: 0.5686\n",
      "Epoch 92/200\n",
      "7079/7079 [==============================] - 42s 6ms/step - loss: 0.3509 - acc: 0.8853 - val_loss: 1.9067 - val_acc: 0.5809\n",
      "Epoch 93/200\n",
      "7079/7079 [==============================] - 41s 6ms/step - loss: 0.3056 - acc: 0.9032 - val_loss: 1.8192 - val_acc: 0.6115\n",
      "Epoch 94/200\n",
      "7079/7079 [==============================] - 42s 6ms/step - loss: 0.2866 - acc: 0.9099 - val_loss: 1.7466 - val_acc: 0.6373\n",
      "Epoch 95/200\n",
      "7079/7079 [==============================] - 41s 6ms/step - loss: 0.2716 - acc: 0.9147 - val_loss: 1.9673 - val_acc: 0.5919\n",
      "Epoch 96/200\n",
      "7079/7079 [==============================] - 40s 6ms/step - loss: 0.2277 - acc: 0.9274 - val_loss: 1.8205 - val_acc: 0.6373\n",
      "Epoch 97/200\n",
      "7079/7079 [==============================] - 41s 6ms/step - loss: 0.2297 - acc: 0.9271 - val_loss: 1.8598 - val_acc: 0.6201\n",
      "Epoch 98/200\n",
      "7079/7079 [==============================] - 41s 6ms/step - loss: 0.1904 - acc: 0.9387 - val_loss: 1.8361 - val_acc: 0.6250\n",
      "Epoch 99/200\n",
      "7079/7079 [==============================] - 41s 6ms/step - loss: 0.2220 - acc: 0.9282 - val_loss: 1.8044 - val_acc: 0.6348\n",
      "Epoch 100/200\n",
      "7079/7079 [==============================] - 40s 6ms/step - loss: 0.2390 - acc: 0.9254 - val_loss: 1.9614 - val_acc: 0.6140\n",
      "Epoch 101/200\n",
      "7079/7079 [==============================] - 40s 6ms/step - loss: 0.1898 - acc: 0.9387 - val_loss: 1.9322 - val_acc: 0.6140\n",
      "Epoch 102/200\n",
      "7079/7079 [==============================] - 41s 6ms/step - loss: 0.1916 - acc: 0.9369 - val_loss: 1.9200 - val_acc: 0.6103\n",
      "Epoch 103/200\n",
      "7079/7079 [==============================] - 39s 6ms/step - loss: 0.1912 - acc: 0.9380 - val_loss: 1.9331 - val_acc: 0.5907\n",
      "Epoch 104/200\n",
      "7079/7079 [==============================] - 36s 5ms/step - loss: 0.1545 - acc: 0.9531 - val_loss: 1.8881 - val_acc: 0.6275\n",
      "Epoch 105/200\n",
      "7079/7079 [==============================] - 41s 6ms/step - loss: 0.1587 - acc: 0.9480 - val_loss: 1.9113 - val_acc: 0.6176\n",
      "Epoch 106/200\n",
      "7079/7079 [==============================] - 41s 6ms/step - loss: 0.1757 - acc: 0.9452 - val_loss: 2.0333 - val_acc: 0.5772\n",
      "Epoch 107/200\n",
      "7079/7079 [==============================] - 39s 6ms/step - loss: 0.1751 - acc: 0.9472 - val_loss: 1.9628 - val_acc: 0.5968\n",
      "Epoch 108/200\n",
      "7079/7079 [==============================] - 40s 6ms/step - loss: 0.1383 - acc: 0.9551 - val_loss: 1.8665 - val_acc: 0.6336\n",
      "Epoch 109/200\n",
      "7079/7079 [==============================] - 40s 6ms/step - loss: 0.1111 - acc: 0.9671 - val_loss: 1.9921 - val_acc: 0.6238\n",
      "Epoch 110/200\n",
      "7079/7079 [==============================] - 40s 6ms/step - loss: 0.1307 - acc: 0.9578 - val_loss: 2.0021 - val_acc: 0.6017\n",
      "Epoch 111/200\n",
      "7079/7079 [==============================] - 40s 6ms/step - loss: 0.1007 - acc: 0.9681 - val_loss: 2.0201 - val_acc: 0.6201\n",
      "Epoch 112/200\n",
      "7079/7079 [==============================] - 41s 6ms/step - loss: 0.1273 - acc: 0.9575 - val_loss: 1.9727 - val_acc: 0.6152\n",
      "Epoch 113/200\n",
      "7079/7079 [==============================] - 39s 5ms/step - loss: 0.1469 - acc: 0.9508 - val_loss: 1.9731 - val_acc: 0.6336\n",
      "Epoch 114/200\n",
      "7079/7079 [==============================] - 40s 6ms/step - loss: 0.2630 - acc: 0.9280 - val_loss: 2.0587 - val_acc: 0.5833\n",
      "Epoch 115/200\n",
      "7079/7079 [==============================] - 40s 6ms/step - loss: 0.2520 - acc: 0.9253 - val_loss: 1.9504 - val_acc: 0.6103\n",
      "Epoch 116/200\n",
      "7079/7079 [==============================] - 41s 6ms/step - loss: 0.2232 - acc: 0.9263 - val_loss: 1.8501 - val_acc: 0.6029\n",
      "Epoch 117/200\n",
      "7079/7079 [==============================] - 41s 6ms/step - loss: 0.2406 - acc: 0.9260 - val_loss: 1.9095 - val_acc: 0.6152\n",
      "Epoch 118/200\n",
      "7079/7079 [==============================] - 40s 6ms/step - loss: 0.2429 - acc: 0.9268 - val_loss: 2.0571 - val_acc: 0.5797\n",
      "Epoch 119/200\n",
      "7079/7079 [==============================] - 41s 6ms/step - loss: 0.2678 - acc: 0.9172 - val_loss: 1.9088 - val_acc: 0.5674\n"
     ]
    },
    {
     "name": "stdout",
     "output_type": "stream",
     "text": [
      "Epoch 120/200\n",
      "7079/7079 [==============================] - 38s 5ms/step - loss: 0.2222 - acc: 0.9277 - val_loss: 1.9198 - val_acc: 0.6103\n",
      "Epoch 121/200\n",
      "7079/7079 [==============================] - 40s 6ms/step - loss: 0.2394 - acc: 0.9244 - val_loss: 1.9154 - val_acc: 0.6066\n",
      "Epoch 122/200\n",
      "7079/7079 [==============================] - 39s 6ms/step - loss: 0.2004 - acc: 0.9373 - val_loss: 1.8996 - val_acc: 0.6017\n",
      "Epoch 123/200\n",
      "7079/7079 [==============================] - 40s 6ms/step - loss: 0.1460 - acc: 0.9556 - val_loss: 1.9681 - val_acc: 0.6115\n",
      "Epoch 124/200\n",
      "7079/7079 [==============================] - 38s 5ms/step - loss: 0.1293 - acc: 0.9580 - val_loss: 1.9855 - val_acc: 0.6164\n",
      "Epoch 125/200\n",
      "7079/7079 [==============================] - 39s 5ms/step - loss: 0.1200 - acc: 0.9609 - val_loss: 2.0167 - val_acc: 0.6054\n",
      "Epoch 126/200\n",
      "7079/7079 [==============================] - 36s 5ms/step - loss: 0.1091 - acc: 0.9651 - val_loss: 2.0403 - val_acc: 0.6029\n",
      "Epoch 127/200\n",
      "7079/7079 [==============================] - 39s 5ms/step - loss: 0.1433 - acc: 0.9568 - val_loss: 2.1186 - val_acc: 0.6054\n",
      "Epoch 128/200\n",
      "7079/7079 [==============================] - 38s 5ms/step - loss: 0.1195 - acc: 0.9610 - val_loss: 2.1894 - val_acc: 0.6066\n",
      "Epoch 129/200\n",
      "7079/7079 [==============================] - 39s 5ms/step - loss: 0.1192 - acc: 0.9609 - val_loss: 2.1193 - val_acc: 0.6311\n",
      "Epoch 130/200\n",
      "7079/7079 [==============================] - 40s 6ms/step - loss: 0.1370 - acc: 0.9586 - val_loss: 1.9817 - val_acc: 0.6066\n",
      "Epoch 131/200\n",
      "7079/7079 [==============================] - 38s 5ms/step - loss: 0.1481 - acc: 0.9532 - val_loss: 1.9950 - val_acc: 0.6446\n",
      "Epoch 132/200\n",
      "7079/7079 [==============================] - 40s 6ms/step - loss: 0.1039 - acc: 0.9679 - val_loss: 2.1067 - val_acc: 0.6152\n",
      "Epoch 133/200\n",
      "7079/7079 [==============================] - 40s 6ms/step - loss: 0.0814 - acc: 0.9754 - val_loss: 2.1778 - val_acc: 0.6311\n",
      "Epoch 134/200\n",
      "7079/7079 [==============================] - 39s 6ms/step - loss: 0.0962 - acc: 0.9725 - val_loss: 2.1924 - val_acc: 0.6250\n",
      "Epoch 135/200\n",
      "7079/7079 [==============================] - 41s 6ms/step - loss: 0.1323 - acc: 0.9614 - val_loss: 2.1502 - val_acc: 0.6152\n",
      "Epoch 136/200\n",
      "7079/7079 [==============================] - 29s 4ms/step - loss: 0.1074 - acc: 0.9682 - val_loss: 2.2387 - val_acc: 0.6152\n",
      "Epoch 137/200\n",
      "7079/7079 [==============================] - 29s 4ms/step - loss: 0.0916 - acc: 0.9713 - val_loss: 2.1831 - val_acc: 0.6115\n",
      "Epoch 138/200\n",
      "7079/7079 [==============================] - 31s 4ms/step - loss: 0.0763 - acc: 0.9773 - val_loss: 2.1026 - val_acc: 0.6213\n",
      "Epoch 139/200\n",
      "7079/7079 [==============================] - 35s 5ms/step - loss: 0.1261 - acc: 0.9665 - val_loss: 2.3437 - val_acc: 0.5711\n",
      "Epoch 140/200\n",
      "7079/7079 [==============================] - 42s 6ms/step - loss: 0.2133 - acc: 0.9378 - val_loss: 2.1668 - val_acc: 0.6054\n",
      "Epoch 141/200\n",
      "7079/7079 [==============================] - 38s 5ms/step - loss: 0.1451 - acc: 0.9535 - val_loss: 2.1600 - val_acc: 0.6115\n",
      "Epoch 142/200\n",
      "7079/7079 [==============================] - 39s 6ms/step - loss: 0.0916 - acc: 0.9703 - val_loss: 2.2504 - val_acc: 0.6017\n",
      "Epoch 143/200\n",
      "7079/7079 [==============================] - 39s 6ms/step - loss: 0.0784 - acc: 0.9771 - val_loss: 2.2522 - val_acc: 0.6201\n",
      "Epoch 144/200\n",
      "7079/7079 [==============================] - 41s 6ms/step - loss: 0.0585 - acc: 0.9812 - val_loss: 2.2401 - val_acc: 0.6422\n",
      "Epoch 145/200\n",
      "7079/7079 [==============================] - 40s 6ms/step - loss: 0.0531 - acc: 0.9840 - val_loss: 2.2713 - val_acc: 0.6262\n",
      "Epoch 146/200\n",
      "7079/7079 [==============================] - 39s 6ms/step - loss: 0.1010 - acc: 0.9708 - val_loss: 2.2568 - val_acc: 0.6299\n",
      "Epoch 147/200\n",
      "7079/7079 [==============================] - 40s 6ms/step - loss: 0.1052 - acc: 0.9696 - val_loss: 2.2135 - val_acc: 0.6262\n",
      "Epoch 148/200\n",
      "7079/7079 [==============================] - 39s 5ms/step - loss: 0.0943 - acc: 0.9717 - val_loss: 2.1937 - val_acc: 0.6127\n",
      "Epoch 149/200\n",
      "7079/7079 [==============================] - 41s 6ms/step - loss: 0.0668 - acc: 0.9809 - val_loss: 2.2275 - val_acc: 0.6201\n",
      "Epoch 150/200\n",
      "7079/7079 [==============================] - 38s 5ms/step - loss: 0.0992 - acc: 0.9713 - val_loss: 2.1641 - val_acc: 0.6262\n",
      "Epoch 151/200\n",
      "7079/7079 [==============================] - 43s 6ms/step - loss: 0.1159 - acc: 0.9603 - val_loss: 2.1684 - val_acc: 0.5993\n",
      "Epoch 152/200\n",
      "7079/7079 [==============================] - 39s 6ms/step - loss: 0.0958 - acc: 0.9702 - val_loss: 2.1189 - val_acc: 0.6066\n",
      "Epoch 153/200\n",
      "7079/7079 [==============================] - 39s 5ms/step - loss: 0.0600 - acc: 0.9833 - val_loss: 2.1412 - val_acc: 0.6066\n",
      "Epoch 154/200\n",
      "7079/7079 [==============================] - 41s 6ms/step - loss: 0.0572 - acc: 0.9849 - val_loss: 2.3365 - val_acc: 0.6042\n",
      "Epoch 155/200\n",
      "7079/7079 [==============================] - 40s 6ms/step - loss: 0.0433 - acc: 0.9871 - val_loss: 2.2743 - val_acc: 0.5907\n",
      "Epoch 156/200\n",
      "7079/7079 [==============================] - 42s 6ms/step - loss: 0.0980 - acc: 0.9737 - val_loss: 2.1071 - val_acc: 0.6042\n",
      "Epoch 157/200\n",
      "7079/7079 [==============================] - 38s 5ms/step - loss: 0.1333 - acc: 0.9623 - val_loss: 2.1476 - val_acc: 0.5895\n",
      "Epoch 158/200\n",
      "7079/7079 [==============================] - 41s 6ms/step - loss: 0.0979 - acc: 0.9713 - val_loss: 2.1840 - val_acc: 0.6078\n",
      "Epoch 159/200\n",
      "7079/7079 [==============================] - 39s 5ms/step - loss: 0.1229 - acc: 0.9648 - val_loss: 1.8316 - val_acc: 0.6556\n",
      "Epoch 160/200\n",
      "7079/7079 [==============================] - 40s 6ms/step - loss: 0.1096 - acc: 0.9667 - val_loss: 1.9534 - val_acc: 0.6311\n",
      "Epoch 161/200\n",
      "7079/7079 [==============================] - 41s 6ms/step - loss: 0.1017 - acc: 0.9720 - val_loss: 2.2116 - val_acc: 0.6066\n",
      "Epoch 162/200\n",
      "7079/7079 [==============================] - 40s 6ms/step - loss: 0.0688 - acc: 0.9799 - val_loss: 2.0959 - val_acc: 0.6262\n",
      "Epoch 163/200\n",
      "7079/7079 [==============================] - 40s 6ms/step - loss: 0.0474 - acc: 0.9857 - val_loss: 2.2499 - val_acc: 0.6042\n",
      "Epoch 164/200\n",
      "7079/7079 [==============================] - 41s 6ms/step - loss: 0.0642 - acc: 0.9818 - val_loss: 2.3010 - val_acc: 0.6189\n",
      "Epoch 165/200\n",
      "7079/7079 [==============================] - 39s 6ms/step - loss: 0.0641 - acc: 0.9816 - val_loss: 2.3086 - val_acc: 0.5956\n",
      "Epoch 166/200\n",
      "7079/7079 [==============================] - 39s 5ms/step - loss: 0.0839 - acc: 0.9760 - val_loss: 2.1643 - val_acc: 0.5980\n",
      "Epoch 167/200\n",
      "7079/7079 [==============================] - 40s 6ms/step - loss: 0.0982 - acc: 0.9733 - val_loss: 2.2579 - val_acc: 0.5944\n",
      "Epoch 168/200\n",
      "7079/7079 [==============================] - 41s 6ms/step - loss: 0.0549 - acc: 0.9835 - val_loss: 2.2351 - val_acc: 0.5968\n",
      "Epoch 169/200\n",
      "7079/7079 [==============================] - 40s 6ms/step - loss: 0.0466 - acc: 0.9879 - val_loss: 2.3027 - val_acc: 0.5907\n",
      "Epoch 170/200\n",
      "7079/7079 [==============================] - 41s 6ms/step - loss: 0.0457 - acc: 0.9871 - val_loss: 2.1908 - val_acc: 0.6189\n",
      "Epoch 171/200\n",
      "7079/7079 [==============================] - 42s 6ms/step - loss: 0.0478 - acc: 0.9876 - val_loss: 2.3549 - val_acc: 0.6054\n",
      "Epoch 172/200\n",
      "7079/7079 [==============================] - 41s 6ms/step - loss: 0.0411 - acc: 0.9887 - val_loss: 2.2901 - val_acc: 0.5968\n",
      "Epoch 173/200\n",
      "7079/7079 [==============================] - 40s 6ms/step - loss: 0.0751 - acc: 0.9788 - val_loss: 2.2294 - val_acc: 0.5993\n",
      "Epoch 174/200\n",
      "7079/7079 [==============================] - 39s 5ms/step - loss: 0.0931 - acc: 0.9739 - val_loss: 2.2519 - val_acc: 0.6140\n",
      "Epoch 175/200\n",
      "7079/7079 [==============================] - 40s 6ms/step - loss: 0.0961 - acc: 0.9706 - val_loss: 2.0926 - val_acc: 0.6176\n",
      "Epoch 176/200\n",
      "7079/7079 [==============================] - 40s 6ms/step - loss: 0.0747 - acc: 0.9780 - val_loss: 2.1597 - val_acc: 0.6238\n",
      "Epoch 177/200\n",
      "7079/7079 [==============================] - 40s 6ms/step - loss: 0.1048 - acc: 0.9695 - val_loss: 2.1836 - val_acc: 0.6189\n",
      "Epoch 178/200\n",
      "7079/7079 [==============================] - 38s 5ms/step - loss: 0.1697 - acc: 0.9515 - val_loss: 2.2732 - val_acc: 0.5846\n",
      "Epoch 179/200\n"
     ]
    },
    {
     "name": "stdout",
     "output_type": "stream",
     "text": [
      "7079/7079 [==============================] - 40s 6ms/step - loss: 0.1921 - acc: 0.9384 - val_loss: 2.1970 - val_acc: 0.5784\n",
      "Epoch 180/200\n",
      "7079/7079 [==============================] - 40s 6ms/step - loss: 0.1912 - acc: 0.9421 - val_loss: 2.1265 - val_acc: 0.6054\n",
      "Epoch 181/200\n",
      "7079/7079 [==============================] - 40s 6ms/step - loss: 0.1039 - acc: 0.9686 - val_loss: 2.0322 - val_acc: 0.6017\n",
      "Epoch 182/200\n",
      "7079/7079 [==============================] - 38s 5ms/step - loss: 0.0818 - acc: 0.9754 - val_loss: 2.2478 - val_acc: 0.5980\n",
      "Epoch 183/200\n",
      "7079/7079 [==============================] - 41s 6ms/step - loss: 0.0519 - acc: 0.9856 - val_loss: 2.2535 - val_acc: 0.6299\n",
      "Epoch 184/200\n",
      "7079/7079 [==============================] - 41s 6ms/step - loss: 0.0398 - acc: 0.9897 - val_loss: 2.3485 - val_acc: 0.6238\n",
      "Epoch 185/200\n",
      "7079/7079 [==============================] - 39s 5ms/step - loss: 0.0292 - acc: 0.9921 - val_loss: 2.2738 - val_acc: 0.6311\n",
      "Epoch 186/200\n",
      "7079/7079 [==============================] - 40s 6ms/step - loss: 0.0263 - acc: 0.9927 - val_loss: 2.3390 - val_acc: 0.6287\n",
      "Epoch 187/200\n",
      "7079/7079 [==============================] - 40s 6ms/step - loss: 0.0206 - acc: 0.9948 - val_loss: 2.4422 - val_acc: 0.6189\n",
      "Epoch 188/200\n",
      "7079/7079 [==============================] - 38s 5ms/step - loss: 0.0445 - acc: 0.9883 - val_loss: 2.5068 - val_acc: 0.6238\n",
      "Epoch 189/200\n",
      "7079/7079 [==============================] - 39s 6ms/step - loss: 0.0610 - acc: 0.9819 - val_loss: 2.4675 - val_acc: 0.6078\n",
      "Epoch 190/200\n",
      "7079/7079 [==============================] - 39s 5ms/step - loss: 0.1660 - acc: 0.9561 - val_loss: 2.5081 - val_acc: 0.5662\n",
      "Epoch 191/200\n",
      "7079/7079 [==============================] - 40s 6ms/step - loss: 0.2503 - acc: 0.9285 - val_loss: 2.3343 - val_acc: 0.5637\n",
      "Epoch 192/200\n",
      "7079/7079 [==============================] - 39s 6ms/step - loss: 0.2312 - acc: 0.9325 - val_loss: 2.1664 - val_acc: 0.6238\n",
      "Epoch 193/200\n",
      "7079/7079 [==============================] - 38s 5ms/step - loss: 0.1694 - acc: 0.9486 - val_loss: 2.1744 - val_acc: 0.6201\n",
      "Epoch 194/200\n",
      "7079/7079 [==============================] - 38s 5ms/step - loss: 0.1782 - acc: 0.9499 - val_loss: 2.2839 - val_acc: 0.6042\n",
      "Epoch 195/200\n",
      "7079/7079 [==============================] - 41s 6ms/step - loss: 0.2049 - acc: 0.9397 - val_loss: 2.3382 - val_acc: 0.5907\n",
      "Epoch 196/200\n",
      "7079/7079 [==============================] - 39s 6ms/step - loss: 0.1111 - acc: 0.9631 - val_loss: 2.2986 - val_acc: 0.6005\n",
      "Epoch 197/200\n",
      "7079/7079 [==============================] - 39s 6ms/step - loss: 0.0744 - acc: 0.9780 - val_loss: 2.3288 - val_acc: 0.5919\n",
      "Epoch 198/200\n",
      "7079/7079 [==============================] - 41s 6ms/step - loss: 0.0587 - acc: 0.9830 - val_loss: 2.5544 - val_acc: 0.6152\n",
      "Epoch 199/200\n",
      "7079/7079 [==============================] - 42s 6ms/step - loss: 0.0692 - acc: 0.9787 - val_loss: 2.4129 - val_acc: 0.6152\n",
      "Epoch 200/200\n",
      "7079/7079 [==============================] - 41s 6ms/step - loss: 0.0457 - acc: 0.9870 - val_loss: 2.3882 - val_acc: 0.6213\n"
     ]
    }
   ],
   "source": [
    "model_checkpoint = ModelCheckpoint(\n",
    "    os.path.join(modelfolder, 'rnn_epoch_{epoch:03d}_val_loss_{val_loss:.4f}.hdf5'),\n",
    "    monitor='val_loss', save_best_only=True)\n",
    "early_stopping = EarlyStopping(monitor='val_loss', patience=50, verbose=1)\n",
    "callbacks = [early_stopping, model_checkpoint]\n",
    "\n",
    "history = m.fit(x=np.array(X_train_scaled), y=y_train, batch_size=130,\n",
    "                    epochs=200, verbose=True,\n",
    "                    validation_data=(np.array(X_val_scaled), y_val), shuffle=True)"
   ]
  },
  {
   "cell_type": "code",
   "execution_count": 11,
   "metadata": {
    "slideshow": {
     "slide_type": "slide"
    }
   },
   "outputs": [
    {
     "name": "stdout",
     "output_type": "stream",
     "text": [
      "837/837 [==============================] - 1s 2ms/step\n"
     ]
    }
   ],
   "source": [
    "prediction = m.predict(np.array(X_test_scaled), batch_size=130, verbose=1)\n",
    "y_predict=np.array([ np.argmax(p) for p in prediction])\n",
    "y_test_label = np.array([np.argmax(y) for y in y_test])"
   ]
  },
  {
   "cell_type": "code",
   "execution_count": 12,
   "metadata": {
    "slideshow": {
     "slide_type": "subslide"
    }
   },
   "outputs": [
    {
     "name": "stdout",
     "output_type": "stream",
     "text": [
      "Accuracy: 0.59\n"
     ]
    },
    {
     "data": {
      "text/plain": [
       "<matplotlib.axes._subplots.AxesSubplot at 0x7fb481266d90>"
      ]
     },
     "execution_count": 12,
     "metadata": {},
     "output_type": "execute_result"
    },
    {
     "data": {
      "image/png": "[encoded data removed]",
      "text/plain": [
       "<matplotlib.figure.Figure at 0x7fb4813c5ed0>"
      ]
     },
     "metadata": {},
     "output_type": "display_data"
    }
   ],
   "source": [
    "from sklearn.metrics import confusion_matrix\n",
    "\n",
    "acc = np.sum(y_test_label==y_predict) / float(len(y_test_label))\n",
    "print('Accuracy: {:.2f}'.format(acc))\n",
    "\n",
    "cm = confusion_matrix(y_test_label, y_predict )\n",
    "sns.heatmap(cm, annot=True, annot_kws={\"size\": 14}, fmt='g', linewidths=.5, yticklabels=label_list,xticklabels=label_list)"
   ]
  }
 ],
 "metadata": {
  "celltoolbar": "Slideshow",
  "kernelspec": {
   "display_name": "Python 2",
   "language": "python",
   "name": "python2"
  },
  "language_info": {
   "codemirror_mode": {
    "name": "ipython",
    "version": 2
   },
   "file_extension": ".py",
   "mimetype": "text/x-python",
   "name": "python",
   "nbconvert_exporter": "python",
   "pygments_lexer": "ipython2",
   "version": "2.7.12"
  }
 },
 "nbformat": 4,
 "nbformat_minor": 2
}
