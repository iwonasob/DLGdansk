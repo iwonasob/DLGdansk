{
 "cells": [
  {
   "cell_type": "markdown",
   "metadata": {
    "slideshow": {
     "slide_type": "slide"
    }
   },
   "source": [
    "## Stacked Convolutional and Recurrent Neural Networks"
   ]
  },
  {
   "cell_type": "code",
   "execution_count": 1,
   "metadata": {
    "slideshow": {
     "slide_type": "slide"
    }
   },
   "outputs": [],
   "source": [
    "import os\n",
    "os.environ[\"PYTHONHASHSEED\"] = \"0\"\n",
    "\n",
    "import random as rn\n",
    "rn.seed(1254)\n",
    "\n",
    "import numpy as np\n",
    "np.random.seed(1515)\n",
    "\n",
    "%matplotlib inline\n",
    "import seaborn as sns\n",
    "import matplotlib.pyplot as plt\n",
    "\n",
    "from tqdm import tqdm\n",
    "import glob\n",
    "import h5py\n",
    "import pickle"
   ]
  },
  {
   "cell_type": "code",
   "execution_count": 2,
   "metadata": {
    "slideshow": {
     "slide_type": "-"
    }
   },
   "outputs": [],
   "source": [
    "plt.rcParams['figure.figsize'] = (14, 6)"
   ]
  },
  {
   "cell_type": "code",
   "execution_count": 3,
   "metadata": {
    "slideshow": {
     "slide_type": "subslide"
    }
   },
   "outputs": [
    {
     "name": "stderr",
     "output_type": "stream",
     "text": [
      "Using TensorFlow backend.\n"
     ]
    }
   ],
   "source": [
    "os.environ[\"CUDA_DEVICE_ORDER\"] = \"PCI_BUS_ID\"   \n",
    "os.environ[\"CUDA_VISIBLE_DEVICES\"] = \"1\"\n",
    "\n",
    "import tensorflow as tf\n",
    "tf.set_random_seed(2)\n",
    "\n",
    "config = tf.ConfigProto(\n",
    "    intra_op_parallelism_threads=1,\n",
    "    inter_op_parallelism_threads=1 \n",
    ")\n",
    "\n",
    "config.gpu_options.allow_growth = True  # dynamically grow the memory used on the GPU\n",
    "sess = tf.Session(graph= tf.get_default_graph(), config=config) \n",
    "    \n",
    "import keras \n",
    "from keras import backend as K\n",
    "K.set_session(sess)  # set this TensorFlow session as the default session for Keras\n",
    "\n",
    "from keras.layers import Input, Conv2D, MaxPooling2D, LSTM, Reshape\n",
    "from keras.layers.wrappers import TimeDistributed\n",
    "from keras.layers import Dense, Flatten\n",
    "from keras.layers.core import Dropout\n",
    "from keras.models import Model\n",
    "from keras.layers.normalization import BatchNormalization\n",
    "from keras.regularizers import l2\n",
    "from keras.callbacks import EarlyStopping, ModelCheckpoint"
   ]
  },
  {
   "cell_type": "code",
   "execution_count": 4,
   "metadata": {
    "slideshow": {
     "slide_type": "subslide"
    }
   },
   "outputs": [],
   "source": [
    "#SET PATHS\n",
    "workspace = '/home/speakers/isobieraj/workspace'\n",
    "\n",
    "hdf5_path = os.path.join(workspace,'dataset.hdf5') \n",
    "modelfolder = os.path.join(workspace,'models')\n",
    "scalerpath = os.path.join(workspace,'scaler.pkl')"
   ]
  },
  {
   "cell_type": "code",
   "execution_count": 5,
   "metadata": {
    "slideshow": {
     "slide_type": "slide"
    }
   },
   "outputs": [],
   "source": [
    "# LOAD DATA\n",
    "hf = h5py.File(hdf5_path, 'r')\n",
    "X_train = np.array(hf.get('X_train') )\n",
    "y_train = np.array(hf.get('y_train'))\n",
    "X_val =  np.array(hf.get('X_val'))\n",
    "y_val= np.array(hf.get('y_val'))\n",
    "X_test = np.array(hf.get('X_test'))\n",
    "y_test = np.array(hf.get('y_test'))\n",
    "\n",
    "n_features= hf.get('n_features').value\n",
    "n_frames=hf.get('max_length_samp').value\n",
    "label_list= hf.get('label_list').value"
   ]
  },
  {
   "cell_type": "code",
   "execution_count": 6,
   "metadata": {
    "slideshow": {
     "slide_type": "subslide"
    }
   },
   "outputs": [],
   "source": [
    "# SCALE THE DATA\n",
    "scaler = pickle.load(open(scalerpath, 'rb'), encoding='latin1') #python2 object to python3\n",
    "#scaler=pickle.load(open(scalerpath, 'rb'))\n",
    "\n",
    "X_train_scaled = [scaler.transform(x.T) for x in X_train]\n",
    "X_val_scaled = [scaler.transform(x.T) for x in X_val]\n",
    "X_test_scaled = [scaler.transform(x.T) for x in X_test]\n",
    "\n",
    "# CHANGE DIMENSION TO FIT KERAS\n",
    "X_train = np.expand_dims(X_train_scaled, 3)\n",
    "X_val = np.expand_dims(X_val_scaled, 3)\n",
    "X_test = np.expand_dims(X_test_scaled, 3)"
   ]
  },
  {
   "cell_type": "code",
   "execution_count": 7,
   "metadata": {
    "slideshow": {
     "slide_type": "slide"
    }
   },
   "outputs": [],
   "source": [
    "def build_crnn(n_features=n_features, n_frames=n_frames, n_filters_cnn=48,\n",
    "                     filter_size_cnn=(3, 3), pool_size=(2,2),\n",
    "                     n_classes=10):\n",
    "\n",
    "    # INPUT\n",
    "    x = Input(shape=( n_frames, n_features, 1), dtype='float32')\n",
    "\n",
    "    # CONV 1\n",
    "    y = Conv2D(n_filters_cnn, filter_size_cnn, padding='valid', \n",
    "               kernel_regularizer=l2(0.01), activation='relu')(x)\n",
    "    y = MaxPooling2D(pool_size=pool_size, strides=None, padding='valid')(y)\n",
    "    y = BatchNormalization()(y)\n",
    "\n",
    "    y = Dropout(0.5)(y)\n",
    "    # CONV 2\n",
    "    y = Conv2D(n_filters_cnn, filter_size_cnn, padding='valid',\n",
    "               kernel_regularizer=l2(0.01), activation='relu')(y)\n",
    "    y = MaxPooling2D(pool_size=pool_size, strides=None, padding='valid')(y)\n",
    "    y = BatchNormalization()(y)\n",
    "\n",
    "    y = Dropout(0.5)(y)\n",
    "    # CONV 3\n",
    "    y = Conv2D(n_filters_cnn, filter_size_cnn, padding='valid',\n",
    "               kernel_regularizer=l2(0.01), activation='relu')(y)\n",
    "    y = MaxPooling2D(pool_size=pool_size, strides=None, padding='valid')(y)\n",
    "    y = BatchNormalization()(y)\n",
    "    \n",
    "    y = TimeDistributed(Flatten())(y)\n",
    "            \n",
    "    y= LSTM(20, return_sequences = True)(y)\n",
    "    y= Dropout(0.5)(y)  \n",
    "    \n",
    "    y= LSTM(20)(y)\n",
    "    y= Dropout(0.5)(y) \n",
    "\n",
    "    y = Dense(n_classes, activation='softmax')(y)\n",
    "\n",
    "    m = Model(inputs=x, outputs=y)\n",
    "    return m"
   ]
  },
  {
   "cell_type": "code",
   "execution_count": 8,
   "metadata": {
    "slideshow": {
     "slide_type": "subslide"
    }
   },
   "outputs": [
    {
     "name": "stdout",
     "output_type": "stream",
     "text": [
      "_________________________________________________________________\n",
      "Layer (type)                 Output Shape              Param #   \n",
      "=================================================================\n",
      "input_1 (InputLayer)         (None, 173, 40, 1)        0         \n",
      "_________________________________________________________________\n",
      "conv2d_1 (Conv2D)            (None, 171, 38, 48)       480       \n",
      "_________________________________________________________________\n",
      "max_pooling2d_1 (MaxPooling2 (None, 85, 19, 48)        0         \n",
      "_________________________________________________________________\n",
      "batch_normalization_1 (Batch (None, 85, 19, 48)        192       \n",
      "_________________________________________________________________\n",
      "dropout_1 (Dropout)          (None, 85, 19, 48)        0         \n",
      "_________________________________________________________________\n",
      "conv2d_2 (Conv2D)            (None, 83, 17, 48)        20784     \n",
      "_________________________________________________________________\n",
      "max_pooling2d_2 (MaxPooling2 (None, 41, 8, 48)         0         \n",
      "_________________________________________________________________\n",
      "batch_normalization_2 (Batch (None, 41, 8, 48)         192       \n",
      "_________________________________________________________________\n",
      "dropout_2 (Dropout)          (None, 41, 8, 48)         0         \n",
      "_________________________________________________________________\n",
      "conv2d_3 (Conv2D)            (None, 39, 6, 48)         20784     \n",
      "_________________________________________________________________\n",
      "max_pooling2d_3 (MaxPooling2 (None, 19, 3, 48)         0         \n",
      "_________________________________________________________________\n",
      "batch_normalization_3 (Batch (None, 19, 3, 48)         192       \n",
      "_________________________________________________________________\n",
      "time_distributed_1 (TimeDist (None, 19, 144)           0         \n",
      "_________________________________________________________________\n",
      "lstm_1 (LSTM)                (None, 19, 20)            13200     \n",
      "_________________________________________________________________\n",
      "dropout_3 (Dropout)          (None, 19, 20)            0         \n",
      "_________________________________________________________________\n",
      "lstm_2 (LSTM)                (None, 20)                3280      \n",
      "_________________________________________________________________\n",
      "dropout_4 (Dropout)          (None, 20)                0         \n",
      "_________________________________________________________________\n",
      "dense_1 (Dense)              (None, 10)                210       \n",
      "=================================================================\n",
      "Total params: 59,314\n",
      "Trainable params: 59,026\n",
      "Non-trainable params: 288\n",
      "_________________________________________________________________\n"
     ]
    }
   ],
   "source": [
    "m = build_crnn(n_features=40,)\n",
    "m.summary()"
   ]
  },
  {
   "cell_type": "code",
   "execution_count": 9,
   "metadata": {
    "slideshow": {
     "slide_type": "notes"
    }
   },
   "outputs": [],
   "source": [
    "#from keras.utils import plot_model\n",
    "#plot_model(m, to_file='figures/crnn_model_shape.png', show_shapes=True)"
   ]
  },
  {
   "cell_type": "markdown",
   "metadata": {
    "slideshow": {
     "slide_type": "subslide"
    }
   },
   "source": [
    "<img src='figures/crnn_model_shape.png'>"
   ]
  },
  {
   "cell_type": "code",
   "execution_count": 10,
   "metadata": {
    "slideshow": {
     "slide_type": "slide"
    }
   },
   "outputs": [],
   "source": [
    "adam= keras.optimizers.Adam(lr=0.001, decay=1e-5)\n",
    "m.compile(loss='categorical_crossentropy', optimizer=adam, metrics=['accuracy'])"
   ]
  },
  {
   "cell_type": "code",
   "execution_count": null,
   "metadata": {
    "slideshow": {
     "slide_type": "subslide"
    }
   },
   "outputs": [],
   "source": [
    "model_checkpoint = ModelCheckpoint(\n",
    "                os.path.join(modelfolder, \n",
    "                        'crnn_epoch_{epoch:03d}_val_loss_{val_loss:.4f}.hdf5'),\n",
    "                monitor='val_loss', \n",
    "                save_best_only=True)\n",
    "\n",
    "early_stopping = EarlyStopping(monitor='val_loss', patience=50, verbose=1)\n",
    "callbacks = [early_stopping, model_checkpoint]"
   ]
  },
  {
   "cell_type": "code",
   "execution_count": null,
   "metadata": {
    "slideshow": {
     "slide_type": "subslide"
    }
   },
   "outputs": [
    {
     "name": "stdout",
     "output_type": "stream",
     "text": [
      "Train on 7079 samples, validate on 816 samples\n",
      "Epoch 1/200\n",
      "7079/7079 [==============================] - 164s 23ms/step - loss: 2.7917 - acc: 0.2349 - val_loss: 2.6792 - val_acc: 0.1360\n",
      "Epoch 2/200\n",
      "7079/7079 [==============================] - 163s 23ms/step - loss: 2.1557 - acc: 0.3852 - val_loss: 2.2599 - val_acc: 0.3370\n",
      "Epoch 3/200\n",
      "7079/7079 [==============================] - 163s 23ms/step - loss: 1.7812 - acc: 0.4989 - val_loss: 2.1730 - val_acc: 0.3505\n",
      "Epoch 4/200\n",
      "7079/7079 [==============================] - 163s 23ms/step - loss: 1.5612 - acc: 0.5504 - val_loss: 1.8715 - val_acc: 0.4583\n",
      "Epoch 5/200\n",
      "7079/7079 [==============================] - 163s 23ms/step - loss: 1.3901 - acc: 0.6117 - val_loss: 1.9267 - val_acc: 0.4841\n",
      "Epoch 6/200\n",
      "7079/7079 [==============================] - 166s 23ms/step - loss: 1.2606 - acc: 0.6637 - val_loss: 1.6456 - val_acc: 0.5515\n",
      "Epoch 7/200\n",
      "7079/7079 [==============================] - 191s 27ms/step - loss: 1.1967 - acc: 0.6806 - val_loss: 1.6067 - val_acc: 0.5613\n",
      "Epoch 8/200\n",
      "7079/7079 [==============================] - 247s 35ms/step - loss: 1.1037 - acc: 0.7223 - val_loss: 1.7429 - val_acc: 0.5748\n",
      "Epoch 9/200\n",
      "7079/7079 [==============================] - 210s 30ms/step - loss: 1.0645 - acc: 0.7348 - val_loss: 1.5661 - val_acc: 0.5980\n",
      "Epoch 10/200\n",
      "7079/7079 [==============================] - 300s 42ms/step - loss: 0.9801 - acc: 0.7704 - val_loss: 1.4564 - val_acc: 0.6434\n",
      "Epoch 11/200\n",
      "7079/7079 [==============================] - 164s 23ms/step - loss: 0.9506 - acc: 0.7792 - val_loss: 1.7329 - val_acc: 0.5551\n",
      "Epoch 12/200\n",
      "7079/7079 [==============================] - 164s 23ms/step - loss: 0.9292 - acc: 0.7915 - val_loss: 1.5149 - val_acc: 0.6471\n",
      "Epoch 13/200\n",
      "7079/7079 [==============================] - 164s 23ms/step - loss: 0.8675 - acc: 0.8161 - val_loss: 1.7609 - val_acc: 0.6066\n",
      "Epoch 14/200\n",
      "7079/7079 [==============================] - 162s 23ms/step - loss: 0.8428 - acc: 0.8172 - val_loss: 1.7294 - val_acc: 0.6042\n",
      "Epoch 15/200\n",
      "7079/7079 [==============================] - 274s 39ms/step - loss: 0.7917 - acc: 0.8323 - val_loss: 1.8119 - val_acc: 0.5625\n",
      "Epoch 16/200\n",
      "7079/7079 [==============================] - 169s 24ms/step - loss: 0.8670 - acc: 0.8138 - val_loss: 1.7196 - val_acc: 0.5980\n",
      "Epoch 17/200\n",
      "7079/7079 [==============================] - 170s 24ms/step - loss: 0.7871 - acc: 0.8402 - val_loss: 1.8967 - val_acc: 0.6005\n",
      "Epoch 18/200\n",
      "7079/7079 [==============================] - 169s 24ms/step - loss: 0.7489 - acc: 0.8551 - val_loss: 1.5179 - val_acc: 0.6409\n",
      "Epoch 19/200\n",
      "7079/7079 [==============================] - 170s 24ms/step - loss: 0.7230 - acc: 0.8601 - val_loss: 1.7627 - val_acc: 0.6397\n",
      "Epoch 20/200\n",
      "7020/7079 [============================>.] - ETA: 1s - loss: 0.7302 - acc: 0.8527"
     ]
    }
   ],
   "source": [
    "history = m.fit(x=X_train, y=y_train, batch_size=130,\n",
    "                    epochs=200, verbose=True,\n",
    "                    validation_split=0.0,\n",
    "                    callbacks=callbacks,\n",
    "                    validation_data=(X_val, y_val), shuffle=True)"
   ]
  },
  {
   "cell_type": "code",
   "execution_count": null,
   "metadata": {
    "slideshow": {
     "slide_type": "subslide"
    }
   },
   "outputs": [],
   "source": [
    "plt.subplot(1,2,1)\n",
    "plt.plot(history.history['acc'], label='Accuracy')\n",
    "plt.plot(history.history['val_acc'], label='Validation accuracy')\n",
    "plt.legend()\n",
    "plt.xlabel('Epochs')\n",
    "plt.ylabel('Accuracy')\n",
    "\n",
    "plt.subplot(1,2,2)\n",
    "plt.plot(history.history['loss'], label='Loss')\n",
    "plt.plot(history.history['val_loss'], label='Validation loss')\n",
    "plt.legend()\n",
    "plt.xlabel('Epochs')\n",
    "plt.ylabel('Loss')"
   ]
  },
  {
   "cell_type": "code",
   "execution_count": null,
   "metadata": {
    "slideshow": {
     "slide_type": "slide"
    }
   },
   "outputs": [],
   "source": [
    "prediction = m.predict(X_test, batch_size=130, verbose=1)\n",
    "y_predict=np.array([ np.argmax(p) for p in prediction])\n",
    "y_test_label = np.array([np.argmax(y) for y in y_test])"
   ]
  },
  {
   "cell_type": "code",
   "execution_count": null,
   "metadata": {
    "slideshow": {
     "slide_type": "subslide"
    }
   },
   "outputs": [],
   "source": [
    "from sklearn.metrics import confusion_matrix\n",
    "\n",
    "acc = np.sum(y_test_label==y_predict) / float(len(y_test_label))\n",
    "print('Accuracy: {:.2f}'.format(acc))\n",
    "\n",
    "cm = confusion_matrix(y_test_label, y_predict )\n",
    "sns.heatmap(cm, annot=True, annot_kws={\"size\": 14}, fmt='g', linewidths=.5, \n",
    "            yticklabels=label_list,xticklabels=label_list)\n",
    "plt.ylabel('True label')\n",
    "plt.xlabel('Predicted label')"
   ]
  },
  {
   "cell_type": "markdown",
   "metadata": {
    "slideshow": {
     "slide_type": "slide"
    }
   },
   "source": [
    "#### Final results"
   ]
  },
  {
   "cell_type": "markdown",
   "metadata": {
    "slideshow": {
     "slide_type": "fragment"
    }
   },
   "source": [
    "|              | CNN           | RNN  | CRNN |\n",
    "| ------------- |:-------------:| -----:| -----:|\n",
    "| Accuracy     | 73% | 55% | 74% | "
   ]
  },
  {
   "cell_type": "markdown",
   "metadata": {
    "slideshow": {
     "slide_type": "fragment"
    }
   },
   "source": [
    "+ seems that CRNN are doing a good job\n",
    "+ but proper statistical analysis would be needed to really be able to say that"
   ]
  }
 ],
 "metadata": {
  "celltoolbar": "Slideshow",
  "kernelspec": {
   "display_name": "Python 3",
   "language": "python",
   "name": "python3"
  },
  "language_info": {
   "codemirror_mode": {
    "name": "ipython",
    "version": 3
   },
   "file_extension": ".py",
   "mimetype": "text/x-python",
   "name": "python",
   "nbconvert_exporter": "python",
   "pygments_lexer": "ipython3",
   "version": "3.6.3"
  }
 },
 "nbformat": 4,
 "nbformat_minor": 2
}
