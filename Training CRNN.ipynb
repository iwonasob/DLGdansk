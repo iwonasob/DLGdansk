{
 "cells": [
  {
   "cell_type": "markdown",
   "metadata": {
    "slideshow": {
     "slide_type": "slide"
    }
   },
   "source": [
    "## Stacked Convolutional Recurrent Neural Networks"
   ]
  },
  {
   "cell_type": "code",
   "execution_count": 1,
   "metadata": {
    "slideshow": {
     "slide_type": "slide"
    }
   },
   "outputs": [],
   "source": [
    "import os\n",
    "os.environ[\"PYTHONHASHSEED\"] = \"0\"\n",
    "\n",
    "import random as rn\n",
    "rn.seed(1254)\n",
    "\n",
    "import numpy as np\n",
    "np.random.seed(1515)\n",
    "\n",
    "%matplotlib inline\n",
    "import seaborn as sns\n",
    "import matplotlib.pyplot as plt\n",
    "\n",
    "import librosa, librosa.display, IPython.display as ipd\n",
    "from tqdm import tqdm\n",
    "import glob\n",
    "import pandas as pd\n",
    "import h5py\n",
    "from sklearn import preprocessing\n",
    "import pickle"
   ]
  },
  {
   "cell_type": "code",
   "execution_count": 2,
   "metadata": {
    "slideshow": {
     "slide_type": "-"
    }
   },
   "outputs": [],
   "source": [
    "plt.rcParams['figure.figsize'] = (14, 6)"
   ]
  },
  {
   "cell_type": "code",
   "execution_count": 3,
   "metadata": {
    "slideshow": {
     "slide_type": "subslide"
    }
   },
   "outputs": [
    {
     "name": "stderr",
     "output_type": "stream",
     "text": [
      "Using TensorFlow backend.\n"
     ]
    }
   ],
   "source": [
    "os.environ[\"CUDA_DEVICE_ORDER\"] = \"PCI_BUS_ID\"   \n",
    "os.environ[\"CUDA_VISIBLE_DEVICES\"] = \"1\"\n",
    "\n",
    "import tensorflow as tf\n",
    "tf.set_random_seed(2)\n",
    "\n",
    "config = tf.ConfigProto(\n",
    "    intra_op_parallelism_threads=1,\n",
    "    inter_op_parallelism_threads=1 \n",
    ")\n",
    "\n",
    "config.gpu_options.allow_growth = True  # dynamically grow the memory used on the GPU\n",
    "sess = tf.Session(graph= tf.get_default_graph(), config=config) \n",
    "    \n",
    "import keras \n",
    "from keras import backend as K\n",
    "K.set_session(sess)  # set this TensorFlow session as the default session for Keras\n",
    "\n",
    "from keras.layers import Input, Conv2D, MaxPooling2D, LSTM, Reshape, Bidirectional\n",
    "from keras.layers.wrappers import TimeDistributed\n",
    "from keras.layers import Dense, Flatten\n",
    "from keras.layers.core import Dropout\n",
    "from keras.models import Model\n",
    "from keras.layers.normalization import BatchNormalization\n",
    "from keras.regularizers import l2\n",
    "from keras.callbacks import EarlyStopping, ModelCheckpoint"
   ]
  },
  {
   "cell_type": "code",
   "execution_count": 4,
   "metadata": {
    "slideshow": {
     "slide_type": "subslide"
    }
   },
   "outputs": [],
   "source": [
    "#SET PATHS\n",
    "dataspace = '/vol/vssp/datasets/audio01/UrbanSound8K/audio/'\n",
    "projectspace = '/vol/vssp/AcousticEventsDetection/DLGdansk/UrbanSound/'\n",
    "\n",
    "metadatafile = '/vol/vssp/datasets/audio01/UrbanSound8K/metadata/UrbanSound8K.csv'\n",
    "metadata = pd.read_csv(metadatafile)\n",
    "\n",
    "hdf5_path = os.path.join(projectspace,'dataset.hdf5') \n",
    "modelfolder = os.path.join(projectspace,'models')\n",
    "scalerpath = os.path.join(projectspace,'scaler.pkl')"
   ]
  },
  {
   "cell_type": "code",
   "execution_count": 5,
   "metadata": {
    "slideshow": {
     "slide_type": "slide"
    }
   },
   "outputs": [],
   "source": [
    "# LOAD DATA\n",
    "hf = h5py.File(hdf5_path, 'r')\n",
    "X_train = np.array(hf.get('X_train') )\n",
    "y_train = np.array(hf.get('y_train'))\n",
    "X_val =  np.array(hf.get('X_val'))\n",
    "y_val= np.array(hf.get('y_val'))\n",
    "X_test = np.array(hf.get('X_test'))\n",
    "y_test = np.array(hf.get('y_test'))\n",
    "\n",
    "n_features= hf.get('n_features').value\n",
    "n_frames=hf.get('max_length_samp').value\n",
    "label_list= hf.get('label_list').value"
   ]
  },
  {
   "cell_type": "code",
   "execution_count": 6,
   "metadata": {
    "slideshow": {
     "slide_type": "subslide"
    }
   },
   "outputs": [],
   "source": [
    "# SCALE THE DATA\n",
    "scaler=pickle.load(open(scalerpath, 'rb'))\n",
    "\n",
    "X_train_scaled = [scaler.transform(x.T) for x in X_train]\n",
    "X_val_scaled = [scaler.transform(x.T) for x in X_val]\n",
    "X_test_scaled = [scaler.transform(x.T) for x in X_test]\n",
    "\n",
    "# CHANGE DIMENSION TO FIT KERAS\n",
    "X_train = np.expand_dims(X_train_scaled, 3)\n",
    "X_val = np.expand_dims(X_val_scaled, 3)\n",
    "X_test = np.expand_dims(X_test_scaled, 3)"
   ]
  },
  {
   "cell_type": "code",
   "execution_count": 7,
   "metadata": {
    "slideshow": {
     "slide_type": "skip"
    }
   },
   "outputs": [],
   "source": [
    "def build_crnn(n_frames=n_frames, n_features=n_features,  n_filters_cnn=48,\n",
    "                     filter_size_cnn=(5, 5), pool_size_cnn=(2,2),\n",
    "                     n_classes=10):\n",
    "\n",
    "    # INPUT\n",
    "    x = Input(shape=(n_frames, n_features,  1), dtype='float32')\n",
    "\n",
    "    # CONV 1\n",
    "    y = Conv2D(n_filters_cnn, filter_size_cnn, padding='same', kernel_regularizer=l2(0.01),\n",
    "               activation='relu')(x)\n",
    "    y = MaxPooling2D(pool_size=(1,2), strides=None, padding='same')(y)\n",
    "    y = BatchNormalization()(y)\n",
    "\n",
    "    # CONV 2\n",
    "    y = Conv2D(n_filters_cnn, filter_size_cnn, padding='same', kernel_regularizer=l2(0.01),\n",
    "               activation='relu')(y)\n",
    "    y = MaxPooling2D(pool_size=(1,2), strides=None, padding='same')(y)\n",
    "    y = BatchNormalization()(y)\n",
    "\n",
    "    # CONV 3\n",
    "    y = Conv2D(n_filters_cnn, filter_size_cnn, padding='same', kernel_regularizer=l2(0.01),\n",
    "               activation='relu')(y)\n",
    "    y = MaxPooling2D(pool_size=(1,2), strides=None, padding='same')(y)\n",
    "    y = BatchNormalization()(y)\n",
    "    \n",
    "    # CONV 4\n",
    "    y = Conv2D(n_filters_cnn, filter_size_cnn, padding='same', kernel_regularizer=l2(0.01),\n",
    "               activation='relu')(y)\n",
    "    y = MaxPooling2D(pool_size=(1,5), strides=None, padding='same')(y)\n",
    "    y = BatchNormalization()(y)\n",
    "    \n",
    "    y = Reshape((n_frames, n_filters_cnn))(y)\n",
    "    \n",
    "    #y = Dropout(0.5)(y)\n",
    "    y= LSTM(120)(y)\n",
    "    #y = Dropout(0.5)(y)\n",
    "    #y = Dense(n_dense_cnn, activation='relu')(y)\n",
    "\n",
    "    #y = Dropout(0.5)(y)\n",
    "    y = Dense(n_classes, activation='sigmoid')(y)\n",
    "\n",
    "    m = Model(inputs=x, outputs=y)\n",
    "    return m"
   ]
  },
  {
   "cell_type": "code",
   "execution_count": 8,
   "metadata": {
    "slideshow": {
     "slide_type": "skip"
    }
   },
   "outputs": [
    {
     "name": "stdout",
     "output_type": "stream",
     "text": [
      "_________________________________________________________________\n",
      "Layer (type)                 Output Shape              Param #   \n",
      "=================================================================\n",
      "input_1 (InputLayer)         (None, 173, 40, 1)        0         \n",
      "_________________________________________________________________\n",
      "conv2d_1 (Conv2D)            (None, 173, 40, 48)       1248      \n",
      "_________________________________________________________________\n",
      "max_pooling2d_1 (MaxPooling2 (None, 173, 20, 48)       0         \n",
      "_________________________________________________________________\n",
      "batch_normalization_1 (Batch (None, 173, 20, 48)       192       \n",
      "_________________________________________________________________\n",
      "conv2d_2 (Conv2D)            (None, 173, 20, 48)       57648     \n",
      "_________________________________________________________________\n",
      "max_pooling2d_2 (MaxPooling2 (None, 173, 10, 48)       0         \n",
      "_________________________________________________________________\n",
      "batch_normalization_2 (Batch (None, 173, 10, 48)       192       \n",
      "_________________________________________________________________\n",
      "conv2d_3 (Conv2D)            (None, 173, 10, 48)       57648     \n",
      "_________________________________________________________________\n",
      "max_pooling2d_3 (MaxPooling2 (None, 173, 5, 48)        0         \n",
      "_________________________________________________________________\n",
      "batch_normalization_3 (Batch (None, 173, 5, 48)        192       \n",
      "_________________________________________________________________\n",
      "conv2d_4 (Conv2D)            (None, 173, 5, 48)        57648     \n",
      "_________________________________________________________________\n",
      "max_pooling2d_4 (MaxPooling2 (None, 173, 1, 48)        0         \n",
      "_________________________________________________________________\n",
      "batch_normalization_4 (Batch (None, 173, 1, 48)        192       \n",
      "_________________________________________________________________\n",
      "reshape_1 (Reshape)          (None, 173, 48)           0         \n",
      "_________________________________________________________________\n",
      "lstm_1 (LSTM)                (None, 120)               81120     \n",
      "_________________________________________________________________\n",
      "dense_1 (Dense)              (None, 10)                1210      \n",
      "=================================================================\n",
      "Total params: 257,290\n",
      "Trainable params: 256,906\n",
      "Non-trainable params: 384\n",
      "_________________________________________________________________\n"
     ]
    }
   ],
   "source": [
    "m = build_crnn(n_features=40,)\n",
    "m.summary()"
   ]
  },
  {
   "cell_type": "code",
   "execution_count": 9,
   "metadata": {},
   "outputs": [],
   "source": [
    "from keras.utils import plot_model\n",
    "plot_model(m, to_file='figures/crnn_model.png', show_shapes=True)"
   ]
  },
  {
   "cell_type": "markdown",
   "metadata": {},
   "source": [
    "<img src='figures/crnn_model.png'>"
   ]
  },
  {
   "cell_type": "code",
   "execution_count": 10,
   "metadata": {
    "slideshow": {
     "slide_type": "skip"
    }
   },
   "outputs": [],
   "source": [
    "m.compile(loss='categorical_crossentropy', optimizer='adam', metrics=['accuracy'])"
   ]
  },
  {
   "cell_type": "code",
   "execution_count": null,
   "metadata": {
    "slideshow": {
     "slide_type": "skip"
    }
   },
   "outputs": [
    {
     "name": "stdout",
     "output_type": "stream",
     "text": [
      "Train on 7079 samples, validate on 816 samples\n",
      "Epoch 1/200\n",
      "7079/7079 [==============================] - 41s 6ms/step - loss: 2.7309 - acc: 0.3420 - val_loss: 2.9480 - val_acc: 0.1593\n",
      "Epoch 2/200\n",
      "7079/7079 [==============================] - 35s 5ms/step - loss: 1.9918 - acc: 0.4875 - val_loss: 2.8024 - val_acc: 0.2230\n",
      "Epoch 3/200\n",
      "7079/7079 [==============================] - 35s 5ms/step - loss: 1.9979 - acc: 0.4943 - val_loss: 3.2143 - val_acc: 0.0956\n",
      "Epoch 4/200\n",
      "7079/7079 [==============================] - 35s 5ms/step - loss: 1.9016 - acc: 0.5179 - val_loss: 2.6474 - val_acc: 0.2512\n",
      "Epoch 5/200\n",
      "7079/7079 [==============================] - 35s 5ms/step - loss: 1.8799 - acc: 0.5382 - val_loss: 2.6038 - val_acc: 0.3002\n",
      "Epoch 6/200\n",
      "7079/7079 [==============================] - 36s 5ms/step - loss: 1.6692 - acc: 0.6070 - val_loss: 2.5740 - val_acc: 0.3358\n",
      "Epoch 7/200\n",
      "7079/7079 [==============================] - 36s 5ms/step - loss: 1.5937 - acc: 0.6309 - val_loss: 2.4830 - val_acc: 0.3493\n",
      "Epoch 8/200\n",
      "7079/7079 [==============================] - 36s 5ms/step - loss: 1.6765 - acc: 0.5940 - val_loss: 2.2364 - val_acc: 0.4363\n",
      "Epoch 9/200\n",
      "7079/7079 [==============================] - 36s 5ms/step - loss: 2.0344 - acc: 0.4920 - val_loss: 2.1058 - val_acc: 0.4718\n",
      "Epoch 10/200\n",
      "7079/7079 [==============================] - 37s 5ms/step - loss: 1.8057 - acc: 0.5910 - val_loss: 2.0698 - val_acc: 0.4730\n",
      "Epoch 11/200\n",
      "7079/7079 [==============================] - 36s 5ms/step - loss: 1.5507 - acc: 0.6622 - val_loss: 2.1698 - val_acc: 0.4645\n",
      "Epoch 12/200\n",
      "7079/7079 [==============================] - 35s 5ms/step - loss: 1.9672 - acc: 0.5180 - val_loss: 2.8081 - val_acc: 0.3211\n",
      "Epoch 13/200\n",
      "7079/7079 [==============================] - 35s 5ms/step - loss: 1.7887 - acc: 0.5968 - val_loss: 2.2216 - val_acc: 0.4289\n",
      "Epoch 14/200\n",
      " 520/7079 [=>............................] - ETA: 31s - loss: 1.6394 - acc: 0.6481"
     ]
    }
   ],
   "source": [
    "model_checkpoint = ModelCheckpoint(\n",
    "    os.path.join(modelfolder, 'crnn_epoch_{epoch:03d}_val_loss_{val_loss:.4f}.hdf5'),\n",
    "    monitor='val_loss', save_best_only=True)\n",
    "early_stopping = EarlyStopping(monitor='val_loss', patience=50, verbose=1)\n",
    "callbacks = [early_stopping, model_checkpoint]\n",
    "\n",
    "history = m.fit(x=X_train, y=y_train, batch_size=130,\n",
    "                    epochs=200, verbose=True,\n",
    "                    validation_split=0.0,\n",
    "                    callbacks=callbacks,\n",
    "                    validation_data=(X_val, y_val), shuffle=True)"
   ]
  },
  {
   "cell_type": "code",
   "execution_count": null,
   "metadata": {
    "slideshow": {
     "slide_type": "skip"
    }
   },
   "outputs": [],
   "source": [
    "prediction = m.predict(X_test, batch_size=130, verbose=1)\n",
    "y_predict=np.array([ np.argmax(p) for p in prediction])\n",
    "y_test_label = np.array([np.argmax(y) for y in y_test])"
   ]
  },
  {
   "cell_type": "code",
   "execution_count": null,
   "metadata": {
    "slideshow": {
     "slide_type": "skip"
    }
   },
   "outputs": [],
   "source": [
    "from sklearn.metrics import confusion_matrix\n",
    "\n",
    "acc = np.sum(y_test_label==y_predict) / float(len(y_test_label))\n",
    "print('Accuracy: {:.2f}'.format(acc))\n",
    "\n",
    "cm = confusion_matrix(y_test_label, y_predict )\n",
    "sns.heatmap(cm, annot=True, annot_kws={\"size\": 14}, fmt='g', linewidths=.5, yticklabels=label_list,xticklabels=label_list)"
   ]
  },
  {
   "cell_type": "code",
   "execution_count": null,
   "metadata": {
    "slideshow": {
     "slide_type": "slide"
    }
   },
   "outputs": [],
   "source": [
    "def build_crnn2(n_features=n_features, n_frames=n_frames, n_filters_cnn=48,\n",
    "                     filter_size_cnn=(3, 3), pool_size_cnn=(2,2),\n",
    "                     n_classes=10):\n",
    "\n",
    "    # INPUT\n",
    "    x = Input(shape=( n_frames, n_features, 1), dtype='float32')\n",
    "\n",
    "    # CONV 1\n",
    "    y = Conv2D(n_filters_cnn, filter_size_cnn, padding='valid', kernel_regularizer=l2(0.01),\n",
    "               activation='relu')(x)\n",
    "    y = MaxPooling2D(pool_size=pool_size_cnn, strides=None, padding='valid')(y)\n",
    "    y = BatchNormalization()(y)\n",
    "\n",
    "    # CONV 2\n",
    "    y = Conv2D(n_filters_cnn, filter_size_cnn, padding='valid',kernel_regularizer=l2(0.01),\n",
    "               activation='relu')(y)\n",
    "    y = MaxPooling2D(pool_size=pool_size_cnn, strides=None, padding='valid')(y)\n",
    "    y = BatchNormalization()(y)\n",
    "\n",
    "    # CONV 3\n",
    "    y = Conv2D(n_filters_cnn, filter_size_cnn, padding='valid',kernel_regularizer=l2(0.01),\n",
    "               activation='relu')(y)\n",
    "    y = MaxPooling2D(pool_size=pool_size_cnn, strides=None, padding='valid')(y)\n",
    "    y = BatchNormalization()(y)\n",
    "    \n",
    "    y = TimeDistributed(Flatten())(y)\n",
    "    \n",
    "    #y = Reshape((n_filters_cnn,n_frames))(y)\n",
    "    \n",
    "    y = Dropout(0.5)(y)\n",
    "    y= LSTM(120)(y)\n",
    "    #y = Dropout(0.5)(y)\n",
    "    #y = Dense(n_dense_cnn, activation='relu')(y)\n",
    "\n",
    "    y = Dropout(0.5)(y)\n",
    "    y = Dense(n_classes, activation='sigmoid')(y)\n",
    "\n",
    "    m = Model(inputs=x, outputs=y)\n",
    "    return m"
   ]
  },
  {
   "cell_type": "code",
   "execution_count": null,
   "metadata": {},
   "outputs": [],
   "source": [
    "from keras.utils import plot_model\n",
    "plot_model(m, to_file='figures/crnn2_model.png', show_shapes=True)"
   ]
  },
  {
   "cell_type": "code",
   "execution_count": null,
   "metadata": {},
   "outputs": [],
   "source": [
    "<img src='figures/crnn_model2.png'>"
   ]
  },
  {
   "cell_type": "code",
   "execution_count": null,
   "metadata": {
    "slideshow": {
     "slide_type": "subslide"
    }
   },
   "outputs": [],
   "source": [
    "m = build_crnn2(n_features=40,)\n",
    "m.summary()"
   ]
  },
  {
   "cell_type": "code",
   "execution_count": null,
   "metadata": {
    "slideshow": {
     "slide_type": "slide"
    }
   },
   "outputs": [],
   "source": [
    "m.compile(loss='categorical_crossentropy', optimizer='adam', metrics=['accuracy'])"
   ]
  },
  {
   "cell_type": "code",
   "execution_count": null,
   "metadata": {
    "slideshow": {
     "slide_type": "fragment"
    }
   },
   "outputs": [],
   "source": [
    "model_checkpoint = ModelCheckpoint(\n",
    "    os.path.join(modelfolder, 'crnn2_epoch_{epoch:03d}_val_loss_{val_loss:.4f}.hdf5'),\n",
    "    monitor='val_loss', save_best_only=True)\n",
    "early_stopping = EarlyStopping(monitor='val_loss', patience=50, verbose=1)\n",
    "callbacks = [early_stopping, model_checkpoint]\n",
    "\n",
    "history = m.fit(x=X_train, y=y_train, batch_size=130,\n",
    "                    epochs=200, verbose=True,\n",
    "                    validation_split=0.0,\n",
    "                    callbacks=callbacks,\n",
    "                    validation_data=(X_val, y_val), shuffle=True)"
   ]
  },
  {
   "cell_type": "code",
   "execution_count": null,
   "metadata": {
    "slideshow": {
     "slide_type": "slide"
    }
   },
   "outputs": [],
   "source": [
    "prediction = m.predict(X_test, batch_size=130, verbose=1)\n",
    "y_predict=np.array([ np.argmax(p) for p in prediction])\n",
    "y_test_label = np.array([np.argmax(y) for y in y_test])"
   ]
  },
  {
   "cell_type": "code",
   "execution_count": null,
   "metadata": {
    "slideshow": {
     "slide_type": "fragment"
    }
   },
   "outputs": [],
   "source": [
    "from sklearn.metrics import confusion_matrix\n",
    "\n",
    "acc = np.sum(y_test_label==y_predict) / float(len(y_test_label))\n",
    "print('Accuracy: {:.2f}'.format(acc))\n",
    "\n",
    "cm = confusion_matrix(y_test_label, y_predict )\n",
    "sns.heatmap(cm, annot=True, annot_kws={\"size\": 14}, fmt='g', linewidths=.5, yticklabels=label_list,xticklabels=label_list)"
   ]
  }
 ],
 "metadata": {
  "celltoolbar": "Slideshow",
  "kernelspec": {
   "display_name": "Python 2",
   "language": "python",
   "name": "python2"
  },
  "language_info": {
   "codemirror_mode": {
    "name": "ipython",
    "version": 2
   },
   "file_extension": ".py",
   "mimetype": "text/x-python",
   "name": "python",
   "nbconvert_exporter": "python",
   "pygments_lexer": "ipython2",
   "version": "2.7.12"
  }
 },
 "nbformat": 4,
 "nbformat_minor": 2
}
