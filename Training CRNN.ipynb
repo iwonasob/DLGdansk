{
 "cells": [
  {
   "cell_type": "markdown",
   "metadata": {
    "slideshow": {
     "slide_type": "slide"
    }
   },
   "source": [
    "## Stacked Convolutional and Recurrent Neural Networks"
   ]
  },
  {
   "cell_type": "code",
   "execution_count": 1,
   "metadata": {
    "slideshow": {
     "slide_type": "slide"
    }
   },
   "outputs": [],
   "source": [
    "import os\n",
    "os.environ[\"PYTHONHASHSEED\"] = \"0\"\n",
    "\n",
    "import random as rn\n",
    "rn.seed(1254)\n",
    "\n",
    "import numpy as np\n",
    "np.random.seed(1515)\n",
    "\n",
    "%matplotlib inline\n",
    "import seaborn as sns\n",
    "import matplotlib.pyplot as plt\n",
    "\n",
    "import librosa, librosa.display, IPython.display as ipd\n",
    "from tqdm import tqdm\n",
    "import glob\n",
    "import pandas as pd\n",
    "import h5py\n",
    "from sklearn import preprocessing\n",
    "import pickle"
   ]
  },
  {
   "cell_type": "code",
   "execution_count": 2,
   "metadata": {
    "slideshow": {
     "slide_type": "-"
    }
   },
   "outputs": [],
   "source": [
    "plt.rcParams['figure.figsize'] = (14, 6)"
   ]
  },
  {
   "cell_type": "code",
   "execution_count": 3,
   "metadata": {
    "slideshow": {
     "slide_type": "subslide"
    }
   },
   "outputs": [
    {
     "name": "stderr",
     "output_type": "stream",
     "text": [
      "Using TensorFlow backend.\n"
     ]
    }
   ],
   "source": [
    "os.environ[\"CUDA_DEVICE_ORDER\"] = \"PCI_BUS_ID\"   \n",
    "os.environ[\"CUDA_VISIBLE_DEVICES\"] = \"1\"\n",
    "\n",
    "import tensorflow as tf\n",
    "tf.set_random_seed(2)\n",
    "\n",
    "config = tf.ConfigProto(\n",
    "    intra_op_parallelism_threads=1,\n",
    "    inter_op_parallelism_threads=1 \n",
    ")\n",
    "\n",
    "config.gpu_options.allow_growth = True  # dynamically grow the memory used on the GPU\n",
    "sess = tf.Session(graph= tf.get_default_graph(), config=config) \n",
    "    \n",
    "import keras \n",
    "from keras import backend as K\n",
    "K.set_session(sess)  # set this TensorFlow session as the default session for Keras\n",
    "\n",
    "from keras.layers import Input, Conv2D, MaxPooling2D, LSTM, Reshape\n",
    "from keras.layers.wrappers import TimeDistributed\n",
    "from keras.layers import Dense, Flatten\n",
    "from keras.layers.core import Dropout\n",
    "from keras.models import Model\n",
    "from keras.layers.normalization import BatchNormalization\n",
    "from keras.regularizers import l2\n",
    "from keras.callbacks import EarlyStopping, ModelCheckpoint"
   ]
  },
  {
   "cell_type": "code",
   "execution_count": 4,
   "metadata": {
    "slideshow": {
     "slide_type": "subslide"
    }
   },
   "outputs": [],
   "source": [
    "#SET PATHS\n",
    "workspace = '/vol/vssp/AcousticEventsDetection/DLGdansk/UrbanSound/'\n",
    "\n",
    "hdf5_path = os.path.join(workspace,'dataset.hdf5') \n",
    "modelfolder = os.path.join(workspace,'models')\n",
    "scalerpath = os.path.join(workspace,'scaler.pkl')"
   ]
  },
  {
   "cell_type": "code",
   "execution_count": 5,
   "metadata": {
    "slideshow": {
     "slide_type": "slide"
    }
   },
   "outputs": [],
   "source": [
    "# LOAD DATA\n",
    "hf = h5py.File(hdf5_path, 'r')\n",
    "X_train = np.array(hf.get('X_train') )\n",
    "y_train = np.array(hf.get('y_train'))\n",
    "X_val =  np.array(hf.get('X_val'))\n",
    "y_val= np.array(hf.get('y_val'))\n",
    "X_test = np.array(hf.get('X_test'))\n",
    "y_test = np.array(hf.get('y_test'))\n",
    "\n",
    "n_features= hf.get('n_features').value\n",
    "n_frames=hf.get('max_length_samp').value\n",
    "label_list= hf.get('label_list').value"
   ]
  },
  {
   "cell_type": "code",
   "execution_count": 6,
   "metadata": {
    "slideshow": {
     "slide_type": "subslide"
    }
   },
   "outputs": [],
   "source": [
    "# SCALE THE DATA\n",
    "scaler=pickle.load(open(scalerpath, 'rb'))\n",
    "\n",
    "X_train_scaled = [scaler.transform(x.T) for x in X_train]\n",
    "X_val_scaled = [scaler.transform(x.T) for x in X_val]\n",
    "X_test_scaled = [scaler.transform(x.T) for x in X_test]\n",
    "\n",
    "# CHANGE DIMENSION TO FIT KERAS\n",
    "X_train = np.expand_dims(X_train_scaled, 3)\n",
    "X_val = np.expand_dims(X_val_scaled, 3)\n",
    "X_test = np.expand_dims(X_test_scaled, 3)"
   ]
  },
  {
   "cell_type": "code",
   "execution_count": 7,
   "metadata": {
    "slideshow": {
     "slide_type": "slide"
    }
   },
   "outputs": [],
   "source": [
    "def build_crnn(n_features=n_features, n_frames=n_frames, n_filters_cnn=48,\n",
    "                     filter_size_cnn=(3, 3), pool_size=(2,2),\n",
    "                     n_classes=10):\n",
    "\n",
    "    # INPUT\n",
    "    x = Input(shape=( n_frames, n_features, 1), dtype='float32')\n",
    "\n",
    "    # CONV 1\n",
    "    y = Conv2D(n_filters_cnn, filter_size_cnn, padding='valid', \n",
    "               kernel_regularizer=l2(0.01), activation='relu')(x)\n",
    "    y = MaxPooling2D(pool_size=pool_size, strides=None, padding='valid')(y)\n",
    "    y = BatchNormalization()(y)\n",
    "\n",
    "    # CONV 2\n",
    "    y = Conv2D(n_filters_cnn, filter_size_cnn, padding='valid',\n",
    "               kernel_regularizer=l2(0.01), activation='relu')(y)\n",
    "    y = MaxPooling2D(pool_size=pool_size, strides=None, padding='valid')(y)\n",
    "    y = BatchNormalization()(y)\n",
    "\n",
    "    # CONV 3\n",
    "    y = Conv2D(n_filters_cnn, filter_size_cnn, padding='valid',\n",
    "               kernel_regularizer=l2(0.01), activation='relu')(y)\n",
    "    y = MaxPooling2D(pool_size=pool_size, strides=None, padding='valid')(y)\n",
    "    y = BatchNormalization()(y)\n",
    "    \n",
    "    y = TimeDistributed(Flatten())(y)\n",
    "          \n",
    "    y = Dropout(0.5)(y)\n",
    "    y = LSTM(120)(y)\n",
    "\n",
    "    y = Dropout(0.5)(y)\n",
    "    y = Dense(n_classes, activation='sigmoid')(y)\n",
    "\n",
    "    m = Model(inputs=x, outputs=y)\n",
    "    return m"
   ]
  },
  {
   "cell_type": "code",
   "execution_count": 8,
   "metadata": {
    "slideshow": {
     "slide_type": "subslide"
    }
   },
   "outputs": [
    {
     "name": "stdout",
     "output_type": "stream",
     "text": [
      "_________________________________________________________________\n",
      "Layer (type)                 Output Shape              Param #   \n",
      "=================================================================\n",
      "input_1 (InputLayer)         (None, 173, 40, 1)        0         \n",
      "_________________________________________________________________\n",
      "conv2d_1 (Conv2D)            (None, 171, 38, 48)       480       \n",
      "_________________________________________________________________\n",
      "max_pooling2d_1 (MaxPooling2 (None, 85, 19, 48)        0         \n",
      "_________________________________________________________________\n",
      "batch_normalization_1 (Batch (None, 85, 19, 48)        192       \n",
      "_________________________________________________________________\n",
      "conv2d_2 (Conv2D)            (None, 83, 17, 48)        20784     \n",
      "_________________________________________________________________\n",
      "max_pooling2d_2 (MaxPooling2 (None, 41, 8, 48)         0         \n",
      "_________________________________________________________________\n",
      "batch_normalization_2 (Batch (None, 41, 8, 48)         192       \n",
      "_________________________________________________________________\n",
      "conv2d_3 (Conv2D)            (None, 39, 6, 48)         20784     \n",
      "_________________________________________________________________\n",
      "max_pooling2d_3 (MaxPooling2 (None, 19, 3, 48)         0         \n",
      "_________________________________________________________________\n",
      "batch_normalization_3 (Batch (None, 19, 3, 48)         192       \n",
      "_________________________________________________________________\n",
      "time_distributed_1 (TimeDist (None, 19, 144)           0         \n",
      "_________________________________________________________________\n",
      "dropout_1 (Dropout)          (None, 19, 144)           0         \n",
      "_________________________________________________________________\n",
      "lstm_1 (LSTM)                (None, 120)               127200    \n",
      "_________________________________________________________________\n",
      "dropout_2 (Dropout)          (None, 120)               0         \n",
      "_________________________________________________________________\n",
      "dense_1 (Dense)              (None, 10)                1210      \n",
      "=================================================================\n",
      "Total params: 171,034\n",
      "Trainable params: 170,746\n",
      "Non-trainable params: 288\n",
      "_________________________________________________________________\n"
     ]
    }
   ],
   "source": [
    "m = build_crnn(n_features=40,)\n",
    "m.summary()"
   ]
  },
  {
   "cell_type": "code",
   "execution_count": 9,
   "metadata": {
    "slideshow": {
     "slide_type": "subslide"
    }
   },
   "outputs": [],
   "source": [
    "from keras.utils import plot_model\n",
    "plot_model(m, to_file='figures/crnn_model_shape.png', show_shapes=True)"
   ]
  },
  {
   "cell_type": "markdown",
   "metadata": {
    "slideshow": {
     "slide_type": "subslide"
    }
   },
   "source": [
    "<img src='figures/crnn_model_shape.png'>"
   ]
  },
  {
   "cell_type": "code",
   "execution_count": 10,
   "metadata": {
    "slideshow": {
     "slide_type": "slide"
    }
   },
   "outputs": [],
   "source": [
    "m.compile(loss='categorical_crossentropy', optimizer='adam', metrics=['accuracy'])"
   ]
  },
  {
   "cell_type": "code",
   "execution_count": null,
   "metadata": {
    "slideshow": {
     "slide_type": "subslide"
    }
   },
   "outputs": [],
   "source": [
    "model_checkpoint = ModelCheckpoint(\n",
    "                os.path.join(modelfolder, \n",
    "                        'crnn_epoch_{epoch:03d}_val_loss_{val_loss:.4f}.hdf5'),\n",
    "                monitor='val_loss', \n",
    "                save_best_only=True)\n",
    "\n",
    "early_stopping = EarlyStopping(monitor='val_loss', patience=50, verbose=1)\n",
    "callbacks = [early_stopping, model_checkpoint]"
   ]
  },
  {
   "cell_type": "code",
   "execution_count": 11,
   "metadata": {
    "slideshow": {
     "slide_type": "subslide"
    }
   },
   "outputs": [
    {
     "name": "stdout",
     "output_type": "stream",
     "text": [
      "Train on 7079 samples, validate on 7079 samples\n",
      "Epoch 1/200\n",
      "7079/7079 [==============================] - 12s 2ms/step - loss: 2.6454 - acc: 0.3238 - val_loss: 3.0212 - val_acc: 0.1521\n",
      "Epoch 2/200\n",
      "7079/7079 [==============================] - 9s 1ms/step - loss: 1.9299 - acc: 0.4802 - val_loss: 3.4704 - val_acc: 0.1170\n",
      "Epoch 3/200\n",
      "7079/7079 [==============================] - 9s 1ms/step - loss: 1.4921 - acc: 0.6168 - val_loss: 4.2824 - val_acc: 0.1161\n",
      "Epoch 4/200\n",
      "7079/7079 [==============================] - 9s 1ms/step - loss: 1.2057 - acc: 0.6964 - val_loss: 3.9733 - val_acc: 0.1835\n",
      "Epoch 5/200\n",
      "7079/7079 [==============================] - 9s 1ms/step - loss: 0.9979 - acc: 0.7604 - val_loss: 4.8344 - val_acc: 0.1177\n",
      "Epoch 6/200\n",
      "7079/7079 [==============================] - 9s 1ms/step - loss: 0.8429 - acc: 0.8076 - val_loss: 4.1130 - val_acc: 0.1879\n",
      "Epoch 7/200\n",
      "7079/7079 [==============================] - 9s 1ms/step - loss: 0.7370 - acc: 0.8387 - val_loss: 3.6630 - val_acc: 0.2434\n",
      "Epoch 8/200\n",
      "7079/7079 [==============================] - 9s 1ms/step - loss: 0.6418 - acc: 0.8624 - val_loss: 3.3764 - val_acc: 0.3387\n",
      "Epoch 9/200\n",
      "7079/7079 [==============================] - 9s 1ms/step - loss: 0.5972 - acc: 0.8739 - val_loss: 1.8585 - val_acc: 0.5539\n",
      "Epoch 10/200\n",
      "7079/7079 [==============================] - 9s 1ms/step - loss: 0.5476 - acc: 0.8839 - val_loss: 1.3904 - val_acc: 0.6614\n",
      "Epoch 11/200\n",
      "7079/7079 [==============================] - 9s 1ms/step - loss: 0.5122 - acc: 0.8942 - val_loss: 1.0509 - val_acc: 0.7521\n",
      "Epoch 12/200\n",
      "7079/7079 [==============================] - 9s 1ms/step - loss: 0.4601 - acc: 0.9076 - val_loss: 0.4302 - val_acc: 0.9151\n",
      "Epoch 13/200\n",
      "7079/7079 [==============================] - 9s 1ms/step - loss: 0.4469 - acc: 0.9099 - val_loss: 0.6459 - val_acc: 0.8424\n",
      "Epoch 14/200\n",
      "7079/7079 [==============================] - 9s 1ms/step - loss: 0.4314 - acc: 0.9143 - val_loss: 0.3894 - val_acc: 0.9113\n",
      "Epoch 15/200\n",
      "7079/7079 [==============================] - 9s 1ms/step - loss: 0.4139 - acc: 0.9200 - val_loss: 0.4451 - val_acc: 0.8993\n",
      "Epoch 16/200\n",
      "7079/7079 [==============================] - 9s 1ms/step - loss: 0.3990 - acc: 0.9253 - val_loss: 0.2977 - val_acc: 0.9469\n",
      "Epoch 17/200\n",
      "7079/7079 [==============================] - 9s 1ms/step - loss: 0.3703 - acc: 0.9328 - val_loss: 0.3163 - val_acc: 0.9377\n",
      "Epoch 18/200\n",
      "7079/7079 [==============================] - 9s 1ms/step - loss: 0.3592 - acc: 0.9349 - val_loss: 0.2689 - val_acc: 0.9547\n",
      "Epoch 19/200\n",
      "7079/7079 [==============================] - 9s 1ms/step - loss: 0.3345 - acc: 0.9384 - val_loss: 0.3197 - val_acc: 0.9404\n",
      "Epoch 20/200\n",
      "7079/7079 [==============================] - 9s 1ms/step - loss: 0.3459 - acc: 0.9361 - val_loss: 0.2917 - val_acc: 0.9473\n",
      "Epoch 21/200\n",
      "7079/7079 [==============================] - 9s 1ms/step - loss: 0.3609 - acc: 0.9299 - val_loss: 0.2751 - val_acc: 0.9575\n",
      "Epoch 22/200\n",
      "7079/7079 [==============================] - 9s 1ms/step - loss: 0.3485 - acc: 0.9377 - val_loss: 0.2460 - val_acc: 0.9637\n",
      "Epoch 23/200\n",
      "7079/7079 [==============================] - 9s 1ms/step - loss: 0.3171 - acc: 0.9438 - val_loss: 0.2673 - val_acc: 0.9525\n",
      "Epoch 24/200\n",
      "7079/7079 [==============================] - 9s 1ms/step - loss: 0.2896 - acc: 0.9525 - val_loss: 0.1930 - val_acc: 0.9777\n",
      "Epoch 25/200\n",
      "7079/7079 [==============================] - 9s 1ms/step - loss: 0.3013 - acc: 0.9494 - val_loss: 0.2361 - val_acc: 0.9637\n",
      "Epoch 26/200\n",
      "7079/7079 [==============================] - 9s 1ms/step - loss: 0.3276 - acc: 0.9367 - val_loss: 0.2597 - val_acc: 0.9562\n",
      "Epoch 27/200\n",
      "7079/7079 [==============================] - 8s 1ms/step - loss: 0.3127 - acc: 0.9459 - val_loss: 0.2907 - val_acc: 0.9476\n",
      "Epoch 28/200\n",
      "7079/7079 [==============================] - 9s 1ms/step - loss: 0.3108 - acc: 0.9465 - val_loss: 0.2121 - val_acc: 0.9757\n",
      "Epoch 29/200\n",
      "7079/7079 [==============================] - 9s 1ms/step - loss: 0.2793 - acc: 0.9569 - val_loss: 0.2336 - val_acc: 0.9678\n",
      "Epoch 30/200\n",
      "7079/7079 [==============================] - 9s 1ms/step - loss: 0.2843 - acc: 0.9538 - val_loss: 0.2045 - val_acc: 0.9763\n",
      "Epoch 31/200\n",
      "7079/7079 [==============================] - 9s 1ms/step - loss: 0.2645 - acc: 0.9575 - val_loss: 0.2716 - val_acc: 0.9525\n",
      "Epoch 32/200\n",
      "7079/7079 [==============================] - 9s 1ms/step - loss: 0.3145 - acc: 0.9441 - val_loss: 0.2116 - val_acc: 0.9751\n",
      "Epoch 33/200\n",
      "7079/7079 [==============================] - 9s 1ms/step - loss: 0.2801 - acc: 0.9576 - val_loss: 0.1917 - val_acc: 0.9812\n",
      "Epoch 34/200\n",
      "7079/7079 [==============================] - 9s 1ms/step - loss: 0.2694 - acc: 0.9572 - val_loss: 0.1990 - val_acc: 0.9767\n",
      "Epoch 35/200\n",
      "7079/7079 [==============================] - 9s 1ms/step - loss: 0.2642 - acc: 0.9613 - val_loss: 0.2339 - val_acc: 0.9674\n",
      "Epoch 36/200\n",
      "7079/7079 [==============================] - 9s 1ms/step - loss: 0.2751 - acc: 0.9566 - val_loss: 0.2558 - val_acc: 0.9592\n",
      "Epoch 37/200\n",
      "7079/7079 [==============================] - 8s 1ms/step - loss: 0.2555 - acc: 0.9626 - val_loss: 0.1737 - val_acc: 0.9852\n",
      "Epoch 38/200\n",
      "7079/7079 [==============================] - 9s 1ms/step - loss: 0.2574 - acc: 0.9617 - val_loss: 0.2210 - val_acc: 0.9705\n",
      "Epoch 39/200\n",
      "7079/7079 [==============================] - 9s 1ms/step - loss: 0.2677 - acc: 0.9575 - val_loss: 0.1901 - val_acc: 0.9797\n",
      "Epoch 40/200\n",
      "7079/7079 [==============================] - 9s 1ms/step - loss: 0.2499 - acc: 0.9655 - val_loss: 0.1970 - val_acc: 0.9760\n",
      "Epoch 41/200\n",
      "7079/7079 [==============================] - 9s 1ms/step - loss: 0.2552 - acc: 0.9607 - val_loss: 0.1968 - val_acc: 0.9777\n",
      "Epoch 42/200\n",
      "7079/7079 [==============================] - 9s 1ms/step - loss: 0.2543 - acc: 0.9599 - val_loss: 0.1913 - val_acc: 0.9805\n",
      "Epoch 43/200\n",
      "7079/7079 [==============================] - 9s 1ms/step - loss: 0.2809 - acc: 0.9561 - val_loss: 0.3597 - val_acc: 0.9287\n",
      "Epoch 44/200\n",
      "7079/7079 [==============================] - 9s 1ms/step - loss: 0.2792 - acc: 0.9554 - val_loss: 0.1850 - val_acc: 0.9847\n",
      "Epoch 45/200\n",
      "7079/7079 [==============================] - 9s 1ms/step - loss: 0.2333 - acc: 0.9708 - val_loss: 0.2834 - val_acc: 0.9482\n",
      "Epoch 46/200\n",
      "7079/7079 [==============================] - 9s 1ms/step - loss: 0.2271 - acc: 0.9703 - val_loss: 0.1804 - val_acc: 0.9806\n",
      "Epoch 47/200\n",
      "7079/7079 [==============================] - 9s 1ms/step - loss: 0.2180 - acc: 0.9698 - val_loss: 0.1645 - val_acc: 0.9850\n",
      "Epoch 48/200\n",
      "7079/7079 [==============================] - 9s 1ms/step - loss: 0.2601 - acc: 0.9568 - val_loss: 0.3338 - val_acc: 0.9388\n",
      "Epoch 49/200\n",
      "7079/7079 [==============================] - 8s 1ms/step - loss: 0.2789 - acc: 0.9571 - val_loss: 0.1969 - val_acc: 0.9777\n",
      "Epoch 50/200\n",
      "7079/7079 [==============================] - 9s 1ms/step - loss: 0.2610 - acc: 0.9631 - val_loss: 0.1930 - val_acc: 0.9802\n",
      "Epoch 51/200\n",
      "7079/7079 [==============================] - 9s 1ms/step - loss: 0.2215 - acc: 0.9730 - val_loss: 0.1856 - val_acc: 0.9818\n",
      "Epoch 52/200\n",
      "7079/7079 [==============================] - 9s 1ms/step - loss: 0.2469 - acc: 0.9658 - val_loss: 0.1962 - val_acc: 0.9774\n",
      "Epoch 53/200\n",
      "7079/7079 [==============================] - 8s 1ms/step - loss: 0.2287 - acc: 0.9701 - val_loss: 0.1976 - val_acc: 0.9778\n",
      "Epoch 54/200\n",
      "7079/7079 [==============================] - 9s 1ms/step - loss: 0.2663 - acc: 0.9614 - val_loss: 0.2138 - val_acc: 0.9749\n",
      "Epoch 55/200\n",
      "7079/7079 [==============================] - 9s 1ms/step - loss: 0.2233 - acc: 0.9737 - val_loss: 0.1593 - val_acc: 0.9895\n",
      "Epoch 56/200\n",
      "7079/7079 [==============================] - 9s 1ms/step - loss: 0.1952 - acc: 0.9795 - val_loss: 0.1398 - val_acc: 0.9921\n",
      "Epoch 57/200\n",
      "7079/7079 [==============================] - 9s 1ms/step - loss: 0.2069 - acc: 0.9726 - val_loss: 0.1778 - val_acc: 0.9802\n",
      "Epoch 58/200\n",
      "7079/7079 [==============================] - 8s 1ms/step - loss: 0.2365 - acc: 0.9669 - val_loss: 0.3001 - val_acc: 0.9500\n",
      "Epoch 59/200\n",
      "7079/7079 [==============================] - 9s 1ms/step - loss: 0.2368 - acc: 0.9651 - val_loss: 0.1754 - val_acc: 0.9845\n",
      "Epoch 60/200\n",
      "7079/7079 [==============================] - 9s 1ms/step - loss: 0.2012 - acc: 0.9737 - val_loss: 0.1593 - val_acc: 0.9877\n"
     ]
    },
    {
     "name": "stdout",
     "output_type": "stream",
     "text": [
      "Epoch 61/200\n",
      "7079/7079 [==============================] - 9s 1ms/step - loss: 0.2112 - acc: 0.9722 - val_loss: 0.1833 - val_acc: 0.9805\n",
      "Epoch 62/200\n",
      "7079/7079 [==============================] - 8s 1ms/step - loss: 0.2220 - acc: 0.9702 - val_loss: 0.1626 - val_acc: 0.9866\n",
      "Epoch 63/200\n",
      "7079/7079 [==============================] - 8s 1ms/step - loss: 0.2079 - acc: 0.9715 - val_loss: 0.1648 - val_acc: 0.9839\n",
      "Epoch 64/200\n",
      "7079/7079 [==============================] - 8s 1ms/step - loss: 0.2202 - acc: 0.9695 - val_loss: 0.1697 - val_acc: 0.9836\n",
      "Epoch 65/200\n",
      "7079/7079 [==============================] - 9s 1ms/step - loss: 0.2228 - acc: 0.9677 - val_loss: 0.1883 - val_acc: 0.9733\n",
      "Epoch 66/200\n",
      "7079/7079 [==============================] - 8s 1ms/step - loss: 0.2371 - acc: 0.9681 - val_loss: 0.1922 - val_acc: 0.9818\n",
      "Epoch 67/200\n",
      "7079/7079 [==============================] - 8s 1ms/step - loss: 0.2117 - acc: 0.9761 - val_loss: 0.1664 - val_acc: 0.9840\n",
      "Epoch 68/200\n",
      "7079/7079 [==============================] - 8s 1ms/step - loss: 0.1971 - acc: 0.9781 - val_loss: 0.1567 - val_acc: 0.9881\n",
      "Epoch 69/200\n",
      "7079/7079 [==============================] - 9s 1ms/step - loss: 0.1865 - acc: 0.9774 - val_loss: 0.1915 - val_acc: 0.9778\n",
      "Epoch 70/200\n",
      "7079/7079 [==============================] - 8s 1ms/step - loss: 0.2141 - acc: 0.9709 - val_loss: 0.1591 - val_acc: 0.9867\n",
      "Epoch 71/200\n",
      "7079/7079 [==============================] - 8s 1ms/step - loss: 0.1961 - acc: 0.9770 - val_loss: 0.1810 - val_acc: 0.9804\n",
      "Epoch 72/200\n",
      "7079/7079 [==============================] - 9s 1ms/step - loss: 0.2069 - acc: 0.9716 - val_loss: 0.1959 - val_acc: 0.9777\n",
      "Epoch 73/200\n",
      "7079/7079 [==============================] - 9s 1ms/step - loss: 0.2233 - acc: 0.9671 - val_loss: 0.1567 - val_acc: 0.9886\n",
      "Epoch 74/200\n",
      "7079/7079 [==============================] - 9s 1ms/step - loss: 0.2081 - acc: 0.9747 - val_loss: 0.1689 - val_acc: 0.9818\n",
      "Epoch 75/200\n",
      "7079/7079 [==============================] - 9s 1ms/step - loss: 0.1999 - acc: 0.9767 - val_loss: 0.1582 - val_acc: 0.9870\n",
      "Epoch 76/200\n",
      "7079/7079 [==============================] - 9s 1ms/step - loss: 0.2057 - acc: 0.9741 - val_loss: 0.1744 - val_acc: 0.9818\n",
      "Epoch 77/200\n",
      "7079/7079 [==============================] - 8s 1ms/step - loss: 0.1903 - acc: 0.9770 - val_loss: 0.1352 - val_acc: 0.9938\n",
      "Epoch 78/200\n",
      "7079/7079 [==============================] - 9s 1ms/step - loss: 0.1794 - acc: 0.9825 - val_loss: 0.1711 - val_acc: 0.9804\n",
      "Epoch 79/200\n",
      "7079/7079 [==============================] - 8s 1ms/step - loss: 0.1726 - acc: 0.9814 - val_loss: 0.1774 - val_acc: 0.9792\n",
      "Epoch 80/200\n",
      "7079/7079 [==============================] - 9s 1ms/step - loss: 0.2312 - acc: 0.9660 - val_loss: 0.2093 - val_acc: 0.9696\n",
      "Epoch 81/200\n",
      "7079/7079 [==============================] - 8s 1ms/step - loss: 0.2063 - acc: 0.9723 - val_loss: 0.1536 - val_acc: 0.9904\n",
      "Epoch 82/200\n",
      "7079/7079 [==============================] - 9s 1ms/step - loss: 0.1911 - acc: 0.9790 - val_loss: 0.1572 - val_acc: 0.9864\n",
      "Epoch 83/200\n",
      "7079/7079 [==============================] - 9s 1ms/step - loss: 0.1881 - acc: 0.9773 - val_loss: 0.1548 - val_acc: 0.9877\n",
      "Epoch 84/200\n",
      "7079/7079 [==============================] - 9s 1ms/step - loss: 0.1697 - acc: 0.9814 - val_loss: 0.1614 - val_acc: 0.9832\n",
      "Epoch 85/200\n",
      "7079/7079 [==============================] - 9s 1ms/step - loss: 0.1930 - acc: 0.9741 - val_loss: 0.1707 - val_acc: 0.9794\n",
      "Epoch 86/200\n",
      "7079/7079 [==============================] - 9s 1ms/step - loss: 0.2120 - acc: 0.9699 - val_loss: 0.1490 - val_acc: 0.9912\n",
      "Epoch 87/200\n",
      "7079/7079 [==============================] - 9s 1ms/step - loss: 0.1931 - acc: 0.9791 - val_loss: 0.1536 - val_acc: 0.9864\n",
      "Epoch 88/200\n",
      "7079/7079 [==============================] - 9s 1ms/step - loss: 0.1786 - acc: 0.9821 - val_loss: 0.1494 - val_acc: 0.9886\n",
      "Epoch 89/200\n",
      "7079/7079 [==============================] - 8s 1ms/step - loss: 0.2042 - acc: 0.9729 - val_loss: 0.2054 - val_acc: 0.9725\n",
      "Epoch 90/200\n",
      "7079/7079 [==============================] - 9s 1ms/step - loss: 0.2101 - acc: 0.9719 - val_loss: 0.1916 - val_acc: 0.9775\n",
      "Epoch 91/200\n",
      "7079/7079 [==============================] - 9s 1ms/step - loss: 0.1966 - acc: 0.9784 - val_loss: 0.1999 - val_acc: 0.9746\n",
      "Epoch 92/200\n",
      "7079/7079 [==============================] - 8s 1ms/step - loss: 0.1889 - acc: 0.9785 - val_loss: 0.1359 - val_acc: 0.9922\n",
      "Epoch 93/200\n",
      "7079/7079 [==============================] - 8s 1ms/step - loss: 0.1816 - acc: 0.9782 - val_loss: 0.1431 - val_acc: 0.9894\n",
      "Epoch 94/200\n",
      "7079/7079 [==============================] - 8s 1ms/step - loss: 0.1808 - acc: 0.9795 - val_loss: 0.1251 - val_acc: 0.9951\n",
      "Epoch 95/200\n",
      "7079/7079 [==============================] - 8s 1ms/step - loss: 0.1629 - acc: 0.9839 - val_loss: 0.1168 - val_acc: 0.9955\n",
      "Epoch 96/200\n",
      "7079/7079 [==============================] - 9s 1ms/step - loss: 0.1814 - acc: 0.9774 - val_loss: 0.3103 - val_acc: 0.9467\n",
      "Epoch 97/200\n",
      "7079/7079 [==============================] - 8s 1ms/step - loss: 0.2016 - acc: 0.9734 - val_loss: 0.1356 - val_acc: 0.9928\n",
      "Epoch 98/200\n",
      "7079/7079 [==============================] - 8s 1ms/step - loss: 0.2076 - acc: 0.9717 - val_loss: 0.1983 - val_acc: 0.9741\n",
      "Epoch 99/200\n",
      "7079/7079 [==============================] - 8s 1ms/step - loss: 0.2128 - acc: 0.9736 - val_loss: 0.1527 - val_acc: 0.9883\n",
      "Epoch 100/200\n",
      "7079/7079 [==============================] - 9s 1ms/step - loss: 0.1845 - acc: 0.9795 - val_loss: 0.1715 - val_acc: 0.9823\n",
      "Epoch 101/200\n",
      "7079/7079 [==============================] - 8s 1ms/step - loss: 0.2018 - acc: 0.9744 - val_loss: 0.1417 - val_acc: 0.9922\n",
      "Epoch 102/200\n",
      "7079/7079 [==============================] - 8s 1ms/step - loss: 0.1742 - acc: 0.9828 - val_loss: 0.1345 - val_acc: 0.9929\n",
      "Epoch 103/200\n",
      "7079/7079 [==============================] - 8s 1ms/step - loss: 0.2015 - acc: 0.9717 - val_loss: 0.1704 - val_acc: 0.9842\n",
      "Epoch 104/200\n",
      "7079/7079 [==============================] - 8s 1ms/step - loss: 0.1861 - acc: 0.9777 - val_loss: 0.1497 - val_acc: 0.9887\n",
      "Epoch 105/200\n",
      "7079/7079 [==============================] - 9s 1ms/step - loss: 0.1727 - acc: 0.9814 - val_loss: 0.1533 - val_acc: 0.9862\n",
      "Epoch 106/200\n",
      "7079/7079 [==============================] - 8s 1ms/step - loss: 0.1524 - acc: 0.9873 - val_loss: 0.1458 - val_acc: 0.9867\n",
      "Epoch 107/200\n",
      "7079/7079 [==============================] - 8s 1ms/step - loss: 0.1795 - acc: 0.9763 - val_loss: 0.1515 - val_acc: 0.9853\n",
      "Epoch 108/200\n",
      "7079/7079 [==============================] - 8s 1ms/step - loss: 0.1851 - acc: 0.9771 - val_loss: 0.1323 - val_acc: 0.9925\n",
      "Epoch 109/200\n",
      "7079/7079 [==============================] - 9s 1ms/step - loss: 0.1613 - acc: 0.9842 - val_loss: 0.1370 - val_acc: 0.9900\n",
      "Epoch 110/200\n",
      "7079/7079 [==============================] - 8s 1ms/step - loss: 0.1704 - acc: 0.9780 - val_loss: 0.1638 - val_acc: 0.9812\n",
      "Epoch 111/200\n",
      "7079/7079 [==============================] - 8s 1ms/step - loss: 0.1864 - acc: 0.9777 - val_loss: 0.1454 - val_acc: 0.9876\n",
      "Epoch 112/200\n",
      "7079/7079 [==============================] - 9s 1ms/step - loss: 0.1758 - acc: 0.9806 - val_loss: 0.1609 - val_acc: 0.9860\n",
      "Epoch 113/200\n",
      "7079/7079 [==============================] - 9s 1ms/step - loss: 0.1747 - acc: 0.9816 - val_loss: 0.1257 - val_acc: 0.9934\n",
      "Epoch 114/200\n",
      "7079/7079 [==============================] - 9s 1ms/step - loss: 0.1605 - acc: 0.9825 - val_loss: 0.1345 - val_acc: 0.9895\n",
      "Epoch 115/200\n",
      "7079/7079 [==============================] - 8s 1ms/step - loss: 0.1603 - acc: 0.9808 - val_loss: 0.1254 - val_acc: 0.9921\n",
      "Epoch 116/200\n",
      "7079/7079 [==============================] - 9s 1ms/step - loss: 0.1509 - acc: 0.9842 - val_loss: 0.1205 - val_acc: 0.9918\n",
      "Epoch 117/200\n",
      "7079/7079 [==============================] - 9s 1ms/step - loss: 0.1694 - acc: 0.9781 - val_loss: 0.1267 - val_acc: 0.9917\n",
      "Epoch 118/200\n",
      "7079/7079 [==============================] - 9s 1ms/step - loss: 0.1440 - acc: 0.9863 - val_loss: 0.1174 - val_acc: 0.9924\n",
      "Epoch 119/200\n",
      "7079/7079 [==============================] - 9s 1ms/step - loss: 0.1846 - acc: 0.9730 - val_loss: 0.1646 - val_acc: 0.9822\n",
      "Epoch 120/200\n",
      "7079/7079 [==============================] - 8s 1ms/step - loss: 0.2200 - acc: 0.9699 - val_loss: 0.1542 - val_acc: 0.9881\n",
      "Epoch 121/200\n"
     ]
    },
    {
     "name": "stdout",
     "output_type": "stream",
     "text": [
      "7079/7079 [==============================] - 9s 1ms/step - loss: 0.1707 - acc: 0.9819 - val_loss: 0.1242 - val_acc: 0.9953\n",
      "Epoch 122/200\n",
      "7079/7079 [==============================] - 9s 1ms/step - loss: 0.1814 - acc: 0.9788 - val_loss: 0.1309 - val_acc: 0.9924\n",
      "Epoch 123/200\n",
      "7079/7079 [==============================] - 9s 1ms/step - loss: 0.1573 - acc: 0.9853 - val_loss: 0.1594 - val_acc: 0.9828\n",
      "Epoch 124/200\n",
      "7079/7079 [==============================] - 9s 1ms/step - loss: 0.1720 - acc: 0.9805 - val_loss: 0.1178 - val_acc: 0.9942\n",
      "Epoch 125/200\n",
      "7079/7079 [==============================] - 9s 1ms/step - loss: 0.1612 - acc: 0.9814 - val_loss: 0.1585 - val_acc: 0.9811\n",
      "Epoch 126/200\n",
      "7079/7079 [==============================] - 9s 1ms/step - loss: 0.1645 - acc: 0.9801 - val_loss: 0.1228 - val_acc: 0.9917\n",
      "Epoch 127/200\n",
      "7079/7079 [==============================] - 9s 1ms/step - loss: 0.1583 - acc: 0.9832 - val_loss: 0.1360 - val_acc: 0.9895\n",
      "Epoch 128/200\n",
      "7079/7079 [==============================] - 9s 1ms/step - loss: 0.2367 - acc: 0.9596 - val_loss: 0.1808 - val_acc: 0.9804\n",
      "Epoch 129/200\n",
      "7079/7079 [==============================] - 9s 1ms/step - loss: 0.1945 - acc: 0.9763 - val_loss: 0.1486 - val_acc: 0.9893\n",
      "Epoch 130/200\n",
      "7079/7079 [==============================] - 8s 1ms/step - loss: 0.1734 - acc: 0.9829 - val_loss: 0.1316 - val_acc: 0.9932\n",
      "Epoch 131/200\n",
      "7079/7079 [==============================] - 9s 1ms/step - loss: 0.1631 - acc: 0.9836 - val_loss: 0.1530 - val_acc: 0.9877\n",
      "Epoch 132/200\n",
      "7079/7079 [==============================] - 8s 1ms/step - loss: 0.1627 - acc: 0.9832 - val_loss: 0.1099 - val_acc: 0.9972\n",
      "Epoch 133/200\n",
      "7079/7079 [==============================] - 8s 1ms/step - loss: 0.1447 - acc: 0.9877 - val_loss: 0.1377 - val_acc: 0.9879\n",
      "Epoch 134/200\n",
      "7079/7079 [==============================] - 8s 1ms/step - loss: 0.1555 - acc: 0.9806 - val_loss: 0.1215 - val_acc: 0.9917\n",
      "Epoch 135/200\n",
      "7079/7079 [==============================] - 8s 1ms/step - loss: 0.1650 - acc: 0.9814 - val_loss: 0.1336 - val_acc: 0.9887\n",
      "Epoch 136/200\n",
      "7079/7079 [==============================] - 9s 1ms/step - loss: 0.1663 - acc: 0.9798 - val_loss: 0.1368 - val_acc: 0.9879\n",
      "Epoch 137/200\n",
      "7079/7079 [==============================] - 8s 1ms/step - loss: 0.1862 - acc: 0.9758 - val_loss: 0.2187 - val_acc: 0.9689\n",
      "Epoch 138/200\n",
      "7079/7079 [==============================] - 8s 1ms/step - loss: 0.1824 - acc: 0.9782 - val_loss: 0.1244 - val_acc: 0.9951\n",
      "Epoch 139/200\n",
      "7079/7079 [==============================] - 8s 1ms/step - loss: 0.1595 - acc: 0.9849 - val_loss: 0.1168 - val_acc: 0.9942\n",
      "Epoch 140/200\n",
      "7079/7079 [==============================] - 9s 1ms/step - loss: 0.1399 - acc: 0.9879 - val_loss: 0.1307 - val_acc: 0.9880\n",
      "Epoch 141/200\n",
      "7079/7079 [==============================] - 8s 1ms/step - loss: 0.1515 - acc: 0.9818 - val_loss: 0.1093 - val_acc: 0.9951\n",
      "Epoch 142/200\n",
      "7079/7079 [==============================] - 8s 1ms/step - loss: 0.1379 - acc: 0.9876 - val_loss: 0.1058 - val_acc: 0.9955\n",
      "Epoch 143/200\n",
      "7079/7079 [==============================] - 8s 1ms/step - loss: 0.1525 - acc: 0.9825 - val_loss: 0.1654 - val_acc: 0.9808\n",
      "Epoch 144/200\n",
      "7079/7079 [==============================] - 9s 1ms/step - loss: 0.1718 - acc: 0.9791 - val_loss: 0.1420 - val_acc: 0.9869\n",
      "Epoch 145/200\n",
      "7079/7079 [==============================] - 9s 1ms/step - loss: 0.1565 - acc: 0.9823 - val_loss: 0.3963 - val_acc: 0.9239\n",
      "Epoch 146/200\n",
      "7079/7079 [==============================] - 8s 1ms/step - loss: 0.1800 - acc: 0.9763 - val_loss: 0.1385 - val_acc: 0.9884\n",
      "Epoch 147/200\n",
      "7079/7079 [==============================] - 8s 1ms/step - loss: 0.1536 - acc: 0.9818 - val_loss: 0.1151 - val_acc: 0.9942\n",
      "Epoch 148/200\n",
      "7079/7079 [==============================] - 9s 1ms/step - loss: 0.1447 - acc: 0.9849 - val_loss: 0.1425 - val_acc: 0.9860\n",
      "Epoch 149/200\n",
      "7079/7079 [==============================] - 9s 1ms/step - loss: 0.1619 - acc: 0.9801 - val_loss: 0.1339 - val_acc: 0.9877\n",
      "Epoch 150/200\n",
      "7079/7079 [==============================] - 8s 1ms/step - loss: 0.1556 - acc: 0.9811 - val_loss: 0.1297 - val_acc: 0.9893\n",
      "Epoch 151/200\n",
      "7079/7079 [==============================] - 8s 1ms/step - loss: 0.1564 - acc: 0.9825 - val_loss: 0.1196 - val_acc: 0.9929\n",
      "Epoch 152/200\n",
      "7079/7079 [==============================] - 8s 1ms/step - loss: 0.1450 - acc: 0.9859 - val_loss: 0.1354 - val_acc: 0.9881\n",
      "Epoch 153/200\n",
      "7079/7079 [==============================] - 9s 1ms/step - loss: 0.1686 - acc: 0.9781 - val_loss: 0.1166 - val_acc: 0.9939\n",
      "Epoch 154/200\n",
      "7079/7079 [==============================] - 9s 1ms/step - loss: 0.1461 - acc: 0.9847 - val_loss: 0.1548 - val_acc: 0.9839\n",
      "Epoch 155/200\n",
      "7079/7079 [==============================] - 8s 1ms/step - loss: 0.1720 - acc: 0.9777 - val_loss: 0.1175 - val_acc: 0.9938\n",
      "Epoch 156/200\n",
      "7079/7079 [==============================] - 8s 1ms/step - loss: 0.1432 - acc: 0.9845 - val_loss: 0.1152 - val_acc: 0.9932\n",
      "Epoch 157/200\n",
      "7079/7079 [==============================] - 8s 1ms/step - loss: 0.1507 - acc: 0.9829 - val_loss: 0.1217 - val_acc: 0.9915\n",
      "Epoch 158/200\n",
      "7079/7079 [==============================] - 9s 1ms/step - loss: 0.1629 - acc: 0.9797 - val_loss: 0.1930 - val_acc: 0.9695\n",
      "Epoch 159/200\n",
      "7079/7079 [==============================] - 9s 1ms/step - loss: 0.1791 - acc: 0.9756 - val_loss: 0.1128 - val_acc: 0.9963\n",
      "Epoch 160/200\n",
      "7079/7079 [==============================] - 8s 1ms/step - loss: 0.1334 - acc: 0.9893 - val_loss: 0.1025 - val_acc: 0.9972\n",
      "Epoch 161/200\n",
      "7079/7079 [==============================] - 8s 1ms/step - loss: 0.1194 - acc: 0.9921 - val_loss: 0.1111 - val_acc: 0.9931\n",
      "Epoch 162/200\n",
      "7079/7079 [==============================] - 9s 1ms/step - loss: 0.1959 - acc: 0.9708 - val_loss: 0.1429 - val_acc: 0.9877\n",
      "Epoch 163/200\n",
      "7079/7079 [==============================] - 9s 1ms/step - loss: 0.1819 - acc: 0.9760 - val_loss: 0.1492 - val_acc: 0.9862\n",
      "Epoch 164/200\n",
      "7079/7079 [==============================] - 8s 1ms/step - loss: 0.1776 - acc: 0.9781 - val_loss: 0.1215 - val_acc: 0.9952\n",
      "Epoch 165/200\n",
      "7079/7079 [==============================] - 8s 1ms/step - loss: 0.1528 - acc: 0.9859 - val_loss: 0.1275 - val_acc: 0.9917\n",
      "Epoch 166/200\n",
      "7079/7079 [==============================] - 8s 1ms/step - loss: 0.1592 - acc: 0.9818 - val_loss: 0.2868 - val_acc: 0.9494\n",
      "Epoch 167/200\n",
      "7079/7079 [==============================] - 9s 1ms/step - loss: 0.2122 - acc: 0.9691 - val_loss: 0.1417 - val_acc: 0.9910\n",
      "Epoch 168/200\n",
      "7079/7079 [==============================] - 9s 1ms/step - loss: 0.1604 - acc: 0.9854 - val_loss: 0.1164 - val_acc: 0.9970\n",
      "Epoch 169/200\n",
      "7079/7079 [==============================] - 8s 1ms/step - loss: 0.1412 - acc: 0.9874 - val_loss: 0.1173 - val_acc: 0.9939\n",
      "Epoch 170/200\n",
      "7079/7079 [==============================] - 9s 1ms/step - loss: 0.1579 - acc: 0.9816 - val_loss: 0.2681 - val_acc: 0.9520\n",
      "Epoch 171/200\n",
      "7079/7079 [==============================] - 9s 1ms/step - loss: 0.1614 - acc: 0.9808 - val_loss: 0.1709 - val_acc: 0.9785\n",
      "Epoch 172/200\n",
      "7079/7079 [==============================] - 9s 1ms/step - loss: 0.1836 - acc: 0.9751 - val_loss: 0.1188 - val_acc: 0.9946\n",
      "Epoch 173/200\n",
      "7079/7079 [==============================] - 9s 1ms/step - loss: 0.1480 - acc: 0.9859 - val_loss: 0.1041 - val_acc: 0.9975\n",
      "Epoch 174/200\n",
      "7079/7079 [==============================] - 9s 1ms/step - loss: 0.1209 - acc: 0.9934 - val_loss: 0.1176 - val_acc: 0.9907\n",
      "Epoch 175/200\n",
      "7079/7079 [==============================] - 9s 1ms/step - loss: 0.1873 - acc: 0.9733 - val_loss: 0.3240 - val_acc: 0.9410\n",
      "Epoch 176/200\n",
      "7079/7079 [==============================] - 9s 1ms/step - loss: 0.1607 - acc: 0.9818 - val_loss: 0.1281 - val_acc: 0.9910\n",
      "Epoch 177/200\n",
      "7079/7079 [==============================] - 8s 1ms/step - loss: 0.1441 - acc: 0.9866 - val_loss: 0.1121 - val_acc: 0.9943\n",
      "Epoch 178/200\n",
      "7079/7079 [==============================] - 8s 1ms/step - loss: 0.1455 - acc: 0.9843 - val_loss: 0.1080 - val_acc: 0.9953\n",
      "Epoch 179/200\n",
      "7079/7079 [==============================] - 8s 1ms/step - loss: 0.1366 - acc: 0.9874 - val_loss: 0.1032 - val_acc: 0.9953\n",
      "Epoch 180/200\n",
      "7079/7079 [==============================] - 9s 1ms/step - loss: 0.1535 - acc: 0.9822 - val_loss: 0.1461 - val_acc: 0.9835\n"
     ]
    },
    {
     "name": "stdout",
     "output_type": "stream",
     "text": [
      "Epoch 181/200\n",
      "7079/7079 [==============================] - 8s 1ms/step - loss: 0.1374 - acc: 0.9853 - val_loss: 0.1044 - val_acc: 0.9952\n",
      "Epoch 182/200\n",
      "7079/7079 [==============================] - 8s 1ms/step - loss: 0.1293 - acc: 0.9869 - val_loss: 0.0982 - val_acc: 0.9963\n",
      "Epoch 183/200\n",
      "7079/7079 [==============================] - 8s 1ms/step - loss: 0.1320 - acc: 0.9862 - val_loss: 0.0998 - val_acc: 0.9952\n",
      "Epoch 184/200\n",
      "7079/7079 [==============================] - 9s 1ms/step - loss: 0.1362 - acc: 0.9835 - val_loss: 0.1791 - val_acc: 0.9751\n",
      "Epoch 185/200\n",
      "7079/7079 [==============================] - 9s 1ms/step - loss: 0.1603 - acc: 0.9797 - val_loss: 0.1048 - val_acc: 0.9956\n",
      "Epoch 186/200\n",
      "7079/7079 [==============================] - 8s 1ms/step - loss: 0.1339 - acc: 0.9867 - val_loss: 0.1690 - val_acc: 0.9808\n",
      "Epoch 187/200\n",
      "7079/7079 [==============================] - 8s 1ms/step - loss: 0.1586 - acc: 0.9794 - val_loss: 0.1251 - val_acc: 0.9895\n",
      "Epoch 188/200\n",
      "7079/7079 [==============================] - 8s 1ms/step - loss: 0.1493 - acc: 0.9822 - val_loss: 0.1130 - val_acc: 0.9935\n",
      "Epoch 189/200\n",
      "7079/7079 [==============================] - 9s 1ms/step - loss: 0.1541 - acc: 0.9816 - val_loss: 0.1154 - val_acc: 0.9935\n",
      "Epoch 190/200\n",
      "7079/7079 [==============================] - 8s 1ms/step - loss: 0.1510 - acc: 0.9832 - val_loss: 0.1841 - val_acc: 0.9726\n",
      "Epoch 191/200\n",
      "7079/7079 [==============================] - 8s 1ms/step - loss: 0.1323 - acc: 0.9881 - val_loss: 0.1043 - val_acc: 0.9955\n",
      "Epoch 192/200\n",
      "7079/7079 [==============================] - 8s 1ms/step - loss: 0.1388 - acc: 0.9846 - val_loss: 0.1210 - val_acc: 0.9888\n",
      "Epoch 193/200\n",
      "7079/7079 [==============================] - 9s 1ms/step - loss: 0.1678 - acc: 0.9768 - val_loss: 0.1152 - val_acc: 0.9922\n",
      "Epoch 194/200\n",
      "7079/7079 [==============================] - 9s 1ms/step - loss: 0.1479 - acc: 0.9828 - val_loss: 0.1113 - val_acc: 0.9939\n",
      "Epoch 195/200\n",
      "7079/7079 [==============================] - 8s 1ms/step - loss: 0.1257 - acc: 0.9886 - val_loss: 0.1006 - val_acc: 0.9956\n",
      "Epoch 196/200\n",
      "7079/7079 [==============================] - 8s 1ms/step - loss: 0.1290 - acc: 0.9869 - val_loss: 0.1115 - val_acc: 0.9928\n",
      "Epoch 197/200\n",
      "7079/7079 [==============================] - 8s 1ms/step - loss: 0.1570 - acc: 0.9780 - val_loss: 0.2336 - val_acc: 0.9603\n",
      "Epoch 198/200\n",
      "7079/7079 [==============================] - 9s 1ms/step - loss: 0.1477 - acc: 0.9835 - val_loss: 0.1263 - val_acc: 0.9908\n",
      "Epoch 199/200\n",
      "7079/7079 [==============================] - 8s 1ms/step - loss: 0.1432 - acc: 0.9830 - val_loss: 0.1119 - val_acc: 0.9942\n",
      "Epoch 200/200\n",
      "7079/7079 [==============================] - 8s 1ms/step - loss: 0.1436 - acc: 0.9842 - val_loss: 0.1026 - val_acc: 0.9959\n"
     ]
    }
   ],
   "source": [
    "history = m.fit(x=X_train, y=y_train, batch_size=130,\n",
    "                    epochs=200, verbose=True,\n",
    "                    validation_split=0.0,\n",
    "                    callbacks=callbacks,\n",
    "                    validation_data=(X_val, y_val), shuffle=True)"
   ]
  },
  {
   "cell_type": "code",
   "execution_count": 12,
   "metadata": {
    "slideshow": {
     "slide_type": "subslide"
    }
   },
   "outputs": [
    {
     "data": {
      "text/plain": [
       "Text(0,0.5,u'Loss')"
      ]
     },
     "execution_count": 12,
     "metadata": {},
     "output_type": "execute_result"
    },
    {
     "data": {
      "image/png": "[encoded data removed]",
      "text/plain": [
       "<matplotlib.figure.Figure at 0x7f15edc484d0>"
      ]
     },
     "metadata": {},
     "output_type": "display_data"
    }
   ],
   "source": [
    "plt.subplot(1,2,1)\n",
    "plt.plot(history.history['acc'], label='Accuracy')\n",
    "plt.plot(history.history['val_acc'], label='Validation accuracy')\n",
    "plt.legend()\n",
    "plt.xlabel('Epochs')\n",
    "plt.ylabel('Accuracy')\n",
    "\n",
    "plt.subplot(1,2,2)\n",
    "plt.plot(history.history['loss'], label='Loss')\n",
    "plt.plot(history.history['val_loss'], label='Validation loss')\n",
    "plt.legend()\n",
    "plt.xlabel('Epochs')\n",
    "plt.ylabel('Loss')"
   ]
  },
  {
   "cell_type": "code",
   "execution_count": 13,
   "metadata": {
    "slideshow": {
     "slide_type": "slide"
    }
   },
   "outputs": [
    {
     "name": "stdout",
     "output_type": "stream",
     "text": [
      "837/837 [==============================] - 0s 555us/step\n"
     ]
    }
   ],
   "source": [
    "prediction = m.predict(X_test, batch_size=130, verbose=1)\n",
    "y_predict=np.array([ np.argmax(p) for p in prediction])\n",
    "y_test_label = np.array([np.argmax(y) for y in y_test])"
   ]
  },
  {
   "cell_type": "code",
   "execution_count": 14,
   "metadata": {
    "slideshow": {
     "slide_type": "subslide"
    }
   },
   "outputs": [
    {
     "name": "stdout",
     "output_type": "stream",
     "text": [
      "Accuracy: 0.75\n"
     ]
    },
    {
     "data": {
      "text/plain": [
       "Text(0.5,32.0938,u'Predicted label')"
      ]
     },
     "execution_count": 14,
     "metadata": {},
     "output_type": "execute_result"
    },
    {
     "data": {
      "image/png": "[encoded data removed]",
      "text/plain": [
       "<matplotlib.figure.Figure at 0x7f164ca8bd10>"
      ]
     },
     "metadata": {},
     "output_type": "display_data"
    }
   ],
   "source": [
    "from sklearn.metrics import confusion_matrix\n",
    "\n",
    "acc = np.sum(y_test_label==y_predict) / float(len(y_test_label))\n",
    "print('Accuracy: {:.2f}'.format(acc))\n",
    "\n",
    "cm = confusion_matrix(y_test_label, y_predict )\n",
    "sns.heatmap(cm, annot=True, annot_kws={\"size\": 14}, fmt='g', linewidths=.5, \n",
    "            yticklabels=label_list,xticklabels=label_list)\n",
    "plt.ylabel('True label')\n",
    "plt.xlabel('Predicted label')"
   ]
  },
  {
   "cell_type": "markdown",
   "metadata": {
    "slideshow": {
     "slide_type": "slide"
    }
   },
   "source": [
    "#### Final results"
   ]
  },
  {
   "cell_type": "markdown",
   "metadata": {
    "slideshow": {
     "slide_type": "fragment"
    }
   },
   "source": [
    "|              | CNN           | RNN  | CRNN |\n",
    "| ------------- |:-------------:| -----:| -----:|\n",
    "| Accuracy     | 73% | 55% | 75% | "
   ]
  },
  {
   "cell_type": "markdown",
   "metadata": {
    "slideshow": {
     "slide_type": "fragment"
    }
   },
   "source": [
    "+ seems that CRNN are doing a good job\n",
    "+ but proper statistical analysis would be needed to really be able to say that"
   ]
  }
 ],
 "metadata": {
  "celltoolbar": "Slideshow",
  "kernelspec": {
   "display_name": "Python 2",
   "language": "python",
   "name": "python2"
  },
  "language_info": {
   "codemirror_mode": {
    "name": "ipython",
    "version": 2
   },
   "file_extension": ".py",
   "mimetype": "text/x-python",
   "name": "python",
   "nbconvert_exporter": "python",
   "pygments_lexer": "ipython2",
   "version": "2.7.12"
  }
 },
 "nbformat": 4,
 "nbformat_minor": 2
}
