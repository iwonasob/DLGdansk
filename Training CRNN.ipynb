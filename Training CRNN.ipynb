{
 "cells": [
  {
   "cell_type": "markdown",
   "metadata": {
    "slideshow": {
     "slide_type": "slide"
    }
   },
   "source": [
    "## Stacked Convolutional Recurrent Neural Networks"
   ]
  },
  {
   "cell_type": "code",
   "execution_count": 1,
   "metadata": {
    "slideshow": {
     "slide_type": "slide"
    }
   },
   "outputs": [],
   "source": [
    "import os\n",
    "os.environ[\"PYTHONHASHSEED\"] = \"0\"\n",
    "\n",
    "import random as rn\n",
    "rn.seed(1254)\n",
    "\n",
    "import numpy as np\n",
    "np.random.seed(1515)\n",
    "\n",
    "%matplotlib inline\n",
    "import seaborn as sns\n",
    "import matplotlib.pyplot as plt\n",
    "\n",
    "import librosa, librosa.display, IPython.display as ipd\n",
    "from tqdm import tqdm\n",
    "import glob\n",
    "import pandas as pd\n",
    "import h5py\n",
    "from sklearn import preprocessing\n",
    "import pickle"
   ]
  },
  {
   "cell_type": "code",
   "execution_count": 2,
   "metadata": {
    "slideshow": {
     "slide_type": "-"
    }
   },
   "outputs": [],
   "source": [
    "plt.rcParams['figure.figsize'] = (14, 6)"
   ]
  },
  {
   "cell_type": "code",
   "execution_count": 3,
   "metadata": {
    "slideshow": {
     "slide_type": "subslide"
    }
   },
   "outputs": [
    {
     "name": "stderr",
     "output_type": "stream",
     "text": [
      "Using TensorFlow backend.\n"
     ]
    }
   ],
   "source": [
    "os.environ[\"CUDA_DEVICE_ORDER\"] = \"PCI_BUS_ID\"   \n",
    "os.environ[\"CUDA_VISIBLE_DEVICES\"] = \"1\"\n",
    "\n",
    "import tensorflow as tf\n",
    "tf.set_random_seed(2)\n",
    "\n",
    "config = tf.ConfigProto(\n",
    "    intra_op_parallelism_threads=1,\n",
    "    inter_op_parallelism_threads=1 \n",
    ")\n",
    "\n",
    "config.gpu_options.allow_growth = True  # dynamically grow the memory used on the GPU\n",
    "sess = tf.Session(graph= tf.get_default_graph(), config=config) \n",
    "    \n",
    "import keras \n",
    "from keras import backend as K\n",
    "K.set_session(sess)  # set this TensorFlow session as the default session for Keras\n",
    "\n",
    "from keras.layers import Input, Conv2D, MaxPooling2D, LSTM, Reshape, Bidirectional\n",
    "from keras.layers.wrappers import TimeDistributed\n",
    "from keras.layers import Dense, Flatten\n",
    "from keras.layers.core import Dropout\n",
    "from keras.models import Model\n",
    "from keras.layers.normalization import BatchNormalization\n",
    "from keras.regularizers import l2\n",
    "from keras.callbacks import EarlyStopping, ModelCheckpoint"
   ]
  },
  {
   "cell_type": "code",
   "execution_count": 4,
   "metadata": {
    "slideshow": {
     "slide_type": "subslide"
    }
   },
   "outputs": [],
   "source": [
    "#SET PATHS\n",
    "dataspace = '/vol/vssp/datasets/audio01/UrbanSound8K/audio/'\n",
    "projectspace = '/vol/vssp/AcousticEventsDetection/DLGdansk/UrbanSound/'\n",
    "\n",
    "metadatafile = '/vol/vssp/datasets/audio01/UrbanSound8K/metadata/UrbanSound8K.csv'\n",
    "metadata = pd.read_csv(metadatafile)\n",
    "\n",
    "hdf5_path = os.path.join(projectspace,'dataset.hdf5') \n",
    "modelfolder = os.path.join(projectspace,'models')\n",
    "scalerpath = os.path.join(projectspace,'scaler.pkl')"
   ]
  },
  {
   "cell_type": "code",
   "execution_count": 5,
   "metadata": {
    "slideshow": {
     "slide_type": "slide"
    }
   },
   "outputs": [],
   "source": [
    "# LOAD DATA\n",
    "hf = h5py.File(hdf5_path, 'r')\n",
    "X_train = np.array(hf.get('X_train') )\n",
    "y_train = np.array(hf.get('y_train'))\n",
    "X_val =  np.array(hf.get('X_val'))\n",
    "y_val= np.array(hf.get('y_val'))\n",
    "X_test = np.array(hf.get('X_test'))\n",
    "y_test = np.array(hf.get('y_test'))\n",
    "\n",
    "n_features= hf.get('n_features').value\n",
    "n_frames=hf.get('max_length_samp').value\n",
    "label_list= hf.get('label_list').value"
   ]
  },
  {
   "cell_type": "code",
   "execution_count": 6,
   "metadata": {
    "slideshow": {
     "slide_type": "subslide"
    }
   },
   "outputs": [],
   "source": [
    "# SCALE THE DATA\n",
    "scaler=pickle.load(open(scalerpath, 'rb'))\n",
    "\n",
    "X_train_scaled = [scaler.transform(x.T) for x in X_train]\n",
    "X_val_scaled = [scaler.transform(x.T) for x in X_val]\n",
    "X_test_scaled = [scaler.transform(x.T) for x in X_test]\n",
    "\n",
    "# CHANGE DIMENSION TO FIT KERAS\n",
    "X_train = np.expand_dims(X_train_scaled, 3)\n",
    "X_val = np.expand_dims(X_val_scaled, 3)\n",
    "X_test = np.expand_dims(X_test_scaled, 3)"
   ]
  },
  {
   "cell_type": "code",
   "execution_count": 7,
   "metadata": {
    "slideshow": {
     "slide_type": "skip"
    }
   },
   "outputs": [],
   "source": [
    "def build_crnn(n_frames=n_frames, n_features=n_features,  n_filters_cnn=48,\n",
    "                     filter_size_cnn=(5, 5), pool_size_cnn=(2,2),\n",
    "                     n_classes=10):\n",
    "\n",
    "    # INPUT\n",
    "    x = Input(shape=(n_frames, n_features,  1), dtype='float32')\n",
    "\n",
    "    # CONV 1\n",
    "    y = Conv2D(n_filters_cnn, filter_size_cnn, padding='same', kernel_regularizer=l2(0.01),\n",
    "               activation='relu')(x)\n",
    "    y = MaxPooling2D(pool_size=(1,2), strides=None, padding='same')(y)\n",
    "    y = BatchNormalization()(y)\n",
    "\n",
    "    # CONV 2\n",
    "    y = Conv2D(n_filters_cnn, filter_size_cnn, padding='same', kernel_regularizer=l2(0.01),\n",
    "               activation='relu')(y)\n",
    "    y = MaxPooling2D(pool_size=(1,2), strides=None, padding='same')(y)\n",
    "    y = BatchNormalization()(y)\n",
    "\n",
    "    # CONV 3\n",
    "    y = Conv2D(n_filters_cnn, filter_size_cnn, padding='same', kernel_regularizer=l2(0.01),\n",
    "               activation='relu')(y)\n",
    "    y = MaxPooling2D(pool_size=(1,2), strides=None, padding='same')(y)\n",
    "    y = BatchNormalization()(y)\n",
    "    \n",
    "    # CONV 4\n",
    "    y = Conv2D(n_filters_cnn, filter_size_cnn, padding='same', kernel_regularizer=l2(0.01),\n",
    "               activation='relu')(y)\n",
    "    y = MaxPooling2D(pool_size=(1,5), strides=None, padding='same')(y)\n",
    "    y = BatchNormalization()(y)\n",
    "    \n",
    "    y = Reshape((n_frames, n_filters_cnn))(y)\n",
    "    \n",
    "    #y = Dropout(0.5)(y)\n",
    "    y= LSTM(120)(y)\n",
    "    #y = Dropout(0.5)(y)\n",
    "    #y = Dense(n_dense_cnn, activation='relu')(y)\n",
    "\n",
    "    #y = Dropout(0.5)(y)\n",
    "    y = Dense(n_classes, activation='sigmoid')(y)\n",
    "\n",
    "    m = Model(inputs=x, outputs=y)\n",
    "    return m"
   ]
  },
  {
   "cell_type": "code",
   "execution_count": 8,
   "metadata": {
    "slideshow": {
     "slide_type": "skip"
    }
   },
   "outputs": [
    {
     "name": "stdout",
     "output_type": "stream",
     "text": [
      "_________________________________________________________________\n",
      "Layer (type)                 Output Shape              Param #   \n",
      "=================================================================\n",
      "input_1 (InputLayer)         (None, 173, 40, 1)        0         \n",
      "_________________________________________________________________\n",
      "conv2d_1 (Conv2D)            (None, 173, 40, 48)       1248      \n",
      "_________________________________________________________________\n",
      "max_pooling2d_1 (MaxPooling2 (None, 173, 20, 48)       0         \n",
      "_________________________________________________________________\n",
      "batch_normalization_1 (Batch (None, 173, 20, 48)       192       \n",
      "_________________________________________________________________\n",
      "conv2d_2 (Conv2D)            (None, 173, 20, 48)       57648     \n",
      "_________________________________________________________________\n",
      "max_pooling2d_2 (MaxPooling2 (None, 173, 10, 48)       0         \n",
      "_________________________________________________________________\n",
      "batch_normalization_2 (Batch (None, 173, 10, 48)       192       \n",
      "_________________________________________________________________\n",
      "conv2d_3 (Conv2D)            (None, 173, 10, 48)       57648     \n",
      "_________________________________________________________________\n",
      "max_pooling2d_3 (MaxPooling2 (None, 173, 5, 48)        0         \n",
      "_________________________________________________________________\n",
      "batch_normalization_3 (Batch (None, 173, 5, 48)        192       \n",
      "_________________________________________________________________\n",
      "conv2d_4 (Conv2D)            (None, 173, 5, 48)        57648     \n",
      "_________________________________________________________________\n",
      "max_pooling2d_4 (MaxPooling2 (None, 173, 1, 48)        0         \n",
      "_________________________________________________________________\n",
      "batch_normalization_4 (Batch (None, 173, 1, 48)        192       \n",
      "_________________________________________________________________\n",
      "reshape_1 (Reshape)          (None, 173, 48)           0         \n",
      "_________________________________________________________________\n",
      "lstm_1 (LSTM)                (None, 120)               81120     \n",
      "_________________________________________________________________\n",
      "dense_1 (Dense)              (None, 10)                1210      \n",
      "=================================================================\n",
      "Total params: 257,290\n",
      "Trainable params: 256,906\n",
      "Non-trainable params: 384\n",
      "_________________________________________________________________\n"
     ]
    }
   ],
   "source": [
    "m = build_crnn(n_features=40,)\n",
    "m.summary()"
   ]
  },
  {
   "cell_type": "code",
   "execution_count": 18,
   "metadata": {},
   "outputs": [],
   "source": [
    "from keras.utils import plot_model\n",
    "plot_model(m, to_file='figures/crnn_model_shape.png', show_shapes=True)"
   ]
  },
  {
   "cell_type": "markdown",
   "metadata": {},
   "source": [
    "<img src='figures/crnn_model_shape.png'>"
   ]
  },
  {
   "cell_type": "code",
   "execution_count": 10,
   "metadata": {
    "slideshow": {
     "slide_type": "skip"
    }
   },
   "outputs": [],
   "source": [
    "m.compile(loss='categorical_crossentropy', optimizer='adam', metrics=['accuracy'])"
   ]
  },
  {
   "cell_type": "code",
   "execution_count": 11,
   "metadata": {
    "slideshow": {
     "slide_type": "skip"
    }
   },
   "outputs": [
    {
     "name": "stdout",
     "output_type": "stream",
     "text": [
      "Train on 7079 samples, validate on 816 samples\n",
      "Epoch 1/200\n",
      "7079/7079 [==============================] - 41s 6ms/step - loss: 2.7309 - acc: 0.3420 - val_loss: 2.9480 - val_acc: 0.1593\n",
      "Epoch 2/200\n",
      "7079/7079 [==============================] - 35s 5ms/step - loss: 1.9918 - acc: 0.4875 - val_loss: 2.8024 - val_acc: 0.2230\n",
      "Epoch 3/200\n",
      "7079/7079 [==============================] - 35s 5ms/step - loss: 1.9979 - acc: 0.4943 - val_loss: 3.2143 - val_acc: 0.0956\n",
      "Epoch 4/200\n",
      "7079/7079 [==============================] - 35s 5ms/step - loss: 1.9016 - acc: 0.5179 - val_loss: 2.6474 - val_acc: 0.2512\n",
      "Epoch 5/200\n",
      "7079/7079 [==============================] - 35s 5ms/step - loss: 1.8799 - acc: 0.5382 - val_loss: 2.6038 - val_acc: 0.3002\n",
      "Epoch 6/200\n",
      "7079/7079 [==============================] - 36s 5ms/step - loss: 1.6692 - acc: 0.6070 - val_loss: 2.5740 - val_acc: 0.3358\n",
      "Epoch 7/200\n",
      "7079/7079 [==============================] - 36s 5ms/step - loss: 1.5937 - acc: 0.6309 - val_loss: 2.4830 - val_acc: 0.3493\n",
      "Epoch 8/200\n",
      "7079/7079 [==============================] - 36s 5ms/step - loss: 1.6765 - acc: 0.5940 - val_loss: 2.2364 - val_acc: 0.4363\n",
      "Epoch 9/200\n",
      "7079/7079 [==============================] - 36s 5ms/step - loss: 2.0344 - acc: 0.4920 - val_loss: 2.1058 - val_acc: 0.4718\n",
      "Epoch 10/200\n",
      "7079/7079 [==============================] - 37s 5ms/step - loss: 1.8057 - acc: 0.5910 - val_loss: 2.0698 - val_acc: 0.4730\n",
      "Epoch 11/200\n",
      "7079/7079 [==============================] - 36s 5ms/step - loss: 1.5507 - acc: 0.6622 - val_loss: 2.1698 - val_acc: 0.4645\n",
      "Epoch 12/200\n",
      "7079/7079 [==============================] - 35s 5ms/step - loss: 1.9672 - acc: 0.5180 - val_loss: 2.8081 - val_acc: 0.3211\n",
      "Epoch 13/200\n",
      "7079/7079 [==============================] - 35s 5ms/step - loss: 1.7887 - acc: 0.5968 - val_loss: 2.2216 - val_acc: 0.4289\n",
      "Epoch 14/200\n",
      "7079/7079 [==============================] - 35s 5ms/step - loss: 1.7082 - acc: 0.6176 - val_loss: 2.0807 - val_acc: 0.5184\n",
      "Epoch 15/200\n",
      "7079/7079 [==============================] - 35s 5ms/step - loss: 1.5038 - acc: 0.6887 - val_loss: 2.0792 - val_acc: 0.5662\n",
      "Epoch 16/200\n",
      "7079/7079 [==============================] - 35s 5ms/step - loss: 1.4418 - acc: 0.6952 - val_loss: 2.0829 - val_acc: 0.5208\n",
      "Epoch 17/200\n",
      "7079/7079 [==============================] - 36s 5ms/step - loss: 1.3675 - acc: 0.7125 - val_loss: 2.0225 - val_acc: 0.5221\n",
      "Epoch 18/200\n",
      "7079/7079 [==============================] - 35s 5ms/step - loss: 1.3177 - acc: 0.7265 - val_loss: 1.9137 - val_acc: 0.5625\n",
      "Epoch 19/200\n",
      "7079/7079 [==============================] - 35s 5ms/step - loss: 1.5213 - acc: 0.6564 - val_loss: 2.0384 - val_acc: 0.4645\n",
      "Epoch 20/200\n",
      "7079/7079 [==============================] - 37s 5ms/step - loss: 1.3150 - acc: 0.7354 - val_loss: 1.8446 - val_acc: 0.5735\n",
      "Epoch 21/200\n",
      "7079/7079 [==============================] - 37s 5ms/step - loss: 1.2805 - acc: 0.7391 - val_loss: 2.2711 - val_acc: 0.4314\n",
      "Epoch 22/200\n",
      "7079/7079 [==============================] - 38s 5ms/step - loss: 1.3241 - acc: 0.7244 - val_loss: 1.9436 - val_acc: 0.5993\n",
      "Epoch 23/200\n",
      "7079/7079 [==============================] - 37s 5ms/step - loss: 1.2631 - acc: 0.7464 - val_loss: 2.6087 - val_acc: 0.4265\n",
      "Epoch 24/200\n",
      "7079/7079 [==============================] - 38s 5ms/step - loss: 1.5657 - acc: 0.6512 - val_loss: 2.0589 - val_acc: 0.5564\n",
      "Epoch 25/200\n",
      "7079/7079 [==============================] - 39s 6ms/step - loss: 1.3080 - acc: 0.7481 - val_loss: 2.1260 - val_acc: 0.5723\n",
      "Epoch 26/200\n",
      "7079/7079 [==============================] - 38s 5ms/step - loss: 1.4053 - acc: 0.7169 - val_loss: 1.8394 - val_acc: 0.5931\n",
      "Epoch 27/200\n",
      "7079/7079 [==============================] - 38s 5ms/step - loss: 1.2210 - acc: 0.7777 - val_loss: 1.8386 - val_acc: 0.6017\n",
      "Epoch 28/200\n",
      "7079/7079 [==============================] - 38s 5ms/step - loss: 1.1025 - acc: 0.8032 - val_loss: 2.3387 - val_acc: 0.4975\n",
      "Epoch 29/200\n",
      "7079/7079 [==============================] - 38s 5ms/step - loss: 1.2513 - acc: 0.7449 - val_loss: 1.9980 - val_acc: 0.5478\n",
      "Epoch 30/200\n",
      "7079/7079 [==============================] - 40s 6ms/step - loss: 1.1232 - acc: 0.7925 - val_loss: 1.8428 - val_acc: 0.6066\n",
      "Epoch 31/200\n",
      "7079/7079 [==============================] - 40s 6ms/step - loss: 1.0525 - acc: 0.8025 - val_loss: 1.9165 - val_acc: 0.6127\n",
      "Epoch 32/200\n",
      "7079/7079 [==============================] - 40s 6ms/step - loss: 0.9886 - acc: 0.8169 - val_loss: 1.9449 - val_acc: 0.6042\n",
      "Epoch 33/200\n",
      "7079/7079 [==============================] - 40s 6ms/step - loss: 1.1995 - acc: 0.7510 - val_loss: 2.2668 - val_acc: 0.4485\n",
      "Epoch 34/200\n",
      "7079/7079 [==============================] - 38s 5ms/step - loss: 1.1538 - acc: 0.7888 - val_loss: 2.0162 - val_acc: 0.6201\n",
      "Epoch 35/200\n",
      "7079/7079 [==============================] - 37s 5ms/step - loss: 1.0310 - acc: 0.8189 - val_loss: 1.9028 - val_acc: 0.6029\n",
      "Epoch 36/200\n",
      "7079/7079 [==============================] - 38s 5ms/step - loss: 0.9206 - acc: 0.8431 - val_loss: 1.7890 - val_acc: 0.6593\n",
      "Epoch 37/200\n",
      "7079/7079 [==============================] - 38s 5ms/step - loss: 0.8628 - acc: 0.8474 - val_loss: 1.7925 - val_acc: 0.6311\n",
      "Epoch 38/200\n",
      "7079/7079 [==============================] - 38s 5ms/step - loss: 0.8165 - acc: 0.8577 - val_loss: 1.9330 - val_acc: 0.5699\n",
      "Epoch 39/200\n",
      "7079/7079 [==============================] - 38s 5ms/step - loss: 0.7584 - acc: 0.8683 - val_loss: 1.6872 - val_acc: 0.6495\n",
      "Epoch 40/200\n",
      "7079/7079 [==============================] - 38s 5ms/step - loss: 0.6659 - acc: 0.8914 - val_loss: 2.0051 - val_acc: 0.5564\n",
      "Epoch 41/200\n",
      "7079/7079 [==============================] - 38s 5ms/step - loss: 1.9449 - acc: 0.5807 - val_loss: 3.7726 - val_acc: 0.1630\n",
      "Epoch 42/200\n",
      "7079/7079 [==============================] - 38s 5ms/step - loss: 2.3387 - acc: 0.5816 - val_loss: 2.6687 - val_acc: 0.4424\n",
      "Epoch 43/200\n",
      "7079/7079 [==============================] - 38s 5ms/step - loss: 2.0589 - acc: 0.6580 - val_loss: 2.2147 - val_acc: 0.6054\n",
      "Epoch 44/200\n",
      "7079/7079 [==============================] - 38s 5ms/step - loss: 1.7964 - acc: 0.7216 - val_loss: 2.5914 - val_acc: 0.4743\n",
      "Epoch 45/200\n",
      "7079/7079 [==============================] - 38s 5ms/step - loss: 1.7257 - acc: 0.7204 - val_loss: 2.1056 - val_acc: 0.6066\n",
      "Epoch 46/200\n",
      "7079/7079 [==============================] - 38s 5ms/step - loss: 1.5447 - acc: 0.7678 - val_loss: 2.0301 - val_acc: 0.6029\n",
      "Epoch 47/200\n",
      "7079/7079 [==============================] - 39s 5ms/step - loss: 1.4884 - acc: 0.7672 - val_loss: 2.0675 - val_acc: 0.6078\n",
      "Epoch 48/200\n",
      "7079/7079 [==============================] - 38s 5ms/step - loss: 1.3125 - acc: 0.8103 - val_loss: 2.1811 - val_acc: 0.5723\n",
      "Epoch 49/200\n",
      "7079/7079 [==============================] - 38s 5ms/step - loss: 1.2124 - acc: 0.8302 - val_loss: 2.2948 - val_acc: 0.5343\n",
      "Epoch 50/200\n",
      "7079/7079 [==============================] - 38s 5ms/step - loss: 1.1868 - acc: 0.8190 - val_loss: 2.0387 - val_acc: 0.6005\n",
      "Epoch 51/200\n",
      "7079/7079 [==============================] - 38s 5ms/step - loss: 1.2104 - acc: 0.8072 - val_loss: 2.4153 - val_acc: 0.4755\n",
      "Epoch 52/200\n",
      "7079/7079 [==============================] - 38s 5ms/step - loss: 1.1432 - acc: 0.8234 - val_loss: 1.9497 - val_acc: 0.6250\n",
      "Epoch 53/200\n",
      "7079/7079 [==============================] - 38s 5ms/step - loss: 1.2879 - acc: 0.7717 - val_loss: 2.3464 - val_acc: 0.5123\n",
      "Epoch 54/200\n",
      "7079/7079 [==============================] - 38s 5ms/step - loss: 1.2807 - acc: 0.7887 - val_loss: 1.9437 - val_acc: 0.6299\n",
      "Epoch 55/200\n",
      "7079/7079 [==============================] - 38s 5ms/step - loss: 1.1021 - acc: 0.8344 - val_loss: 1.9127 - val_acc: 0.6127\n",
      "Epoch 56/200\n",
      "7079/7079 [==============================] - 38s 5ms/step - loss: 0.9630 - acc: 0.8710 - val_loss: 2.0958 - val_acc: 0.5625\n",
      "Epoch 57/200\n",
      "7079/7079 [==============================] - 38s 5ms/step - loss: 1.0504 - acc: 0.8306 - val_loss: 1.9313 - val_acc: 0.6262\n",
      "Epoch 58/200\n",
      "7079/7079 [==============================] - 38s 5ms/step - loss: 0.9947 - acc: 0.8409 - val_loss: 1.8577 - val_acc: 0.6789\n",
      "Epoch 59/200\n",
      "7079/7079 [==============================] - 38s 5ms/step - loss: 0.9210 - acc: 0.8610 - val_loss: 1.9326 - val_acc: 0.6250\n",
      "Epoch 60/200\n"
     ]
    },
    {
     "name": "stdout",
     "output_type": "stream",
     "text": [
      "7079/7079 [==============================] - 38s 5ms/step - loss: 0.8967 - acc: 0.8626 - val_loss: 1.9631 - val_acc: 0.5919\n",
      "Epoch 61/200\n",
      "7079/7079 [==============================] - 38s 5ms/step - loss: 0.9066 - acc: 0.8556 - val_loss: 1.7224 - val_acc: 0.6887\n",
      "Epoch 62/200\n",
      "7079/7079 [==============================] - 39s 5ms/step - loss: 0.8467 - acc: 0.8744 - val_loss: 2.6534 - val_acc: 0.4583\n",
      "Epoch 63/200\n",
      "7079/7079 [==============================] - 37s 5ms/step - loss: 1.1326 - acc: 0.7875 - val_loss: 1.6741 - val_acc: 0.6495\n",
      "Epoch 64/200\n",
      "7079/7079 [==============================] - 38s 5ms/step - loss: 0.9062 - acc: 0.8644 - val_loss: 1.8630 - val_acc: 0.5968\n",
      "Epoch 65/200\n",
      "7079/7079 [==============================] - 38s 5ms/step - loss: 0.8397 - acc: 0.8724 - val_loss: 2.0806 - val_acc: 0.5748\n",
      "Epoch 66/200\n",
      "7079/7079 [==============================] - 37s 5ms/step - loss: 0.7843 - acc: 0.8820 - val_loss: 2.6101 - val_acc: 0.4963\n",
      "Epoch 67/200\n",
      "7079/7079 [==============================] - 38s 5ms/step - loss: 0.7878 - acc: 0.8746 - val_loss: 1.8570 - val_acc: 0.6311\n",
      "Epoch 68/200\n",
      "7079/7079 [==============================] - 38s 5ms/step - loss: 0.8222 - acc: 0.8665 - val_loss: 1.6778 - val_acc: 0.6777\n",
      "Epoch 69/200\n",
      "7079/7079 [==============================] - 38s 5ms/step - loss: 0.6935 - acc: 0.9007 - val_loss: 1.9302 - val_acc: 0.6299\n",
      "Epoch 70/200\n",
      "7079/7079 [==============================] - 38s 5ms/step - loss: 0.9057 - acc: 0.8274 - val_loss: 2.0665 - val_acc: 0.6140\n",
      "Epoch 71/200\n",
      "7079/7079 [==============================] - 38s 5ms/step - loss: 0.8011 - acc: 0.8717 - val_loss: 1.8596 - val_acc: 0.6532\n",
      "Epoch 72/200\n",
      "7079/7079 [==============================] - 38s 5ms/step - loss: 0.6832 - acc: 0.9025 - val_loss: 1.8458 - val_acc: 0.6373\n",
      "Epoch 73/200\n",
      "7079/7079 [==============================] - 38s 5ms/step - loss: 0.6181 - acc: 0.9150 - val_loss: 2.0572 - val_acc: 0.5968\n",
      "Epoch 74/200\n",
      "7079/7079 [==============================] - 38s 5ms/step - loss: 0.5926 - acc: 0.9130 - val_loss: 1.8586 - val_acc: 0.6238\n",
      "Epoch 75/200\n",
      "7079/7079 [==============================] - 37s 5ms/step - loss: 0.6320 - acc: 0.8969 - val_loss: 1.7923 - val_acc: 0.6630\n",
      "Epoch 76/200\n",
      "7079/7079 [==============================] - 38s 5ms/step - loss: 0.5734 - acc: 0.9121 - val_loss: 1.8042 - val_acc: 0.6507\n",
      "Epoch 77/200\n",
      "7079/7079 [==============================] - 38s 5ms/step - loss: 0.5563 - acc: 0.9134 - val_loss: 1.8988 - val_acc: 0.6005\n",
      "Epoch 78/200\n",
      "7079/7079 [==============================] - 38s 5ms/step - loss: 0.5304 - acc: 0.9198 - val_loss: 2.2684 - val_acc: 0.5551\n",
      "Epoch 79/200\n",
      "7079/7079 [==============================] - 39s 5ms/step - loss: 0.5400 - acc: 0.9097 - val_loss: 1.9116 - val_acc: 0.6324\n",
      "Epoch 80/200\n",
      "7079/7079 [==============================] - 39s 5ms/step - loss: 0.5391 - acc: 0.9179 - val_loss: 1.7567 - val_acc: 0.6654\n",
      "Epoch 81/200\n",
      "7079/7079 [==============================] - 39s 5ms/step - loss: 0.6132 - acc: 0.8917 - val_loss: 1.8689 - val_acc: 0.6017\n",
      "Epoch 82/200\n",
      "7079/7079 [==============================] - 38s 5ms/step - loss: 0.5729 - acc: 0.9066 - val_loss: 1.7315 - val_acc: 0.6752\n",
      "Epoch 83/200\n",
      "7079/7079 [==============================] - 39s 5ms/step - loss: 0.5542 - acc: 0.9128 - val_loss: 1.7179 - val_acc: 0.6740\n",
      "Epoch 84/200\n",
      "7079/7079 [==============================] - 38s 5ms/step - loss: 0.7600 - acc: 0.8576 - val_loss: 2.2431 - val_acc: 0.5429\n",
      "Epoch 85/200\n",
      "7079/7079 [==============================] - 37s 5ms/step - loss: 0.7923 - acc: 0.8601 - val_loss: 1.8874 - val_acc: 0.6556\n",
      "Epoch 86/200\n",
      "7079/7079 [==============================] - 38s 5ms/step - loss: 0.6073 - acc: 0.9196 - val_loss: 1.8735 - val_acc: 0.6605\n",
      "Epoch 87/200\n",
      "7079/7079 [==============================] - 38s 5ms/step - loss: 0.5595 - acc: 0.9226 - val_loss: 1.7978 - val_acc: 0.6336\n",
      "Epoch 88/200\n",
      "7079/7079 [==============================] - 38s 5ms/step - loss: 0.6284 - acc: 0.8962 - val_loss: 1.8591 - val_acc: 0.6360\n",
      "Epoch 89/200\n",
      "7079/7079 [==============================] - 38s 5ms/step - loss: 0.6087 - acc: 0.9032 - val_loss: 1.6649 - val_acc: 0.6691\n",
      "Epoch 90/200\n",
      "7079/7079 [==============================] - 38s 5ms/step - loss: 0.5396 - acc: 0.9220 - val_loss: 1.7745 - val_acc: 0.6471\n",
      "Epoch 91/200\n",
      "7079/7079 [==============================] - 37s 5ms/step - loss: 0.4817 - acc: 0.9354 - val_loss: 1.7566 - val_acc: 0.6740\n",
      "Epoch 92/200\n",
      "7079/7079 [==============================] - 38s 5ms/step - loss: 0.4179 - acc: 0.9473 - val_loss: 1.9531 - val_acc: 0.6262\n",
      "Epoch 93/200\n",
      "7079/7079 [==============================] - 38s 5ms/step - loss: 0.4242 - acc: 0.9417 - val_loss: 1.9522 - val_acc: 0.6250\n",
      "Epoch 94/200\n",
      "7079/7079 [==============================] - 37s 5ms/step - loss: 0.5778 - acc: 0.8973 - val_loss: 2.0630 - val_acc: 0.6103\n",
      "Epoch 95/200\n",
      "7079/7079 [==============================] - 38s 5ms/step - loss: 1.7215 - acc: 0.6425 - val_loss: 3.0539 - val_acc: 0.3370\n",
      "Epoch 96/200\n",
      "7079/7079 [==============================] - 38s 5ms/step - loss: 1.2558 - acc: 0.8135 - val_loss: 2.5595 - val_acc: 0.5417\n",
      "Epoch 97/200\n",
      "7079/7079 [==============================] - 38s 5ms/step - loss: 1.0675 - acc: 0.8524 - val_loss: 2.2759 - val_acc: 0.6054\n",
      "Epoch 98/200\n",
      "7079/7079 [==============================] - 37s 5ms/step - loss: 0.9275 - acc: 0.8806 - val_loss: 1.9053 - val_acc: 0.6618\n",
      "Epoch 99/200\n",
      "7079/7079 [==============================] - 38s 5ms/step - loss: 0.8220 - acc: 0.9006 - val_loss: 1.8142 - val_acc: 0.6593\n",
      "Epoch 100/200\n",
      "7079/7079 [==============================] - 38s 5ms/step - loss: 0.7574 - acc: 0.9038 - val_loss: 1.8284 - val_acc: 0.6728\n",
      "Epoch 101/200\n",
      "7079/7079 [==============================] - 37s 5ms/step - loss: 0.6452 - acc: 0.9260 - val_loss: 2.0821 - val_acc: 0.6017\n",
      "Epoch 102/200\n",
      "7079/7079 [==============================] - 37s 5ms/step - loss: 0.5667 - acc: 0.9373 - val_loss: 2.4849 - val_acc: 0.4853\n",
      "Epoch 103/200\n",
      "7079/7079 [==============================] - 38s 5ms/step - loss: 0.7111 - acc: 0.8874 - val_loss: 1.9229 - val_acc: 0.6446\n",
      "Epoch 104/200\n",
      "7079/7079 [==============================] - 37s 5ms/step - loss: 0.6345 - acc: 0.9165 - val_loss: 1.7887 - val_acc: 0.6593\n",
      "Epoch 105/200\n",
      "7079/7079 [==============================] - 38s 5ms/step - loss: 0.6040 - acc: 0.9162 - val_loss: 1.7041 - val_acc: 0.6740\n",
      "Epoch 106/200\n",
      "7079/7079 [==============================] - 38s 5ms/step - loss: 0.5817 - acc: 0.9198 - val_loss: 1.7249 - val_acc: 0.6838\n",
      "Epoch 107/200\n",
      "7079/7079 [==============================] - 37s 5ms/step - loss: 0.5247 - acc: 0.9321 - val_loss: 1.6693 - val_acc: 0.6544\n",
      "Epoch 108/200\n",
      "7079/7079 [==============================] - 38s 5ms/step - loss: 0.4522 - acc: 0.9465 - val_loss: 1.8410 - val_acc: 0.6152\n",
      "Epoch 109/200\n",
      "7079/7079 [==============================] - 38s 5ms/step - loss: 0.4382 - acc: 0.9460 - val_loss: 1.6774 - val_acc: 0.6703\n",
      "Epoch 110/200\n",
      "7079/7079 [==============================] - 38s 5ms/step - loss: 0.4450 - acc: 0.9405 - val_loss: 2.0220 - val_acc: 0.5907\n",
      "Epoch 111/200\n",
      "7079/7079 [==============================] - 39s 5ms/step - loss: 0.4387 - acc: 0.9383 - val_loss: 1.9313 - val_acc: 0.6066\n",
      "Epoch 112/200\n",
      "7079/7079 [==============================] - 39s 5ms/step - loss: 0.4358 - acc: 0.9377 - val_loss: 1.9404 - val_acc: 0.6569\n",
      "Epoch 113/200\n",
      "7079/7079 [==============================] - 38s 5ms/step - loss: 0.4300 - acc: 0.9417 - val_loss: 2.0721 - val_acc: 0.6409\n",
      "Epoch 114/200\n",
      "7079/7079 [==============================] - 38s 5ms/step - loss: 0.4087 - acc: 0.9432 - val_loss: 1.6648 - val_acc: 0.6998\n",
      "Epoch 115/200\n",
      "7079/7079 [==============================] - 38s 5ms/step - loss: 0.4573 - acc: 0.9343 - val_loss: 1.6111 - val_acc: 0.7267\n",
      "Epoch 116/200\n",
      "7079/7079 [==============================] - 38s 5ms/step - loss: 0.3914 - acc: 0.9531 - val_loss: 1.8162 - val_acc: 0.6654\n",
      "Epoch 117/200\n",
      "7079/7079 [==============================] - 38s 5ms/step - loss: 0.3606 - acc: 0.9569 - val_loss: 1.9412 - val_acc: 0.6446\n",
      "Epoch 118/200\n",
      "7079/7079 [==============================] - 38s 5ms/step - loss: 0.4314 - acc: 0.9366 - val_loss: 1.8311 - val_acc: 0.6728\n",
      "Epoch 119/200\n",
      "7079/7079 [==============================] - 38s 5ms/step - loss: 0.8314 - acc: 0.8375 - val_loss: 3.0835 - val_acc: 0.4718\n"
     ]
    },
    {
     "name": "stdout",
     "output_type": "stream",
     "text": [
      "Epoch 120/200\n",
      "7079/7079 [==============================] - 38s 5ms/step - loss: 0.9859 - acc: 0.8426 - val_loss: 2.9623 - val_acc: 0.3333\n",
      "Epoch 121/200\n",
      "7079/7079 [==============================] - 38s 5ms/step - loss: 1.2412 - acc: 0.7854 - val_loss: 2.1382 - val_acc: 0.6042\n",
      "Epoch 122/200\n",
      "7079/7079 [==============================] - 38s 5ms/step - loss: 0.8507 - acc: 0.8980 - val_loss: 1.8889 - val_acc: 0.6850\n",
      "Epoch 123/200\n",
      "7079/7079 [==============================] - 38s 5ms/step - loss: 0.7081 - acc: 0.9213 - val_loss: 1.9111 - val_acc: 0.6716\n",
      "Epoch 124/200\n",
      "7079/7079 [==============================] - 38s 5ms/step - loss: 0.5911 - acc: 0.9390 - val_loss: 2.1222 - val_acc: 0.5772\n",
      "Epoch 125/200\n",
      "7079/7079 [==============================] - 38s 5ms/step - loss: 0.5586 - acc: 0.9377 - val_loss: 1.9825 - val_acc: 0.5968\n",
      "Epoch 126/200\n",
      "7079/7079 [==============================] - 37s 5ms/step - loss: 0.6721 - acc: 0.9006 - val_loss: 3.1457 - val_acc: 0.3186\n",
      "Epoch 127/200\n",
      "7079/7079 [==============================] - 38s 5ms/step - loss: 1.4376 - acc: 0.7363 - val_loss: 2.2496 - val_acc: 0.5662\n",
      "Epoch 128/200\n",
      "7079/7079 [==============================] - 38s 5ms/step - loss: 1.0123 - acc: 0.8641 - val_loss: 2.0172 - val_acc: 0.6875\n",
      "Epoch 129/200\n",
      "7079/7079 [==============================] - 37s 5ms/step - loss: 0.8053 - acc: 0.9120 - val_loss: 2.3227 - val_acc: 0.5772\n",
      "Epoch 130/200\n",
      "7079/7079 [==============================] - 37s 5ms/step - loss: 0.8274 - acc: 0.8904 - val_loss: 2.0593 - val_acc: 0.6336\n",
      "Epoch 131/200\n",
      "7079/7079 [==============================] - 38s 5ms/step - loss: 0.7163 - acc: 0.9147 - val_loss: 1.9751 - val_acc: 0.6373\n",
      "Epoch 132/200\n",
      "7079/7079 [==============================] - 38s 5ms/step - loss: 0.5988 - acc: 0.9359 - val_loss: 2.0119 - val_acc: 0.5895\n",
      "Epoch 133/200\n",
      "7079/7079 [==============================] - 38s 5ms/step - loss: 0.4875 - acc: 0.9568 - val_loss: 2.0123 - val_acc: 0.5784\n",
      "Epoch 134/200\n",
      "7079/7079 [==============================] - 38s 5ms/step - loss: 0.4778 - acc: 0.9491 - val_loss: 2.2572 - val_acc: 0.5650\n",
      "Epoch 135/200\n",
      "7079/7079 [==============================] - 37s 5ms/step - loss: 0.4394 - acc: 0.9548 - val_loss: 1.9533 - val_acc: 0.6556\n",
      "Epoch 136/200\n",
      "7079/7079 [==============================] - 38s 5ms/step - loss: 0.4957 - acc: 0.9319 - val_loss: 1.8488 - val_acc: 0.6826\n",
      "Epoch 137/200\n",
      "7079/7079 [==============================] - 36s 5ms/step - loss: 0.4854 - acc: 0.9357 - val_loss: 1.7036 - val_acc: 0.6850\n",
      "Epoch 138/200\n",
      "7079/7079 [==============================] - 35s 5ms/step - loss: 0.4213 - acc: 0.9487 - val_loss: 1.7920 - val_acc: 0.6642\n",
      "Epoch 139/200\n",
      "7079/7079 [==============================] - 35s 5ms/step - loss: 0.5146 - acc: 0.9184 - val_loss: 2.0458 - val_acc: 0.6201\n",
      "Epoch 140/200\n",
      "7079/7079 [==============================] - 35s 5ms/step - loss: 0.5710 - acc: 0.9107 - val_loss: 1.5535 - val_acc: 0.6949\n",
      "Epoch 141/200\n",
      "7079/7079 [==============================] - 35s 5ms/step - loss: 0.5052 - acc: 0.9313 - val_loss: 1.8268 - val_acc: 0.6801\n",
      "Epoch 142/200\n",
      "7079/7079 [==============================] - 35s 5ms/step - loss: 0.4051 - acc: 0.9576 - val_loss: 1.8953 - val_acc: 0.6593\n",
      "Epoch 143/200\n",
      "7079/7079 [==============================] - 35s 5ms/step - loss: 0.3506 - acc: 0.9641 - val_loss: 1.8109 - val_acc: 0.6863\n",
      "Epoch 144/200\n",
      "7079/7079 [==============================] - 36s 5ms/step - loss: 0.5177 - acc: 0.9159 - val_loss: 1.9807 - val_acc: 0.6887\n",
      "Epoch 145/200\n",
      "7079/7079 [==============================] - 37s 5ms/step - loss: 0.4912 - acc: 0.9339 - val_loss: 1.8558 - val_acc: 0.6801\n",
      "Epoch 146/200\n",
      "7079/7079 [==============================] - 35s 5ms/step - loss: 0.3922 - acc: 0.9572 - val_loss: 1.7318 - val_acc: 0.6814\n",
      "Epoch 147/200\n",
      "7079/7079 [==============================] - 36s 5ms/step - loss: 0.3463 - acc: 0.9669 - val_loss: 1.8291 - val_acc: 0.6507\n",
      "Epoch 148/200\n",
      "7079/7079 [==============================] - 36s 5ms/step - loss: 0.3322 - acc: 0.9596 - val_loss: 1.6823 - val_acc: 0.6887\n",
      "Epoch 149/200\n",
      "7079/7079 [==============================] - 35s 5ms/step - loss: 0.3397 - acc: 0.9576 - val_loss: 1.7438 - val_acc: 0.6875\n",
      "Epoch 150/200\n",
      "7079/7079 [==============================] - 35s 5ms/step - loss: 0.4159 - acc: 0.9366 - val_loss: 1.8418 - val_acc: 0.6961\n",
      "Epoch 151/200\n",
      "7079/7079 [==============================] - 36s 5ms/step - loss: 0.4116 - acc: 0.9412 - val_loss: 1.6691 - val_acc: 0.7365\n",
      "Epoch 152/200\n",
      "7079/7079 [==============================] - 36s 5ms/step - loss: 0.3617 - acc: 0.9539 - val_loss: 1.6521 - val_acc: 0.7267\n",
      "Epoch 153/200\n",
      "7079/7079 [==============================] - 35s 5ms/step - loss: 0.3635 - acc: 0.9545 - val_loss: 1.8658 - val_acc: 0.7022\n",
      "Epoch 154/200\n",
      "7079/7079 [==============================] - 35s 5ms/step - loss: 0.3423 - acc: 0.9571 - val_loss: 1.7513 - val_acc: 0.7034\n",
      "Epoch 155/200\n",
      "7079/7079 [==============================] - 36s 5ms/step - loss: 0.4755 - acc: 0.9198 - val_loss: 2.0502 - val_acc: 0.6703\n",
      "Epoch 156/200\n",
      "7079/7079 [==============================] - 36s 5ms/step - loss: 0.4353 - acc: 0.9424 - val_loss: 1.8673 - val_acc: 0.6924\n",
      "Epoch 157/200\n",
      "7079/7079 [==============================] - 36s 5ms/step - loss: 0.3847 - acc: 0.9562 - val_loss: 1.6691 - val_acc: 0.7218\n",
      "Epoch 158/200\n",
      "7079/7079 [==============================] - 35s 5ms/step - loss: 0.4371 - acc: 0.9374 - val_loss: 2.5413 - val_acc: 0.5453\n",
      "Epoch 159/200\n",
      "7079/7079 [==============================] - 35s 5ms/step - loss: 0.7069 - acc: 0.8811 - val_loss: 2.3525 - val_acc: 0.6103\n",
      "Epoch 160/200\n",
      "7079/7079 [==============================] - 35s 5ms/step - loss: 0.6054 - acc: 0.9191 - val_loss: 1.8305 - val_acc: 0.6765\n",
      "Epoch 161/200\n",
      "7079/7079 [==============================] - 35s 5ms/step - loss: 0.4509 - acc: 0.9600 - val_loss: 1.6808 - val_acc: 0.7145\n",
      "Epoch 162/200\n",
      "7079/7079 [==============================] - 36s 5ms/step - loss: 0.3714 - acc: 0.9729 - val_loss: 1.8277 - val_acc: 0.6703\n",
      "Epoch 163/200\n",
      "7079/7079 [==============================] - 35s 5ms/step - loss: 0.3259 - acc: 0.9754 - val_loss: 2.6272 - val_acc: 0.5233\n",
      "Epoch 164/200\n",
      "7079/7079 [==============================] - 35s 5ms/step - loss: 0.3218 - acc: 0.9693 - val_loss: 2.1329 - val_acc: 0.5919\n",
      "Epoch 165/200\n",
      "7079/7079 [==============================] - 35s 5ms/step - loss: 0.3033 - acc: 0.9708 - val_loss: 2.2041 - val_acc: 0.6311\n",
      "Epoch 166/200\n",
      "7079/7079 [==============================] - 35s 5ms/step - loss: 0.3386 - acc: 0.9568 - val_loss: 1.7176 - val_acc: 0.7071\n",
      "Epoch 167/200\n",
      "7079/7079 [==============================] - 35s 5ms/step - loss: 0.3457 - acc: 0.9554 - val_loss: 1.8126 - val_acc: 0.6814\n",
      "Epoch 168/200\n",
      "7079/7079 [==============================] - 36s 5ms/step - loss: 0.3093 - acc: 0.9658 - val_loss: 1.9163 - val_acc: 0.6801\n",
      "Epoch 169/200\n",
      "7079/7079 [==============================] - 35s 5ms/step - loss: 0.5113 - acc: 0.9089 - val_loss: 2.9506 - val_acc: 0.4056\n",
      "Epoch 170/200\n",
      "7079/7079 [==============================] - 37s 5ms/step - loss: 0.6584 - acc: 0.8919 - val_loss: 2.2476 - val_acc: 0.5882\n",
      "Epoch 171/200\n",
      "7079/7079 [==============================] - 38s 5ms/step - loss: 0.5181 - acc: 0.9350 - val_loss: 1.8318 - val_acc: 0.6801\n",
      "Epoch 172/200\n",
      "7079/7079 [==============================] - 38s 5ms/step - loss: 0.3934 - acc: 0.9660 - val_loss: 1.7936 - val_acc: 0.6850\n",
      "Epoch 173/200\n",
      "7079/7079 [==============================] - 36s 5ms/step - loss: 0.3648 - acc: 0.9641 - val_loss: 1.7401 - val_acc: 0.7010\n",
      "Epoch 174/200\n",
      "7079/7079 [==============================] - 37s 5ms/step - loss: 0.3028 - acc: 0.9794 - val_loss: 1.9596 - val_acc: 0.6005\n",
      "Epoch 175/200\n",
      "7079/7079 [==============================] - 37s 5ms/step - loss: 0.2976 - acc: 0.9710 - val_loss: 1.8222 - val_acc: 0.6985\n",
      "Epoch 176/200\n",
      "7079/7079 [==============================] - 36s 5ms/step - loss: 0.2847 - acc: 0.9719 - val_loss: 2.4971 - val_acc: 0.5564\n",
      "Epoch 177/200\n",
      "7079/7079 [==============================] - 34s 5ms/step - loss: 0.3509 - acc: 0.9559 - val_loss: 1.7617 - val_acc: 0.6740\n",
      "Epoch 178/200\n",
      "7079/7079 [==============================] - 35s 5ms/step - loss: 0.3519 - acc: 0.9556 - val_loss: 1.6666 - val_acc: 0.7120\n",
      "Epoch 179/200\n"
     ]
    },
    {
     "name": "stdout",
     "output_type": "stream",
     "text": [
      "7079/7079 [==============================] - 36s 5ms/step - loss: 0.2908 - acc: 0.9723 - val_loss: 1.6522 - val_acc: 0.6949\n",
      "Epoch 180/200\n",
      "7079/7079 [==============================] - 36s 5ms/step - loss: 0.2939 - acc: 0.9664 - val_loss: 1.7357 - val_acc: 0.6569\n",
      "Epoch 181/200\n",
      "7079/7079 [==============================] - 36s 5ms/step - loss: 0.4508 - acc: 0.9299 - val_loss: 1.9475 - val_acc: 0.6630\n",
      "Epoch 182/200\n",
      "7079/7079 [==============================] - 37s 5ms/step - loss: 0.3783 - acc: 0.9551 - val_loss: 1.7339 - val_acc: 0.6936\n",
      "Epoch 183/200\n",
      "7079/7079 [==============================] - 37s 5ms/step - loss: 0.3194 - acc: 0.9726 - val_loss: 1.6154 - val_acc: 0.7243\n",
      "Epoch 184/200\n",
      "7079/7079 [==============================] - 36s 5ms/step - loss: 0.2524 - acc: 0.9828 - val_loss: 1.7837 - val_acc: 0.6949\n",
      "Epoch 185/200\n",
      "7079/7079 [==============================] - 36s 5ms/step - loss: 0.3032 - acc: 0.9610 - val_loss: 1.7076 - val_acc: 0.6949\n",
      "Epoch 186/200\n",
      "7079/7079 [==============================] - 35s 5ms/step - loss: 0.3711 - acc: 0.9470 - val_loss: 1.7913 - val_acc: 0.6887\n",
      "Epoch 187/200\n",
      "7079/7079 [==============================] - 36s 5ms/step - loss: 0.3019 - acc: 0.9706 - val_loss: 1.6617 - val_acc: 0.7292\n",
      "Epoch 188/200\n",
      "7079/7079 [==============================] - 35s 5ms/step - loss: 0.2638 - acc: 0.9774 - val_loss: 1.7863 - val_acc: 0.7120\n",
      "Epoch 189/200\n",
      "7079/7079 [==============================] - 36s 5ms/step - loss: 0.3162 - acc: 0.9569 - val_loss: 1.6296 - val_acc: 0.7169\n",
      "Epoch 190/200\n",
      "7079/7079 [==============================] - 35s 5ms/step - loss: 0.2741 - acc: 0.9736 - val_loss: 1.7178 - val_acc: 0.7304\n",
      "Epoch 00190: early stopping\n"
     ]
    }
   ],
   "source": [
    "model_checkpoint = ModelCheckpoint(\n",
    "    os.path.join(modelfolder, 'crnn_epoch_{epoch:03d}_val_loss_{val_loss:.4f}.hdf5'),\n",
    "    monitor='val_loss', save_best_only=True)\n",
    "early_stopping = EarlyStopping(monitor='val_loss', patience=50, verbose=1)\n",
    "callbacks = [early_stopping, model_checkpoint]<img src='figures/crnn_model.png'>\n",
    "\n",
    "history = m.fit(x=X_train, y=y_train, batch_size=130,\n",
    "                    epochs=200, verbose=True,\n",
    "                    validation_split=0.0,\n",
    "                    callbacks=callbacks,\n",
    "                    validation_data=(X_val, y_val), shuffle=True)"
   ]
  },
  {
   "cell_type": "code",
   "execution_count": 12,
   "metadata": {
    "slideshow": {
     "slide_type": "skip"
    }
   },
   "outputs": [
    {
     "name": "stdout",
     "output_type": "stream",
     "text": [
      "837/837 [==============================] - 1s 2ms/step\n"
     ]
    }
   ],
   "source": [
    "prediction = m.predict(X_test, batch_size=130, verbose=1)\n",
    "y_predict=np.array([ np.argmax(p) for p in prediction])\n",
    "y_test_label = np.array([np.argmax(y) for y in y_test])"
   ]
  },
  {
   "cell_type": "code",
   "execution_count": 13,
   "metadata": {
    "slideshow": {
     "slide_type": "skip"
    }
   },
   "outputs": [
    {
     "name": "stdout",
     "output_type": "stream",
     "text": [
      "Accuracy: 0.72\n"
     ]
    },
    {
     "data": {
      "text/plain": [
       "<matplotlib.axes._subplots.AxesSubplot at 0x7f63cef39bd0>"
      ]
     },
     "execution_count": 13,
     "metadata": {},
     "output_type": "execute_result"
    },
    {
     "data": {
      "image/png": "[encoded data removed]",
      "text/plain": [
       "<matplotlib.figure.Figure at 0x7f63edf21710>"
      ]
     },
     "metadata": {},
     "output_type": "display_data"
    }
   ],
   "source": [
    "from sklearn.metrics import confusion_matrix\n",
    "\n",
    "acc = np.sum(y_test_label==y_predict) / float(len(y_test_label))\n",
    "print('Accuracy: {:.2f}'.format(acc))\n",
    "\n",
    "cm = confusion_matrix(y_test_label, y_predict )\n",
    "sns.heatmap(cm, annot=True, annot_kws={\"size\": 14}, fmt='g', linewidths=.5, yticklabels=label_list,xticklabels=label_list)"
   ]
  },
  {
   "cell_type": "code",
   "execution_count": 14,
   "metadata": {
    "slideshow": {
     "slide_type": "slide"
    }
   },
   "outputs": [],
   "source": [
    "def build_crnn2(n_features=n_features, n_frames=n_frames, n_filters_cnn=48,\n",
    "                     filter_size_cnn=(3, 3), pool_size_cnn=(2,2),\n",
    "                     n_classes=10):\n",
    "\n",
    "    # INPUT\n",
    "    x = Input(shape=( n_frames, n_features, 1), dtype='float32')\n",
    "\n",
    "    # CONV 1\n",
    "    y = Conv2D(n_filters_cnn, filter_size_cnn, padding='valid', kernel_regularizer=l2(0.01),\n",
    "               activation='relu')(x)\n",
    "    y = MaxPooling2D(pool_size=pool_size_cnn, strides=None, padding='valid')(y)\n",
    "    y = BatchNormalization()(y)\n",
    "\n",
    "    # CONV 2\n",
    "    y = Conv2D(n_filters_cnn, filter_size_cnn, padding='valid',kernel_regularizer=l2(0.01),\n",
    "               activation='relu')(y)\n",
    "    y = MaxPooling2D(pool_size=pool_size_cnn, strides=None, padding='valid')(y)\n",
    "    y = BatchNormalization()(y)\n",
    "\n",
    "    # CONV 3\n",
    "    y = Conv2D(n_filters_cnn, filter_size_cnn, padding='valid',kernel_regularizer=l2(0.01),\n",
    "               activation='relu')(y)\n",
    "    y = MaxPooling2D(pool_size=pool_size_cnn, strides=None, padding='valid')(y)\n",
    "    y = BatchNormalization()(y)\n",
    "    \n",
    "    y = TimeDistributed(Flatten())(y)\n",
    "    \n",
    "    #y = Reshape((n_filters_cnn,n_frames))(y)\n",
    "    \n",
    "    y = Dropout(0.5)(y)\n",
    "    y= LSTM(120)(y)\n",
    "    #y = Dropout(0.5)(y)\n",
    "    #y = Dense(n_dense_cnn, activation='relu')(y)\n",
    "\n",
    "    y = Dropout(0.5)(y)\n",
    "    y = Dense(n_classes, activation='sigmoid')(y)\n",
    "\n",
    "    m = Model(inputs=x, outputs=y)\n",
    "    return m"
   ]
  },
  {
   "cell_type": "code",
   "execution_count": 19,
   "metadata": {},
   "outputs": [],
   "source": [
    "from keras.utils import plot_model\n",
    "plot_model(m, to_file='figures/crnn2_model.png', show_shapes=True)"
   ]
  },
  {
   "cell_type": "markdown",
   "metadata": {},
   "source": [
    "<img src='figures/crnn_model2.png'>"
   ]
  },
  {
   "cell_type": "code",
   "execution_count": null,
   "metadata": {
    "slideshow": {
     "slide_type": "subslide"
    }
   },
   "outputs": [],
   "source": [
    "m = build_crnn2(n_features=40,)\n",
    "m.summary()"
   ]
  },
  {
   "cell_type": "code",
   "execution_count": null,
   "metadata": {
    "slideshow": {
     "slide_type": "slide"
    }
   },
   "outputs": [],
   "source": [
    "m.compile(loss='categorical_crossentropy', optimizer='adam', metrics=['accuracy'])"
   ]
  },
  {
   "cell_type": "code",
   "execution_count": null,
   "metadata": {
    "slideshow": {
     "slide_type": "fragment"
    }
   },
   "outputs": [],
   "source": [
    "model_checkpoint = ModelCheckpoint(\n",
    "    os.path.join(modelfolder, 'crnn2_epoch_{epoch:03d}_val_loss_{val_loss:.4f}.hdf5'),\n",
    "    monitor='val_loss', save_best_only=True)\n",
    "early_stopping = EarlyStopping(monitor='val_loss', patience=50, verbose=1)\n",
    "callbacks = [early_stopping, model_checkpoint]\n",
    "\n",
    "history = m.fit(x=X_train, y=y_train, batch_size=130,\n",
    "                    epochs=200, verbose=True,\n",
    "                    validation_split=0.0,\n",
    "                    callbacks=callbacks,\n",
    "                    validation_data=(X_val, y_val), shuffle=True)"
   ]
  },
  {
   "cell_type": "code",
   "execution_count": null,
   "metadata": {
    "slideshow": {
     "slide_type": "slide"
    }
   },
   "outputs": [],
   "source": [
    "prediction = m.predict(X_test, batch_size=130, verbose=1)\n",
    "y_predict=np.array([ np.argmax(p) for p in prediction])\n",
    "y_test_label = np.array([np.argmax(y) for y in y_test])"
   ]
  },
  {
   "cell_type": "code",
   "execution_count": null,
   "metadata": {
    "slideshow": {
     "slide_type": "fragment"
    }
   },
   "outputs": [],
   "source": [
    "from sklearn.metrics import confusion_matrix\n",
    "\n",
    "acc = np.sum(y_test_label==y_predict) / float(len(y_test_label))\n",
    "print('Accuracy: {:.2f}'.format(acc))\n",
    "\n",
    "cm = confusion_matrix(y_test_label, y_predict )\n",
    "sns.heatmap(cm, annot=True, annot_kws={\"size\": 14}, fmt='g', linewidths=.5, yticklabels=label_list,xticklabels=label_list)"
   ]
  }
 ],
 "metadata": {
  "celltoolbar": "Slideshow",
  "kernelspec": {
   "display_name": "Python 2",
   "language": "python",
   "name": "python2"
  },
  "language_info": {
   "codemirror_mode": {
    "name": "ipython",
    "version": 2
   },
   "file_extension": ".py",
   "mimetype": "text/x-python",
   "name": "python",
   "nbconvert_exporter": "python",
   "pygments_lexer": "ipython2",
   "version": "2.7.12"
  }
 },
 "nbformat": 4,
 "nbformat_minor": 2
}
