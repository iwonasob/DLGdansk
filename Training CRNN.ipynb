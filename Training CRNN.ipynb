{
 "cells": [
  {
   "cell_type": "markdown",
   "metadata": {
    "slideshow": {
     "slide_type": "slide"
    }
   },
   "source": [
    "## Stacked Convolutional Recurrent Neural Networks"
   ]
  },
  {
   "cell_type": "code",
   "execution_count": 1,
   "metadata": {
    "slideshow": {
     "slide_type": "slide"
    }
   },
   "outputs": [],
   "source": [
    "import os\n",
    "os.environ[\"PYTHONHASHSEED\"] = \"0\"\n",
    "\n",
    "import random as rn\n",
    "rn.seed(1254)\n",
    "\n",
    "import numpy as np\n",
    "np.random.seed(1515)\n",
    "\n",
    "%matplotlib inline\n",
    "import seaborn as sns\n",
    "import matplotlib.pyplot as plt\n",
    "\n",
    "import librosa, librosa.display, IPython.display as ipd\n",
    "from tqdm import tqdm\n",
    "import glob\n",
    "import pandas as pd\n",
    "import h5py\n",
    "from sklearn import preprocessing\n",
    "import pickle"
   ]
  },
  {
   "cell_type": "code",
   "execution_count": 2,
   "metadata": {
    "slideshow": {
     "slide_type": "-"
    }
   },
   "outputs": [],
   "source": [
    "plt.rcParams['figure.figsize'] = (14, 6)"
   ]
  },
  {
   "cell_type": "code",
   "execution_count": 3,
   "metadata": {
    "slideshow": {
     "slide_type": "subslide"
    }
   },
   "outputs": [
    {
     "name": "stderr",
     "output_type": "stream",
     "text": [
      "Using TensorFlow backend.\n"
     ]
    }
   ],
   "source": [
    "os.environ[\"CUDA_DEVICE_ORDER\"] = \"PCI_BUS_ID\"   \n",
    "os.environ[\"CUDA_VISIBLE_DEVICES\"] = \"2\"\n",
    "\n",
    "import tensorflow as tf\n",
    "tf.set_random_seed(2)\n",
    "\n",
    "config = tf.ConfigProto(\n",
    "    intra_op_parallelism_threads=1,\n",
    "    inter_op_parallelism_threads=1 \n",
    ")\n",
    "\n",
    "config.gpu_options.allow_growth = True  # dynamically grow the memory used on the GPU\n",
    "sess = tf.Session(graph= tf.get_default_graph(), config=config) \n",
    "    \n",
    "import keras \n",
    "from keras import backend as K\n",
    "K.set_session(sess)  # set this TensorFlow session as the default session for Keras\n",
    "\n",
    "from keras.layers import Input, Conv2D, MaxPooling2D, LSTM, Reshape, Bidirectional\n",
    "from keras.layers.wrappers import TimeDistributed\n",
    "from keras.layers import Dense, Flatten\n",
    "from keras.layers.core import Dropout\n",
    "from keras.models import Model\n",
    "from keras.layers.normalization import BatchNormalization\n",
    "from keras.regularizers import l2\n",
    "from keras.callbacks import EarlyStopping, ModelCheckpoint"
   ]
  },
  {
   "cell_type": "code",
   "execution_count": 4,
   "metadata": {
    "slideshow": {
     "slide_type": "subslide"
    }
   },
   "outputs": [],
   "source": [
    "#SET PATHS\n",
    "dataspace = '/vol/vssp/datasets/audio01/UrbanSound8K/audio/'\n",
    "projectspace = '/vol/vssp/AcousticEventsDetection/DLGdansk/UrbanSound/'\n",
    "\n",
    "metadatafile = '/vol/vssp/datasets/audio01/UrbanSound8K/metadata/UrbanSound8K.csv'\n",
    "metadata = pd.read_csv(metadatafile)\n",
    "\n",
    "hdf5_path = os.path.join(projectspace,'dataset.hdf5') \n",
    "modelfolder = os.path.join(projectspace,'models')\n",
    "scalerpath = os.path.join(projectspace,'scaler.pkl')"
   ]
  },
  {
   "cell_type": "code",
   "execution_count": 5,
   "metadata": {
    "slideshow": {
     "slide_type": "slide"
    }
   },
   "outputs": [],
   "source": [
    "# LOAD DATA\n",
    "hf = h5py.File(hdf5_path, 'r')\n",
    "X_train = np.array(hf.get('X_train') )\n",
    "y_train = np.array(hf.get('y_train'))\n",
    "X_val =  np.array(hf.get('X_val'))\n",
    "y_val= np.array(hf.get('y_val'))\n",
    "X_test = np.array(hf.get('X_test'))\n",
    "y_test = np.array(hf.get('y_test'))\n",
    "\n",
    "n_features= hf.get('n_features').value\n",
    "n_frames=hf.get('max_length_samp').value\n",
    "label_list= hf.get('label_list').value"
   ]
  },
  {
   "cell_type": "code",
   "execution_count": 6,
   "metadata": {
    "slideshow": {
     "slide_type": "subslide"
    }
   },
   "outputs": [],
   "source": [
    "# SCALE THE DATA\n",
    "scaler=pickle.load(open(scalerpath, 'rb'))\n",
    "\n",
    "X_train_scaled = [scaler.transform(x.T) for x in X_train]\n",
    "X_val_scaled = [scaler.transform(x.T) for x in X_val]\n",
    "X_test_scaled = [scaler.transform(x.T) for x in X_test]\n",
    "\n",
    "# CHANGE DIMENSION TO FIT KERAS\n",
    "X_train = np.expand_dims(X_train_scaled, 3)\n",
    "X_val = np.expand_dims(X_val_scaled, 3)\n",
    "X_test = np.expand_dims(X_test_scaled, 3)"
   ]
  },
  {
   "cell_type": "code",
   "execution_count": 7,
   "metadata": {
    "slideshow": {
     "slide_type": "skip"
    }
   },
   "outputs": [],
   "source": [
    "def build_crnn(n_frames=n_frames, n_features=n_features,  n_filters_cnn=48,\n",
    "                     filter_size_cnn=(5, 5), pool_size_cnn=(2,2),\n",
    "                     n_classes=10):\n",
    "\n",
    "    # INPUT\n",
    "    x = Input(shape=(n_frames, n_features,  1), dtype='float32')\n",
    "\n",
    "    # CONV 1\n",
    "    y = Conv2D(n_filters_cnn, filter_size_cnn, padding='same', kernel_regularizer=l2(0.01),\n",
    "               activation='relu')(x)\n",
    "    y = MaxPooling2D(pool_size=(1,2), strides=None, padding='same')(y)\n",
    "    y = BatchNormalization()(y)\n",
    "\n",
    "    # CONV 2\n",
    "    y = Conv2D(n_filters_cnn, filter_size_cnn, padding='same', kernel_regularizer=l2(0.01),\n",
    "               activation='relu')(y)\n",
    "    y = MaxPooling2D(pool_size=(1,2), strides=None, padding='same')(y)\n",
    "    y = BatchNormalization()(y)\n",
    "\n",
    "    # CONV 3\n",
    "    y = Conv2D(n_filters_cnn, filter_size_cnn, padding='same', kernel_regularizer=l2(0.01),\n",
    "               activation='relu')(y)\n",
    "    y = MaxPooling2D(pool_size=(1,2), strides=None, padding='same')(y)\n",
    "    y = BatchNormalization()(y)\n",
    "    \n",
    "    # CONV 4\n",
    "    y = Conv2D(n_filters_cnn, filter_size_cnn, padding='same', kernel_regularizer=l2(0.01),\n",
    "               activation='relu')(y)\n",
    "    y = MaxPooling2D(pool_size=(1,5), strides=None, padding='same')(y)\n",
    "    y = BatchNormalization()(y)\n",
    "    \n",
    "    y = Reshape((n_frames, n_filters_cnn))(y)\n",
    "    \n",
    "    #y = Dropout(0.5)(y)\n",
    "    y= LSTM(120)(y)\n",
    "    #y = Dropout(0.5)(y)\n",
    "    #y = Dense(n_dense_cnn, activation='relu')(y)\n",
    "\n",
    "    #y = Dropout(0.5)(y)\n",
    "    y = Dense(n_classes, activation='sigmoid')(y)\n",
    "\n",
    "    m = Model(inputs=x, outputs=y)\n",
    "    return m"
   ]
  },
  {
   "cell_type": "code",
   "execution_count": 8,
   "metadata": {
    "slideshow": {
     "slide_type": "skip"
    }
   },
   "outputs": [
    {
     "name": "stdout",
     "output_type": "stream",
     "text": [
      "_________________________________________________________________\n",
      "Layer (type)                 Output Shape              Param #   \n",
      "=================================================================\n",
      "input_1 (InputLayer)         (None, 173, 40, 1)        0         \n",
      "_________________________________________________________________\n",
      "conv2d_1 (Conv2D)            (None, 173, 40, 48)       1248      \n",
      "_________________________________________________________________\n",
      "max_pooling2d_1 (MaxPooling2 (None, 173, 20, 48)       0         \n",
      "_________________________________________________________________\n",
      "batch_normalization_1 (Batch (None, 173, 20, 48)       192       \n",
      "_________________________________________________________________\n",
      "conv2d_2 (Conv2D)            (None, 173, 20, 48)       57648     \n",
      "_________________________________________________________________\n",
      "max_pooling2d_2 (MaxPooling2 (None, 173, 10, 48)       0         \n",
      "_________________________________________________________________\n",
      "batch_normalization_2 (Batch (None, 173, 10, 48)       192       \n",
      "_________________________________________________________________\n",
      "conv2d_3 (Conv2D)            (None, 173, 10, 48)       57648     \n",
      "_________________________________________________________________\n",
      "max_pooling2d_3 (MaxPooling2 (None, 173, 5, 48)        0         \n",
      "_________________________________________________________________\n",
      "batch_normalization_3 (Batch (None, 173, 5, 48)        192       \n",
      "_________________________________________________________________\n",
      "conv2d_4 (Conv2D)            (None, 173, 5, 48)        57648     \n",
      "_________________________________________________________________\n",
      "max_pooling2d_4 (MaxPooling2 (None, 173, 1, 48)        0         \n",
      "_________________________________________________________________\n",
      "batch_normalization_4 (Batch (None, 173, 1, 48)        192       \n",
      "_________________________________________________________________\n",
      "reshape_1 (Reshape)          (None, 173, 48)           0         \n",
      "_________________________________________________________________\n",
      "lstm_1 (LSTM)                (None, 120)               81120     \n",
      "_________________________________________________________________\n",
      "dense_1 (Dense)              (None, 10)                1210      \n",
      "=================================================================\n",
      "Total params: 257,290\n",
      "Trainable params: 256,906\n",
      "Non-trainable params: 384\n",
      "_________________________________________________________________\n"
     ]
    }
   ],
   "source": [
    "m = build_crnn(n_features=40,)\n",
    "m.summary()"
   ]
  },
  {
   "cell_type": "code",
   "execution_count": 9,
   "metadata": {
    "slideshow": {
     "slide_type": "skip"
    }
   },
   "outputs": [],
   "source": [
    "m.compile(loss='categorical_crossentropy', optimizer='adam', metrics=['accuracy'])"
   ]
  },
  {
   "cell_type": "code",
   "execution_count": 10,
   "metadata": {
    "slideshow": {
     "slide_type": "skip"
    }
   },
   "outputs": [
    {
     "name": "stdout",
     "output_type": "stream",
     "text": [
      "Train on 7079 samples, validate on 816 samples\n",
      "Epoch 1/200\n",
      "7079/7079 [==============================] - 31s 4ms/step - loss: 2.7410 - acc: 0.3390 - val_loss: 2.9699 - val_acc: 0.1667\n",
      "Epoch 2/200\n",
      "7079/7079 [==============================] - 24s 3ms/step - loss: 1.9749 - acc: 0.4889 - val_loss: 3.1054 - val_acc: 0.1569\n",
      "Epoch 3/200\n",
      "7079/7079 [==============================] - 25s 3ms/step - loss: 1.7416 - acc: 0.5577 - val_loss: 3.2891 - val_acc: 0.1005\n",
      "Epoch 4/200\n",
      "7079/7079 [==============================] - 24s 3ms/step - loss: 1.8575 - acc: 0.5208 - val_loss: 2.9804 - val_acc: 0.2794\n",
      "Epoch 5/200\n",
      "7079/7079 [==============================] - 24s 3ms/step - loss: 1.7433 - acc: 0.5745 - val_loss: 2.8268 - val_acc: 0.2194\n",
      "Epoch 6/200\n",
      "7079/7079 [==============================] - 25s 3ms/step - loss: 1.7529 - acc: 0.5730 - val_loss: 2.6790 - val_acc: 0.3676\n",
      "Epoch 7/200\n",
      "7079/7079 [==============================] - 24s 3ms/step - loss: 1.6107 - acc: 0.6176 - val_loss: 2.4153 - val_acc: 0.4252\n",
      "Epoch 8/200\n",
      "7079/7079 [==============================] - 24s 3ms/step - loss: 1.7198 - acc: 0.5711 - val_loss: 2.5412 - val_acc: 0.3615\n",
      "Epoch 9/200\n",
      "7079/7079 [==============================] - 24s 3ms/step - loss: 1.4403 - acc: 0.6707 - val_loss: 2.3397 - val_acc: 0.4792\n",
      "Epoch 10/200\n",
      "7079/7079 [==============================] - 24s 3ms/step - loss: 1.5014 - acc: 0.6600 - val_loss: 2.0908 - val_acc: 0.5049\n",
      "Epoch 11/200\n",
      "7079/7079 [==============================] - 25s 4ms/step - loss: 1.4018 - acc: 0.6860 - val_loss: 2.0326 - val_acc: 0.4988\n",
      "Epoch 12/200\n",
      "7079/7079 [==============================] - 24s 3ms/step - loss: 1.4135 - acc: 0.6944 - val_loss: 1.9725 - val_acc: 0.5441\n",
      "Epoch 13/200\n",
      "7079/7079 [==============================] - 24s 3ms/step - loss: 1.4696 - acc: 0.6912 - val_loss: 1.9527 - val_acc: 0.5527\n",
      "Epoch 14/200\n",
      "7079/7079 [==============================] - 24s 3ms/step - loss: 1.3345 - acc: 0.7306 - val_loss: 1.9713 - val_acc: 0.5858\n",
      "Epoch 15/200\n",
      "7079/7079 [==============================] - 24s 3ms/step - loss: 1.1844 - acc: 0.7621 - val_loss: 1.9262 - val_acc: 0.5625\n",
      "Epoch 16/200\n",
      "7079/7079 [==============================] - 24s 3ms/step - loss: 1.2396 - acc: 0.7558 - val_loss: 2.0765 - val_acc: 0.5368\n",
      "Epoch 17/200\n",
      "7079/7079 [==============================] - 24s 3ms/step - loss: 1.1311 - acc: 0.7906 - val_loss: 2.0610 - val_acc: 0.5735\n",
      "Epoch 18/200\n",
      "7079/7079 [==============================] - 24s 3ms/step - loss: 1.0704 - acc: 0.8008 - val_loss: 2.1734 - val_acc: 0.5637\n",
      "Epoch 19/200\n",
      "7079/7079 [==============================] - 24s 3ms/step - loss: 1.0000 - acc: 0.8116 - val_loss: 1.8905 - val_acc: 0.6029\n",
      "Epoch 20/200\n",
      "7079/7079 [==============================] - 24s 3ms/step - loss: 0.9911 - acc: 0.8148 - val_loss: 1.9287 - val_acc: 0.6164\n",
      "Epoch 21/200\n",
      "7079/7079 [==============================] - 25s 3ms/step - loss: 0.9207 - acc: 0.8354 - val_loss: 1.7740 - val_acc: 0.6189\n",
      "Epoch 22/200\n",
      "7079/7079 [==============================] - 25s 3ms/step - loss: 0.9086 - acc: 0.8315 - val_loss: 1.8916 - val_acc: 0.6213\n",
      "Epoch 23/200\n",
      "7079/7079 [==============================] - 25s 4ms/step - loss: 0.9866 - acc: 0.8116 - val_loss: 1.9983 - val_acc: 0.5490\n",
      "Epoch 24/200\n",
      "7079/7079 [==============================] - 24s 3ms/step - loss: 0.8478 - acc: 0.8539 - val_loss: 1.7699 - val_acc: 0.6654\n",
      "Epoch 25/200\n",
      "7079/7079 [==============================] - 24s 3ms/step - loss: 0.8266 - acc: 0.8487 - val_loss: 1.9569 - val_acc: 0.5907\n",
      "Epoch 26/200\n",
      "7079/7079 [==============================] - 24s 3ms/step - loss: 1.0149 - acc: 0.8021 - val_loss: 1.8575 - val_acc: 0.6140\n",
      "Epoch 27/200\n",
      "7079/7079 [==============================] - 24s 3ms/step - loss: 1.0417 - acc: 0.8063 - val_loss: 1.8556 - val_acc: 0.6532\n",
      "Epoch 28/200\n",
      "7079/7079 [==============================] - 24s 3ms/step - loss: 1.3401 - acc: 0.7333 - val_loss: 2.2217 - val_acc: 0.5343\n",
      "Epoch 29/200\n",
      "7079/7079 [==============================] - 24s 3ms/step - loss: 1.3896 - acc: 0.7460 - val_loss: 2.2687 - val_acc: 0.5417\n",
      "Epoch 30/200\n",
      "7079/7079 [==============================] - 24s 3ms/step - loss: 1.2766 - acc: 0.7911 - val_loss: 2.1022 - val_acc: 0.6091\n",
      "Epoch 31/200\n",
      "7079/7079 [==============================] - 24s 3ms/step - loss: 1.0879 - acc: 0.8350 - val_loss: 1.9242 - val_acc: 0.6311\n",
      "Epoch 32/200\n",
      "7079/7079 [==============================] - 24s 3ms/step - loss: 0.9868 - acc: 0.8462 - val_loss: 1.9591 - val_acc: 0.6373\n",
      "Epoch 33/200\n",
      "7079/7079 [==============================] - 24s 3ms/step - loss: 0.9577 - acc: 0.8474 - val_loss: 2.1330 - val_acc: 0.5551\n",
      "Epoch 34/200\n",
      "7079/7079 [==============================] - 26s 4ms/step - loss: 0.9130 - acc: 0.8539 - val_loss: 1.9703 - val_acc: 0.6311\n",
      "Epoch 35/200\n",
      "7079/7079 [==============================] - 24s 3ms/step - loss: 0.8570 - acc: 0.8666 - val_loss: 1.9779 - val_acc: 0.6029\n",
      "Epoch 36/200\n",
      "7079/7079 [==============================] - 24s 3ms/step - loss: 0.7695 - acc: 0.8843 - val_loss: 2.0114 - val_acc: 0.5637\n",
      "Epoch 37/200\n",
      "7079/7079 [==============================] - 24s 3ms/step - loss: 0.8660 - acc: 0.8503 - val_loss: 1.8803 - val_acc: 0.6458\n",
      "Epoch 38/200\n",
      "7079/7079 [==============================] - 24s 3ms/step - loss: 0.8097 - acc: 0.8710 - val_loss: 1.9719 - val_acc: 0.6152\n",
      "Epoch 39/200\n",
      "7079/7079 [==============================] - 24s 3ms/step - loss: 1.0779 - acc: 0.8046 - val_loss: 2.0994 - val_acc: 0.5907\n",
      "Epoch 40/200\n",
      "7079/7079 [==============================] - 24s 3ms/step - loss: 0.8976 - acc: 0.8647 - val_loss: 1.8613 - val_acc: 0.6471\n",
      "Epoch 41/200\n",
      "7079/7079 [==============================] - 24s 3ms/step - loss: 0.8189 - acc: 0.8799 - val_loss: 2.0646 - val_acc: 0.5882\n",
      "Epoch 42/200\n",
      "7079/7079 [==============================] - 24s 3ms/step - loss: 0.7356 - acc: 0.8922 - val_loss: 1.9860 - val_acc: 0.6324\n",
      "Epoch 43/200\n",
      "7079/7079 [==============================] - 25s 3ms/step - loss: 0.6825 - acc: 0.8973 - val_loss: 2.1140 - val_acc: 0.5956\n",
      "Epoch 44/200\n",
      "7079/7079 [==============================] - 24s 3ms/step - loss: 0.6102 - acc: 0.9152 - val_loss: 2.3449 - val_acc: 0.5306\n",
      "Epoch 45/200\n",
      "7079/7079 [==============================] - 25s 4ms/step - loss: 0.9122 - acc: 0.8264 - val_loss: 2.3619 - val_acc: 0.4632\n",
      "Epoch 46/200\n",
      "7079/7079 [==============================] - 25s 3ms/step - loss: 1.2574 - acc: 0.7411 - val_loss: 2.1183 - val_acc: 0.5944\n",
      "Epoch 47/200\n",
      "7079/7079 [==============================] - 25s 4ms/step - loss: 1.0359 - acc: 0.8298 - val_loss: 1.9712 - val_acc: 0.6275\n",
      "Epoch 48/200\n",
      "7079/7079 [==============================] - 24s 3ms/step - loss: 0.9442 - acc: 0.8513 - val_loss: 1.7906 - val_acc: 0.6458\n",
      "Epoch 49/200\n",
      "7079/7079 [==============================] - 25s 3ms/step - loss: 0.8175 - acc: 0.8854 - val_loss: 1.7854 - val_acc: 0.6556\n",
      "Epoch 50/200\n",
      "7079/7079 [==============================] - 25s 4ms/step - loss: 0.6927 - acc: 0.9062 - val_loss: 1.7306 - val_acc: 0.6569\n",
      "Epoch 51/200\n",
      "7079/7079 [==============================] - 25s 3ms/step - loss: 0.6396 - acc: 0.9135 - val_loss: 1.7158 - val_acc: 0.6299\n",
      "Epoch 52/200\n",
      "7079/7079 [==============================] - 25s 3ms/step - loss: 0.6272 - acc: 0.9054 - val_loss: 1.9039 - val_acc: 0.6091\n",
      "Epoch 53/200\n",
      "7079/7079 [==============================] - 24s 3ms/step - loss: 0.6049 - acc: 0.9110 - val_loss: 1.7906 - val_acc: 0.6642\n",
      "Epoch 54/200\n",
      "7079/7079 [==============================] - 24s 3ms/step - loss: 0.6411 - acc: 0.8987 - val_loss: 1.8359 - val_acc: 0.6654\n",
      "Epoch 55/200\n",
      "7079/7079 [==============================] - 24s 3ms/step - loss: 0.9749 - acc: 0.8151 - val_loss: 2.7559 - val_acc: 0.4167\n",
      "Epoch 56/200\n",
      "7079/7079 [==============================] - 24s 3ms/step - loss: 1.3825 - acc: 0.7440 - val_loss: 2.2830 - val_acc: 0.5551\n",
      "Epoch 57/200\n",
      "7079/7079 [==============================] - 25s 4ms/step - loss: 1.0754 - acc: 0.8419 - val_loss: 1.9435 - val_acc: 0.6176\n",
      "Epoch 58/200\n",
      "7079/7079 [==============================] - 24s 3ms/step - loss: 0.8921 - acc: 0.8815 - val_loss: 1.7885 - val_acc: 0.6691\n",
      "Epoch 59/200\n",
      "7079/7079 [==============================] - 25s 4ms/step - loss: 0.8232 - acc: 0.8860 - val_loss: 2.3501 - val_acc: 0.5637\n",
      "Epoch 60/200\n"
     ]
    },
    {
     "name": "stdout",
     "output_type": "stream",
     "text": [
      "7079/7079 [==============================] - 24s 3ms/step - loss: 0.8179 - acc: 0.8822 - val_loss: 1.7203 - val_acc: 0.6654\n",
      "Epoch 61/200\n",
      "7079/7079 [==============================] - 24s 3ms/step - loss: 0.6761 - acc: 0.9138 - val_loss: 2.0102 - val_acc: 0.6299\n",
      "Epoch 62/200\n",
      "7079/7079 [==============================] - 24s 3ms/step - loss: 0.6455 - acc: 0.9121 - val_loss: 2.0257 - val_acc: 0.6324\n",
      "Epoch 63/200\n",
      "7079/7079 [==============================] - 24s 3ms/step - loss: 0.6387 - acc: 0.9090 - val_loss: 1.7968 - val_acc: 0.6507\n",
      "Epoch 64/200\n",
      "7079/7079 [==============================] - 25s 4ms/step - loss: 0.6189 - acc: 0.9087 - val_loss: 1.9386 - val_acc: 0.6213\n",
      "Epoch 65/200\n",
      "7079/7079 [==============================] - 25s 3ms/step - loss: 0.5740 - acc: 0.9178 - val_loss: 1.7630 - val_acc: 0.6740\n",
      "Epoch 66/200\n",
      "7079/7079 [==============================] - 24s 3ms/step - loss: 0.5727 - acc: 0.9155 - val_loss: 1.9482 - val_acc: 0.6532\n",
      "Epoch 67/200\n",
      "7079/7079 [==============================] - 25s 4ms/step - loss: 0.5683 - acc: 0.9165 - val_loss: 1.7042 - val_acc: 0.6826\n",
      "Epoch 68/200\n",
      "7079/7079 [==============================] - 24s 3ms/step - loss: 0.5301 - acc: 0.9264 - val_loss: 1.7375 - val_acc: 0.6863\n",
      "Epoch 69/200\n",
      "7079/7079 [==============================] - 25s 3ms/step - loss: 0.4856 - acc: 0.9387 - val_loss: 1.7596 - val_acc: 0.6740\n",
      "Epoch 70/200\n",
      "7079/7079 [==============================] - 25s 3ms/step - loss: 0.5852 - acc: 0.8997 - val_loss: 1.8880 - val_acc: 0.6373\n",
      "Epoch 71/200\n",
      "7079/7079 [==============================] - 25s 3ms/step - loss: 0.6211 - acc: 0.9010 - val_loss: 1.7453 - val_acc: 0.6924\n",
      "Epoch 72/200\n",
      "7079/7079 [==============================] - 24s 3ms/step - loss: 0.6127 - acc: 0.9063 - val_loss: 1.9734 - val_acc: 0.6385\n",
      "Epoch 73/200\n",
      "7079/7079 [==============================] - 24s 3ms/step - loss: 0.5404 - acc: 0.9288 - val_loss: 1.8352 - val_acc: 0.6605\n",
      "Epoch 74/200\n",
      "7079/7079 [==============================] - 24s 3ms/step - loss: 0.5044 - acc: 0.9363 - val_loss: 1.8133 - val_acc: 0.6679\n",
      "Epoch 75/200\n",
      "7079/7079 [==============================] - 25s 3ms/step - loss: 0.5907 - acc: 0.9049 - val_loss: 1.8798 - val_acc: 0.6385\n",
      "Epoch 76/200\n",
      "7079/7079 [==============================] - 25s 3ms/step - loss: 0.5589 - acc: 0.9195 - val_loss: 1.9671 - val_acc: 0.5895\n",
      "Epoch 77/200\n",
      "7079/7079 [==============================] - 25s 3ms/step - loss: 0.7783 - acc: 0.8662 - val_loss: 1.8263 - val_acc: 0.6042\n",
      "Epoch 78/200\n",
      "7079/7079 [==============================] - 24s 3ms/step - loss: 0.7223 - acc: 0.8953 - val_loss: 1.8313 - val_acc: 0.6654\n",
      "Epoch 79/200\n",
      "7079/7079 [==============================] - 24s 3ms/step - loss: 0.5886 - acc: 0.9316 - val_loss: 1.6737 - val_acc: 0.6875\n",
      "Epoch 80/200\n",
      "7079/7079 [==============================] - 24s 3ms/step - loss: 0.4867 - acc: 0.9517 - val_loss: 1.7081 - val_acc: 0.6728\n",
      "Epoch 81/200\n",
      "7079/7079 [==============================] - 23s 3ms/step - loss: 0.5073 - acc: 0.9357 - val_loss: 1.9036 - val_acc: 0.6275\n",
      "Epoch 82/200\n",
      "7079/7079 [==============================] - 24s 3ms/step - loss: 0.5197 - acc: 0.9295 - val_loss: 1.6712 - val_acc: 0.6887\n",
      "Epoch 83/200\n",
      "7079/7079 [==============================] - 24s 3ms/step - loss: 0.5634 - acc: 0.9151 - val_loss: 1.7525 - val_acc: 0.6875\n",
      "Epoch 84/200\n",
      "7079/7079 [==============================] - 24s 3ms/step - loss: 0.5241 - acc: 0.9257 - val_loss: 1.6965 - val_acc: 0.6728\n",
      "Epoch 85/200\n",
      "7079/7079 [==============================] - 24s 3ms/step - loss: 0.5913 - acc: 0.9182 - val_loss: 1.7657 - val_acc: 0.7047\n",
      "Epoch 86/200\n",
      "7079/7079 [==============================] - 25s 3ms/step - loss: 0.4712 - acc: 0.9494 - val_loss: 1.6395 - val_acc: 0.7059\n",
      "Epoch 87/200\n",
      "7079/7079 [==============================] - 24s 3ms/step - loss: 0.6921 - acc: 0.8818 - val_loss: 2.1901 - val_acc: 0.6373\n",
      "Epoch 88/200\n",
      "7079/7079 [==============================] - 24s 3ms/step - loss: 0.6392 - acc: 0.9167 - val_loss: 1.9979 - val_acc: 0.6838\n",
      "Epoch 89/200\n",
      "7079/7079 [==============================] - 25s 3ms/step - loss: 0.6010 - acc: 0.9185 - val_loss: 1.9254 - val_acc: 0.6703\n",
      "Epoch 90/200\n",
      "7079/7079 [==============================] - 24s 3ms/step - loss: 0.6066 - acc: 0.9195 - val_loss: 1.6984 - val_acc: 0.6716\n",
      "Epoch 91/200\n",
      "7079/7079 [==============================] - 24s 3ms/step - loss: 0.5095 - acc: 0.9455 - val_loss: 1.7120 - val_acc: 0.7010\n",
      "Epoch 92/200\n",
      "7079/7079 [==============================] - 24s 3ms/step - loss: 0.8574 - acc: 0.8552 - val_loss: 2.7650 - val_acc: 0.4718\n",
      "Epoch 93/200\n",
      "7079/7079 [==============================] - 24s 3ms/step - loss: 1.0345 - acc: 0.8459 - val_loss: 2.0597 - val_acc: 0.6495\n",
      "Epoch 94/200\n",
      "7079/7079 [==============================] - 24s 3ms/step - loss: 0.7779 - acc: 0.9152 - val_loss: 1.7042 - val_acc: 0.7206\n",
      "Epoch 95/200\n",
      "7079/7079 [==============================] - 24s 3ms/step - loss: 0.6382 - acc: 0.9371 - val_loss: 1.9289 - val_acc: 0.6667\n",
      "Epoch 96/200\n",
      "7079/7079 [==============================] - 24s 3ms/step - loss: 0.5529 - acc: 0.9479 - val_loss: 1.8778 - val_acc: 0.6446\n",
      "Epoch 97/200\n",
      "7079/7079 [==============================] - 23s 3ms/step - loss: 0.5884 - acc: 0.9312 - val_loss: 2.0550 - val_acc: 0.5993\n",
      "Epoch 98/200\n",
      "7079/7079 [==============================] - 24s 3ms/step - loss: 0.7452 - acc: 0.8861 - val_loss: 1.9247 - val_acc: 0.6740\n",
      "Epoch 99/200\n",
      "7079/7079 [==============================] - 24s 3ms/step - loss: 0.6350 - acc: 0.9271 - val_loss: 1.9936 - val_acc: 0.6618\n",
      "Epoch 100/200\n",
      "7079/7079 [==============================] - 24s 3ms/step - loss: 0.5272 - acc: 0.9480 - val_loss: 1.9711 - val_acc: 0.6556\n",
      "Epoch 101/200\n",
      "7079/7079 [==============================] - 23s 3ms/step - loss: 0.4785 - acc: 0.9508 - val_loss: 2.1076 - val_acc: 0.6262\n",
      "Epoch 102/200\n",
      "7079/7079 [==============================] - 21s 3ms/step - loss: 0.4311 - acc: 0.9579 - val_loss: 2.1398 - val_acc: 0.6360\n",
      "Epoch 103/200\n",
      "7079/7079 [==============================] - 21s 3ms/step - loss: 0.4740 - acc: 0.9421 - val_loss: 1.9018 - val_acc: 0.6838\n",
      "Epoch 104/200\n",
      "7079/7079 [==============================] - 21s 3ms/step - loss: 0.4379 - acc: 0.9521 - val_loss: 1.9998 - val_acc: 0.6483\n",
      "Epoch 105/200\n",
      "7079/7079 [==============================] - 21s 3ms/step - loss: 0.4139 - acc: 0.9566 - val_loss: 1.9737 - val_acc: 0.6581\n",
      "Epoch 106/200\n",
      "7079/7079 [==============================] - 21s 3ms/step - loss: 0.3712 - acc: 0.9617 - val_loss: 1.6817 - val_acc: 0.6838\n",
      "Epoch 107/200\n",
      "7079/7079 [==============================] - 21s 3ms/step - loss: 0.4765 - acc: 0.9287 - val_loss: 1.8344 - val_acc: 0.6936\n",
      "Epoch 108/200\n",
      "7079/7079 [==============================] - 22s 3ms/step - loss: 0.4533 - acc: 0.9421 - val_loss: 1.8108 - val_acc: 0.7108\n",
      "Epoch 109/200\n",
      "7079/7079 [==============================] - 23s 3ms/step - loss: 0.4944 - acc: 0.9301 - val_loss: 1.9230 - val_acc: 0.6336\n",
      "Epoch 110/200\n",
      "7079/7079 [==============================] - 22s 3ms/step - loss: 0.5465 - acc: 0.9258 - val_loss: 2.3505 - val_acc: 0.4926\n",
      "Epoch 111/200\n",
      "7079/7079 [==============================] - 23s 3ms/step - loss: 1.3352 - acc: 0.7463 - val_loss: 3.5242 - val_acc: 0.3640\n",
      "Epoch 112/200\n",
      "7079/7079 [==============================] - 21s 3ms/step - loss: 1.2681 - acc: 0.7955 - val_loss: 2.5590 - val_acc: 0.4718\n",
      "Epoch 113/200\n",
      "7079/7079 [==============================] - 22s 3ms/step - loss: 0.9362 - acc: 0.8931 - val_loss: 2.0396 - val_acc: 0.6838\n",
      "Epoch 114/200\n",
      "7079/7079 [==============================] - 22s 3ms/step - loss: 0.7289 - acc: 0.9315 - val_loss: 2.0356 - val_acc: 0.6814\n",
      "Epoch 115/200\n",
      "7079/7079 [==============================] - 21s 3ms/step - loss: 0.6088 - acc: 0.9511 - val_loss: 2.1185 - val_acc: 0.6164\n",
      "Epoch 116/200\n",
      "7079/7079 [==============================] - 21s 3ms/step - loss: 0.5391 - acc: 0.9547 - val_loss: 2.0581 - val_acc: 0.6189\n",
      "Epoch 117/200\n",
      "7079/7079 [==============================] - 21s 3ms/step - loss: 0.4640 - acc: 0.9672 - val_loss: 2.0705 - val_acc: 0.6054\n",
      "Epoch 118/200\n",
      "7079/7079 [==============================] - 21s 3ms/step - loss: 0.4148 - acc: 0.9668 - val_loss: 2.3209 - val_acc: 0.5907\n",
      "Epoch 119/200\n",
      "7079/7079 [==============================] - 21s 3ms/step - loss: 0.6081 - acc: 0.9052 - val_loss: 1.9804 - val_acc: 0.6471\n"
     ]
    },
    {
     "name": "stdout",
     "output_type": "stream",
     "text": [
      "Epoch 120/200\n",
      "7079/7079 [==============================] - 21s 3ms/step - loss: 0.6098 - acc: 0.9240 - val_loss: 1.8777 - val_acc: 0.6814\n",
      "Epoch 121/200\n",
      "7079/7079 [==============================] - 20s 3ms/step - loss: 0.5346 - acc: 0.9383 - val_loss: 2.0196 - val_acc: 0.6520\n",
      "Epoch 122/200\n",
      "7079/7079 [==============================] - 21s 3ms/step - loss: 0.4615 - acc: 0.9547 - val_loss: 2.2277 - val_acc: 0.6189\n",
      "Epoch 123/200\n",
      "7079/7079 [==============================] - 22s 3ms/step - loss: 0.4425 - acc: 0.9515 - val_loss: 1.8448 - val_acc: 0.6765\n",
      "Epoch 124/200\n",
      "7079/7079 [==============================] - 20s 3ms/step - loss: 0.4122 - acc: 0.9592 - val_loss: 1.8133 - val_acc: 0.6630\n",
      "Epoch 125/200\n",
      "7079/7079 [==============================] - 21s 3ms/step - loss: 0.3925 - acc: 0.9593 - val_loss: 1.6824 - val_acc: 0.6826\n",
      "Epoch 126/200\n",
      "7079/7079 [==============================] - 22s 3ms/step - loss: 0.3408 - acc: 0.9708 - val_loss: 2.1459 - val_acc: 0.6348\n",
      "Epoch 127/200\n",
      "7079/7079 [==============================] - 20s 3ms/step - loss: 0.3752 - acc: 0.9506 - val_loss: 2.1135 - val_acc: 0.6078\n",
      "Epoch 128/200\n",
      "7079/7079 [==============================] - 18s 2ms/step - loss: 0.4420 - acc: 0.9370 - val_loss: 1.8891 - val_acc: 0.6973\n",
      "Epoch 129/200\n",
      "7079/7079 [==============================] - 18s 3ms/step - loss: 0.4207 - acc: 0.9460 - val_loss: 1.8274 - val_acc: 0.7047\n",
      "Epoch 130/200\n",
      "7079/7079 [==============================] - 21s 3ms/step - loss: 0.4284 - acc: 0.9470 - val_loss: 1.8511 - val_acc: 0.6814\n",
      "Epoch 131/200\n",
      "7079/7079 [==============================] - 21s 3ms/step - loss: 0.4031 - acc: 0.9566 - val_loss: 1.8598 - val_acc: 0.6691\n",
      "Epoch 132/200\n",
      "7079/7079 [==============================] - 21s 3ms/step - loss: 0.3152 - acc: 0.9775 - val_loss: 2.1306 - val_acc: 0.6299\n",
      "Epoch 133/200\n",
      "7079/7079 [==============================] - 21s 3ms/step - loss: 0.2803 - acc: 0.9804 - val_loss: 2.3425 - val_acc: 0.5993\n",
      "Epoch 134/200\n",
      "7079/7079 [==============================] - 21s 3ms/step - loss: 0.3427 - acc: 0.9537 - val_loss: 2.0751 - val_acc: 0.6826\n",
      "Epoch 135/200\n",
      "7079/7079 [==============================] - 21s 3ms/step - loss: 0.4484 - acc: 0.9301 - val_loss: 3.0786 - val_acc: 0.4167\n",
      "Epoch 136/200\n",
      "7079/7079 [==============================] - 22s 3ms/step - loss: 0.6549 - acc: 0.8933 - val_loss: 2.0785 - val_acc: 0.6029\n",
      "Epoch 00136: early stopping\n"
     ]
    }
   ],
   "source": [
    "model_checkpoint = ModelCheckpoint(\n",
    "    os.path.join(modelfolder, 'crnn_epoch_{epoch:03d}_val_loss_{val_loss:.4f}.hdf5'),\n",
    "    monitor='val_loss', save_best_only=True)\n",
    "early_stopping = EarlyStopping(monitor='val_loss', patience=50, verbose=1)\n",
    "callbacks = [early_stopping, model_checkpoint]\n",
    "\n",
    "history = m.fit(x=X_train, y=y_train, batch_size=130,\n",
    "                    epochs=200, verbose=True,\n",
    "                    validation_split=0.0,\n",
    "                    callbacks=callbacks,\n",
    "                    validation_data=(X_val, y_val), shuffle=True)"
   ]
  },
  {
   "cell_type": "code",
   "execution_count": 11,
   "metadata": {
    "slideshow": {
     "slide_type": "skip"
    }
   },
   "outputs": [
    {
     "name": "stdout",
     "output_type": "stream",
     "text": [
      "837/837 [==============================] - 1s 1ms/step\n"
     ]
    }
   ],
   "source": [
    "prediction = m.predict(X_test, batch_size=130, verbose=1)\n",
    "y_predict=np.array([ np.argmax(p) for p in prediction])\n",
    "y_test_label = np.array([np.argmax(y) for y in y_test])"
   ]
  },
  {
   "cell_type": "code",
   "execution_count": 12,
   "metadata": {
    "slideshow": {
     "slide_type": "skip"
    }
   },
   "outputs": [
    {
     "name": "stdout",
     "output_type": "stream",
     "text": [
      "Accuracy: 0.60\n"
     ]
    },
    {
     "data": {
      "text/plain": [
       "<matplotlib.axes._subplots.AxesSubplot at 0x7fe118d57350>"
      ]
     },
     "execution_count": 12,
     "metadata": {},
     "output_type": "execute_result"
    },
    {
     "data": {
      "image/png": "[encoded data removed]",
      "text/plain": [
       "<matplotlib.figure.Figure at 0x7fe1bb6e0350>"
      ]
     },
     "metadata": {},
     "output_type": "display_data"
    }
   ],
   "source": [
    "from sklearn.metrics import confusion_matrix\n",
    "\n",
    "acc = np.sum(y_test_label==y_predict) / float(len(y_test_label))\n",
    "print('Accuracy: {:.2f}'.format(acc))\n",
    "\n",
    "cm = confusion_matrix(y_test_label, y_predict )\n",
    "sns.heatmap(cm, annot=True, annot_kws={\"size\": 14}, fmt='g', linewidths=.5, yticklabels=label_list,xticklabels=label_list)"
   ]
  },
  {
   "cell_type": "code",
   "execution_count": 13,
   "metadata": {
    "slideshow": {
     "slide_type": "slide"
    }
   },
   "outputs": [],
   "source": [
    "def build_crnn2(n_features=n_features, n_frames=n_frames, n_filters_cnn=48,\n",
    "                     filter_size_cnn=(3, 3), pool_size_cnn=(2,2),\n",
    "                     n_classes=10):\n",
    "\n",
    "    # INPUT\n",
    "    x = Input(shape=( n_frames, n_features, 1), dtype='float32')\n",
    "\n",
    "    # CONV 1\n",
    "    y = Conv2D(n_filters_cnn, filter_size_cnn, padding='valid', kernel_regularizer=l2(0.01),\n",
    "               activation='relu')(x)\n",
    "    y = MaxPooling2D(pool_size=pool_size_cnn, strides=None, padding='valid')(y)\n",
    "    y = BatchNormalization()(y)\n",
    "\n",
    "    # CONV 2\n",
    "    y = Conv2D(n_filters_cnn, filter_size_cnn, padding='valid',kernel_regularizer=l2(0.01),\n",
    "               activation='relu')(y)\n",
    "    y = MaxPooling2D(pool_size=pool_size_cnn, strides=None, padding='valid')(y)\n",
    "    y = BatchNormalization()(y)\n",
    "\n",
    "    # CONV 3\n",
    "    y = Conv2D(n_filters_cnn, filter_size_cnn, padding='valid',kernel_regularizer=l2(0.01),\n",
    "               activation='relu')(y)\n",
    "    y = MaxPooling2D(pool_size=pool_size_cnn, strides=None, padding='valid')(y)\n",
    "    y = BatchNormalization()(y)\n",
    "    \n",
    "    y = TimeDistributed(Flatten())(y)\n",
    "    \n",
    "    #y = Reshape((n_filters_cnn,n_frames))(y)\n",
    "    \n",
    "    y = Dropout(0.5)(y)\n",
    "    y= LSTM(120)(y)\n",
    "    #y = Dropout(0.5)(y)\n",
    "    #y = Dense(n_dense_cnn, activation='relu')(y)\n",
    "\n",
    "    y = Dropout(0.5)(y)\n",
    "    y = Dense(n_classes, activation='sigmoid')(y)\n",
    "\n",
    "    m = Model(inputs=x, outputs=y)\n",
    "    return m"
   ]
  },
  {
   "cell_type": "code",
   "execution_count": 14,
   "metadata": {
    "slideshow": {
     "slide_type": "subslide"
    }
   },
   "outputs": [
    {
     "name": "stdout",
     "output_type": "stream",
     "text": [
      "_________________________________________________________________\n",
      "Layer (type)                 Output Shape              Param #   \n",
      "=================================================================\n",
      "input_2 (InputLayer)         (None, 173, 40, 1)        0         \n",
      "_________________________________________________________________\n",
      "conv2d_5 (Conv2D)            (None, 171, 38, 48)       480       \n",
      "_________________________________________________________________\n",
      "max_pooling2d_5 (MaxPooling2 (None, 85, 19, 48)        0         \n",
      "_________________________________________________________________\n",
      "batch_normalization_5 (Batch (None, 85, 19, 48)        192       \n",
      "_________________________________________________________________\n",
      "conv2d_6 (Conv2D)            (None, 83, 17, 48)        20784     \n",
      "_________________________________________________________________\n",
      "max_pooling2d_6 (MaxPooling2 (None, 41, 8, 48)         0         \n",
      "_________________________________________________________________\n",
      "batch_normalization_6 (Batch (None, 41, 8, 48)         192       \n",
      "_________________________________________________________________\n",
      "conv2d_7 (Conv2D)            (None, 39, 6, 48)         20784     \n",
      "_________________________________________________________________\n",
      "max_pooling2d_7 (MaxPooling2 (None, 19, 3, 48)         0         \n",
      "_________________________________________________________________\n",
      "batch_normalization_7 (Batch (None, 19, 3, 48)         192       \n",
      "_________________________________________________________________\n",
      "time_distributed_1 (TimeDist (None, 19, 144)           0         \n",
      "_________________________________________________________________\n",
      "dropout_1 (Dropout)          (None, 19, 144)           0         \n",
      "_________________________________________________________________\n",
      "lstm_2 (LSTM)                (None, 120)               127200    \n",
      "_________________________________________________________________\n",
      "dropout_2 (Dropout)          (None, 120)               0         \n",
      "_________________________________________________________________\n",
      "dense_2 (Dense)              (None, 10)                1210      \n",
      "=================================================================\n",
      "Total params: 171,034\n",
      "Trainable params: 170,746\n",
      "Non-trainable params: 288\n",
      "_________________________________________________________________\n"
     ]
    }
   ],
   "source": [
    "m = build_crnn2(n_features=40,)\n",
    "m.summary()"
   ]
  },
  {
   "cell_type": "code",
   "execution_count": 15,
   "metadata": {
    "slideshow": {
     "slide_type": "slide"
    }
   },
   "outputs": [],
   "source": [
    "m.compile(loss='categorical_crossentropy', optimizer='adam', metrics=['accuracy'])"
   ]
  },
  {
   "cell_type": "code",
   "execution_count": 16,
   "metadata": {
    "slideshow": {
     "slide_type": "fragment"
    }
   },
   "outputs": [
    {
     "name": "stdout",
     "output_type": "stream",
     "text": [
      "Train on 7079 samples, validate on 816 samples\n",
      "Epoch 1/200\n",
      "7079/7079 [==============================] - 7s 994us/step - loss: 2.6293 - acc: 0.3464 - val_loss: 2.9427 - val_acc: 0.2463\n",
      "Epoch 2/200\n",
      "7079/7079 [==============================] - 4s 579us/step - loss: 1.8821 - acc: 0.5128 - val_loss: 3.7713 - val_acc: 0.1127\n",
      "Epoch 3/200\n",
      "7079/7079 [==============================] - 5s 661us/step - loss: 1.4686 - acc: 0.6183 - val_loss: 3.9921 - val_acc: 0.1642\n",
      "Epoch 4/200\n",
      "7079/7079 [==============================] - 5s 640us/step - loss: 1.2228 - acc: 0.7001 - val_loss: 4.0007 - val_acc: 0.1654\n",
      "Epoch 5/200\n",
      "7079/7079 [==============================] - 5s 649us/step - loss: 0.9843 - acc: 0.7714 - val_loss: 3.9390 - val_acc: 0.1299\n",
      "Epoch 6/200\n",
      "7079/7079 [==============================] - ETA: 0s - loss: 0.8580 - acc: 0.8107- ETA: 0s - loss: 0.8610 - - 4s 581us/step - loss: 0.8596 - acc: 0.8099 - val_loss: 4.0716 - val_acc: 0.1679\n",
      "Epoch 7/200\n",
      "7079/7079 [==============================] - 4s 612us/step - loss: 0.7559 - acc: 0.8411 - val_loss: 3.9017 - val_acc: 0.1985\n",
      "Epoch 8/200\n",
      "7079/7079 [==============================] - 4s 626us/step - loss: 0.6310 - acc: 0.8750 - val_loss: 3.5204 - val_acc: 0.2770\n",
      "Epoch 9/200\n",
      "7079/7079 [==============================] - 5s 644us/step - loss: 0.5793 - acc: 0.8809 - val_loss: 2.3108 - val_acc: 0.5306\n",
      "Epoch 10/200\n",
      "7079/7079 [==============================] - 4s 625us/step - loss: 0.5565 - acc: 0.8870 - val_loss: 1.9744 - val_acc: 0.5809\n",
      "Epoch 11/200\n",
      "7079/7079 [==============================] - 4s 576us/step - loss: 0.5556 - acc: 0.8840 - val_loss: 1.7012 - val_acc: 0.6728\n",
      "Epoch 12/200\n",
      "7079/7079 [==============================] - 5s 641us/step - loss: 0.4829 - acc: 0.9093 - val_loss: 1.5619 - val_acc: 0.7243\n",
      "Epoch 13/200\n",
      "7079/7079 [==============================] - 4s 624us/step - loss: 0.4760 - acc: 0.9042 - val_loss: 1.5189 - val_acc: 0.7353\n",
      "Epoch 14/200\n",
      "7079/7079 [==============================] - 4s 617us/step - loss: 0.4201 - acc: 0.9226 - val_loss: 1.6336 - val_acc: 0.7181\n",
      "Epoch 15/200\n",
      "7079/7079 [==============================] - 4s 572us/step - loss: 0.3934 - acc: 0.9287 - val_loss: 1.6021 - val_acc: 0.7047\n",
      "Epoch 16/200\n",
      "7079/7079 [==============================] - 4s 611us/step - loss: 0.3721 - acc: 0.9301 - val_loss: 1.5845 - val_acc: 0.7181\n",
      "Epoch 17/200\n",
      "7079/7079 [==============================] - 5s 652us/step - loss: 0.3811 - acc: 0.9248 - val_loss: 1.4983 - val_acc: 0.7120\n",
      "Epoch 18/200\n",
      "7079/7079 [==============================] - 4s 608us/step - loss: 0.3547 - acc: 0.9359 - val_loss: 1.6060 - val_acc: 0.7194\n",
      "Epoch 19/200\n",
      "7079/7079 [==============================] - 5s 637us/step - loss: 0.3393 - acc: 0.9381 - val_loss: 1.4308 - val_acc: 0.7439\n",
      "Epoch 20/200\n",
      "7079/7079 [==============================] - 4s 553us/step - loss: 0.3357 - acc: 0.9424 - val_loss: 1.6480 - val_acc: 0.7181\n",
      "Epoch 21/200\n",
      "7079/7079 [==============================] - 4s 627us/step - loss: 0.3221 - acc: 0.9456 - val_loss: 1.6526 - val_acc: 0.6998\n",
      "Epoch 22/200\n",
      "7079/7079 [==============================] - 4s 608us/step - loss: 0.3256 - acc: 0.9400 - val_loss: 1.6484 - val_acc: 0.6850\n",
      "Epoch 23/200\n",
      "7079/7079 [==============================] - 4s 618us/step - loss: 0.3617 - acc: 0.9299 - val_loss: 1.6567 - val_acc: 0.7169\n",
      "Epoch 24/200\n",
      "7079/7079 [==============================] - 4s 594us/step - loss: 0.3206 - acc: 0.9446 - val_loss: 1.8087 - val_acc: 0.7047\n",
      "Epoch 25/200\n",
      "7079/7079 [==============================] - 4s 569us/step - loss: 0.3158 - acc: 0.9455 - val_loss: 1.6647 - val_acc: 0.7169\n",
      "Epoch 26/200\n",
      "7079/7079 [==============================] - 5s 680us/step - loss: 0.3044 - acc: 0.9493 - val_loss: 1.5148 - val_acc: 0.7279\n",
      "Epoch 27/200\n",
      "7079/7079 [==============================] - 5s 655us/step - loss: 0.3150 - acc: 0.9465 - val_loss: 1.4253 - val_acc: 0.7525\n",
      "Epoch 28/200\n",
      "7079/7079 [==============================] - 4s 626us/step - loss: 0.3073 - acc: 0.9496 - val_loss: 1.6224 - val_acc: 0.7243\n",
      "Epoch 29/200\n",
      "7079/7079 [==============================] - 4s 567us/step - loss: 0.2864 - acc: 0.9539 - val_loss: 1.5762 - val_acc: 0.7426\n",
      "Epoch 30/200\n",
      "7079/7079 [==============================] - 4s 624us/step - loss: 0.2480 - acc: 0.9658 - val_loss: 1.7058 - val_acc: 0.7132\n",
      "Epoch 31/200\n",
      "7079/7079 [==============================] - 5s 656us/step - loss: 0.2439 - acc: 0.9606 - val_loss: 1.8366 - val_acc: 0.6875\n",
      "Epoch 32/200\n",
      "7079/7079 [==============================] - 4s 623us/step - loss: 0.3666 - acc: 0.9292 - val_loss: 1.5445 - val_acc: 0.7353\n",
      "Epoch 33/200\n",
      "7079/7079 [==============================] - 4s 614us/step - loss: 0.2782 - acc: 0.9607 - val_loss: 1.7468 - val_acc: 0.7181\n",
      "Epoch 34/200\n",
      "7079/7079 [==============================] - 4s 602us/step - loss: 0.2560 - acc: 0.9631 - val_loss: 1.6793 - val_acc: 0.7145\n",
      "Epoch 35/200\n",
      "7079/7079 [==============================] - 4s 622us/step - loss: 0.2432 - acc: 0.9657 - val_loss: 1.6921 - val_acc: 0.7243\n",
      "Epoch 36/200\n",
      "7079/7079 [==============================] - 4s 626us/step - loss: 0.2278 - acc: 0.9702 - val_loss: 1.5106 - val_acc: 0.7757\n",
      "Epoch 37/200\n",
      "7079/7079 [==============================] - 4s 626us/step - loss: 0.2365 - acc: 0.9634 - val_loss: 1.6558 - val_acc: 0.7292\n",
      "Epoch 38/200\n",
      "7079/7079 [==============================] - 4s 551us/step - loss: 0.2308 - acc: 0.9667 - val_loss: 1.7639 - val_acc: 0.7194\n",
      "Epoch 39/200\n",
      "7079/7079 [==============================] - 4s 630us/step - loss: 0.2625 - acc: 0.9556 - val_loss: 1.7177 - val_acc: 0.7341\n",
      "Epoch 40/200\n",
      "7079/7079 [==============================] - 4s 608us/step - loss: 0.2497 - acc: 0.9612 - val_loss: 1.6709 - val_acc: 0.7304\n",
      "Epoch 41/200\n",
      "7079/7079 [==============================] - 5s 646us/step - loss: 0.2226 - acc: 0.9699 - val_loss: 1.7774 - val_acc: 0.7194\n",
      "Epoch 42/200\n",
      "7079/7079 [==============================] - 4s 589us/step - loss: 0.2451 - acc: 0.9610 - val_loss: 1.6534 - val_acc: 0.7377\n",
      "Epoch 43/200\n",
      "7079/7079 [==============================] - 4s 594us/step - loss: 0.2578 - acc: 0.9583 - val_loss: 1.5836 - val_acc: 0.7414\n",
      "Epoch 44/200\n",
      "7079/7079 [==============================] - 4s 627us/step - loss: 0.2455 - acc: 0.9636 - val_loss: 1.7650 - val_acc: 0.7047\n",
      "Epoch 45/200\n",
      "7079/7079 [==============================] - 4s 627us/step - loss: 0.2130 - acc: 0.9713 - val_loss: 1.5694 - val_acc: 0.7647\n",
      "Epoch 46/200\n",
      "7079/7079 [==============================] - 5s 645us/step - loss: 0.2013 - acc: 0.9741 - val_loss: 1.6977 - val_acc: 0.7659\n",
      "Epoch 47/200\n",
      "7079/7079 [==============================] - 4s 580us/step - loss: 0.2277 - acc: 0.9652 - val_loss: 1.7489 - val_acc: 0.7377\n",
      "Epoch 48/200\n",
      "7079/7079 [==============================] - 4s 615us/step - loss: 0.2413 - acc: 0.9641 - val_loss: 1.7927 - val_acc: 0.6949\n",
      "Epoch 49/200\n",
      "7079/7079 [==============================] - 5s 650us/step - loss: 0.2625 - acc: 0.9603 - val_loss: 1.8117 - val_acc: 0.6998\n",
      "Epoch 50/200\n",
      "7079/7079 [==============================] - 4s 631us/step - loss: 0.2183 - acc: 0.9727 - val_loss: 1.7148 - val_acc: 0.7463\n",
      "Epoch 51/200\n",
      "7079/7079 [==============================] - 5s 659us/step - loss: 0.2332 - acc: 0.9671 - val_loss: 1.5043 - val_acc: 0.7733\n",
      "Epoch 52/200\n",
      "7079/7079 [==============================] - 4s 598us/step - loss: 0.2218 - acc: 0.9677 - val_loss: 1.6557 - val_acc: 0.7426\n",
      "Epoch 53/200\n",
      "7079/7079 [==============================] - 4s 630us/step - loss: 0.2466 - acc: 0.9612 - val_loss: 1.8833 - val_acc: 0.7267\n",
      "Epoch 54/200\n",
      "7079/7079 [==============================] - 4s 634us/step - loss: 0.2320 - acc: 0.9719 - val_loss: 1.7179 - val_acc: 0.7059\n",
      "Epoch 55/200\n",
      "7079/7079 [==============================] - 5s 637us/step - loss: 0.2027 - acc: 0.9749 - val_loss: 1.7057 - val_acc: 0.7525\n",
      "Epoch 56/200\n",
      "7079/7079 [==============================] - 4s 577us/step - loss: 0.2449 - acc: 0.9644 - val_loss: 1.6489 - val_acc: 0.7549\n",
      "Epoch 57/200\n",
      "7079/7079 [==============================] - 4s 625us/step - loss: 0.2262 - acc: 0.9703 - val_loss: 1.6910 - val_acc: 0.7623\n",
      "Epoch 58/200\n",
      "7079/7079 [==============================] - 5s 662us/step - loss: 0.1743 - acc: 0.9839 - val_loss: 1.8093 - val_acc: 0.7463\n",
      "Epoch 59/200\n"
     ]
    },
    {
     "name": "stdout",
     "output_type": "stream",
     "text": [
      "7079/7079 [==============================] - 4s 624us/step - loss: 0.1859 - acc: 0.9775 - val_loss: 1.8725 - val_acc: 0.7451\n",
      "Epoch 60/200\n",
      "7079/7079 [==============================] - 4s 599us/step - loss: 0.2199 - acc: 0.9686 - val_loss: 1.6598 - val_acc: 0.7292\n",
      "Epoch 61/200\n",
      "7079/7079 [==============================] - 4s 561us/step - loss: 0.1891 - acc: 0.9771 - val_loss: 1.5208 - val_acc: 0.7537\n",
      "Epoch 62/200\n",
      "7079/7079 [==============================] - 4s 616us/step - loss: 0.2063 - acc: 0.9737 - val_loss: 1.5934 - val_acc: 0.7169\n",
      "Epoch 63/200\n",
      "7079/7079 [==============================] - 4s 615us/step - loss: 0.1765 - acc: 0.9812 - val_loss: 1.9297 - val_acc: 0.7206\n",
      "Epoch 64/200\n",
      "7079/7079 [==============================] - 5s 648us/step - loss: 0.2148 - acc: 0.9691 - val_loss: 1.6134 - val_acc: 0.7463\n",
      "Epoch 65/200\n",
      "7079/7079 [==============================] - 4s 590us/step - loss: 0.2202 - acc: 0.9685 - val_loss: 1.6287 - val_acc: 0.7377\n",
      "Epoch 66/200\n",
      "7079/7079 [==============================] - 4s 608us/step - loss: 0.2120 - acc: 0.9703 - val_loss: 1.6692 - val_acc: 0.7672\n",
      "Epoch 67/200\n",
      "7079/7079 [==============================] - 5s 640us/step - loss: 0.1934 - acc: 0.9757 - val_loss: 1.4942 - val_acc: 0.7843\n",
      "Epoch 68/200\n",
      "7079/7079 [==============================] - 5s 682us/step - loss: 0.2004 - acc: 0.9750 - val_loss: 1.6408 - val_acc: 0.7721\n",
      "Epoch 69/200\n",
      "7079/7079 [==============================] - 5s 683us/step - loss: 0.2166 - acc: 0.9708 - val_loss: 1.6629 - val_acc: 0.7610\n",
      "Epoch 70/200\n",
      "7079/7079 [==============================] - 4s 567us/step - loss: 0.1947 - acc: 0.9768 - val_loss: 1.7540 - val_acc: 0.7402\n",
      "Epoch 71/200\n",
      "7079/7079 [==============================] - 5s 639us/step - loss: 0.2164 - acc: 0.9723 - val_loss: 2.0886 - val_acc: 0.6814\n",
      "Epoch 72/200\n",
      "7079/7079 [==============================] - 4s 634us/step - loss: 0.2028 - acc: 0.9771 - val_loss: 1.7738 - val_acc: 0.7439\n",
      "Epoch 73/200\n",
      "7079/7079 [==============================] - 5s 715us/step - loss: 0.1873 - acc: 0.9778 - val_loss: 1.9362 - val_acc: 0.7304\n",
      "Epoch 74/200\n",
      "7079/7079 [==============================] - 4s 579us/step - loss: 0.2090 - acc: 0.9732 - val_loss: 2.0276 - val_acc: 0.6838\n",
      "Epoch 75/200\n",
      "7079/7079 [==============================] - 5s 638us/step - loss: 0.1968 - acc: 0.9751 - val_loss: 2.1469 - val_acc: 0.6850\n",
      "Epoch 76/200\n",
      "7079/7079 [==============================] - 4s 624us/step - loss: 0.1746 - acc: 0.9804 - val_loss: 1.8117 - val_acc: 0.7561\n",
      "Epoch 77/200\n",
      "7079/7079 [==============================] - 4s 617us/step - loss: 0.1572 - acc: 0.9850 - val_loss: 1.8526 - val_acc: 0.7610\n",
      "Epoch 00077: early stopping\n"
     ]
    }
   ],
   "source": [
    "model_checkpoint = ModelCheckpoint(\n",
    "    os.path.join(modelfolder, 'crnn2_epoch_{epoch:03d}_val_loss_{val_loss:.4f}.hdf5'),\n",
    "    monitor='val_loss', save_best_only=True)\n",
    "early_stopping = EarlyStopping(monitor='val_loss', patience=50, verbose=1)\n",
    "callbacks = [early_stopping, model_checkpoint]\n",
    "\n",
    "history = m.fit(x=X_train, y=y_train, batch_size=130,\n",
    "                    epochs=200, verbose=True,\n",
    "                    validation_split=0.0,\n",
    "                    callbacks=callbacks,\n",
    "                    validation_data=(X_val, y_val), shuffle=True)"
   ]
  },
  {
   "cell_type": "code",
   "execution_count": 17,
   "metadata": {
    "slideshow": {
     "slide_type": "slide"
    }
   },
   "outputs": [
    {
     "name": "stdout",
     "output_type": "stream",
     "text": [
      "837/837 [==============================] - 1s 642us/step\n"
     ]
    }
   ],
   "source": [
    "prediction = m.predict(X_test, batch_size=130, verbose=1)\n",
    "y_predict=np.array([ np.argmax(p) for p in prediction])\n",
    "y_test_label = np.array([np.argmax(y) for y in y_test])"
   ]
  },
  {
   "cell_type": "code",
   "execution_count": 20,
   "metadata": {
    "slideshow": {
     "slide_type": "fragment"
    }
   },
   "outputs": [
    {
     "name": "stdout",
     "output_type": "stream",
     "text": [
      "Accuracy: 0.75\n"
     ]
    },
    {
     "data": {
      "text/plain": [
       "<matplotlib.axes._subplots.AxesSubplot at 0x7fe0c8c26390>"
      ]
     },
     "execution_count": 20,
     "metadata": {},
     "output_type": "execute_result"
    },
    {
     "data": {
      "image/png": "[encoded data removed]",
      "text/plain": [
       "<matplotlib.figure.Figure at 0x7fe0c8c84d50>"
      ]
     },
     "metadata": {},
     "output_type": "display_data"
    }
   ],
   "source": [
    "from sklearn.metrics import confusion_matrix\n",
    "\n",
    "acc = np.sum(y_test_label==y_predict) / float(len(y_test_label))\n",
    "print('Accuracy: {:.2f}'.format(acc))\n",
    "\n",
    "cm = confusion_matrix(y_test_label, y_predict )\n",
    "sns.heatmap(cm, annot=True, annot_kws={\"size\": 14}, fmt='g', linewidths=.5, yticklabels=label_list,xticklabels=label_list)"
   ]
  }
 ],
 "metadata": {
  "celltoolbar": "Slideshow",
  "kernelspec": {
   "display_name": "Python 2",
   "language": "python",
   "name": "python2"
  },
  "language_info": {
   "codemirror_mode": {
    "name": "ipython",
    "version": 2
   },
   "file_extension": ".py",
   "mimetype": "text/x-python",
   "name": "python",
   "nbconvert_exporter": "python",
   "pygments_lexer": "ipython2",
   "version": "2.7.12"
  }
 },
 "nbformat": 4,
 "nbformat_minor": 2
}
