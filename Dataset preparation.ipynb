{
 "cells": [
  {
   "cell_type": "code",
   "execution_count": 1,
   "metadata": {},
   "outputs": [],
   "source": [
    "import numpy as np\n",
    "import librosa \n",
    "from tqdm import tqdm\n",
    "import glob\n",
    "import gzip\n",
    "import pandas as pd\n",
    "import h5py\n",
    "from __future__ import division\n",
    "import os\n",
    "from sklearn import preprocessing\n",
    "import pickle"
   ]
  },
  {
   "cell_type": "code",
   "execution_count": 2,
   "metadata": {},
   "outputs": [],
   "source": [
    "#SET PATHS\n",
    "dataspace = '/vol/vssp/datasets/audio01/UrbanSound8K/audio/'\n",
    "projectspace = '/vol/vssp/AcousticEventsDetection/DLGdansk/UrbanSound/'\n",
    "\n",
    "metadatafile = '/vol/vssp/datasets/audio01/UrbanSound8K/metadata/UrbanSound8K.csv'\n",
    "metadata = pd.read_csv(metadatafile)\n",
    "\n",
    "#PATHS TO PROCESSED DATA\n",
    "hdf5_path = os.path.join(projectspace,'dataset.hdf5')  # address to where you want to save the hdf5 file\n",
    "scaler_path = os.path.join(projectspace,'scaler.pkl')"
   ]
  },
  {
   "cell_type": "code",
   "execution_count": 3,
   "metadata": {},
   "outputs": [],
   "source": [
    "#AUDIO ANALYSIS PARAMETERS\n",
    "N_FFT = 1024\n",
    "HOP_SIZE=1024\n",
    "SR=44100\n",
    "WIN_SIZE = 1024\n",
    "WINDOW_TYPE = 'hann'\n",
    "FEATURE= 'mel'\n",
    "\n",
    "# Mel band parameters\n",
    "N_MELS = 40\n",
    "\n",
    "#MAXIMUM LENGTH OF AN AUDIO FILE IN SECONDS\n",
    "MAX_LENGTH_S=4\n",
    "MAX_LENTGH_SAMP=int(np.ceil(MAX_LENGTH_S*SR/WIN_SIZE))"
   ]
  },
  {
   "cell_type": "code",
   "execution_count": 4,
   "metadata": {},
   "outputs": [
    {
     "data": {
      "text/html": [
       "<div>\n",
       "<style>\n",
       "    .dataframe thead tr:only-child th {\n",
       "        text-align: right;\n",
       "    }\n",
       "\n",
       "    .dataframe thead th {\n",
       "        text-align: left;\n",
       "    }\n",
       "\n",
       "    .dataframe tbody tr th {\n",
       "        vertical-align: top;\n",
       "    }\n",
       "</style>\n",
       "<table border=\"1\" class=\"dataframe\">\n",
       "  <thead>\n",
       "    <tr style=\"text-align: right;\">\n",
       "      <th></th>\n",
       "      <th>slice_file_name</th>\n",
       "      <th>fsID</th>\n",
       "      <th>start</th>\n",
       "      <th>end</th>\n",
       "      <th>salience</th>\n",
       "      <th>fold</th>\n",
       "      <th>classID</th>\n",
       "      <th>class</th>\n",
       "    </tr>\n",
       "  </thead>\n",
       "  <tbody>\n",
       "    <tr>\n",
       "      <th>0</th>\n",
       "      <td>100032-3-0-0.wav</td>\n",
       "      <td>100032</td>\n",
       "      <td>0.000000</td>\n",
       "      <td>0.317551</td>\n",
       "      <td>1</td>\n",
       "      <td>5</td>\n",
       "      <td>3</td>\n",
       "      <td>dog_bark</td>\n",
       "    </tr>\n",
       "    <tr>\n",
       "      <th>1</th>\n",
       "      <td>100263-2-0-117.wav</td>\n",
       "      <td>100263</td>\n",
       "      <td>58.500000</td>\n",
       "      <td>62.500000</td>\n",
       "      <td>1</td>\n",
       "      <td>5</td>\n",
       "      <td>2</td>\n",
       "      <td>children_playing</td>\n",
       "    </tr>\n",
       "    <tr>\n",
       "      <th>2</th>\n",
       "      <td>100263-2-0-121.wav</td>\n",
       "      <td>100263</td>\n",
       "      <td>60.500000</td>\n",
       "      <td>64.500000</td>\n",
       "      <td>1</td>\n",
       "      <td>5</td>\n",
       "      <td>2</td>\n",
       "      <td>children_playing</td>\n",
       "    </tr>\n",
       "    <tr>\n",
       "      <th>3</th>\n",
       "      <td>100263-2-0-126.wav</td>\n",
       "      <td>100263</td>\n",
       "      <td>63.000000</td>\n",
       "      <td>67.000000</td>\n",
       "      <td>1</td>\n",
       "      <td>5</td>\n",
       "      <td>2</td>\n",
       "      <td>children_playing</td>\n",
       "    </tr>\n",
       "    <tr>\n",
       "      <th>4</th>\n",
       "      <td>100263-2-0-137.wav</td>\n",
       "      <td>100263</td>\n",
       "      <td>68.500000</td>\n",
       "      <td>72.500000</td>\n",
       "      <td>1</td>\n",
       "      <td>5</td>\n",
       "      <td>2</td>\n",
       "      <td>children_playing</td>\n",
       "    </tr>\n",
       "    <tr>\n",
       "      <th>5</th>\n",
       "      <td>100263-2-0-143.wav</td>\n",
       "      <td>100263</td>\n",
       "      <td>71.500000</td>\n",
       "      <td>75.500000</td>\n",
       "      <td>1</td>\n",
       "      <td>5</td>\n",
       "      <td>2</td>\n",
       "      <td>children_playing</td>\n",
       "    </tr>\n",
       "    <tr>\n",
       "      <th>6</th>\n",
       "      <td>100263-2-0-161.wav</td>\n",
       "      <td>100263</td>\n",
       "      <td>80.500000</td>\n",
       "      <td>84.500000</td>\n",
       "      <td>1</td>\n",
       "      <td>5</td>\n",
       "      <td>2</td>\n",
       "      <td>children_playing</td>\n",
       "    </tr>\n",
       "    <tr>\n",
       "      <th>7</th>\n",
       "      <td>100263-2-0-3.wav</td>\n",
       "      <td>100263</td>\n",
       "      <td>1.500000</td>\n",
       "      <td>5.500000</td>\n",
       "      <td>1</td>\n",
       "      <td>5</td>\n",
       "      <td>2</td>\n",
       "      <td>children_playing</td>\n",
       "    </tr>\n",
       "    <tr>\n",
       "      <th>8</th>\n",
       "      <td>100263-2-0-36.wav</td>\n",
       "      <td>100263</td>\n",
       "      <td>18.000000</td>\n",
       "      <td>22.000000</td>\n",
       "      <td>1</td>\n",
       "      <td>5</td>\n",
       "      <td>2</td>\n",
       "      <td>children_playing</td>\n",
       "    </tr>\n",
       "    <tr>\n",
       "      <th>9</th>\n",
       "      <td>100648-1-0-0.wav</td>\n",
       "      <td>100648</td>\n",
       "      <td>4.823402</td>\n",
       "      <td>5.471927</td>\n",
       "      <td>2</td>\n",
       "      <td>10</td>\n",
       "      <td>1</td>\n",
       "      <td>car_horn</td>\n",
       "    </tr>\n",
       "  </tbody>\n",
       "</table>\n",
       "</div>"
      ],
      "text/plain": [
       "      slice_file_name    fsID      start        end  salience  fold  classID  \\\n",
       "0    100032-3-0-0.wav  100032   0.000000   0.317551         1     5        3   \n",
       "1  100263-2-0-117.wav  100263  58.500000  62.500000         1     5        2   \n",
       "2  100263-2-0-121.wav  100263  60.500000  64.500000         1     5        2   \n",
       "3  100263-2-0-126.wav  100263  63.000000  67.000000         1     5        2   \n",
       "4  100263-2-0-137.wav  100263  68.500000  72.500000         1     5        2   \n",
       "5  100263-2-0-143.wav  100263  71.500000  75.500000         1     5        2   \n",
       "6  100263-2-0-161.wav  100263  80.500000  84.500000         1     5        2   \n",
       "7    100263-2-0-3.wav  100263   1.500000   5.500000         1     5        2   \n",
       "8   100263-2-0-36.wav  100263  18.000000  22.000000         1     5        2   \n",
       "9    100648-1-0-0.wav  100648   4.823402   5.471927         2    10        1   \n",
       "\n",
       "              class  \n",
       "0          dog_bark  \n",
       "1  children_playing  \n",
       "2  children_playing  \n",
       "3  children_playing  \n",
       "4  children_playing  \n",
       "5  children_playing  \n",
       "6  children_playing  \n",
       "7  children_playing  \n",
       "8  children_playing  \n",
       "9          car_horn  "
      ]
     },
     "execution_count": 4,
     "metadata": {},
     "output_type": "execute_result"
    }
   ],
   "source": [
    "# INSPECT THE DATASET\n",
    "metadata[:10]"
   ]
  },
  {
   "cell_type": "code",
   "execution_count": 5,
   "metadata": {},
   "outputs": [
    {
     "name": "stdout",
     "output_type": "stream",
     "text": [
      "['air_conditioner', 'car_horn', 'children_playing', 'dog_bark', 'drilling', 'engine_idling', 'gun_shot', 'jackhammer', 'siren', 'street_music']\n"
     ]
    }
   ],
   "source": [
    "label_list = sorted(metadata['class'].unique())\n",
    "print(label_list)"
   ]
  },
  {
   "cell_type": "code",
   "execution_count": 6,
   "metadata": {},
   "outputs": [],
   "source": [
    "# open a hdf5 file and create earrays\n",
    "hdf5_file = h5py.File(hdf5_path, mode='w')"
   ]
  },
  {
   "cell_type": "code",
   "execution_count": 7,
   "metadata": {},
   "outputs": [],
   "source": [
    "def extract_logmelspec_librosa(audiofile, outputfile):\n",
    "    \"\"\"Extracts the log mel spectrogram and saves it to outputfile.\n",
    "    \n",
    "    Args:\n",
    "      audiofile:  string, path to a .wav file\n",
    "      outputfile: string, path to write out the log mel spectogram.\n",
    "    \n",
    "    Returns:\n",
    "        A numpy array of a log mel spectrogram\n",
    "    \"\"\"\n",
    "#     print('--> Extracting Mel spectrogram for {:s} (bands={:d})'.format(os.path.basename(audiofile), MEL_numberBands))\n",
    "\n",
    "    audio, sr = librosa.load(audiofile, sr=SR, mono=True)\n",
    "    stft = librosa.stft(audio, n_fft=N_FFT, win_length=WIN_SIZE,\n",
    "                        hop_length=HOP_SIZE, window=WINDOW_TYPE)\n",
    "    stft = np.abs(stft)**2\n",
    "    melspec = librosa.feature.melspectrogram(\n",
    "        y=None, S=stft, sr=SR, n_fft=N_FFT, hop_length=HOP_SIZE,\n",
    "        n_mels=N_MELS, htk=True, fmin=0.0, fmax=SR/2.0)\n",
    "\n",
    "    logmelspec = librosa.core.logamplitude(melspec, ref=1.0)\n",
    "    logmelspec = logmelspec.astype(np.float32) # downcast to float32\n",
    "\n",
    "    if not os.path.isdir(os.path.split(outputfile)[0]):\n",
    "        os.mkdir(os.path.split(outputfile)[0])\n",
    "\n",
    "    f = gzip.open(outputfile, 'wb')\n",
    "    logmelspec.dump(f)\n",
    "    f.close()\n",
    "    \n",
    "    return logmelspec"
   ]
  },
  {
   "cell_type": "code",
   "execution_count": 8,
   "metadata": {},
   "outputs": [],
   "source": [
    "def to_categorical(y, num_classes):\n",
    "    \"\"\"Converts a class vector (integers) to binary class matrix.\n",
    "    \n",
    "    Args:\n",
    "      y: class vector to be converted into a matrix\n",
    "        (integers from 0 to num_classes).\n",
    "      num_classes: total number of classes.\n",
    "    \n",
    "    Returns:\n",
    "      A binary matrix representation of the input. The classes axis\n",
    "      is placed last.\n",
    "    \"\"\"\n",
    "    y = np.array(y, dtype='int')\n",
    "    y = y.ravel()\n",
    "    n = y.shape[0]\n",
    "    categorical = np.zeros((n, num_classes), dtype=np.float32)\n",
    "    categorical[np.arange(n), y] = 1\n",
    "    output_shape = y.shape + (num_classes,)\n",
    "    categorical = np.reshape(categorical, output_shape)\n",
    "    return categorical"
   ]
  },
  {
   "cell_type": "markdown",
   "metadata": {},
   "source": [
    "## Create a training set"
   ]
  },
  {
   "cell_type": "code",
   "execution_count": 9,
   "metadata": {},
   "outputs": [
    {
     "name": "stderr",
     "output_type": "stream",
     "text": [
      "\r",
      "  0%|          | 0/873 [00:00<?, ?it/s]"
     ]
    },
    {
     "name": "stdout",
     "output_type": "stream",
     "text": [
      "FOLD 1\n"
     ]
    },
    {
     "name": "stderr",
     "output_type": "stream",
     "text": [
      "100%|██████████| 873/873 [03:14<00:00,  4.49it/s]\n",
      "  0%|          | 0/888 [00:00<?, ?it/s]"
     ]
    },
    {
     "name": "stdout",
     "output_type": "stream",
     "text": [
      "FOLD 2\n"
     ]
    },
    {
     "name": "stderr",
     "output_type": "stream",
     "text": [
      "100%|██████████| 888/888 [02:37<00:00,  5.64it/s]\n",
      "  0%|          | 3/925 [00:00<00:33, 27.60it/s]"
     ]
    },
    {
     "name": "stdout",
     "output_type": "stream",
     "text": [
      "FOLD 3\n"
     ]
    },
    {
     "name": "stderr",
     "output_type": "stream",
     "text": [
      "100%|██████████| 925/925 [02:02<00:00,  7.53it/s]\n",
      "  0%|          | 0/990 [00:00<?, ?it/s]"
     ]
    },
    {
     "name": "stdout",
     "output_type": "stream",
     "text": [
      "FOLD 4\n"
     ]
    },
    {
     "name": "stderr",
     "output_type": "stream",
     "text": [
      "100%|██████████| 990/990 [03:44<00:00,  4.41it/s]\n",
      "  0%|          | 2/936 [00:00<00:55, 16.88it/s]"
     ]
    },
    {
     "name": "stdout",
     "output_type": "stream",
     "text": [
      "FOLD 5\n"
     ]
    },
    {
     "name": "stderr",
     "output_type": "stream",
     "text": [
      "100%|██████████| 936/936 [02:38<00:00,  5.91it/s]\n",
      "  0%|          | 3/823 [00:00<00:38, 21.19it/s]"
     ]
    },
    {
     "name": "stdout",
     "output_type": "stream",
     "text": [
      "FOLD 6\n"
     ]
    },
    {
     "name": "stderr",
     "output_type": "stream",
     "text": [
      "100%|██████████| 823/823 [01:37<00:00,  8.42it/s]\n",
      "  0%|          | 0/838 [00:00<?, ?it/s]"
     ]
    },
    {
     "name": "stdout",
     "output_type": "stream",
     "text": [
      "FOLD 7\n"
     ]
    },
    {
     "name": "stderr",
     "output_type": "stream",
     "text": [
      "100%|██████████| 838/838 [02:27<00:00,  5.68it/s]\n",
      "  0%|          | 2/806 [00:00<01:02, 12.89it/s]"
     ]
    },
    {
     "name": "stdout",
     "output_type": "stream",
     "text": [
      "FOLD 8\n"
     ]
    },
    {
     "name": "stderr",
     "output_type": "stream",
     "text": [
      "100%|██████████| 806/806 [02:20<00:00,  5.75it/s]\n"
     ]
    },
    {
     "name": "stdout",
     "output_type": "stream",
     "text": [
      "\n",
      "\n",
      "OVERALL labels:\n",
      "air_conditioner:\t800\n",
      "car_horn:\t364\n",
      "children_playing:\t800\n",
      "dog_bark:\t800\n",
      "drilling:\t800\n",
      "engine_idling:\t818\n",
      "gun_shot:\t311\n",
      "jackhammer:\t822\n",
      "siren:\t764\n",
      "street_music:\t800\n"
     ]
    }
   ],
   "source": [
    "folds = [1, 2, 3, 4, 5, 6, 7, 8]\n",
    "splitname = 'train'\n",
    "\n",
    "featurefolder = os.path.join(projectspace, 'features', FEATURE, splitname)\n",
    "# Create folder\n",
    "if not os.path.isdir(featurefolder):\n",
    "    os.makedirs(featurefolder)\n",
    "\n",
    "label_count = {}\n",
    "for label in label_list:\n",
    "    label_count[label] = 0\n",
    " \n",
    "X_train=[]\n",
    "y_train=[]\n",
    "for fold in folds:\n",
    "\n",
    "    print('FOLD {:d}'.format(fold))\n",
    "    audiofolder = os.path.join(dataspace, 'fold{:d}/'.format(fold))\n",
    "    audiofiles = glob.glob(os.path.join(audiofolder, '*.wav'))\n",
    "\n",
    "    for af in tqdm(audiofiles):\n",
    "        #save the statistics of the dataset\n",
    "        label = metadata.loc[metadata.slice_file_name == os.path.basename(af), 'class'].values[0]\n",
    "        classID = metadata.loc[metadata.slice_file_name == os.path.basename(af), 'classID'].values[0]\n",
    "        label_count[label] += 1\n",
    "                \n",
    "        #extract the features\n",
    "        outfile = os.path.join(featurefolder, os.path.basename(af).replace(\".wav\", \".npy.gznpy.gz\"))\n",
    "        logmelspec = extract_logmelspec_librosa(af, outfile)    \n",
    "        \n",
    "        #pad or cut if necessary\n",
    "        if logmelspec.shape[1] < MAX_LENTGH_SAMP:\n",
    "            pad_tmp=np.zeros((N_MELS,MAX_LENTGH_SAMP))\n",
    "            pad_tmp[:,0:logmelspec.shape[1]] = logmelspec\n",
    "            logmelspec = pad_tmp  \n",
    "        elif logmelspec.shape[1] > MAX_LENTGH_SAMP:\n",
    "            logmelspec = logmelspec[:,:MAX_LENTGH_SAMP]\n",
    "        \n",
    "        X_train.append(logmelspec)\n",
    "        y_train.append(np.squeeze(to_categorical(classID,len(label_list))))\n",
    "    \n",
    "hdf5_file.create_dataset('X_train',data=X_train)\n",
    "hdf5_file.create_dataset('y_train',data=y_train)\n",
    "\n",
    "# Print overall report\n",
    "print('\\n\\nOVERALL labels:')\n",
    "for label in label_list:\n",
    "    print('{:s}:\\t{:d}'.format(label, label_count[label]))\n"
   ]
  },
  {
   "cell_type": "markdown",
   "metadata": {},
   "source": [
    "Calculate a scaler from the training data"
   ]
  },
  {
   "cell_type": "code",
   "execution_count": 10,
   "metadata": {},
   "outputs": [
    {
     "name": "stdout",
     "output_type": "stream",
     "text": [
      "(1224667, 40)\n"
     ]
    }
   ],
   "source": [
    "X_train_flat = np.hstack(np.array(X_train)).T\n",
    "print(X_train_flat.shape)\n",
    "scaler = preprocessing.StandardScaler().fit(X_train_flat)\n",
    "pickle.dump(scaler, open(scaler_path, 'wb'))"
   ]
  },
  {
   "cell_type": "markdown",
   "metadata": {},
   "source": [
    "## Creating a validation set\n"
   ]
  },
  {
   "cell_type": "code",
   "execution_count": 11,
   "metadata": {},
   "outputs": [
    {
     "name": "stderr",
     "output_type": "stream",
     "text": [
      "  0%|          | 2/816 [00:00<01:02, 12.97it/s]"
     ]
    },
    {
     "name": "stdout",
     "output_type": "stream",
     "text": [
      "FOLD 9\n"
     ]
    },
    {
     "name": "stderr",
     "output_type": "stream",
     "text": [
      "100%|██████████| 816/816 [02:52<00:00,  4.73it/s]"
     ]
    },
    {
     "name": "stdout",
     "output_type": "stream",
     "text": [
      "\n",
      "\n",
      "OVERALL labels:\n",
      "air_conditioner:\t100\n",
      "car_horn:\t32\n",
      "children_playing:\t100\n",
      "dog_bark:\t100\n",
      "drilling:\t100\n",
      "engine_idling:\t89\n",
      "gun_shot:\t31\n",
      "jackhammer:\t82\n",
      "siren:\t82\n",
      "street_music:\t100\n"
     ]
    },
    {
     "name": "stderr",
     "output_type": "stream",
     "text": [
      "\n"
     ]
    }
   ],
   "source": [
    "folds = [9]\n",
    "splitname = 'validation'\n",
    "\n",
    "featurefolder = os.path.join(projectspace, 'features', FEATURE, splitname)\n",
    "# Create folder\n",
    "if not os.path.isdir(featurefolder):\n",
    "    os.makedirs(featurefolder)\n",
    "\n",
    "label_count = {}\n",
    "for label in label_list:\n",
    "    label_count[label] = 0\n",
    "\n",
    "X_val=[]\n",
    "y_val=[]\n",
    "for fold in folds:\n",
    "\n",
    "    print('FOLD {:d}'.format(fold))\n",
    "    audiofolder = os.path.join(dataspace, 'fold{:d}/'.format(fold))\n",
    "    audiofiles = glob.glob(os.path.join(audiofolder, '*.wav'))\n",
    "    \n",
    "    \n",
    "    for af in tqdm(audiofiles):\n",
    "        #save the statistics of the dataset\n",
    "        label = metadata.loc[metadata.slice_file_name == os.path.basename(af), 'class'].values[0]\n",
    "        classID = metadata.loc[metadata.slice_file_name == os.path.basename(af), 'classID'].values[0]\n",
    "        label_count[label] += 1\n",
    "        \n",
    "        #extract the features\n",
    "        outfile = os.path.join(featurefolder, os.path.basename(af).replace(\".wav\", \".npy.gz\"))\n",
    "        logmelspec = extract_logmelspec_librosa(af, outfile)    \n",
    "        \n",
    "        #pad or cut if necessary\n",
    "        if logmelspec.shape[1] < MAX_LENTGH_SAMP:\n",
    "            pad_tmp=np.zeros((N_MELS,MAX_LENTGH_SAMP))\n",
    "            pad_tmp[:,0:logmelspec.shape[1]] = logmelspec\n",
    "            logmelspec = pad_tmp \n",
    "        elif logmelspec.shape[1] > MAX_LENTGH_SAMP:\n",
    "            logmelspec = logmelspec[:,:MAX_LENTGH_SAMP]\n",
    "            \n",
    "        X_val.append(logmelspec)\n",
    "        y_val.append(np.squeeze(to_categorical(classID,len(label_list))))\n",
    "     \n",
    "hdf5_file.create_dataset('X_val',data=X_val)\n",
    "hdf5_file.create_dataset('y_val',data=y_val)  \n",
    "\n",
    "# Print overall report\n",
    "print('\\n\\nOVERALL labels:')\n",
    "for label in label_list:\n",
    "    print('{:s}:\\t{:d}'.format(label, label_count[label]))"
   ]
  },
  {
   "cell_type": "markdown",
   "metadata": {},
   "source": [
    "## Creating a test set"
   ]
  },
  {
   "cell_type": "code",
   "execution_count": 12,
   "metadata": {},
   "outputs": [
    {
     "name": "stderr",
     "output_type": "stream",
     "text": [
      "\r",
      "  0%|          | 0/837 [00:00<?, ?it/s]"
     ]
    },
    {
     "name": "stdout",
     "output_type": "stream",
     "text": [
      "FOLD 10\n"
     ]
    },
    {
     "name": "stderr",
     "output_type": "stream",
     "text": [
      "100%|██████████| 837/837 [03:02<00:00,  4.59it/s]"
     ]
    },
    {
     "name": "stdout",
     "output_type": "stream",
     "text": [
      "\n",
      "\n",
      "OVERALL labels:\n",
      "air_conditioner:\t100\n",
      "car_horn:\t33\n",
      "children_playing:\t100\n",
      "dog_bark:\t100\n",
      "drilling:\t100\n",
      "engine_idling:\t93\n",
      "gun_shot:\t32\n",
      "jackhammer:\t96\n",
      "siren:\t83\n",
      "street_music:\t100\n"
     ]
    },
    {
     "name": "stderr",
     "output_type": "stream",
     "text": [
      "\n"
     ]
    }
   ],
   "source": [
    "folds = [10]\n",
    "splitname = 'test'\n",
    "\n",
    "featurefolder = os.path.join(projectspace, 'features', FEATURE, splitname)\n",
    "# Create folder\n",
    "if not os.path.isdir(featurefolder):\n",
    "    os.makedirs(featurefolder)\n",
    "\n",
    "label_count = {}\n",
    "for label in label_list:\n",
    "    label_count[label] = 0\n",
    " \n",
    "X_test=[]\n",
    "y_test=[]\n",
    "for fold in folds:\n",
    "\n",
    "    print('FOLD {:d}'.format(fold))\n",
    "    audiofolder = os.path.join(dataspace, 'fold{:d}/'.format(fold))\n",
    "    audiofiles = glob.glob(os.path.join(audiofolder, '*.wav'))\n",
    " \n",
    "    for af in tqdm(audiofiles):\n",
    "        #save the statistics of the dataset\n",
    "        label = metadata.loc[metadata.slice_file_name == os.path.basename(af), 'class'].values[0]\n",
    "        classID = metadata.loc[metadata.slice_file_name == os.path.basename(af), 'classID'].values[0]\n",
    "        label_count[label] += 1\n",
    "\n",
    "        \n",
    "        #extract the features\n",
    "        outfile = os.path.join(featurefolder, os.path.basename(af).replace(\".wav\", \".npy.gz\"))\n",
    "        logmelspec = extract_logmelspec_librosa(af, outfile)    \n",
    "        \n",
    "        if logmelspec.shape[1] < MAX_LENTGH_SAMP:\n",
    "            pad_tmp=np.zeros((N_MELS,MAX_LENTGH_SAMP))\n",
    "            pad_tmp[:,0:logmelspec.shape[1]] = logmelspec\n",
    "            logmelspec = pad_tmp \n",
    "        elif logmelspec.shape[1] > MAX_LENTGH_SAMP:\n",
    "            logmelspec = logmelspec[:,:MAX_LENTGH_SAMP]\n",
    "        \n",
    "        X_test.append(logmelspec)\n",
    "        y_test.append(np.squeeze(to_categorical(classID,len(label_list))))\n",
    "    \n",
    "hdf5_file.create_dataset('X_test',data=X_test)\n",
    "hdf5_file.create_dataset('y_test',data=y_test)\n",
    "\n",
    "# Print overall report\n",
    "print('\\n\\nOVERALL labels:')\n",
    "for label in label_list:\n",
    "    print('{:s}:\\t{:d}'.format(label, label_count[label]))"
   ]
  },
  {
   "cell_type": "code",
   "execution_count": 13,
   "metadata": {},
   "outputs": [],
   "source": [
    "hdf5_file.create_dataset('feature',data=FEATURE)\n",
    "hdf5_file.create_dataset('n_features',data=N_MELS, dtype='i8')\n",
    "hdf5_file.create_dataset('max_length_samp',data=MAX_LENTGH_SAMP, dtype='i8')\n",
    "hdf5_file.create_dataset('label_list',data=label_list)\n",
    "\n",
    "hdf5_file.close()"
   ]
  },
  {
   "cell_type": "code",
   "execution_count": 14,
   "metadata": {},
   "outputs": [
    {
     "name": "stdout",
     "output_type": "stream",
     "text": [
      "[u'X_test', u'X_train', u'X_val', u'feature', u'label_list', u'max_length_samp', u'n_features', u'y_test', u'y_train', u'y_val']\n"
     ]
    }
   ],
   "source": [
    "#Sanity check\n",
    "hf = h5py.File(hdf5_path, 'r')\n",
    "print(hf.keys())\n",
    "hf.close()"
   ]
  }
 ],
 "metadata": {
  "kernelspec": {
   "display_name": "Python 2",
   "language": "python",
   "name": "python2"
  },
  "language_info": {
   "codemirror_mode": {
    "name": "ipython",
    "version": 2
   },
   "file_extension": ".py",
   "mimetype": "text/x-python",
   "name": "python",
   "nbconvert_exporter": "python",
   "pygments_lexer": "ipython2",
   "version": "2.7.12"
  }
 },
 "nbformat": 4,
 "nbformat_minor": 2
}
